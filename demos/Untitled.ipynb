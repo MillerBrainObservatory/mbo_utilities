{
 "cells": [
  {
   "cell_type": "code",
   "execution_count": 1,
   "id": "55b102b6-41f8-4cb5-a530-49b3b4fee81c",
   "metadata": {
    "execution": {
     "iopub.execute_input": "2025-06-07T13:39:15.143790Z",
     "iopub.status.busy": "2025-06-07T13:39:15.143166Z",
     "iopub.status.idle": "2025-06-07T13:39:20.236843Z",
     "shell.execute_reply": "2025-06-07T13:39:20.236582Z",
     "shell.execute_reply.started": "2025-06-07T13:39:15.143772Z"
    }
   },
   "outputs": [
    {
     "data": {
      "application/vnd.jupyter.widget-view+json": {
       "model_id": "70bcc9f8a56241e0b5e53c0126dfc2c1",
       "version_major": 2,
       "version_minor": 0
      },
      "text/plain": [
       "Image(value=b'\\x89PNG\\r\\n\\x1a\\n\\x00\\x00\\x00\\rIHDR\\x00\\x00\\x01,\\x00\\x00\\x007\\x08\\x06\\x00\\x00\\x00\\xb6\\x1bw\\x99\\x…"
      ]
     },
     "metadata": {},
     "output_type": "display_data"
    },
    {
     "data": {
      "text/html": [
       "<b>Available devices:</b><table><tr><th>Valid</th><th>Device</th><th>Type</th><th>Backend</th><th>Driver</th></tr><tr title=\"This adapter can be used with fastplotlib\"><td>✅ (default) </td><td>Intel(R) Graphics (RPL-P)</td><td>IntegratedGPU</td><td>Vulkan</td><td>Mesa 24.0.3-1pop1~1711635559~22.04~7a9f319</td></tr><tr title=\"CPU rendering support is limited and mainly for testing purposes\"><td>❗ limited</td><td>llvmpipe (LLVM 15.0.7, 256 bits)</td><td>CPU</td><td>Vulkan</td><td>Mesa 24.0.3-1pop1~1711635559~22.04~7a9f319 (LLVM 15.0.7)</td></tr><tr title=\"This adapter cannot be used with fastplotlib\"><td>❌</td><td>Mesa Intel(R) Graphics (RPL-P)</td><td>IntegratedGPU</td><td>OpenGL</td><td>4.6 (Core Profile) Mesa 24.2.8-1~bpo12+1pop1~1744225826~22.04~b077665</td></tr></table>"
      ],
      "text/plain": [
       "<IPython.core.display.HTML object>"
      ]
     },
     "metadata": {},
     "output_type": "display_data"
    }
   ],
   "source": [
    "import tifffile\n",
    "import mbo_utilities as mbo"
   ]
  },
  {
   "cell_type": "code",
   "execution_count": 2,
   "id": "e6eeac18-d3b7-473a-983a-56ab1691e55f",
   "metadata": {
    "execution": {
     "iopub.execute_input": "2025-06-07T13:39:47.806484Z",
     "iopub.status.busy": "2025-06-07T13:39:47.805881Z",
     "iopub.status.idle": "2025-06-07T13:39:47.823222Z",
     "shell.execute_reply": "2025-06-07T13:39:47.822229Z",
     "shell.execute_reply.started": "2025-06-07T13:39:47.806452Z"
    }
   },
   "outputs": [
    {
     "data": {
      "text/plain": [
       "['/home/flynn/lbm_data/raw/mk301_03_01_2025_2roi_17p07hz_224x448px_2umpx_180mw_green_00002.tif',\n",
       " '/home/flynn/lbm_data/raw/mk301_03_01_2025_2roi_17p07hz_224x448px_2umpx_180mw_green_00001.tif']"
      ]
     },
     "execution_count": 2,
     "metadata": {},
     "output_type": "execute_result"
    }
   ],
   "source": [
    "files = mbo.get_files(\"/home/flynn/lbm_data/raw\")\n",
    "files"
   ]
  },
  {
   "cell_type": "code",
   "execution_count": 16,
   "id": "9a4a9238-613f-4fc7-ba76-bcaf130d6af1",
   "metadata": {
    "execution": {
     "iopub.execute_input": "2025-06-07T14:59:54.508897Z",
     "iopub.status.busy": "2025-06-07T14:59:54.508428Z",
     "iopub.status.idle": "2025-06-07T14:59:54.655629Z",
     "shell.execute_reply": "2025-06-07T14:59:54.655267Z",
     "shell.execute_reply.started": "2025-06-07T14:59:54.508875Z"
    }
   },
   "outputs": [
    {
     "data": {
      "text/plain": [
       "(101, 912, 224)"
      ]
     },
     "execution_count": 16,
     "metadata": {},
     "output_type": "execute_result"
    }
   ],
   "source": [
    "data = tifffile.imread(files[0])[:, 7, :, :]\n",
    "data.shape"
   ]
  },
  {
   "cell_type": "code",
   "execution_count": 29,
   "id": "efd55ee0-7b2e-4a53-bcd5-5494ecc80521",
   "metadata": {
    "execution": {
     "iopub.execute_input": "2025-06-07T15:26:09.908358Z",
     "iopub.status.busy": "2025-06-07T15:26:09.908063Z",
     "iopub.status.idle": "2025-06-07T15:26:09.920109Z",
     "shell.execute_reply": "2025-06-07T15:26:09.919375Z",
     "shell.execute_reply.started": "2025-06-07T15:26:09.908341Z"
    }
   },
   "outputs": [],
   "source": [
    "import numpy as np\n",
    "from scipy.ndimage import fourier_shift\n",
    "from skimage.registration import phase_cross_correlation\n",
    "from mbo_utilities import log\n",
    "\n",
    "TWO_DIM_PHASECORR_METHODS = {\"frame\", \"mean\", \"max\", \"std\", \"mean-sub\", \"mean-sub-std\"}\n",
    "THREE_DIM_PHASECORR_METHODS = [\"mean\", \"max\", \"std\", \"mean-sub\"]\n",
    "\n",
    "MBO_WINDOW_METHODS = {\n",
    "    \"mean\": lambda X: np.mean(X, axis=0),\n",
    "    \"max\": lambda X: np.max(X, axis=0),\n",
    "    \"std\": lambda X: np.std(X, axis=0),\n",
    "    \"mean-sub\": lambda X: X - np.mean(X, axis=0),\n",
    "    \"mean-sub-std\": lambda X: (X - np.mean(X, axis=0)) / (np.std(X, axis=0) + 1e-8),\n",
    "}\n",
    "\n",
    "logger = log.get(\"phasecorr\")\n",
    "\n",
    "\n",
    "def _phase_corr_2d(\n",
    "        frame,\n",
    "        upsample=1,\n",
    "        border=0,\n",
    "        max_offset=4\n",
    "):\n",
    "    if frame.ndim != 2:\n",
    "        raise ValueError(\"Expected a 2D frame, got a 3D array.\")\n",
    "\n",
    "    h, w = frame.shape\n",
    "\n",
    "    if isinstance(border, int):\n",
    "        t = b = l = r = border\n",
    "    else:\n",
    "        t, b, l, r = border\n",
    "\n",
    "    pre, post = frame[::2], frame[1::2]\n",
    "    m = min(pre.shape[0], post.shape[0])\n",
    "\n",
    "    row_start = t\n",
    "    row_end = m - b if b else m\n",
    "    col_start = l\n",
    "    col_end = w - r if r else w\n",
    "\n",
    "    a = pre[row_start:row_end, col_start:col_end]\n",
    "    b_ = post[row_start:row_end, col_start:col_end]\n",
    "\n",
    "    shift, *_ = phase_cross_correlation(a, b_, upsample_factor=upsample)\n",
    "    dx = float(shift[1])\n",
    "    if max_offset:\n",
    "        return np.sign(dx) * min(abs(dx), max_offset)\n",
    "    return dx\n",
    "\n",
    "\n",
    "def _apply_offset(frame, shift):\n",
    "    if frame.ndim < 2:\n",
    "        return frame\n",
    "    rows = frame[1::2]\n",
    "    f = np.fft.fftn(rows)\n",
    "    shift_vec = (0, shift)[:rows.ndim]\n",
    "    rows[:] = np.fft.ifftn(fourier_shift(f, shift_vec)).real\n",
    "    return frame\n",
    "\n",
    "\n",
    "def nd_windowed_compute_optimal_offset(\n",
    "        arr,\n",
    "        method=\"mean\",\n",
    "        upsample=1,\n",
    "        max_offset=4,\n",
    "        border=2,\n",
    "):\n",
    "    \"\"\"\n",
    "    Compute scan‐phase offsets. If `arr` is 2D, always run a single‐image offset.\n",
    "    If `arr` is 3D (time × height × width), one of:\n",
    "\n",
    "      - \"frame\"      → compute offset frame‐by‐frame (returns a 1D array of length T)\n",
    "      - \"mean\", \"max\", \"std\"       → collapse along time with np.mean/np.max/np.std first\n",
    "      - \"mean-sub\"   → subtract the temporal mean from each frame, then run offset on that difference\n",
    "      - \"mean-sub-std\" → first z‐score each pixel over time, then compute offset on that z‐scored image\n",
    "\n",
    "    \"\"\"\n",
    "    a = np.asarray(arr)\n",
    "    if a.ndim == 2:\n",
    "        if method not in TWO_DIM_PHASECORR_METHODS:\n",
    "            logger.debug(\n",
    "                \"Attempted to use a windowed phase-corr method on 2D data.\"\n",
    "                f\"Available 2D methods: {TWO_DIM_PHASECORR_METHODS}\"\n",
    "            )\n",
    "        return _phase_corr_2d(\n",
    "            a,\n",
    "            upsample=upsample,\n",
    "            border=border,\n",
    "            max_offset=max_offset\n",
    "        )\n",
    "    # flatten z/t\n",
    "    flat = a.reshape(a.shape[0], *a.shape[-2:])\n",
    "\n",
    "    # one offset per frame\n",
    "    if method == \"frame\":\n",
    "        return np.array([_phase_corr_2d(\n",
    "            f,\n",
    "            upsample=upsample,\n",
    "            border=border,\n",
    "            max_offset=max_offset,\n",
    "        ) for f in flat])  # dtype=np.float32)\n",
    "\n",
    "    if method not in MBO_WINDOW_METHODS:\n",
    "        raise ValueError(f\"Unknown phase‐corr method: {method!r}\")\n",
    "\n",
    "    image = MBO_WINDOW_METHODS[method](flat)\n",
    "    return _phase_corr_2d(image, upsample=upsample, border=border, max_offset=max_offset)\n",
    "\n",
    "def nd_windowed(arr, *, method=\"mean\", upsample=1,\n",
    "                max_offset=4, border=2):\n",
    "    a = np.asarray(arr)\n",
    "    if a.ndim == 2:\n",
    "        offs = _phase_corr_2d(a, upsample, border, max_offset)\n",
    "    else:\n",
    "        flat = a.reshape(a.shape[0], *a.shape[-2:])\n",
    "        if method == \"frame\":\n",
    "            offs = np.array([_phase_corr_2d(f, upsample, border, max_offset)\n",
    "                             for f in flat])\n",
    "        else:\n",
    "            if method not in MBO_WINDOW_METHODS:\n",
    "                raise ValueError(f\"unknown method {method}\")\n",
    "            img = MBO_WINDOW_METHODS[method](flat)\n",
    "            offs = _phase_corr_2d(img, upsample, border, max_offset)\n",
    "\n",
    "    if np.isscalar(offs):\n",
    "        corrected = _apply_offset(a.copy(), offs)\n",
    "    else:\n",
    "        corrected = np.stack([\n",
    "            _apply_offset(f.copy(), s) for f, s in zip(a, offs)\n",
    "        ])\n",
    "    return corrected, offs\n",
    "\n",
    "\n",
    "def apply_scan_phase_offsets(arr, offs):\n",
    "    out = np.asarray(arr).copy()\n",
    "    if np.isscalar(offs):\n",
    "        return _apply_offset(out, offs)\n",
    "    for k, off in enumerate(offs):\n",
    "        out[k] = _apply_offset(out[k], off)\n",
    "    return out\n"
   ]
  },
  {
   "cell_type": "code",
   "execution_count": 30,
   "id": "cb670ab0-6650-4eea-b051-61986b2ecbbc",
   "metadata": {
    "execution": {
     "iopub.execute_input": "2025-06-07T15:26:11.309601Z",
     "iopub.status.busy": "2025-06-07T15:26:11.309273Z",
     "iopub.status.idle": "2025-06-07T15:26:11.316728Z",
     "shell.execute_reply": "2025-06-07T15:26:11.315483Z",
     "shell.execute_reply.started": "2025-06-07T15:26:11.309576Z"
    }
   },
   "outputs": [],
   "source": [
    "def nd_windowed_compute_optimal_offset(\n",
    "        arr,\n",
    "        method=\"mean\",\n",
    "        upsample=1,\n",
    "        max_offset=4,\n",
    "        border=2,\n",
    "):\n",
    "    \"\"\"\n",
    "    Compute scan‐phase offsets. If `arr` is 2D, always run a single‐image offset.\n",
    "    If `arr` is 3D (time × height × width), one of:\n",
    "\n",
    "      - \"frame\"      → compute offset frame‐by‐frame (returns a 1D array of length T)\n",
    "      - \"mean\", \"max\", \"std\"       → collapse along time with np.mean/np.max/np.std first\n",
    "      - \"mean-sub\"   → subtract the temporal mean from each frame, then run offset on that difference\n",
    "      - \"mean-sub-std\" → first z‐score each pixel over time, then compute offset on that z‐scored image\n",
    "\n",
    "    \"\"\"\n",
    "    a = np.asarray(arr)\n",
    "    if a.ndim == 2:\n",
    "        if method not in TWO_DIM_PHASECORR_METHODS:\n",
    "            logger.debug(\n",
    "                \"Attempted to use a windowed phase-corr method on 2D data.\"\n",
    "                f\"Available 2D methods: {TWO_DIM_PHASECORR_METHODS}\"\n",
    "            )\n",
    "        return _phase_corr_2d(\n",
    "            a,\n",
    "            upsample=upsample,\n",
    "            border=border,\n",
    "            max_offset=max_offset\n",
    "        )\n",
    "    # flatten z/t\n",
    "    flat = a.reshape(a.shape[0], *a.shape[-2:])\n",
    "\n",
    "    # one offset per frame\n",
    "    if method == \"frame\":\n",
    "        return np.array([_phase_corr_2d(\n",
    "            f,\n",
    "            upsample=upsample,\n",
    "            border=border,\n",
    "            max_offset=max_offset,\n",
    "        ) for f in flat])  # dtype=np.float32)\n",
    "\n",
    "    if method not in MBO_WINDOW_METHODS:\n",
    "        raise ValueError(f\"Unknown phase‐corr method: {method!r}\")\n",
    "\n",
    "    image = MBO_WINDOW_METHODS[method](flat)\n",
    "    return _phase_corr_2d(image, upsample=upsample, border=border, max_offset=max_offset)"
   ]
  },
  {
   "cell_type": "code",
   "execution_count": 34,
   "id": "f71bc99d-203f-48e6-857d-9b377ffb0861",
   "metadata": {
    "execution": {
     "iopub.execute_input": "2025-06-07T15:27:11.792768Z",
     "iopub.status.busy": "2025-06-07T15:27:11.792566Z",
     "iopub.status.idle": "2025-06-07T15:27:12.246481Z",
     "shell.execute_reply": "2025-06-07T15:27:12.245231Z",
     "shell.execute_reply.started": "2025-06-07T15:27:11.792752Z"
    }
   },
   "outputs": [
    {
     "ename": "RuntimeError",
     "evalue": "sequence argument must have length equal to input rank",
     "output_type": "error",
     "traceback": [
      "\u001b[31m---------------------------------------------------------------------------\u001b[39m",
      "\u001b[31mRuntimeError\u001b[39m                              Traceback (most recent call last)",
      "\u001b[36mCell\u001b[39m\u001b[36m \u001b[39m\u001b[32mIn[34]\u001b[39m\u001b[32m, line 1\u001b[39m\n\u001b[32m----> \u001b[39m\u001b[32m1\u001b[39m \u001b[43mget_ipython\u001b[49m\u001b[43m(\u001b[49m\u001b[43m)\u001b[49m\u001b[43m.\u001b[49m\u001b[43mrun_cell_magic\u001b[49m\u001b[43m(\u001b[49m\u001b[33;43m'\u001b[39;49m\u001b[33;43mtimeit\u001b[39;49m\u001b[33;43m'\u001b[39;49m\u001b[43m,\u001b[49m\u001b[43m \u001b[49m\u001b[33;43m'\u001b[39;49m\u001b[33;43m'\u001b[39;49m\u001b[43m,\u001b[49m\u001b[43m \u001b[49m\u001b[33;43m'\u001b[39;49m\u001b[33;43m_ = nd_windowed(data, method=\u001b[39;49m\u001b[33;43m\"\u001b[39;49m\u001b[33;43mmean\u001b[39;49m\u001b[33;43m\"\u001b[39;49m\u001b[33;43m, upsample=8)\u001b[39;49m\u001b[38;5;130;43;01m\\n\u001b[39;49;00m\u001b[33;43m'\u001b[39;49m\u001b[43m)\u001b[49m\n",
      "\u001b[36mFile \u001b[39m\u001b[32m~/repos/work/mbo_utilities/.venv/lib/python3.12/site-packages/IPython/core/interactiveshell.py:2547\u001b[39m, in \u001b[36mInteractiveShell.run_cell_magic\u001b[39m\u001b[34m(self, magic_name, line, cell)\u001b[39m\n\u001b[32m   2545\u001b[39m \u001b[38;5;28;01mwith\u001b[39;00m \u001b[38;5;28mself\u001b[39m.builtin_trap:\n\u001b[32m   2546\u001b[39m     args = (magic_arg_s, cell)\n\u001b[32m-> \u001b[39m\u001b[32m2547\u001b[39m     result = \u001b[43mfn\u001b[49m\u001b[43m(\u001b[49m\u001b[43m*\u001b[49m\u001b[43margs\u001b[49m\u001b[43m,\u001b[49m\u001b[43m \u001b[49m\u001b[43m*\u001b[49m\u001b[43m*\u001b[49m\u001b[43mkwargs\u001b[49m\u001b[43m)\u001b[49m\n\u001b[32m   2549\u001b[39m \u001b[38;5;66;03m# The code below prevents the output from being displayed\u001b[39;00m\n\u001b[32m   2550\u001b[39m \u001b[38;5;66;03m# when using magics with decorator @output_can_be_silenced\u001b[39;00m\n\u001b[32m   2551\u001b[39m \u001b[38;5;66;03m# when the last Python token in the expression is a ';'.\u001b[39;00m\n\u001b[32m   2552\u001b[39m \u001b[38;5;28;01mif\u001b[39;00m \u001b[38;5;28mgetattr\u001b[39m(fn, magic.MAGIC_OUTPUT_CAN_BE_SILENCED, \u001b[38;5;28;01mFalse\u001b[39;00m):\n",
      "\u001b[36mFile \u001b[39m\u001b[32m~/repos/work/mbo_utilities/.venv/lib/python3.12/site-packages/IPython/core/magics/execution.py:1225\u001b[39m, in \u001b[36mExecutionMagics.timeit\u001b[39m\u001b[34m(self, line, cell, local_ns)\u001b[39m\n\u001b[32m   1223\u001b[39m \u001b[38;5;28;01mfor\u001b[39;00m index \u001b[38;5;129;01min\u001b[39;00m \u001b[38;5;28mrange\u001b[39m(\u001b[32m0\u001b[39m, \u001b[32m10\u001b[39m):\n\u001b[32m   1224\u001b[39m     number = \u001b[32m10\u001b[39m ** index\n\u001b[32m-> \u001b[39m\u001b[32m1225\u001b[39m     time_number = \u001b[43mtimer\u001b[49m\u001b[43m.\u001b[49m\u001b[43mtimeit\u001b[49m\u001b[43m(\u001b[49m\u001b[43mnumber\u001b[49m\u001b[43m)\u001b[49m\n\u001b[32m   1226\u001b[39m     \u001b[38;5;28;01mif\u001b[39;00m time_number >= \u001b[32m0.2\u001b[39m:\n\u001b[32m   1227\u001b[39m         \u001b[38;5;28;01mbreak\u001b[39;00m\n",
      "\u001b[36mFile \u001b[39m\u001b[32m~/repos/work/mbo_utilities/.venv/lib/python3.12/site-packages/IPython/core/magics/execution.py:183\u001b[39m, in \u001b[36mTimer.timeit\u001b[39m\u001b[34m(self, number)\u001b[39m\n\u001b[32m    181\u001b[39m gc.disable()\n\u001b[32m    182\u001b[39m \u001b[38;5;28;01mtry\u001b[39;00m:\n\u001b[32m--> \u001b[39m\u001b[32m183\u001b[39m     timing = \u001b[38;5;28;43mself\u001b[39;49m\u001b[43m.\u001b[49m\u001b[43minner\u001b[49m\u001b[43m(\u001b[49m\u001b[43mit\u001b[49m\u001b[43m,\u001b[49m\u001b[43m \u001b[49m\u001b[38;5;28;43mself\u001b[39;49m\u001b[43m.\u001b[49m\u001b[43mtimer\u001b[49m\u001b[43m)\u001b[49m\n\u001b[32m    184\u001b[39m \u001b[38;5;28;01mfinally\u001b[39;00m:\n\u001b[32m    185\u001b[39m     \u001b[38;5;28;01mif\u001b[39;00m gcold:\n",
      "\u001b[36mFile \u001b[39m\u001b[32m<magic-timeit>:1\u001b[39m, in \u001b[36minner\u001b[39m\u001b[34m(_it, _timer)\u001b[39m\n",
      "\u001b[36mCell\u001b[39m\u001b[36m \u001b[39m\u001b[32mIn[29]\u001b[39m\u001b[32m, line 129\u001b[39m, in \u001b[36mnd_windowed\u001b[39m\u001b[34m(arr, method, upsample, max_offset, border)\u001b[39m\n\u001b[32m    126\u001b[39m         offs = _phase_corr_2d(img, upsample, border, max_offset)\n\u001b[32m    128\u001b[39m \u001b[38;5;28;01mif\u001b[39;00m np.isscalar(offs):\n\u001b[32m--> \u001b[39m\u001b[32m129\u001b[39m     corrected = \u001b[43m_apply_offset\u001b[49m\u001b[43m(\u001b[49m\u001b[43ma\u001b[49m\u001b[43m.\u001b[49m\u001b[43mcopy\u001b[49m\u001b[43m(\u001b[49m\u001b[43m)\u001b[49m\u001b[43m,\u001b[49m\u001b[43m \u001b[49m\u001b[43moffs\u001b[49m\u001b[43m)\u001b[49m\n\u001b[32m    130\u001b[39m \u001b[38;5;28;01melse\u001b[39;00m:\n\u001b[32m    131\u001b[39m     corrected = np.stack([\n\u001b[32m    132\u001b[39m         _apply_offset(f.copy(), s) \u001b[38;5;28;01mfor\u001b[39;00m f, s \u001b[38;5;129;01min\u001b[39;00m \u001b[38;5;28mzip\u001b[39m(a, offs)\n\u001b[32m    133\u001b[39m     ])\n",
      "\u001b[36mCell\u001b[39m\u001b[36m \u001b[39m\u001b[32mIn[29]\u001b[39m\u001b[32m, line 60\u001b[39m, in \u001b[36m_apply_offset\u001b[39m\u001b[34m(frame, shift)\u001b[39m\n\u001b[32m     58\u001b[39m f = np.fft.fftn(rows)\n\u001b[32m     59\u001b[39m shift_vec = (\u001b[32m0\u001b[39m, shift)[:rows.ndim]\n\u001b[32m---> \u001b[39m\u001b[32m60\u001b[39m rows[:] = np.fft.ifftn(\u001b[43mfourier_shift\u001b[49m\u001b[43m(\u001b[49m\u001b[43mf\u001b[49m\u001b[43m,\u001b[49m\u001b[43m \u001b[49m\u001b[43mshift_vec\u001b[49m\u001b[43m)\u001b[49m).real\n\u001b[32m     61\u001b[39m \u001b[38;5;28;01mreturn\u001b[39;00m frame\n",
      "\u001b[36mFile \u001b[39m\u001b[32m~/repos/work/mbo_utilities/.venv/lib/python3.12/site-packages/scipy/ndimage/_fourier.py:301\u001b[39m, in \u001b[36mfourier_shift\u001b[39m\u001b[34m(input, shift, n, axis, output)\u001b[39m\n\u001b[32m    299\u001b[39m output = _get_output_fourier_complex(output, \u001b[38;5;28minput\u001b[39m)\n\u001b[32m    300\u001b[39m axis = normalize_axis_index(axis, \u001b[38;5;28minput\u001b[39m.ndim)\n\u001b[32m--> \u001b[39m\u001b[32m301\u001b[39m shifts = \u001b[43m_ni_support\u001b[49m\u001b[43m.\u001b[49m\u001b[43m_normalize_sequence\u001b[49m\u001b[43m(\u001b[49m\u001b[43mshift\u001b[49m\u001b[43m,\u001b[49m\u001b[43m \u001b[49m\u001b[38;5;28;43minput\u001b[39;49m\u001b[43m.\u001b[49m\u001b[43mndim\u001b[49m\u001b[43m)\u001b[49m\n\u001b[32m    302\u001b[39m shifts = np.asarray(shifts, dtype=np.float64)\n\u001b[32m    303\u001b[39m \u001b[38;5;28;01mif\u001b[39;00m \u001b[38;5;129;01mnot\u001b[39;00m shifts.flags.contiguous:\n",
      "\u001b[36mFile \u001b[39m\u001b[32m~/repos/work/mbo_utilities/.venv/lib/python3.12/site-packages/scipy/ndimage/_ni_support.py:72\u001b[39m, in \u001b[36m_normalize_sequence\u001b[39m\u001b[34m(input, rank)\u001b[39m\n\u001b[32m     70\u001b[39m     \u001b[38;5;28;01mif\u001b[39;00m \u001b[38;5;28mlen\u001b[39m(normalized) != rank:\n\u001b[32m     71\u001b[39m         err = \u001b[33m\"\u001b[39m\u001b[33msequence argument must have length equal to input rank\u001b[39m\u001b[33m\"\u001b[39m\n\u001b[32m---> \u001b[39m\u001b[32m72\u001b[39m         \u001b[38;5;28;01mraise\u001b[39;00m \u001b[38;5;167;01mRuntimeError\u001b[39;00m(err)\n\u001b[32m     73\u001b[39m \u001b[38;5;28;01melse\u001b[39;00m:\n\u001b[32m     74\u001b[39m     normalized = [\u001b[38;5;28minput\u001b[39m] * rank\n",
      "\u001b[31mRuntimeError\u001b[39m: sequence argument must have length equal to input rank"
     ]
    }
   ],
   "source": [
    "%%timeit\n",
    "_ = nd_windowed(data, method=\"mean\", upsample=8)"
   ]
  },
  {
   "cell_type": "code",
   "execution_count": 33,
   "id": "6633b866-255d-49ee-a63f-7d2c7bc7c052",
   "metadata": {
    "execution": {
     "iopub.execute_input": "2025-06-07T15:26:34.676852Z",
     "iopub.status.busy": "2025-06-07T15:26:34.676526Z",
     "iopub.status.idle": "2025-06-07T15:26:49.904519Z",
     "shell.execute_reply": "2025-06-07T15:26:49.903840Z",
     "shell.execute_reply.started": "2025-06-07T15:26:34.676827Z"
    }
   },
   "outputs": [
    {
     "name": "stdout",
     "output_type": "stream",
     "text": [
      "1.89 s ± 17 ms per loop (mean ± std. dev. of 7 runs, 1 loop each)\n"
     ]
    }
   ],
   "source": [
    "%%timeit\n",
    "offs = nd_windowed_compute_optimal_offset(\n",
    "    data,\n",
    "    method=\"frame\",\n",
    "    upsample=8,\n",
    ")\n",
    "corrected = apply_scan_phase_offsets(data, offs)"
   ]
  },
  {
   "cell_type": "code",
   "execution_count": 21,
   "id": "b2dc5258-66da-427b-8bd3-7e3bddd75e30",
   "metadata": {
    "execution": {
     "iopub.execute_input": "2025-06-07T15:01:20.127118Z",
     "iopub.status.busy": "2025-06-07T15:01:20.126240Z",
     "iopub.status.idle": "2025-06-07T15:01:20.131816Z",
     "shell.execute_reply": "2025-06-07T15:01:20.131077Z",
     "shell.execute_reply.started": "2025-06-07T15:01:20.127064Z"
    }
   },
   "outputs": [],
   "source": [
    "def run_chunks(n):\n",
    "    for s in range(0, data.shape[0], n):\n",
    "        nd_windowed(data[s:s+n], method=\"mean\", upsample=8)"
   ]
  },
  {
   "cell_type": "code",
   "execution_count": 25,
   "id": "c2d9815a-9b4c-4bdf-8257-00669e53f84a",
   "metadata": {
    "execution": {
     "iopub.execute_input": "2025-06-07T15:03:05.948867Z",
     "iopub.status.busy": "2025-06-07T15:03:05.947856Z",
     "iopub.status.idle": "2025-06-07T15:03:05.955358Z",
     "shell.execute_reply": "2025-06-07T15:03:05.954431Z",
     "shell.execute_reply.started": "2025-06-07T15:03:05.948823Z"
    }
   },
   "outputs": [
    {
     "name": "stdout",
     "output_type": "stream",
     "text": [
      "(3, 912, 224)\n",
      "(3, 912, 224)\n",
      "(3, 912, 224)\n",
      "(3, 912, 224)\n",
      "(3, 912, 224)\n",
      "(3, 912, 224)\n",
      "(3, 912, 224)\n",
      "(3, 912, 224)\n",
      "(3, 912, 224)\n",
      "(3, 912, 224)\n",
      "(3, 912, 224)\n",
      "(3, 912, 224)\n",
      "(3, 912, 224)\n",
      "(3, 912, 224)\n",
      "(3, 912, 224)\n",
      "(3, 912, 224)\n",
      "(3, 912, 224)\n",
      "(3, 912, 224)\n",
      "(3, 912, 224)\n",
      "(3, 912, 224)\n",
      "(3, 912, 224)\n",
      "(3, 912, 224)\n",
      "(3, 912, 224)\n",
      "(3, 912, 224)\n",
      "(3, 912, 224)\n",
      "(3, 912, 224)\n",
      "(3, 912, 224)\n",
      "(3, 912, 224)\n",
      "(3, 912, 224)\n",
      "(3, 912, 224)\n",
      "(3, 912, 224)\n",
      "(3, 912, 224)\n",
      "(3, 912, 224)\n",
      "(2, 912, 224)\n"
     ]
    }
   ],
   "source": [
    "n = 3\n",
    "for s in range(0, data.shape[0], n):\n",
    "    print(data[s:s+n].shape)"
   ]
  },
  {
   "cell_type": "code",
   "execution_count": 22,
   "id": "eebc6028-d013-4ba1-a8af-4560e27ee4bb",
   "metadata": {
    "execution": {
     "iopub.execute_input": "2025-06-07T15:01:41.476107Z",
     "iopub.status.busy": "2025-06-07T15:01:41.475766Z",
     "iopub.status.idle": "2025-06-07T15:01:41.646873Z",
     "shell.execute_reply": "2025-06-07T15:01:41.646512Z",
     "shell.execute_reply.started": "2025-06-07T15:01:41.476081Z"
    }
   },
   "outputs": [
    {
     "ename": "RuntimeError",
     "evalue": "sequence argument must have length equal to input rank",
     "output_type": "error",
     "traceback": [
      "\u001b[31m---------------------------------------------------------------------------\u001b[39m",
      "\u001b[31mRuntimeError\u001b[39m                              Traceback (most recent call last)",
      "\u001b[36mCell\u001b[39m\u001b[36m \u001b[39m\u001b[32mIn[22]\u001b[39m\u001b[32m, line 1\u001b[39m\n\u001b[32m----> \u001b[39m\u001b[32m1\u001b[39m \u001b[43mget_ipython\u001b[49m\u001b[43m(\u001b[49m\u001b[43m)\u001b[49m\u001b[43m.\u001b[49m\u001b[43mrun_cell_magic\u001b[49m\u001b[43m(\u001b[49m\u001b[33;43m'\u001b[39;49m\u001b[33;43mtimeit\u001b[39;49m\u001b[33;43m'\u001b[39;49m\u001b[43m,\u001b[49m\u001b[43m \u001b[49m\u001b[33;43m'\u001b[39;49m\u001b[33;43m'\u001b[39;49m\u001b[43m,\u001b[49m\u001b[43m \u001b[49m\u001b[33;43m'\u001b[39;49m\u001b[33;43mrun_chunks(3)\u001b[39;49m\u001b[38;5;130;43;01m\\n\u001b[39;49;00m\u001b[33;43m'\u001b[39;49m\u001b[43m)\u001b[49m\n",
      "\u001b[36mFile \u001b[39m\u001b[32m~/repos/work/mbo_utilities/.venv/lib/python3.12/site-packages/IPython/core/interactiveshell.py:2547\u001b[39m, in \u001b[36mInteractiveShell.run_cell_magic\u001b[39m\u001b[34m(self, magic_name, line, cell)\u001b[39m\n\u001b[32m   2545\u001b[39m \u001b[38;5;28;01mwith\u001b[39;00m \u001b[38;5;28mself\u001b[39m.builtin_trap:\n\u001b[32m   2546\u001b[39m     args = (magic_arg_s, cell)\n\u001b[32m-> \u001b[39m\u001b[32m2547\u001b[39m     result = \u001b[43mfn\u001b[49m\u001b[43m(\u001b[49m\u001b[43m*\u001b[49m\u001b[43margs\u001b[49m\u001b[43m,\u001b[49m\u001b[43m \u001b[49m\u001b[43m*\u001b[49m\u001b[43m*\u001b[49m\u001b[43mkwargs\u001b[49m\u001b[43m)\u001b[49m\n\u001b[32m   2549\u001b[39m \u001b[38;5;66;03m# The code below prevents the output from being displayed\u001b[39;00m\n\u001b[32m   2550\u001b[39m \u001b[38;5;66;03m# when using magics with decorator @output_can_be_silenced\u001b[39;00m\n\u001b[32m   2551\u001b[39m \u001b[38;5;66;03m# when the last Python token in the expression is a ';'.\u001b[39;00m\n\u001b[32m   2552\u001b[39m \u001b[38;5;28;01mif\u001b[39;00m \u001b[38;5;28mgetattr\u001b[39m(fn, magic.MAGIC_OUTPUT_CAN_BE_SILENCED, \u001b[38;5;28;01mFalse\u001b[39;00m):\n",
      "\u001b[36mFile \u001b[39m\u001b[32m~/repos/work/mbo_utilities/.venv/lib/python3.12/site-packages/IPython/core/magics/execution.py:1225\u001b[39m, in \u001b[36mExecutionMagics.timeit\u001b[39m\u001b[34m(self, line, cell, local_ns)\u001b[39m\n\u001b[32m   1223\u001b[39m \u001b[38;5;28;01mfor\u001b[39;00m index \u001b[38;5;129;01min\u001b[39;00m \u001b[38;5;28mrange\u001b[39m(\u001b[32m0\u001b[39m, \u001b[32m10\u001b[39m):\n\u001b[32m   1224\u001b[39m     number = \u001b[32m10\u001b[39m ** index\n\u001b[32m-> \u001b[39m\u001b[32m1225\u001b[39m     time_number = \u001b[43mtimer\u001b[49m\u001b[43m.\u001b[49m\u001b[43mtimeit\u001b[49m\u001b[43m(\u001b[49m\u001b[43mnumber\u001b[49m\u001b[43m)\u001b[49m\n\u001b[32m   1226\u001b[39m     \u001b[38;5;28;01mif\u001b[39;00m time_number >= \u001b[32m0.2\u001b[39m:\n\u001b[32m   1227\u001b[39m         \u001b[38;5;28;01mbreak\u001b[39;00m\n",
      "\u001b[36mFile \u001b[39m\u001b[32m~/repos/work/mbo_utilities/.venv/lib/python3.12/site-packages/IPython/core/magics/execution.py:183\u001b[39m, in \u001b[36mTimer.timeit\u001b[39m\u001b[34m(self, number)\u001b[39m\n\u001b[32m    181\u001b[39m gc.disable()\n\u001b[32m    182\u001b[39m \u001b[38;5;28;01mtry\u001b[39;00m:\n\u001b[32m--> \u001b[39m\u001b[32m183\u001b[39m     timing = \u001b[38;5;28;43mself\u001b[39;49m\u001b[43m.\u001b[49m\u001b[43minner\u001b[49m\u001b[43m(\u001b[49m\u001b[43mit\u001b[49m\u001b[43m,\u001b[49m\u001b[43m \u001b[49m\u001b[38;5;28;43mself\u001b[39;49m\u001b[43m.\u001b[49m\u001b[43mtimer\u001b[49m\u001b[43m)\u001b[49m\n\u001b[32m    184\u001b[39m \u001b[38;5;28;01mfinally\u001b[39;00m:\n\u001b[32m    185\u001b[39m     \u001b[38;5;28;01mif\u001b[39;00m gcold:\n",
      "\u001b[36mFile \u001b[39m\u001b[32m<magic-timeit>:1\u001b[39m, in \u001b[36minner\u001b[39m\u001b[34m(_it, _timer)\u001b[39m\n",
      "\u001b[36mCell\u001b[39m\u001b[36m \u001b[39m\u001b[32mIn[21]\u001b[39m\u001b[32m, line 3\u001b[39m, in \u001b[36mrun_chunks\u001b[39m\u001b[34m(n)\u001b[39m\n\u001b[32m      1\u001b[39m \u001b[38;5;28;01mdef\u001b[39;00m\u001b[38;5;250m \u001b[39m\u001b[34mrun_chunks\u001b[39m(n):\n\u001b[32m      2\u001b[39m     \u001b[38;5;28;01mfor\u001b[39;00m s \u001b[38;5;129;01min\u001b[39;00m \u001b[38;5;28mrange\u001b[39m(\u001b[32m0\u001b[39m, data.shape[\u001b[32m0\u001b[39m], n):\n\u001b[32m----> \u001b[39m\u001b[32m3\u001b[39m         \u001b[43mnd_windowed\u001b[49m\u001b[43m(\u001b[49m\u001b[43mdata\u001b[49m\u001b[43m[\u001b[49m\u001b[43ms\u001b[49m\u001b[43m:\u001b[49m\u001b[43ms\u001b[49m\u001b[43m+\u001b[49m\u001b[43mn\u001b[49m\u001b[43m]\u001b[49m\u001b[43m,\u001b[49m\u001b[43m \u001b[49m\u001b[43mmethod\u001b[49m\u001b[43m=\u001b[49m\u001b[33;43m\"\u001b[39;49m\u001b[33;43mmean\u001b[39;49m\u001b[33;43m\"\u001b[39;49m\u001b[43m,\u001b[49m\u001b[43m \u001b[49m\u001b[43mupsample\u001b[49m\u001b[43m=\u001b[49m\u001b[32;43m8\u001b[39;49m\u001b[43m)\u001b[49m\n",
      "\u001b[36mCell\u001b[39m\u001b[36m \u001b[39m\u001b[32mIn[19]\u001b[39m\u001b[32m, line 130\u001b[39m, in \u001b[36mnd_windowed\u001b[39m\u001b[34m(arr, method, upsample, max_offset, border)\u001b[39m\n\u001b[32m    127\u001b[39m         offs = _phase_corr_2d(img, upsample, border, max_offset)\n\u001b[32m    129\u001b[39m \u001b[38;5;28;01mif\u001b[39;00m np.isscalar(offs):\n\u001b[32m--> \u001b[39m\u001b[32m130\u001b[39m     corrected = \u001b[43m_apply_offset\u001b[49m\u001b[43m(\u001b[49m\u001b[43ma\u001b[49m\u001b[43m.\u001b[49m\u001b[43mcopy\u001b[49m\u001b[43m(\u001b[49m\u001b[43m)\u001b[49m\u001b[43m,\u001b[49m\u001b[43m \u001b[49m\u001b[43moffs\u001b[49m\u001b[43m)\u001b[49m\n\u001b[32m    131\u001b[39m \u001b[38;5;28;01melse\u001b[39;00m:\n\u001b[32m    132\u001b[39m     corrected = np.stack([\n\u001b[32m    133\u001b[39m         _apply_offset(f.copy(), s) \u001b[38;5;28;01mfor\u001b[39;00m f, s \u001b[38;5;129;01min\u001b[39;00m \u001b[38;5;28mzip\u001b[39m(a, offs)\n\u001b[32m    134\u001b[39m     ])\n",
      "\u001b[36mCell\u001b[39m\u001b[36m \u001b[39m\u001b[32mIn[19]\u001b[39m\u001b[32m, line 60\u001b[39m, in \u001b[36m_apply_offset\u001b[39m\u001b[34m(frame, shift)\u001b[39m\n\u001b[32m     58\u001b[39m f = np.fft.fftn(rows)\n\u001b[32m     59\u001b[39m shift_vec = (\u001b[32m0\u001b[39m, shift)[:rows.ndim]\n\u001b[32m---> \u001b[39m\u001b[32m60\u001b[39m rows[:] = np.fft.ifftn(\u001b[43mfourier_shift\u001b[49m\u001b[43m(\u001b[49m\u001b[43mf\u001b[49m\u001b[43m,\u001b[49m\u001b[43m \u001b[49m\u001b[43mshift_vec\u001b[49m\u001b[43m)\u001b[49m).real\n\u001b[32m     61\u001b[39m \u001b[38;5;28;01mreturn\u001b[39;00m frame\n",
      "\u001b[36mFile \u001b[39m\u001b[32m~/repos/work/mbo_utilities/.venv/lib/python3.12/site-packages/scipy/ndimage/_fourier.py:301\u001b[39m, in \u001b[36mfourier_shift\u001b[39m\u001b[34m(input, shift, n, axis, output)\u001b[39m\n\u001b[32m    299\u001b[39m output = _get_output_fourier_complex(output, \u001b[38;5;28minput\u001b[39m)\n\u001b[32m    300\u001b[39m axis = normalize_axis_index(axis, \u001b[38;5;28minput\u001b[39m.ndim)\n\u001b[32m--> \u001b[39m\u001b[32m301\u001b[39m shifts = \u001b[43m_ni_support\u001b[49m\u001b[43m.\u001b[49m\u001b[43m_normalize_sequence\u001b[49m\u001b[43m(\u001b[49m\u001b[43mshift\u001b[49m\u001b[43m,\u001b[49m\u001b[43m \u001b[49m\u001b[38;5;28;43minput\u001b[39;49m\u001b[43m.\u001b[49m\u001b[43mndim\u001b[49m\u001b[43m)\u001b[49m\n\u001b[32m    302\u001b[39m shifts = np.asarray(shifts, dtype=np.float64)\n\u001b[32m    303\u001b[39m \u001b[38;5;28;01mif\u001b[39;00m \u001b[38;5;129;01mnot\u001b[39;00m shifts.flags.contiguous:\n",
      "\u001b[36mFile \u001b[39m\u001b[32m~/repos/work/mbo_utilities/.venv/lib/python3.12/site-packages/scipy/ndimage/_ni_support.py:72\u001b[39m, in \u001b[36m_normalize_sequence\u001b[39m\u001b[34m(input, rank)\u001b[39m\n\u001b[32m     70\u001b[39m     \u001b[38;5;28;01mif\u001b[39;00m \u001b[38;5;28mlen\u001b[39m(normalized) != rank:\n\u001b[32m     71\u001b[39m         err = \u001b[33m\"\u001b[39m\u001b[33msequence argument must have length equal to input rank\u001b[39m\u001b[33m\"\u001b[39m\n\u001b[32m---> \u001b[39m\u001b[32m72\u001b[39m         \u001b[38;5;28;01mraise\u001b[39;00m \u001b[38;5;167;01mRuntimeError\u001b[39;00m(err)\n\u001b[32m     73\u001b[39m \u001b[38;5;28;01melse\u001b[39;00m:\n\u001b[32m     74\u001b[39m     normalized = [\u001b[38;5;28minput\u001b[39m] * rank\n",
      "\u001b[31mRuntimeError\u001b[39m: sequence argument must have length equal to input rank"
     ]
    }
   ],
   "source": [
    "%%timeit\n",
    "run_chunks(3)"
   ]
  },
  {
   "cell_type": "code",
   "execution_count": null,
   "id": "b8051a08-652e-47b8-90f1-cf51faad1a31",
   "metadata": {},
   "outputs": [],
   "source": []
  }
 ],
 "metadata": {
  "kernelspec": {
   "display_name": "Python 3 (ipykernel)",
   "language": "python",
   "name": "python3"
  },
  "language_info": {
   "codemirror_mode": {
    "name": "ipython",
    "version": 3
   },
   "file_extension": ".py",
   "mimetype": "text/x-python",
   "name": "python",
   "nbconvert_exporter": "python",
   "pygments_lexer": "ipython3",
   "version": "3.12.10"
  }
 },
 "nbformat": 4,
 "nbformat_minor": 5
}
