{
 "cells": [
  {
   "cell_type": "code",
   "execution_count": 2,
   "id": "32bdd968-8bf0-4dca-811e-9ab74215ecb6",
   "metadata": {
    "execution": {
     "iopub.execute_input": "2025-04-15T23:37:18.825094Z",
     "iopub.status.busy": "2025-04-15T23:37:18.825094Z",
     "iopub.status.idle": "2025-04-15T23:37:20.626484Z",
     "shell.execute_reply": "2025-04-15T23:37:20.626484Z",
     "shell.execute_reply.started": "2025-04-15T23:37:18.825094Z"
    }
   },
   "outputs": [
    {
     "name": "stdout",
     "output_type": "stream",
     "text": [
      "The autoreload extension is already loaded. To reload it, use:\n",
      "  %reload_ext autoreload\n"
     ]
    },
    {
     "data": {
      "application/vnd.jupyter.widget-view+json": {
       "model_id": "76005728ec31481eb5eaea77c5a8d3ea",
       "version_major": 2,
       "version_minor": 0
      },
      "text/plain": [
       "Image(value=b'version https://git-lfs.github.com/spec/...', height='55', width='300')"
      ]
     },
     "metadata": {},
     "output_type": "display_data"
    },
    {
     "data": {
      "text/html": [
       "<b>Available devices:</b><table><tr><th>Valid</th><th>Device</th><th>Type</th><th>Backend</th><th>Driver</th></tr><tr title=\"This adapter can be used with fastplotlib\"><td>✅ (default) </td><td>NVIDIA RTX A4000</td><td>DiscreteGPU</td><td>Vulkan</td><td>560.94</td></tr><tr title=\"This adapter can be used with fastplotlib\"><td>✅</td><td>NVIDIA RTX A4000</td><td>DiscreteGPU</td><td>D3D12</td><td></td></tr><tr title=\"This adapter can be used with fastplotlib\"><td>✅</td><td>NVIDIA RTX A4000</td><td>DiscreteGPU</td><td>D3D12</td><td></td></tr><tr title=\"CPU rendering support is limited and mainly for testing purposes\"><td>❗ limited</td><td>Microsoft Basic Render Driver</td><td>CPU</td><td>D3D12</td><td></td></tr><tr title=\"This adapter cannot be used with fastplotlib\"><td>❌</td><td>NVIDIA RTX A4000/PCIe/SSE2</td><td>Unknown</td><td>OpenGL</td><td>4.6.0 NVIDIA 560.94</td></tr></table>"
      ],
      "text/plain": [
       "<IPython.core.display.HTML object>"
      ]
     },
     "metadata": {},
     "output_type": "display_data"
    }
   ],
   "source": [
    "%load_ext autoreload\n",
    "%autoreload 2\n",
    "import numpy as np\n",
    "from pathlib import Path\n",
    "import tifffile\n",
    "import mbo_utilities as mbo\n",
    "import fastplotlib as fpl\n",
    "\n",
    "import dask.array as da"
   ]
  },
  {
   "cell_type": "code",
   "execution_count": 5,
   "id": "a32fff75-1961-418d-8cbe-29d173687fd4",
   "metadata": {
    "execution": {
     "iopub.execute_input": "2025-04-15T23:38:25.675459Z",
     "iopub.status.busy": "2025-04-15T23:38:25.675459Z",
     "iopub.status.idle": "2025-04-15T23:38:35.620810Z",
     "shell.execute_reply": "2025-04-15T23:38:35.620810Z",
     "shell.execute_reply.started": "2025-04-15T23:38:25.675459Z"
    }
   },
   "outputs": [],
   "source": [
    "from suite2p.io.binary import BinaryFile"
   ]
  },
  {
   "cell_type": "code",
   "execution_count": 10,
   "id": "6515e50c-19b7-405c-ba61-e9a9e8d396a3",
   "metadata": {
    "execution": {
     "iopub.execute_input": "2025-04-15T23:45:53.935783Z",
     "iopub.status.busy": "2025-04-15T23:45:53.935783Z",
     "iopub.status.idle": "2025-04-15T23:45:54.073211Z",
     "shell.execute_reply": "2025-04-15T23:45:54.073211Z",
     "shell.execute_reply.started": "2025-04-15T23:45:53.935783Z"
    }
   },
   "outputs": [],
   "source": [
    "tiff_path = r\"D:\\W2_DATA\\kbarber\\2025_03_01\\mk301\\assembled\\plane_01_mk301.tiff\"\n",
    "out_file = \"./out.bin\""
   ]
  },
  {
   "cell_type": "code",
   "execution_count": 11,
   "id": "e6f33132-f107-472e-a2c4-93d6976e1720",
   "metadata": {
    "execution": {
     "iopub.execute_input": "2025-04-15T23:45:55.498416Z",
     "iopub.status.busy": "2025-04-15T23:45:55.498416Z",
     "iopub.status.idle": "2025-04-15T23:45:55.607695Z",
     "shell.execute_reply": "2025-04-15T23:45:55.607695Z",
     "shell.execute_reply.started": "2025-04-15T23:45:55.498416Z"
    }
   },
   "outputs": [],
   "source": [
    "import tifffile\n",
    "import numpy as np\n",
    "from suite2p.io.binary import BinaryFile\n",
    "from pathlib import Path\n",
    "\n",
    "def tiff_to_binary(tiff_path, out_path, dtype=\"int16\"):\n",
    "    data = tifffile.memmap(tiff_path)\n",
    "    out_path = Path(out_path).with_suffix(\".bin\")\n",
    "    \n",
    "    if data.ndim != 3:\n",
    "        raise ValueError(\"Must be assembled, 3D (T, Y, X)\")\n",
    "    \n",
    "    nframes, x, y = data.shape\n",
    "    bf = BinaryFile(Ly=Y, Lx=X, filename=str(Path(out_binary)), n_frames=T, dtype=dtype)\n",
    "    \n",
    "    bf[:] = data\n",
    "    bf.close()\n",
    "    \n",
    "    print(f\"Wrote binary file '{out_path}' with {T} frames of shape ({x},{y}).\")"
   ]
  },
  {
   "cell_type": "code",
   "execution_count": 12,
   "id": "d78782d4-991b-4551-abb4-01c284e77260",
   "metadata": {
    "execution": {
     "iopub.execute_input": "2025-04-15T23:45:56.639162Z",
     "iopub.status.busy": "2025-04-15T23:45:56.639162Z",
     "iopub.status.idle": "2025-04-15T23:46:17.810166Z",
     "shell.execute_reply": "2025-04-15T23:46:17.810166Z",
     "shell.execute_reply.started": "2025-04-15T23:45:56.639162Z"
    }
   },
   "outputs": [
    {
     "name": "stdout",
     "output_type": "stream",
     "text": [
      "Wrote binary file './out.bin' with 64594 frames of shape (448,448) using dtype int16.\n"
     ]
    }
   ],
   "source": [
    "tiff_to_binary(tiff_path, out_file)"
   ]
  },
  {
   "cell_type": "code",
   "execution_count": 49,
   "id": "9e7da1ba-be73-4252-93df-38eea6777be6",
   "metadata": {
    "execution": {
     "iopub.execute_input": "2025-04-15T21:04:23.252220Z",
     "iopub.status.busy": "2025-04-15T21:04:23.252220Z",
     "iopub.status.idle": "2025-04-15T21:04:23.313241Z",
     "shell.execute_reply": "2025-04-15T21:04:23.313241Z",
     "shell.execute_reply.started": "2025-04-15T21:04:23.252220Z"
    }
   },
   "outputs": [
    {
     "data": {
      "text/plain": [
       "['D:\\\\W2_DATA\\\\kbarber\\\\2025_03_01\\\\mk301\\\\assembled\\\\plane_01_mk301.tiff',\n",
       " 'D:\\\\W2_DATA\\\\kbarber\\\\2025_03_01\\\\mk301\\\\assembled\\\\plane_02_mk301.tiff']"
      ]
     },
     "execution_count": 49,
     "metadata": {},
     "output_type": "execute_result"
    }
   ],
   "source": [
    "fname = r\"D:\\W2_DATA\\kbarber\\2025_03_01\\mk301\\assembled\"\n",
    "files = mbo.get_files(fname, 'tif', 1)\n",
    "files[:2]"
   ]
  },
  {
   "cell_type": "code",
   "execution_count": null,
   "id": "ab938921-1762-40ab-91e7-0f558e5cab8f",
   "metadata": {},
   "outputs": [],
   "source": [
    "file = files=[0]"
   ]
  },
  {
   "cell_type": "code",
   "execution_count": 50,
   "id": "c8560ad0-f685-4060-b2a9-bf5e1cafce99",
   "metadata": {
    "execution": {
     "iopub.execute_input": "2025-04-15T21:04:23.896133Z",
     "iopub.status.busy": "2025-04-15T21:04:23.895135Z",
     "iopub.status.idle": "2025-04-15T21:04:24.455157Z",
     "shell.execute_reply": "2025-04-15T21:04:24.455157Z",
     "shell.execute_reply.started": "2025-04-15T21:04:23.896133Z"
    }
   },
   "outputs": [
    {
     "name": "stdout",
     "output_type": "stream",
     "text": [
      "Detected possible escaped characters in the path. Use a raw string (r'...') or double backslashes.\n"
     ]
    }
   ],
   "source": [
    "fname_scan = r\"D:\\W2_DATA\\kbarber\\2025_03_01\\mk301\\green\\*\"\n",
    "raw_scan = mbo.read_scan(fname_scan)"
   ]
  },
  {
   "cell_type": "code",
   "execution_count": 52,
   "id": "165f432d-b8cc-4069-b84d-115d695bcae0",
   "metadata": {
    "execution": {
     "iopub.execute_input": "2025-04-15T21:04:27.636333Z",
     "iopub.status.busy": "2025-04-15T21:04:27.636333Z",
     "iopub.status.idle": "2025-04-15T21:05:01.615963Z",
     "shell.execute_reply": "2025-04-15T21:05:01.615963Z",
     "shell.execute_reply.started": "2025-04-15T21:04:27.636333Z"
    }
   },
   "outputs": [
    {
     "name": "stdout",
     "output_type": "stream",
     "text": [
      "Reading tiff series data...\n",
      "Reading tiff pages...\n",
      "Raw tiff fully read.\n"
     ]
    },
    {
     "data": {
      "application/vnd.jupyter.widget-view+json": {
       "model_id": "720b77c1c96541cf95fc4337d0d8d2c2",
       "version_major": 2,
       "version_minor": 0
      },
      "text/plain": [
       "Saving plane 1:   0%|          | 0/216 [00:00<?, ?it/s]"
      ]
     },
     "metadata": {},
     "output_type": "display_data"
    },
    {
     "name": "stdout",
     "output_type": "stream",
     "text": [
      "num-chunks: 216\n"
     ]
    },
    {
     "data": {
      "application/vnd.jupyter.widget-view+json": {
       "model_id": "7027f3773a1f43229a2351fff3a3dc82",
       "version_major": 2,
       "version_minor": 0
      },
      "text/plain": [
       "Saving plane 8:   0%|          | 0/216 [00:00<?, ?it/s]"
      ]
     },
     "metadata": {},
     "output_type": "display_data"
    },
    {
     "name": "stdout",
     "output_type": "stream",
     "text": [
      "num-chunks: 216\n"
     ]
    },
    {
     "data": {
      "application/vnd.jupyter.widget-view+json": {
       "model_id": "9e227527c8964d2ab15cb022ec21801f",
       "version_major": 2,
       "version_minor": 0
      },
      "text/plain": [
       "Saving plane 14:   0%|          | 0/216 [00:00<?, ?it/s]"
      ]
     },
     "metadata": {},
     "output_type": "display_data"
    },
    {
     "name": "stdout",
     "output_type": "stream",
     "text": [
      "num-chunks: 216\n",
      "Time elapsed: 0 minutes 33 seconds.\n"
     ]
    }
   ],
   "source": [
    "mbo.save_as(raw_scan, r\"D:\\W2_DATA\\kbarber\\2025_03_01\\mk301\\assembled_zarr\", planes=[0, 7, 13], ext=\".zarr\")"
   ]
  },
  {
   "cell_type": "code",
   "execution_count": 55,
   "id": "e1e765b3-cda1-4298-900b-cb923c442d76",
   "metadata": {
    "execution": {
     "iopub.execute_input": "2025-04-15T21:07:22.783641Z",
     "iopub.status.busy": "2025-04-15T21:07:22.783641Z",
     "iopub.status.idle": "2025-04-15T21:07:22.956661Z",
     "shell.execute_reply": "2025-04-15T21:07:22.956661Z",
     "shell.execute_reply.started": "2025-04-15T21:07:22.783641Z"
    }
   },
   "outputs": [],
   "source": [
    "zpath = r\"D:\\W2_DATA\\kbarber\\2025_03_01\\mk301\\assembled_zarr\"\n",
    "arr = mbo.zarr_to_dask(zpath)"
   ]
  },
  {
   "cell_type": "code",
   "execution_count": 56,
   "id": "f9a3398a-18ee-4ff9-a747-f1f29f4820ea",
   "metadata": {
    "execution": {
     "iopub.execute_input": "2025-04-15T21:08:22.534567Z",
     "iopub.status.busy": "2025-04-15T21:08:22.534567Z",
     "iopub.status.idle": "2025-04-15T21:08:23.314930Z",
     "shell.execute_reply": "2025-04-15T21:08:23.314930Z",
     "shell.execute_reply.started": "2025-04-15T21:08:22.534567Z"
    }
   },
   "outputs": [
    {
     "data": {
      "application/vnd.jupyter.widget-view+json": {
       "model_id": "3c5e18f43d7349918b9d974f534e58b2",
       "version_major": 2,
       "version_minor": 0
      },
      "text/plain": [
       "RFBOutputContext()"
      ]
     },
     "metadata": {},
     "output_type": "display_data"
    },
    {
     "data": {
      "application/vnd.jupyter.widget-view+json": {
       "model_id": "481e3a82ed96416890653909d48088ac",
       "version_major": 2,
       "version_minor": 0
      },
      "text/html": [
       "<div class='snapshot-481e3a82ed96416890653909d48088ac' style='position:relative;'><img src='data:image/png;base64,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' style='width:500.0px;height:300.0px;' /><div style='position: absolute; top:0; left:0; padding:1px 3px; background: #777; color:#fff; font-size: 90%; font-family:sans-serif; '>snapshot</div></div>"
      ],
      "text/plain": [
       "JupyterRenderCanvas(css_height='300.0px', css_width='500.0px')"
      ]
     },
     "execution_count": 56,
     "metadata": {},
     "output_type": "execute_result"
    }
   ],
   "source": [
    "iw = fpl.ImageWidget(arr)\n",
    "iw.show()"
   ]
  },
  {
   "cell_type": "code",
   "execution_count": 23,
   "id": "2351e9a6-4720-459f-b7f5-f604d1fcfd8f",
   "metadata": {
    "execution": {
     "iopub.execute_input": "2025-04-15T19:32:31.748414Z",
     "iopub.status.busy": "2025-04-15T19:32:31.748414Z",
     "iopub.status.idle": "2025-04-15T19:32:33.133373Z",
     "shell.execute_reply": "2025-04-15T19:32:33.133373Z",
     "shell.execute_reply.started": "2025-04-15T19:32:31.748414Z"
    },
    "scrolled": true
   },
   "outputs": [
    {
     "name": "stdout",
     "output_type": "stream",
     "text": [
      "Data provided and set.\n",
      "Is running jupyter\n",
      "Running jupyter, data provided. Making ImageWidget\n"
     ]
    },
    {
     "ename": "ValueError",
     "evalue": "Found no accessible jobs in dask",
     "output_type": "error",
     "traceback": [
      "\u001b[1;31m-------------------------------------------------------------------\u001b[0m",
      "\u001b[1;31mValueError\u001b[0m                        Traceback (most recent call last)",
      "Cell \u001b[1;32mIn[23], line 1\u001b[0m\n\u001b[1;32m----> 1\u001b[0m iw \u001b[38;5;241m=\u001b[39m \u001b[43mmbo\u001b[49m\u001b[38;5;241;43m.\u001b[39;49m\u001b[43mrun_gui\u001b[49m\u001b[43m(\u001b[49m\u001b[43mdata\u001b[49m\u001b[43m)\u001b[49m\n",
      "File \u001b[1;32m~\\repos\\mbo_utilities\\mbo_utilities\\graphics\\run_gui.py:55\u001b[0m, in \u001b[0;36mrun_gui\u001b[1;34m(data_in, use_qt)\u001b[0m\n\u001b[0;32m     51\u001b[0m \u001b[38;5;28;01melse\u001b[39;00m:\n\u001b[0;32m     52\u001b[0m     \u001b[38;5;66;03m# no data, in Jupyter, we need a QT dialog to load a data path\u001b[39;00m\n\u001b[0;32m     53\u001b[0m     \u001b[38;5;66;03m# can remove this once we have a means to load a native file-dialog from within jupyter\u001b[39;00m\n\u001b[0;32m     54\u001b[0m     \u001b[38;5;28mprint\u001b[39m(\u001b[38;5;124m\"\u001b[39m\u001b[38;5;124mRunning jupyter, data provided. Making ImageWidget\u001b[39m\u001b[38;5;124m\"\u001b[39m)\n\u001b[1;32m---> 55\u001b[0m     iw \u001b[38;5;241m=\u001b[39m \u001b[43mfpl\u001b[49m\u001b[38;5;241;43m.\u001b[39;49m\u001b[43mImageWidget\u001b[49m\u001b[43m(\u001b[49m\u001b[43mdata\u001b[49m\u001b[38;5;241;43m=\u001b[39;49m\u001b[43mdata\u001b[49m\u001b[43m,\u001b[49m\u001b[43m \u001b[49m\u001b[43mhistogram_widget\u001b[49m\u001b[38;5;241;43m=\u001b[39;49m\u001b[38;5;28;43;01mTrue\u001b[39;49;00m\u001b[43m,\u001b[49m\u001b[43m)\u001b[49m\n\u001b[0;32m     56\u001b[0m     iw\u001b[38;5;241m.\u001b[39mshow()\n\u001b[0;32m     57\u001b[0m     \u001b[38;5;28;01mreturn\u001b[39;00m iw\n",
      "File \u001b[1;32m~\\repos\\mbo_utilities\\.venv\\lib\\site-packages\\fastplotlib\\widgets\\image_widget\\_widget.py:524\u001b[0m, in \u001b[0;36mImageWidget.__init__\u001b[1;34m(self, data, window_funcs, frame_apply, figure_shape, names, figure_kwargs, histogram_widget, rgb, cmap, graphic_kwargs)\u001b[0m\n\u001b[0;32m    520\u001b[0m frame \u001b[38;5;241m=\u001b[39m \u001b[38;5;28mself\u001b[39m\u001b[38;5;241m.\u001b[39m_process_frame_apply(frame, data_ix)\n\u001b[0;32m    522\u001b[0m \u001b[38;5;28;01mif\u001b[39;00m (vmin_specified \u001b[38;5;129;01mis\u001b[39;00m \u001b[38;5;28;01mNone\u001b[39;00m) \u001b[38;5;129;01mor\u001b[39;00m (vmax_specified \u001b[38;5;129;01mis\u001b[39;00m \u001b[38;5;28;01mNone\u001b[39;00m):\n\u001b[0;32m    523\u001b[0m     \u001b[38;5;66;03m# if either vmin or vmax are not specified, calculate an estimate by subsampling\u001b[39;00m\n\u001b[1;32m--> 524\u001b[0m     vmin_estimate, vmax_estimate \u001b[38;5;241m=\u001b[39m \u001b[43mquick_min_max\u001b[49m\u001b[43m(\u001b[49m\u001b[43md\u001b[49m\u001b[43m)\u001b[49m\n\u001b[0;32m    526\u001b[0m     \u001b[38;5;66;03m# decide vmin, vmax passed to ImageGraphic constructor based on whether it's user specified or now\u001b[39;00m\n\u001b[0;32m    527\u001b[0m     \u001b[38;5;28;01mif\u001b[39;00m vmin_specified \u001b[38;5;129;01mis\u001b[39;00m \u001b[38;5;28;01mNone\u001b[39;00m:\n\u001b[0;32m    528\u001b[0m         \u001b[38;5;66;03m# user hasn't specified vmin, use estimated value\u001b[39;00m\n",
      "File \u001b[1;32m~\\repos\\mbo_utilities\\.venv\\lib\\site-packages\\fastplotlib\\utils\\functions.py:295\u001b[0m, in \u001b[0;36mquick_min_max\u001b[1;34m(data, max_size)\u001b[0m\n\u001b[0;32m    290\u001b[0m     \u001b[38;5;28;01mif\u001b[39;00m \u001b[38;5;28misinstance\u001b[39m(data\u001b[38;5;241m.\u001b[39mmin, (\u001b[38;5;28mfloat\u001b[39m, \u001b[38;5;28mint\u001b[39m, np\u001b[38;5;241m.\u001b[39mnumber)) \u001b[38;5;129;01mand\u001b[39;00m \u001b[38;5;28misinstance\u001b[39m(\n\u001b[0;32m    291\u001b[0m         data\u001b[38;5;241m.\u001b[39mmax, (\u001b[38;5;28mfloat\u001b[39m, \u001b[38;5;28mint\u001b[39m, np\u001b[38;5;241m.\u001b[39mnumber)\n\u001b[0;32m    292\u001b[0m     ):\n\u001b[0;32m    293\u001b[0m         \u001b[38;5;28;01mreturn\u001b[39;00m data\u001b[38;5;241m.\u001b[39mmin, data\u001b[38;5;241m.\u001b[39mmax\n\u001b[1;32m--> 295\u001b[0m data \u001b[38;5;241m=\u001b[39m \u001b[43msubsample_array\u001b[49m\u001b[43m(\u001b[49m\u001b[43mdata\u001b[49m\u001b[43m,\u001b[49m\u001b[43m \u001b[49m\u001b[43mmax_size\u001b[49m\u001b[38;5;241;43m=\u001b[39;49m\u001b[43mmax_size\u001b[49m\u001b[43m)\u001b[49m\n\u001b[0;32m    297\u001b[0m \u001b[38;5;28;01mreturn\u001b[39;00m \u001b[38;5;28mfloat\u001b[39m(np\u001b[38;5;241m.\u001b[39mnanmin(data)), \u001b[38;5;28mfloat\u001b[39m(np\u001b[38;5;241m.\u001b[39mnanmax(data))\n",
      "File \u001b[1;32m~\\repos\\mbo_utilities\\.venv\\lib\\site-packages\\fastplotlib\\utils\\functions.py:479\u001b[0m, in \u001b[0;36msubsample_array\u001b[1;34m(arr, max_size, ignore_dims)\u001b[0m\n\u001b[0;32m    475\u001b[0m         slices[dim] \u001b[38;5;241m=\u001b[39m \u001b[38;5;28mslice\u001b[39m(\u001b[38;5;28;01mNone\u001b[39;00m)\n\u001b[0;32m    477\u001b[0m slices \u001b[38;5;241m=\u001b[39m \u001b[38;5;28mtuple\u001b[39m(slices)\n\u001b[1;32m--> 479\u001b[0m \u001b[38;5;28;01mreturn\u001b[39;00m \u001b[43mnp\u001b[49m\u001b[38;5;241;43m.\u001b[39;49m\u001b[43masarray\u001b[49m\u001b[43m(\u001b[49m\u001b[43marr\u001b[49m\u001b[43m[\u001b[49m\u001b[43mslices\u001b[49m\u001b[43m]\u001b[49m\u001b[43m)\u001b[49m\n",
      "File \u001b[1;32m~\\repos\\mbo_utilities\\.venv\\lib\\site-packages\\dask\\array\\core.py:1748\u001b[0m, in \u001b[0;36mArray.__array__\u001b[1;34m(self, dtype, copy, **kwargs)\u001b[0m\n\u001b[0;32m   1741\u001b[0m \u001b[38;5;28;01mif\u001b[39;00m copy \u001b[38;5;129;01mis\u001b[39;00m \u001b[38;5;28;01mFalse\u001b[39;00m:\n\u001b[0;32m   1742\u001b[0m     warnings\u001b[38;5;241m.\u001b[39mwarn(\n\u001b[0;32m   1743\u001b[0m         \u001b[38;5;124m\"\u001b[39m\u001b[38;5;124mCan\u001b[39m\u001b[38;5;124m'\u001b[39m\u001b[38;5;124mt acquire a memory view of a Dask array. \u001b[39m\u001b[38;5;124m\"\u001b[39m\n\u001b[0;32m   1744\u001b[0m         \u001b[38;5;124m\"\u001b[39m\u001b[38;5;124mThis will raise in the future.\u001b[39m\u001b[38;5;124m\"\u001b[39m,\n\u001b[0;32m   1745\u001b[0m         \u001b[38;5;167;01mFutureWarning\u001b[39;00m,\n\u001b[0;32m   1746\u001b[0m     )\n\u001b[1;32m-> 1748\u001b[0m x \u001b[38;5;241m=\u001b[39m \u001b[38;5;28;43mself\u001b[39;49m\u001b[38;5;241;43m.\u001b[39;49m\u001b[43mcompute\u001b[49m\u001b[43m(\u001b[49m\u001b[43m)\u001b[49m\n\u001b[0;32m   1750\u001b[0m \u001b[38;5;66;03m# Apply requested dtype and convert non-numpy backends to numpy.\u001b[39;00m\n\u001b[0;32m   1751\u001b[0m \u001b[38;5;66;03m# If copy is True, numpy is going to perform its own deep copy\u001b[39;00m\n\u001b[0;32m   1752\u001b[0m \u001b[38;5;66;03m# after this method returns.\u001b[39;00m\n\u001b[0;32m   1753\u001b[0m \u001b[38;5;66;03m# If copy is None, finalize() ensures that the returned object\u001b[39;00m\n\u001b[0;32m   1754\u001b[0m \u001b[38;5;66;03m# does not share memory with an object stored in the graph or on a\u001b[39;00m\n\u001b[0;32m   1755\u001b[0m \u001b[38;5;66;03m# process-local Worker.\u001b[39;00m\n\u001b[0;32m   1756\u001b[0m \u001b[38;5;28;01mreturn\u001b[39;00m np\u001b[38;5;241m.\u001b[39masarray(x, dtype\u001b[38;5;241m=\u001b[39mdtype)\n",
      "File \u001b[1;32m~\\repos\\mbo_utilities\\.venv\\lib\\site-packages\\dask\\base.py:370\u001b[0m, in \u001b[0;36mDaskMethodsMixin.compute\u001b[1;34m(self, **kwargs)\u001b[0m\n\u001b[0;32m    346\u001b[0m \u001b[38;5;28;01mdef\u001b[39;00m\u001b[38;5;250m \u001b[39m\u001b[38;5;21mcompute\u001b[39m(\u001b[38;5;28mself\u001b[39m, \u001b[38;5;241m*\u001b[39m\u001b[38;5;241m*\u001b[39mkwargs):\n\u001b[0;32m    347\u001b[0m \u001b[38;5;250m    \u001b[39m\u001b[38;5;124;03m\"\"\"Compute this dask collection\u001b[39;00m\n\u001b[0;32m    348\u001b[0m \n\u001b[0;32m    349\u001b[0m \u001b[38;5;124;03m    This turns a lazy Dask collection into its in-memory equivalent.\u001b[39;00m\n\u001b[1;32m   (...)\u001b[0m\n\u001b[0;32m    368\u001b[0m \u001b[38;5;124;03m    dask.compute\u001b[39;00m\n\u001b[0;32m    369\u001b[0m \u001b[38;5;124;03m    \"\"\"\u001b[39;00m\n\u001b[1;32m--> 370\u001b[0m     (result,) \u001b[38;5;241m=\u001b[39m compute(\u001b[38;5;28mself\u001b[39m, traverse\u001b[38;5;241m=\u001b[39m\u001b[38;5;28;01mFalse\u001b[39;00m, \u001b[38;5;241m*\u001b[39m\u001b[38;5;241m*\u001b[39mkwargs)\n\u001b[0;32m    371\u001b[0m     \u001b[38;5;28;01mreturn\u001b[39;00m result\n",
      "File \u001b[1;32m~\\repos\\mbo_utilities\\.venv\\lib\\site-packages\\dask\\base.py:656\u001b[0m, in \u001b[0;36mcompute\u001b[1;34m(traverse, optimize_graph, scheduler, get, *args, **kwargs)\u001b[0m\n\u001b[0;32m    653\u001b[0m     postcomputes\u001b[38;5;241m.\u001b[39mappend(x\u001b[38;5;241m.\u001b[39m__dask_postcompute__())\n\u001b[0;32m    655\u001b[0m \u001b[38;5;28;01mwith\u001b[39;00m shorten_traceback():\n\u001b[1;32m--> 656\u001b[0m     results \u001b[38;5;241m=\u001b[39m schedule(dsk, keys, \u001b[38;5;241m*\u001b[39m\u001b[38;5;241m*\u001b[39mkwargs)\n\u001b[0;32m    658\u001b[0m \u001b[38;5;28;01mreturn\u001b[39;00m repack([f(r, \u001b[38;5;241m*\u001b[39ma) \u001b[38;5;28;01mfor\u001b[39;00m r, (f, a) \u001b[38;5;129;01min\u001b[39;00m \u001b[38;5;28mzip\u001b[39m(results, postcomputes)])\n",
      "File \u001b[1;32m~\\repos\\mbo_utilities\\.venv\\lib\\site-packages\\dask\\local.py:455\u001b[0m, in \u001b[0;36mget_async\u001b[1;34m(submit, num_workers, dsk, result, cache, get_id, rerun_exceptions_locally, pack_exception, raise_exception, callbacks, dumps, loads, chunksize, **kwargs)\u001b[0m\n\u001b[0;32m    452\u001b[0m     rerun_exceptions_locally \u001b[38;5;241m=\u001b[39m config\u001b[38;5;241m.\u001b[39mget(\u001b[38;5;124m\"\u001b[39m\u001b[38;5;124mrerun_exceptions_locally\u001b[39m\u001b[38;5;124m\"\u001b[39m, \u001b[38;5;28;01mFalse\u001b[39;00m)\n\u001b[0;32m    454\u001b[0m \u001b[38;5;28;01mif\u001b[39;00m state[\u001b[38;5;124m\"\u001b[39m\u001b[38;5;124mwaiting\u001b[39m\u001b[38;5;124m\"\u001b[39m] \u001b[38;5;129;01mand\u001b[39;00m \u001b[38;5;129;01mnot\u001b[39;00m state[\u001b[38;5;124m\"\u001b[39m\u001b[38;5;124mready\u001b[39m\u001b[38;5;124m\"\u001b[39m]:\n\u001b[1;32m--> 455\u001b[0m     \u001b[38;5;28;01mraise\u001b[39;00m \u001b[38;5;167;01mValueError\u001b[39;00m(\u001b[38;5;124m\"\u001b[39m\u001b[38;5;124mFound no accessible jobs in dask\u001b[39m\u001b[38;5;124m\"\u001b[39m)\n\u001b[0;32m    457\u001b[0m \u001b[38;5;28;01mdef\u001b[39;00m\u001b[38;5;250m \u001b[39m\u001b[38;5;21mfire_tasks\u001b[39m(chunksize):\n\u001b[0;32m    458\u001b[0m \u001b[38;5;250m    \u001b[39m\u001b[38;5;124;03m\"\"\"Fire off a task to the thread pool\"\"\"\u001b[39;00m\n",
      "\u001b[1;31mValueError\u001b[0m: Found no accessible jobs in dask"
     ]
    }
   ],
   "source": [
    "iw = mbo.run_gui(data)"
   ]
  },
  {
   "cell_type": "code",
   "execution_count": 4,
   "id": "09691246-cd25-4add-a35e-b380d4b86b3f",
   "metadata": {
    "execution": {
     "iopub.execute_input": "2025-04-13T19:33:27.985655Z",
     "iopub.status.busy": "2025-04-13T19:33:27.985655Z",
     "iopub.status.idle": "2025-04-13T19:33:27.989655Z",
     "shell.execute_reply": "2025-04-13T19:33:27.989655Z",
     "shell.execute_reply.started": "2025-04-13T19:33:27.985655Z"
    }
   },
   "outputs": [],
   "source": [
    "iw.close()"
   ]
  },
  {
   "cell_type": "code",
   "execution_count": 13,
   "id": "00902b4f-f3f6-49a3-a485-0bfff37828f0",
   "metadata": {
    "execution": {
     "iopub.execute_input": "2025-04-16T00:20:12.295083Z",
     "iopub.status.busy": "2025-04-16T00:20:12.288577Z",
     "iopub.status.idle": "2025-04-16T00:20:12.498054Z",
     "shell.execute_reply": "2025-04-16T00:20:12.498054Z",
     "shell.execute_reply.started": "2025-04-16T00:20:12.295083Z"
    }
   },
   "outputs": [
    {
     "ename": "NameError",
     "evalue": "name 'files' is not defined",
     "output_type": "error",
     "traceback": [
      "\u001b[1;31m---------------------------------------------------------------------------\u001b[0m",
      "\u001b[1;31mNameError\u001b[0m                                 Traceback (most recent call last)",
      "Cell \u001b[1;32mIn[13], line 1\u001b[0m\n\u001b[1;32m----> 1\u001b[0m \u001b[43mfiles\u001b[49m\n",
      "\u001b[1;31mNameError\u001b[0m: name 'files' is not defined"
     ]
    }
   ],
   "source": []
  },
  {
   "cell_type": "code",
   "execution_count": null,
   "id": "244f1d8a-fc66-4b4b-b851-3ed5f2251b6e",
   "metadata": {},
   "outputs": [],
   "source": []
  }
 ],
 "metadata": {
  "kernelspec": {
   "display_name": "Python 3 (ipykernel)",
   "language": "python",
   "name": "python3"
  },
  "language_info": {
   "codemirror_mode": {
    "name": "ipython",
    "version": 3
   },
   "file_extension": ".py",
   "mimetype": "text/x-python",
   "name": "python",
   "nbconvert_exporter": "python",
   "pygments_lexer": "ipython3",
   "version": "3.10.11"
  }
 },
 "nbformat": 4,
 "nbformat_minor": 5
}
