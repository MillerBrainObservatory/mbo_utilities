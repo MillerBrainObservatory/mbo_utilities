{
 "cells": [
  {
   "cell_type": "markdown",
   "id": "e1917e3c-bee7-41df-b2c1-60e9c395c756",
   "metadata": {
    "execution": {
     "iopub.execute_input": "2025-04-30T04:54:25.220556Z",
     "iopub.status.busy": "2025-04-30T04:54:25.220145Z",
     "iopub.status.idle": "2025-04-30T04:54:25.225569Z",
     "shell.execute_reply": "2025-04-30T04:54:25.224530Z",
     "shell.execute_reply.started": "2025-04-30T04:54:25.220522Z"
    }
   },
   "source": [
    "## Save to Suite2p bin"
   ]
  },
  {
   "cell_type": "code",
   "execution_count": 1,
   "id": "fa1176a3-e819-428e-9f93-d3e5be54c386",
   "metadata": {
    "execution": {
     "iopub.execute_input": "2025-04-30T05:22:48.283274Z",
     "iopub.status.busy": "2025-04-30T05:22:48.282908Z",
     "iopub.status.idle": "2025-04-30T05:22:51.954611Z",
     "shell.execute_reply": "2025-04-30T05:22:51.954255Z",
     "shell.execute_reply.started": "2025-04-30T05:22:48.283255Z"
    }
   },
   "outputs": [
    {
     "data": {
      "application/vnd.jupyter.widget-view+json": {
       "model_id": "c236d4b9ce08452d96b84cddff058e7c",
       "version_major": 2,
       "version_minor": 0
      },
      "text/plain": [
       "Image(value=b'\\x89PNG\\r\\n\\x1a\\n\\x00\\x00\\x00\\rIHDR\\x00\\x00\\x01,\\x00\\x00\\x007\\x08\\x06\\x00\\x00\\x00\\xb6\\x1bw\\x99\\x…"
      ]
     },
     "metadata": {},
     "output_type": "display_data"
    },
    {
     "data": {
      "text/html": [
       "<b>Available devices:</b><table><tr><th>Valid</th><th>Device</th><th>Type</th><th>Backend</th><th>Driver</th></tr><tr title=\"This adapter can be used with fastplotlib\"><td>✅ (default) </td><td>Intel(R) Graphics (RPL-P)</td><td>IntegratedGPU</td><td>Vulkan</td><td>Mesa 24.0.3-1pop1~1711635559~22.04~7a9f319</td></tr><tr title=\"CPU rendering support is limited and mainly for testing purposes\"><td>❗ limited</td><td>llvmpipe (LLVM 15.0.7, 256 bits)</td><td>CPU</td><td>Vulkan</td><td>Mesa 24.0.3-1pop1~1711635559~22.04~7a9f319 (LLVM 15.0.7)</td></tr><tr title=\"This adapter cannot be used with fastplotlib\"><td>❌</td><td>Mesa Intel(R) Graphics (RPL-P)</td><td>IntegratedGPU</td><td>OpenGL</td><td>4.6 (Core Profile) Mesa 24.2.8-1~bpo12+1pop1~1744225826~22.04~b077665</td></tr></table>"
      ],
      "text/plain": [
       "<IPython.core.display.HTML object>"
      ]
     },
     "metadata": {},
     "output_type": "display_data"
    },
    {
     "data": {
      "text/plain": [
       "True"
      ]
     },
     "execution_count": 1,
     "metadata": {},
     "output_type": "execute_result"
    }
   ],
   "source": [
    "from pathlib import Path\n",
    "import mbo_utilities as mbo\n",
    "try:\n",
    "    from suite2p.io import BinaryFile\n",
    "    HAS_SUITE2P = True\n",
    "except ImportError:\n",
    "    HAS_SUITE2P = True\n",
    "    BInaryFIle = None\n",
    "HAS_SUITE2P"
   ]
  },
  {
   "cell_type": "code",
   "execution_count": 2,
   "id": "cf388585-4f02-4499-baaf-de1434a1dbc9",
   "metadata": {
    "execution": {
     "iopub.execute_input": "2025-04-30T05:22:51.955388Z",
     "iopub.status.busy": "2025-04-30T05:22:51.955032Z",
     "iopub.status.idle": "2025-04-30T05:22:52.023034Z",
     "shell.execute_reply": "2025-04-30T05:22:52.022469Z",
     "shell.execute_reply.started": "2025-04-30T05:22:51.955371Z"
    }
   },
   "outputs": [],
   "source": [
    "scan = mbo.read_scan(\"/home/flynn/lbm_data/demo/raw/*\")"
   ]
  },
  {
   "cell_type": "code",
   "execution_count": 8,
   "id": "e10592fc-d6d9-476c-b3e2-68e6854dddd5",
   "metadata": {
    "execution": {
     "iopub.execute_input": "2025-04-30T05:29:17.913692Z",
     "iopub.status.busy": "2025-04-30T05:29:17.913446Z",
     "iopub.status.idle": "2025-04-30T05:29:17.918525Z",
     "shell.execute_reply": "2025-04-30T05:29:17.917888Z",
     "shell.execute_reply.started": "2025-04-30T05:29:17.913672Z"
    }
   },
   "outputs": [
    {
     "data": {
      "text/plain": [
       "(1437, 14, 448, 448)"
      ]
     },
     "execution_count": 8,
     "metadata": {},
     "output_type": "execute_result"
    }
   ],
   "source": [
    "scan.shape"
   ]
  },
  {
   "cell_type": "code",
   "execution_count": null,
   "id": "c25a0868-5d53-43ee-bf00-6f2e1c97629c",
   "metadata": {},
   "outputs": [],
   "source": [
    "save_path = Path(\"/home/flynn/lbm_data/demo/s2p\")\n",
    "mbo.save_as(\n",
    "    scan,\n",
    "    save_path,\n",
    "    planes=[0, 6, 13],      # for 14 z-planes, first, middle, last \n",
    "    overwrite=True,\n",
    "    ext = '.bin',\n",
    "    # trim_edge=[2, 2, 2, 2], # post-assembly pixels to trim [left, right, top, bottom]\n",
    "    # append_str=\"_demo\",      # this will be appended to the filename, 'plane_N_demo.ext'\n",
    "    # fix_phase=True          # fix bi-directional scan phase offset\n",
    ")"
   ]
  },
  {
   "cell_type": "code",
   "execution_count": 4,
   "id": "bf251b0d-d7a2-4fad-be1c-7f0ea9e32483",
   "metadata": {
    "execution": {
     "iopub.execute_input": "2025-04-30T05:08:25.436590Z",
     "iopub.status.busy": "2025-04-30T05:08:25.436210Z",
     "iopub.status.idle": "2025-04-30T05:08:25.442797Z",
     "shell.execute_reply": "2025-04-30T05:08:25.442001Z",
     "shell.execute_reply.started": "2025-04-30T05:08:25.436560Z"
    }
   },
   "outputs": [
    {
     "data": {
      "text/plain": [
       "[]"
      ]
     },
     "execution_count": 4,
     "metadata": {},
     "output_type": "execute_result"
    }
   ],
   "source": [
    "mbo.get_files(save_path)"
   ]
  },
  {
   "cell_type": "code",
   "execution_count": 10,
   "id": "7f263334-f2ab-4f80-be48-33e9aee814c8",
   "metadata": {
    "execution": {
     "iopub.execute_input": "2025-04-30T05:30:40.165356Z",
     "iopub.status.busy": "2025-04-30T05:30:40.165159Z",
     "iopub.status.idle": "2025-04-30T05:30:40.170409Z",
     "shell.execute_reply": "2025-04-30T05:30:40.169542Z",
     "shell.execute_reply.started": "2025-04-30T05:30:40.165341Z"
    }
   },
   "outputs": [],
   "source": [
    "import numpy as np\n",
    "\n",
    "# fill these in with your actual values\n",
    "data = np.memmap(\n",
    "    save_path.joinpath(\"plane0\", \"raw_data.bin\"),\n",
    "    dtype=np.int16,\n",
    "    mode=\"r\",\n",
    "    # shape=(scan.shape[0], scan.shape[-1], scan.shape[-1]),\n",
    ")\n"
   ]
  },
  {
   "cell_type": "code",
   "execution_count": 11,
   "id": "48f54200-efa0-41dc-b02f-0d5e61f63fd1",
   "metadata": {
    "execution": {
     "iopub.execute_input": "2025-04-30T05:31:14.787088Z",
     "iopub.status.busy": "2025-04-30T05:31:14.785914Z",
     "iopub.status.idle": "2025-04-30T05:31:14.821662Z",
     "shell.execute_reply": "2025-04-30T05:31:14.820824Z",
     "shell.execute_reply.started": "2025-04-30T05:31:14.787049Z"
    }
   },
   "outputs": [
    {
     "ename": "ValueError",
     "evalue": "cannot reshape array of size 10235904 into shape (1437,448,448)",
     "output_type": "error",
     "traceback": [
      "\u001b[31m---------------------------------------------------------------------------\u001b[39m",
      "\u001b[31mValueError\u001b[39m                                Traceback (most recent call last)",
      "\u001b[36mCell\u001b[39m\u001b[36m \u001b[39m\u001b[32mIn[11]\u001b[39m\u001b[32m, line 1\u001b[39m\n\u001b[32m----> \u001b[39m\u001b[32m1\u001b[39m data_reshaped = \u001b[43mdata\u001b[49m\u001b[43m.\u001b[49m\u001b[43mreshape\u001b[49m\u001b[43m(\u001b[49m\u001b[43mn_frames\u001b[49m\u001b[43m,\u001b[49m\u001b[43m \u001b[49m\u001b[43mLy\u001b[49m\u001b[43m,\u001b[49m\u001b[43m \u001b[49m\u001b[43mLx\u001b[49m\u001b[43m)\u001b[49m\n\u001b[32m      2\u001b[39m data_reshaped\n",
      "\u001b[31mValueError\u001b[39m: cannot reshape array of size 10235904 into shape (1437,448,448)"
     ]
    }
   ],
   "source": [
    "data_reshaped = data.reshape(n_frames, Ly, Lx)\n",
    "data_reshaped"
   ]
  },
  {
   "cell_type": "code",
   "execution_count": 6,
   "id": "dda7f819-ea94-4f07-97e7-783951cc14bc",
   "metadata": {
    "execution": {
     "iopub.execute_input": "2025-04-30T05:27:17.582370Z",
     "iopub.status.busy": "2025-04-30T05:27:17.582002Z",
     "iopub.status.idle": "2025-04-30T05:27:17.589770Z",
     "shell.execute_reply": "2025-04-30T05:27:17.588909Z",
     "shell.execute_reply.started": "2025-04-30T05:27:17.582341Z"
    }
   },
   "outputs": [
    {
     "data": {
      "text/plain": [
       "(20471808,)"
      ]
     },
     "execution_count": 6,
     "metadata": {},
     "output_type": "execute_result"
    }
   ],
   "source": [
    "import numpy as np\n",
    "data = np.memmap(save_path.joinpath(\"plane0\", \"raw_data.bin\")"
   ]
  },
  {
   "cell_type": "code",
   "execution_count": null,
   "id": "eb6dd0f5-e7cb-48d2-ae0f-72f6d4caef51",
   "metadata": {},
   "outputs": [],
   "source": [
    "fpl.ImageWidget("
   ]
  }
 ],
 "metadata": {
  "kernelspec": {
   "display_name": "Python 3 (ipykernel)",
   "language": "python",
   "name": "python3"
  },
  "language_info": {
   "codemirror_mode": {
    "name": "ipython",
    "version": 3
   },
   "file_extension": ".py",
   "mimetype": "text/x-python",
   "name": "python",
   "nbconvert_exporter": "python",
   "pygments_lexer": "ipython3",
   "version": "3.11.12"
  }
 },
 "nbformat": 4,
 "nbformat_minor": 5
}
