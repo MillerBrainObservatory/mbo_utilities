{
 "cells": [
  {
   "cell_type": "markdown",
   "id": "2787779b-bc02-46a0-bab3-8db2696901e6",
   "metadata": {},
   "source": [
    "``` bash\n",
    "# in terminal\n",
    "conda env create -n gui --file=env.yml\n",
    "conda activate gui\n",
    "```"
   ]
  },
  {
   "cell_type": "code",
   "execution_count": 2,
   "id": "6801bc01-35b0-4cf5-9abe-f544c2c5d95d",
   "metadata": {
    "execution": {
     "iopub.execute_input": "2025-02-15T01:50:13.665623Z",
     "iopub.status.busy": "2025-02-15T01:50:13.665140Z",
     "iopub.status.idle": "2025-02-15T01:50:13.670174Z",
     "shell.execute_reply": "2025-02-15T01:50:13.669421Z",
     "shell.execute_reply.started": "2025-02-15T01:50:13.665591Z"
    }
   },
   "outputs": [],
   "source": [
    "from pathlib import Path\n",
    "import numpy as np\n",
    "import soundfile as sf\n",
    "from scipy.signal import spectrogram\n",
    "from decord import VideoReader, cpu\n",
    "import fastplotlib as fpl\n",
    "from ipywidgets import VBox, HBox\n",
    "import threading\n",
    "import time\n",
    "import cv2"
   ]
  },
  {
   "cell_type": "code",
   "execution_count": 3,
   "id": "2ce22108-d728-41aa-acee-34b2c6ed3f43",
   "metadata": {
    "execution": {
     "iopub.execute_input": "2025-02-15T01:50:16.767184Z",
     "iopub.status.busy": "2025-02-15T01:50:16.765398Z",
     "iopub.status.idle": "2025-02-15T01:50:17.039828Z",
     "shell.execute_reply": "2025-02-15T01:50:17.039054Z",
     "shell.execute_reply.started": "2025-02-15T01:50:16.767082Z"
    }
   },
   "outputs": [
    {
     "data": {
      "text/plain": [
       "<decord.video_reader.VideoReader at 0x7d34e82d2620>"
      ]
     },
     "execution_count": 3,
     "metadata": {},
     "output_type": "execute_result"
    }
   ],
   "source": [
    "video_path = Path(\"./video_center_19.mp4\").resolve()\n",
    "audio_path = Path(\"./channel_0_19.wav\").resolve()\n",
    "\n",
    "video_reader = VideoReader(str(video_path), ctx=cpu(0))\n",
    "video_reader"
   ]
  },
  {
   "cell_type": "markdown",
   "id": "03524673-f35e-4b9b-b885-18168846feb8",
   "metadata": {},
   "source": [
    "#### any more than 500 frames fries my computer"
   ]
  },
  {
   "cell_type": "code",
   "execution_count": 4,
   "id": "250cbb9d-c88f-4640-a89a-06f638ae159d",
   "metadata": {
    "execution": {
     "iopub.execute_input": "2025-02-15T01:50:18.974030Z",
     "iopub.status.busy": "2025-02-15T01:50:18.973135Z",
     "iopub.status.idle": "2025-02-15T01:50:22.451575Z",
     "shell.execute_reply": "2025-02-15T01:50:22.450431Z",
     "shell.execute_reply.started": "2025-02-15T01:50:18.973934Z"
    }
   },
   "outputs": [],
   "source": [
    "movie_npy = video_reader[:500].asnumpy()\n",
    "first_frame = video_reader[0].asnumpy()"
   ]
  },
  {
   "cell_type": "code",
   "execution_count": 8,
   "id": "d5160e7a-8836-423b-8fee-9c424e231567",
   "metadata": {
    "execution": {
     "iopub.execute_input": "2025-02-15T01:57:31.149835Z",
     "iopub.status.busy": "2025-02-15T01:57:31.148560Z",
     "iopub.status.idle": "2025-02-15T01:57:31.217638Z",
     "shell.execute_reply": "2025-02-15T01:57:31.216041Z",
     "shell.execute_reply.started": "2025-02-15T01:57:31.149798Z"
    }
   },
   "outputs": [],
   "source": [
    "## Load audio ##\n",
    "# Load the audio file using soundfile.\n",
    "audio_data, fps = sf.read(audio_path, dtype='float32')"
   ]
  },
  {
   "cell_type": "code",
   "execution_count": 9,
   "id": "cc16502f-91f1-4e2c-b9f8-43a1bab00828",
   "metadata": {
    "execution": {
     "iopub.execute_input": "2025-02-15T01:57:32.977635Z",
     "iopub.status.busy": "2025-02-15T01:57:32.976632Z",
     "iopub.status.idle": "2025-02-15T01:57:32.983793Z",
     "shell.execute_reply": "2025-02-15T01:57:32.982106Z",
     "shell.execute_reply.started": "2025-02-15T01:57:32.977568Z"
    }
   },
   "outputs": [],
   "source": [
    "global fps # for image widget, probably dont need this"
   ]
  },
  {
   "cell_type": "code",
   "execution_count": 12,
   "id": "3505ce32-7cca-430c-8cca-359b91fed0d3",
   "metadata": {
    "execution": {
     "iopub.execute_input": "2025-02-15T01:57:49.263189Z",
     "iopub.status.busy": "2025-02-15T01:57:49.262107Z",
     "iopub.status.idle": "2025-02-15T01:57:49.274721Z",
     "shell.execute_reply": "2025-02-15T01:57:49.271632Z",
     "shell.execute_reply.started": "2025-02-15T01:57:49.263117Z"
    }
   },
   "outputs": [],
   "source": [
    "def make_specgram(audio, fps):\n",
    "    f, t, spec = spectrogram(audio, fs=fps, nfft=512, nperseg=512, noverlap=256, return_onesided=True)\n",
    "    # Remove the 0-frequency bin and flip the frequency axis so that high frequencies are at the top.\n",
    "    f = f[1:][::-1]\n",
    "    spec = np.flip(spec[1:], axis=0)\n",
    "    spec = np.log(np.abs(spec) + 1e-12).astype(np.float32)\n",
    "    return t, f, spec"
   ]
  },
  {
   "cell_type": "code",
   "execution_count": 13,
   "id": "6bf875e0-8aa0-4ad1-95f3-13839c6c3b6e",
   "metadata": {
    "execution": {
     "iopub.execute_input": "2025-02-15T01:57:50.051852Z",
     "iopub.status.busy": "2025-02-15T01:57:50.050693Z",
     "iopub.status.idle": "2025-02-15T01:57:51.423953Z",
     "shell.execute_reply": "2025-02-15T01:57:51.422862Z",
     "shell.execute_reply.started": "2025-02-15T01:57:50.051785Z"
    }
   },
   "outputs": [
    {
     "name": "stdout",
     "output_type": "stream",
     "text": [
      "(175754,)\n",
      " - Spectrogram computed with shape: (256, 175754)\n",
      " - First video frame shape: (1200, 1600, 3)\n",
      "video frames: 10799\n",
      "(500, 1200, 1600, 3)\n"
     ]
    }
   ],
   "source": [
    "# Compute the spectrogram from audio file.\n",
    "t_spec, f_spec, spec_data = make_specgram(audio_data, fps)\n",
    "print(t_spec.shape)\n",
    "print(\" - Spectrogram computed with shape:\", spec_data.shape)\n",
    "print(\" - First video frame shape:\", first_frame.shape)\n",
    "print('video frames:', len(video_reader))\n",
    "print(movie_npy.shape)"
   ]
  },
  {
   "cell_type": "code",
   "execution_count": 16,
   "id": "97c55f9a-6c30-4899-8a9f-31c982ff2d87",
   "metadata": {
    "execution": {
     "iopub.execute_input": "2025-02-15T02:01:56.670431Z",
     "iopub.status.busy": "2025-02-15T02:01:56.668906Z",
     "iopub.status.idle": "2025-02-15T02:01:56.678090Z",
     "shell.execute_reply": "2025-02-15T02:01:56.676853Z",
     "shell.execute_reply.started": "2025-02-15T02:01:56.670377Z"
    }
   },
   "outputs": [
    {
     "data": {
      "text/plain": [
       "(256, 488)"
      ]
     },
     "execution_count": 16,
     "metadata": {},
     "output_type": "execute_result"
    }
   ],
   "source": [
    "initial_window = np.zeros((256, 488))\n",
    "initial_window.shape"
   ]
  },
  {
   "cell_type": "code",
   "execution_count": 21,
   "id": "c20e2c07-239c-4b0c-83e6-e275240563e2",
   "metadata": {
    "execution": {
     "iopub.execute_input": "2025-02-15T02:05:42.037136Z",
     "iopub.status.busy": "2025-02-15T02:05:42.036723Z",
     "iopub.status.idle": "2025-02-15T02:05:42.044823Z",
     "shell.execute_reply": "2025-02-15T02:05:42.042824Z",
     "shell.execute_reply.started": "2025-02-15T02:05:42.037109Z"
    }
   },
   "outputs": [
    {
     "data": {
      "text/plain": [
       "(256, 488)"
      ]
     },
     "execution_count": 21,
     "metadata": {},
     "output_type": "execute_result"
    }
   ],
   "source": [
    "initial_window = spec_data[:, :488]\n",
    "initial_window.shape"
   ]
  },
  {
   "cell_type": "code",
   "execution_count": 29,
   "id": "42988570-85ab-4f2d-b6f8-df5c2346b4fd",
   "metadata": {
    "execution": {
     "iopub.execute_input": "2025-02-15T02:08:42.040496Z",
     "iopub.status.busy": "2025-02-15T02:08:42.039371Z",
     "iopub.status.idle": "2025-02-15T02:08:42.599184Z",
     "shell.execute_reply": "2025-02-15T02:08:42.598400Z",
     "shell.execute_reply.started": "2025-02-15T02:08:42.040429Z"
    }
   },
   "outputs": [
    {
     "data": {
      "application/vnd.jupyter.widget-view+json": {
       "model_id": "c69c1e7973884a0a815b7ff096a1d6d9",
       "version_major": 2,
       "version_minor": 0
      },
      "text/plain": [
       "RFBOutputContext()"
      ]
     },
     "metadata": {},
     "output_type": "display_data"
    },
    {
     "data": {
      "application/vnd.jupyter.widget-view+json": {
       "model_id": "6184d90b40ad4996a9f604ce80d1254a",
       "version_major": 2,
       "version_minor": 0
      },
      "text/plain": [
       "RFBOutputContext()"
      ]
     },
     "metadata": {},
     "output_type": "display_data"
    },
    {
     "name": "stderr",
     "output_type": "stream",
     "text": [
      "/home/flynn/miniforge3/envs/fpl_gily/lib/python3.10/site-packages/fastplotlib/graphics/_features/_base.py:18: UserWarning: casting float64 array to float32\n",
      "  warn(f\"casting {array.dtype} array to float32\")\n"
     ]
    },
    {
     "data": {
      "application/vnd.jupyter.widget-view+json": {
       "model_id": "33391e4d7d28410dad620cfae34698ce",
       "version_major": 2,
       "version_minor": 0
      },
      "text/plain": [
       "VBox(children=(JupyterRenderCanvas(css_height='300.0px', css_width='700.0px'), JupyterRenderCanvas(css_height=…"
      ]
     },
     "execution_count": 29,
     "metadata": {},
     "output_type": "execute_result"
    }
   ],
   "source": [
    "spectrogram_plot = fpl.Figure(size=(700, 300))\n",
    "spectrogram_plot[0,0].toolbar = False\n",
    "\n",
    "spectrogram_plot[0, 0].add_image(data=initial_window, name=\"spectrogram\")\n",
    "select = spectrogram_plot[0,0].graphics[0].add_linear_selector()\n",
    "    \n",
    "video_widget = fpl.ImageWidget([movie_npy], rgb=True, figure_kwargs={\"size\": (700, 360), \"shape\": (1, 1)})\n",
    "video_widget.add_event_handler(get_spect_window, \"current_index\")\n",
    "video_widget.figure[0,0].toolbar=False\n",
    "\n",
    "#video_widget.show()\n",
    "VBox([spectrogram_plot.show(maintain_aspect = False),video_widget.show()])"
   ]
  },
  {
   "cell_type": "code",
   "execution_count": 28,
   "id": "f5543525-542f-4438-a995-4681e2ea2f63",
   "metadata": {
    "execution": {
     "iopub.execute_input": "2025-02-15T02:08:31.970135Z",
     "iopub.status.busy": "2025-02-15T02:08:31.968813Z",
     "iopub.status.idle": "2025-02-15T02:08:31.996568Z",
     "shell.execute_reply": "2025-02-15T02:08:31.994321Z",
     "shell.execute_reply.started": "2025-02-15T02:08:31.970065Z"
    }
   },
   "outputs": [
    {
     "data": {
      "text/plain": [
       "LinearSelector @ 0x7d33f95d5f00"
      ]
     },
     "execution_count": 28,
     "metadata": {},
     "output_type": "execute_result"
    }
   ],
   "source": []
  },
  {
   "cell_type": "code",
   "execution_count": 19,
   "id": "f658e083-3f82-4d77-8723-33dba51ac5db",
   "metadata": {
    "execution": {
     "iopub.execute_input": "2025-02-15T02:02:14.468751Z",
     "iopub.status.busy": "2025-02-15T02:02:14.468127Z",
     "iopub.status.idle": "2025-02-15T02:02:14.478476Z",
     "shell.execute_reply": "2025-02-15T02:02:14.477344Z",
     "shell.execute_reply.started": "2025-02-15T02:02:14.468708Z"
    }
   },
   "outputs": [],
   "source": [
    "def get_spect_window(ev):\n",
    "    t_frame = ev['t'] \n",
    "    t_sec = t_frame / 30 \n",
    "    \n",
    "    window_duration = 1.0  \n",
    "    dt = t_spec[1] - t_spec[0]  \n",
    "    window_size = int(window_duration / dt) \n",
    "\n",
    "    center_idx = np.searchsorted(t_spec, t_sec)  \n",
    "    half_window=window_size//2\n",
    "\n",
    "    start_idx = max(0, center_idx - half_window)\n",
    "    end_idx = min(len(t_spec), center_idx + half_window)\n",
    "\n",
    "    print(f\"Frame: {t_frame}, Time (sec): {t_sec}, Index: {center_idx}, Window: ({start_idx}, {end_idx})\") \n",
    "\n",
    "    spectrogram_slice = spec_data[:, start_idx:end_idx]\n",
    "\n",
    "    # Pad if necessary to maintain fixed size\n",
    "    if spectrogram_slice.shape[1] < window_size:\n",
    "        pad_width = window_size - spectrogram_slice.shape[1]\n",
    "        spectrogram_slice = np.pad(\n",
    "            spectrogram_slice, ((0, 0), (0, pad_width)), mode=\"constant\"\n",
    "        )\n",
    "\n",
    "    spectrogram_plot[0, 0].graphics[0].data = spectrogram_slice"
   ]
  },
  {
   "cell_type": "code",
   "execution_count": 132,
   "id": "088a1f3b-9889-4ca7-bdfc-20df4255145b",
   "metadata": {
    "execution": {
     "iopub.execute_input": "2025-02-15T01:26:38.401697Z",
     "iopub.status.busy": "2025-02-15T01:26:38.401045Z",
     "iopub.status.idle": "2025-02-15T01:26:38.407146Z",
     "shell.execute_reply": "2025-02-15T01:26:38.406222Z",
     "shell.execute_reply.started": "2025-02-15T01:26:38.401654Z"
    }
   },
   "outputs": [],
   "source": [
    "spectrogram_plot[0, 0].graphics[0].reset_vmin_vmax()"
   ]
  },
  {
   "cell_type": "code",
   "execution_count": 19,
   "id": "b96c8b45-fe5f-45fd-b091-d0f9391f9493",
   "metadata": {},
   "outputs": [
    {
     "name": "stderr",
     "output_type": "stream",
     "text": [
      "Exception in thread Thread-11 (update_frame):\n",
      "Traceback (most recent call last):\n",
      "  File \u001b[35m\"C:\\Users\\gg3065\\AppData\\Local\\miniforge3\\envs\\fastplotlib-env\\Lib\\threading.py\"\u001b[0m, line \u001b[35m1041\u001b[0m, in \u001b[35m_bootstrap_inner\u001b[0m\n",
      "    \u001b[31mself.run\u001b[0m\u001b[1;31m()\u001b[0m\n",
      "    \u001b[31m~~~~~~~~\u001b[0m\u001b[1;31m^^\u001b[0m\n",
      "  File \u001b[35m\"C:\\Users\\gg3065\\AppData\\Local\\miniforge3\\envs\\fastplotlib-env\\Lib\\site-packages\\ipykernel\\ipkernel.py\"\u001b[0m, line \u001b[35m766\u001b[0m, in \u001b[35mrun_closure\u001b[0m\n",
      "    \u001b[31m_threading_Thread_run\u001b[0m\u001b[1;31m(self)\u001b[0m\n",
      "    \u001b[31m~~~~~~~~~~~~~~~~~~~~~\u001b[0m\u001b[1;31m^^^^^^\u001b[0m\n",
      "  File \u001b[35m\"C:\\Users\\gg3065\\AppData\\Local\\miniforge3\\envs\\fastplotlib-env\\Lib\\threading.py\"\u001b[0m, line \u001b[35m992\u001b[0m, in \u001b[35mrun\u001b[0m\n",
      "    \u001b[31mself._target\u001b[0m\u001b[1;31m(*self._args, **self._kwargs)\u001b[0m\n",
      "    \u001b[31m~~~~~~~~~~~~\u001b[0m\u001b[1;31m^^^^^^^^^^^^^^^^^^^^^^^^^^^^^\u001b[0m\n",
      "  File \u001b[35m\"C:\\Users\\gg3065\\AppData\\Local\\Temp\\ipykernel_37228\\1635516864.py\"\u001b[0m, line \u001b[35m39\u001b[0m, in \u001b[35mupdate_frame\u001b[0m\n",
      "    \u001b[1;31mvideo_widget.data\u001b[0m = movie_npy[frame_index]\n",
      "    \u001b[1;31m^^^^^^^^^^^^^^^^^\u001b[0m\n",
      "\u001b[1;35mAttributeError\u001b[0m: \u001b[35mproperty 'data' of 'ImageWidget' object has no setter\u001b[0m\n"
     ]
    }
   ],
   "source": [
    "# --- Parameters ---\n",
    "window_duration = 5.0  # Duration (in seconds) of the moving spectrogram window\n",
    "fixed_spec_width = 320  # Fixed width (in pixels) for the displayed spectrogram window\n",
    "@video_widget.add_event_handler('current_index')\n",
    "def get_moving_window(t_ms, t_spec):\n",
    "    \"\"\"\n",
    "    Given the full spectrogram (spec_data) and its time bins (t_spec),\n",
    "    extract a window (slice) of duration 'window_duration' seconds centered \n",
    "    around time t_ms (in milliseconds). Returns a slice of spec_data.\n",
    "    \"\"\"\n",
    "    t_sec = t_ms / 1000.0\n",
    "    if t_sec < window_duration/2:\n",
    "        start_idx = 0\n",
    "        end_idx = np.searchsorted(t_spec, window_duration)\n",
    "    elif t_sec > t_spec[-1] - window_duration/2:\n",
    "        diff = t_spec[1] - t_spec[0]\n",
    "        end_idx = len(t_spec)\n",
    "        start_idx = max(0, end_idx - int(window_duration / diff))\n",
    "    else:\n",
    "        start_idx = np.searchsorted(t_spec, t_sec - window_duration/2)\n",
    "        end_idx = np.searchsorted(t_spec, t_sec + window_duration/2)\n",
    "    return spec_data[:, start_idx:end_idx]\n",
    "\n",
    "def update_frame():\n",
    "    start_time = time.time()\n",
    "    while True:\n",
    "        elapsed = time.time() - start_time\n",
    "        if elapsed > total_duration:\n",
    "            break\n",
    "        frame_index = int(elapsed * fps)\n",
    "        if frame_index >= movie_npy.shape[0]:\n",
    "            break\n",
    "        \n",
    "        # Update the video widget with the current frame.\n",
    "        video_widget.data = movie_npy[frame_index]\n",
    "        \n",
    "        # For the spectrogram, compute current time in ms.\n",
    "        current_ms = elapsed * 1000\n",
    "        window = get_moving_window(current_ms, spec_data, t_spec, window_duration)\n",
    "        # Resize the extracted window horizontally to have a fixed width.\n",
    "        window_resized = cv2.resize(window, (fixed_spec_width, window.shape[0]))\n",
    "        # Update the spectrogram image data.\n",
    "        img.data = window_resized\n",
    "        \n",
    "        # Determine time boundaries for the current window.\n",
    "        if elapsed < window_duration/2:\n",
    "            window_start = 0\n",
    "            window_end = window_duration\n",
    "        elif elapsed > t_spec[-1] - window_duration/2:\n",
    "            window_start = t_spec[-1] - window_duration\n",
    "            window_end = t_spec[-1]\n",
    "        else:\n",
    "            window_start = elapsed - window_duration/2\n",
    "            window_end = elapsed + window_duration/2\n",
    "        \n",
    "        # Compute the relative position of the current time within the window,\n",
    "        # then convert to pixel position.\n",
    "        rel_pos = (elapsed - window_start) / window_duration\n",
    "        x_pos = rel_pos * fixed_spec_width\n",
    "        \n",
    "        # Update the vertical line indicator (if you added one).\n",
    "        # Assuming spec_line is the line object added to spectrogram_plot.\n",
    "        #spec_line.data = ([x_pos, x_pos], [0, window_resized.shape[0]])\n",
    "        \n",
    "        time.sleep(1.0 / fps)\n",
    "\n",
    "# --- Start the update loop in a separate thread so it runs in the background ---\n",
    "#VBox([video_widget.show(), spectrogram_plot1.show])\n",
    "\n",
    "threading.Thread(target=update_frame, daemon=True).start()\n"
   ]
  },
  {
   "cell_type": "code",
   "execution_count": null,
   "id": "2ddfc6c9-34c3-40c5-8da5-5230749dd7eb",
   "metadata": {},
   "outputs": [],
   "source": [
    "# Add a linear selector for interactive exploration.\n",
    "#img.add_linear_selector()\n",
    "#@video_widget.add_event_handler(\"current_index\")\n",
    "# def update_spectrogram(event):\n",
    "#     window_width_sec = 5;\n",
    "#     curr_frame = event[\"t\"]\n",
    "#     curr_sec = curr_frame/fps\n",
    "\n",
    "#     # start and end of window\n",
    "#     time_idx_start = np.argmin(np.abs(t_spec - curr_sec-window_width_sec/2))\n",
    "#     time_idx_end = np.argmin(np.abs(t_spec - curr_sec+window_width_sec/2))\n",
    "#     time_idx = np.argmin(np.abs(t_spec - curr_sec)) # do we need this?\n",
    "    \n",
    "#     test = spec_data[:, time_idx_start:time_idx_end]\n",
    "#     spectrogram_plot.figure[0,0].data = test"
   ]
  }
 ],
 "metadata": {
  "kernelspec": {
   "display_name": "Python 3 (ipykernel)",
   "language": "python",
   "name": "python3"
  },
  "language_info": {
   "codemirror_mode": {
    "name": "ipython",
    "version": 3
   },
   "file_extension": ".py",
   "mimetype": "text/x-python",
   "name": "python",
   "nbconvert_exporter": "python",
   "pygments_lexer": "ipython3",
   "version": "3.10.16"
  }
 },
 "nbformat": 4,
 "nbformat_minor": 5
}
