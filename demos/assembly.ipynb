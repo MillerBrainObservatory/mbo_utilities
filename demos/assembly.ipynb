{
 "cells": [
  {
   "cell_type": "markdown",
   "metadata": {},
   "source": [
    "# Image Assembly\n",
    "\n",
    "Converting raw scanimage-tiff files into fused z-planes."
   ]
  },
  {
   "cell_type": "markdown",
   "metadata": {},
   "source": [
    "## Quickstart\n",
    "\n",
    "All you need is a path to your .tiffs and a place to save them.\n",
    "``` python\n",
    "import mbo_utilities as mbo\n",
    "``` python\n",
    "scan = mbo.read_scan(r\"path/to/tiffs*\") # glob or list of filepaths (see mbo.get_files)\n",
    "mbo.save_as(scan, \"/path/to/save\") # defaults to saving plane_01.tiff, plane_02.tiff ... \n",
    "```\n"
   ]
  },
  {
   "cell_type": "code",
   "execution_count": 1,
   "metadata": {
    "ExecuteTime": {
     "end_time": "2024-11-29T23:31:57.374426Z",
     "start_time": "2024-11-29T23:31:53.742252Z"
    },
    "execution": {
     "iopub.execute_input": "2025-04-28T01:54:17.993705Z",
     "iopub.status.busy": "2025-04-28T01:54:17.993705Z",
     "iopub.status.idle": "2025-04-28T01:54:19.522301Z",
     "shell.execute_reply": "2025-04-28T01:54:19.522301Z",
     "shell.execute_reply.started": "2025-04-28T01:54:17.993705Z"
    }
   },
   "outputs": [
    {
     "data": {
      "application/vnd.jupyter.widget-view+json": {
       "model_id": "96de7ef816ce4bfe983c27d7577f4206",
       "version_major": 2,
       "version_minor": 0
      },
      "text/plain": [
       "Image(value=b'\\x89PNG\\r\\n\\x1a\\n\\x00\\x00\\x00\\rIHDR\\x00\\x00\\x01,\\x00\\x00\\x007\\x08\\x06\\x00\\x00\\x00\\xb6\\x1bw\\x99\\x…"
      ]
     },
     "metadata": {},
     "output_type": "display_data"
    },
    {
     "data": {
      "text/html": [
       "<b>Available devices:</b><table><tr><th>Valid</th><th>Device</th><th>Type</th><th>Backend</th><th>Driver</th></tr><tr title=\"This adapter can be used with fastplotlib\"><td>✅ (default) </td><td>NVIDIA RTX A4000</td><td>DiscreteGPU</td><td>Vulkan</td><td>560.94</td></tr><tr title=\"This adapter can be used with fastplotlib\"><td>✅</td><td>NVIDIA RTX A4000</td><td>DiscreteGPU</td><td>D3D12</td><td></td></tr><tr title=\"This adapter can be used with fastplotlib\"><td>✅</td><td>NVIDIA RTX A4000</td><td>DiscreteGPU</td><td>D3D12</td><td></td></tr><tr title=\"CPU rendering support is limited and mainly for testing purposes\"><td>❗ limited</td><td>Microsoft Basic Render Driver</td><td>CPU</td><td>D3D12</td><td></td></tr><tr title=\"This adapter cannot be used with fastplotlib\"><td>❌</td><td>NVIDIA RTX A4000/PCIe/SSE2</td><td>Unknown</td><td>OpenGL</td><td>4.6.0 NVIDIA 560.94</td></tr></table>"
      ],
      "text/plain": [
       "<IPython.core.display.HTML object>"
      ]
     },
     "metadata": {},
     "output_type": "display_data"
    }
   ],
   "source": [
    "from pathlib import Path\n",
    "import numpy as np\n",
    "\n",
    "import fastplotlib as fpl\n",
    "import mbo_utilities as mbo"
   ]
  },
  {
   "cell_type": "markdown",
   "metadata": {},
   "source": [
    "## Input data: Path to your raw .tiff file(s)\n",
    "\n",
    "Make sure your `data_path` contains only `.tiff` files for this imaging session. If there are other `.tiff` files, such as from another session or a processed file for this session, those files will be included in the scan and lead to errors."
   ]
  },
  {
   "cell_type": "markdown",
   "metadata": {},
   "source": [
    "## Initialize a scanreader object\n",
    "\n",
    "Pass a list of files, or a wildcard string (e.g. \"/path/to/files/*\"matches all files in that directory) to {func}`mbo_utilities.read_scan`.\n",
    "\n",
    "``` {tip}\n",
    "mbo.get_files() is useful to easily get all files of the same filetype\n",
    "```"
   ]
  },
  {
   "cell_type": "code",
   "execution_count": 2,
   "metadata": {
    "execution": {
     "iopub.execute_input": "2025-04-28T01:54:20.431506Z",
     "iopub.status.busy": "2025-04-28T01:54:20.431506Z",
     "iopub.status.idle": "2025-04-28T01:54:20.440028Z",
     "shell.execute_reply": "2025-04-28T01:54:20.440028Z",
     "shell.execute_reply.started": "2025-04-28T01:54:20.431506Z"
    }
   },
   "outputs": [
    {
     "data": {
      "text/plain": [
       "('D:\\\\demo\\\\raw_data\\\\demo_lbm_raw_00000.tif', 11)"
      ]
     },
     "execution_count": 2,
     "metadata": {},
     "output_type": "execute_result"
    }
   ],
   "source": [
    "files = mbo.get_files(\"D://demo//raw_data\", 'tif')\n",
    "files[0], len(files)"
   ]
  },
  {
   "cell_type": "code",
   "execution_count": 3,
   "metadata": {
    "execution": {
     "iopub.execute_input": "2025-04-28T01:54:22.116575Z",
     "iopub.status.busy": "2025-04-28T01:54:22.116575Z",
     "iopub.status.idle": "2025-04-28T01:54:22.248050Z",
     "shell.execute_reply": "2025-04-28T01:54:22.247930Z",
     "shell.execute_reply.started": "2025-04-28T01:54:22.116575Z"
    }
   },
   "outputs": [
    {
     "name": "stdout",
     "output_type": "stream",
     "text": [
      "Lazy Array shape: (1437, 14, 448, 448)\n",
      "Planes: 14\n",
      "Frames: 1437\n",
      "ROIs: 2\n",
      "frame-rate: 17.06701142272251\n"
     ]
    }
   ],
   "source": [
    "scan = mbo.read_scan(files)\n",
    "print(f\"Lazy Array shape: {scan.shape}\")  # T, Z, X, Y\n",
    "print(f'Planes: {scan.num_channels}')\n",
    "print(f'Frames: {scan.num_frames}')\n",
    "print(f'ROIs: {scan.num_rois}')\n",
    "print(f'frame-rate: {scan.fps}')"
   ]
  },
  {
   "cell_type": "markdown",
   "metadata": {},
   "source": [
    "\n",
    "This will display a widget allowing you to scroll in time and in z."
   ]
  },
  {
   "cell_type": "markdown",
   "metadata": {
    "execution": {
     "iopub.execute_input": "2025-04-28T01:29:19.323133Z",
     "iopub.status.busy": "2025-04-28T01:29:19.323133Z",
     "iopub.status.idle": "2025-04-28T01:29:19.330669Z",
     "shell.execute_reply": "2025-04-28T01:29:19.330158Z",
     "shell.execute_reply.started": "2025-04-28T01:29:19.323133Z"
    }
   },
   "source": [
    "numpy like indexing:\n",
    "``` python\n",
    "frame = scan[0, 0, :, :] # first frame, plane1\n",
    "zplane7 = scan[:, 6, :, :] # z-plane 6\n",
    "zplane7 = scan[:, 6, :, :] # z-plane 6\n",
    "```"
   ]
  },
  {
   "cell_type": "code",
   "execution_count": 13,
   "metadata": {
    "ExecuteTime": {
     "end_time": "2024-11-29T23:36:15.239661Z",
     "start_time": "2024-11-29T23:36:15.186317Z"
    },
    "execution": {
     "iopub.execute_input": "2025-04-28T02:07:25.112249Z",
     "iopub.status.busy": "2025-04-28T02:07:25.112249Z",
     "iopub.status.idle": "2025-04-28T02:07:37.757389Z",
     "shell.execute_reply": "2025-04-28T02:07:37.756800Z",
     "shell.execute_reply.started": "2025-04-28T02:07:25.112249Z"
    }
   },
   "outputs": [
    {
     "name": "stdout",
     "output_type": "stream",
     "text": [
      "Data provided and set.\n",
      "Is running jupyter\n"
     ]
    },
    {
     "data": {
      "application/vnd.jupyter.widget-view+json": {
       "model_id": "e38e8dddd0494f27bd36006799b98b57",
       "version_major": 2,
       "version_minor": 0
      },
      "text/plain": [
       "RFBOutputContext()"
      ]
     },
     "metadata": {},
     "output_type": "display_data"
    },
    {
     "data": {
      "application/vnd.jupyter.widget-view+json": {
       "model_id": "3bbf66cc3eab4d55b40b351ab0fb29d6",
       "version_major": 2,
       "version_minor": 0
      },
      "text/html": [
       "<div class='snapshot-3bbf66cc3eab4d55b40b351ab0fb29d6' style='position:relative;'><img src='data:image/png;base64,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' style='width:500.0px;height:300.0px;' /><div style='position: absolute; top:0; left:0; padding:1px 3px; background: #777; color:#fff; font-size: 90%; font-family:sans-serif; '>snapshot</div></div>"
      ],
      "text/plain": [
       "JupyterRenderCanvas(css_height='300.0px', css_width='500.0px')"
      ]
     },
     "execution_count": 13,
     "metadata": {},
     "output_type": "execute_result"
    }
   ],
   "source": [
    "from mbo_utilities.graphics.imgui import PollenCalibrationWidget\n",
    "iw = mbo.run_gui(scan)\n",
    "iw.show()"
   ]
  },
  {
   "cell_type": "code",
   "execution_count": 12,
   "metadata": {
    "execution": {
     "iopub.execute_input": "2025-04-28T02:06:10.552943Z",
     "iopub.status.busy": "2025-04-28T02:06:10.551944Z",
     "iopub.status.idle": "2025-04-28T02:06:10.555806Z",
     "shell.execute_reply": "2025-04-28T02:06:10.555806Z",
     "shell.execute_reply.started": "2025-04-28T02:06:10.552943Z"
    }
   },
   "outputs": [],
   "source": [
    "gui = PollenCalibrationWidget(iw=iw)\n",
    "iw.figure.add_gui(gui)"
   ]
  },
  {
   "cell_type": "code",
   "execution_count": 17,
   "metadata": {},
   "outputs": [],
   "source": [
    "image_widget.close()"
   ]
  },
  {
   "cell_type": "markdown",
   "metadata": {},
   "source": [
    "## Save assembled files\n",
    "\n",
    "The currently supported file extensions are `.tiff`."
   ]
  },
  {
   "cell_type": "code",
   "execution_count": 20,
   "metadata": {
    "ExecuteTime": {
     "end_time": "2024-11-30T00:32:15.931323Z",
     "start_time": "2024-11-30T00:32:05.473471Z"
    },
    "execution": {
     "iopub.execute_input": "2024-11-26T15:32:59.293337Z",
     "iopub.status.busy": "2024-11-26T15:32:59.292337Z",
     "iopub.status.idle": "2024-11-26T15:33:10.681350Z",
     "shell.execute_reply": "2024-11-26T15:33:10.681350Z",
     "shell.execute_reply.started": "2024-11-26T15:32:59.293337Z"
    }
   },
   "outputs": [
    {
     "name": "stdout",
     "output_type": "stream",
     "text": [
      "Reading tiff series data...\n",
      "Reading tiff pages...\n",
      "Raw tiff fully read.\n",
      "Saving 1437x14x448x448 in /home/flynn/lbm_data/mk301/assembled\n",
      "[2, 2, 2, 2]\n",
      "New height: 444\n",
      "New width: 444\n"
     ]
    },
    {
     "data": {
      "application/vnd.jupyter.widget-view+json": {
       "model_id": "645d3110905f45f49d0d50b544bcce87",
       "version_major": 2,
       "version_minor": 0
      },
      "text/plain": [
       "Saving plane 1:   0%|          | 0/56 [00:00<?, ?it/s]"
      ]
     },
     "metadata": {},
     "output_type": "display_data"
    },
    {
     "data": {
      "application/vnd.jupyter.widget-view+json": {
       "model_id": "f6c2522a68c841c39ab56678685a88b5",
       "version_major": 2,
       "version_minor": 0
      },
      "text/plain": [
       "Saving plane 7:   0%|          | 0/56 [00:00<?, ?it/s]"
      ]
     },
     "metadata": {},
     "output_type": "display_data"
    },
    {
     "data": {
      "application/vnd.jupyter.widget-view+json": {
       "model_id": "bbd77588b819495b97ce1b774ad78212",
       "version_major": 2,
       "version_minor": 0
      },
      "text/plain": [
       "Saving plane 14:   0%|          | 0/56 [00:00<?, ?it/s]"
      ]
     },
     "metadata": {},
     "output_type": "display_data"
    },
    {
     "name": "stdout",
     "output_type": "stream",
     "text": [
      "Time elapsed: 0 minutes 5 seconds.\n"
     ]
    }
   ],
   "source": [
    "save_path = Path(\"/home/flynn/lbm_data/mk301/assembled\")\n",
    "save_path.mkdir(exist_ok=True)\n",
    "\n",
    "mbo.save_as(\n",
    "    scan,\n",
    "    save_path,\n",
    "    planes=[0, 6, 13],      # for 14 z-planes, first, middle, last \n",
    "    overwrite=True,\n",
    "    ext = '.tiff',\n",
    "    trim_edge=[2, 2, 2, 2], # post-assembly pixels to trim [left, right, top, bottom]\n",
    "    append_str=\"_demo\",      # this will be appended to the filename, 'plane_N_demo.ext'\n",
    "    fix_phase=False          # fix bi-directional scan phase offset\n",
    ")"
   ]
  },
  {
   "cell_type": "markdown",
   "metadata": {},
   "source": [
    "## Vizualize data with [fastplotlib](https://www.fastplotlib.org/user_guide/guide.html#what-is-fastplotlib)\n",
    "\n",
    "To get a rough idea of the quality of your extracted timeseries, we can create a fastplotlib visualization to preview traces of individual pixels.\n",
    "\n",
    "Here, we simply click on any pixel in the movie, and we get a 2D trace (or \"temporal component\" as used in this field) of the pixel through the course of the movie:\n",
    "\n",
    "```{figure} ../_images/raw_data_preview.png\n",
    ":align: center\n",
    "```\n",
    "\n",
    "More advanced visualizations can be easily created, i.e. adding a baseline subtracted element to the trace, or passing the trace through a frequency filter."
   ]
  },
  {
   "cell_type": "code",
   "execution_count": 2,
   "metadata": {
    "ExecuteTime": {
     "end_time": "2024-11-30T01:12:13.742881Z",
     "start_time": "2024-11-30T01:12:13.473762Z"
    },
    "tags": [
     "remove-stderr"
    ]
   },
   "outputs": [
    {
     "ename": "NameError",
     "evalue": "name 'fpl' is not defined",
     "output_type": "error",
     "traceback": [
      "\u001b[0;31m---------------------------------------------------------------------------\u001b[0m",
      "\u001b[0;31mNameError\u001b[0m                                 Traceback (most recent call last)",
      "Cell \u001b[0;32mIn[2], line 5\u001b[0m\n\u001b[1;32m      2\u001b[0m \u001b[38;5;28;01mfrom\u001b[39;00m \u001b[38;5;21;01mipywidgets\u001b[39;00m \u001b[38;5;28;01mimport\u001b[39;00m VBox\n\u001b[1;32m      4\u001b[0m img \u001b[38;5;241m=\u001b[39m tifffile\u001b[38;5;241m.\u001b[39mmemmap(\u001b[38;5;124m\"\u001b[39m\u001b[38;5;124m/home/flynn/lbm_data/mk301/assembled/plane_07_demo.tiff\u001b[39m\u001b[38;5;124m\"\u001b[39m)\n\u001b[0;32m----> 5\u001b[0m iw_movie \u001b[38;5;241m=\u001b[39m \u001b[43mfpl\u001b[49m\u001b[38;5;241m.\u001b[39mImageWidget(img, cmap\u001b[38;5;241m=\u001b[39m\u001b[38;5;124m\"\u001b[39m\u001b[38;5;124mviridis\u001b[39m\u001b[38;5;124m\"\u001b[39m)\n\u001b[1;32m      7\u001b[0m tfig \u001b[38;5;241m=\u001b[39m fpl\u001b[38;5;241m.\u001b[39mFigure()\n\u001b[1;32m      9\u001b[0m raw_trace \u001b[38;5;241m=\u001b[39m tfig[\u001b[38;5;241m0\u001b[39m, \u001b[38;5;241m0\u001b[39m]\u001b[38;5;241m.\u001b[39madd_line(np\u001b[38;5;241m.\u001b[39mzeros(img\u001b[38;5;241m.\u001b[39mshape[\u001b[38;5;241m0\u001b[39m]))\n",
      "\u001b[0;31mNameError\u001b[0m: name 'fpl' is not defined"
     ]
    }
   ],
   "source": [
    "import tifffile\n",
    "from ipywidgets import VBox\n",
    "\n",
    "img = tifffile.memmap(\"/home/flynn/lbm_data/mk301/assembled/plane_07_demo.tiff\")\n",
    "iw_movie = fpl.ImageWidget(img, cmap=\"viridis\")\n",
    "\n",
    "tfig = fpl.Figure()\n",
    "\n",
    "raw_trace = tfig[0, 0].add_line(np.zeros(img.shape[0]))\n",
    "\n",
    "@iw_movie.managed_graphics[0].add_event_handler(\"click\")\n",
    "def pixel_clicked(ev):\n",
    "    col, row = ev.pick_info[\"index\"]\n",
    "    raw_trace.data[:, 1] =  iw_movie.data[0][:, row, col]\n",
    "    tfig[0, 0].auto_scale(maintain_aspect=False)\n",
    "\n",
    "VBox([iw_movie.show(), tfig.show()])"
   ]
  },
  {
   "cell_type": "code",
   "execution_count": null,
   "metadata": {},
   "outputs": [],
   "source": []
  }
 ],
 "metadata": {
  "kernelspec": {
   "display_name": "Python 3 (ipykernel)",
   "language": "python",
   "name": "python3"
  },
  "language_info": {
   "codemirror_mode": {
    "name": "ipython",
    "version": 3
   },
   "file_extension": ".py",
   "mimetype": "text/x-python",
   "name": "python",
   "nbconvert_exporter": "python",
   "pygments_lexer": "ipython3",
   "version": "3.11.12"
  }
 },
 "nbformat": 4,
 "nbformat_minor": 4
}
