{
 "cells": [
  {
   "cell_type": "markdown",
   "metadata": {},
   "source": [
    "# Image Assembly\n",
    "\n",
    "Converting raw scanimage-tiff files into fused z-planes."
   ]
  },
  {
   "cell_type": "markdown",
   "metadata": {},
   "source": [
    "## Quickstart\n",
    "\n",
    "All you need is a path to your .tiffs and a place to save them.\n",
    "``` python\n",
    "import mbo_utilities as mbo\n",
    "``` python\n",
    "scan = mbo.read_scan(r\"path/to/tiffs*\") # glob or list of filepaths (see mbo.get_files)\n",
    "mbo.save_as(scan, \"/path/to/save\") # defaults to saving plane_01.tiff, plane_02.tiff ... \n",
    "```\n"
   ]
  },
  {
   "cell_type": "code",
   "execution_count": 1,
   "metadata": {
    "ExecuteTime": {
     "end_time": "2024-11-29T23:31:57.374426Z",
     "start_time": "2024-11-29T23:31:53.742252Z"
    },
    "execution": {
     "iopub.execute_input": "2025-04-27T20:40:15.454595Z",
     "iopub.status.busy": "2025-04-27T20:40:15.454595Z",
     "iopub.status.idle": "2025-04-27T20:40:17.005567Z",
     "shell.execute_reply": "2025-04-27T20:40:17.005567Z",
     "shell.execute_reply.started": "2025-04-27T20:40:15.454595Z"
    }
   },
   "outputs": [
    {
     "data": {
      "application/vnd.jupyter.widget-view+json": {
       "model_id": "c730f28bee1144b99befcd1bb701d7e1",
       "version_major": 2,
       "version_minor": 0
      },
      "text/plain": [
       "Image(value=b'\\x89PNG\\r\\n\\x1a\\n\\x00\\x00\\x00\\rIHDR\\x00\\x00\\x01,\\x00\\x00\\x007\\x08\\x06\\x00\\x00\\x00\\xb6\\x1bw\\x99\\x…"
      ]
     },
     "metadata": {},
     "output_type": "display_data"
    },
    {
     "data": {
      "text/html": [
       "<b>Available devices:</b><table><tr><th>Valid</th><th>Device</th><th>Type</th><th>Backend</th><th>Driver</th></tr><tr title=\"This adapter can be used with fastplotlib\"><td>✅ (default) </td><td>NVIDIA RTX A4000</td><td>DiscreteGPU</td><td>Vulkan</td><td>560.94</td></tr><tr title=\"This adapter can be used with fastplotlib\"><td>✅</td><td>NVIDIA RTX A4000</td><td>DiscreteGPU</td><td>D3D12</td><td></td></tr><tr title=\"This adapter can be used with fastplotlib\"><td>✅</td><td>NVIDIA RTX A4000</td><td>DiscreteGPU</td><td>D3D12</td><td></td></tr><tr title=\"CPU rendering support is limited and mainly for testing purposes\"><td>❗ limited</td><td>Microsoft Basic Render Driver</td><td>CPU</td><td>D3D12</td><td></td></tr><tr title=\"This adapter cannot be used with fastplotlib\"><td>❌</td><td>NVIDIA RTX A4000/PCIe/SSE2</td><td>Unknown</td><td>OpenGL</td><td>4.6.0 NVIDIA 560.94</td></tr></table>"
      ],
      "text/plain": [
       "<IPython.core.display.HTML object>"
      ]
     },
     "metadata": {},
     "output_type": "display_data"
    }
   ],
   "source": [
    "from pathlib import Path\n",
    "import numpy as np\n",
    "\n",
    "import fastplotlib as fpl\n",
    "import mbo_utilities as mbo"
   ]
  },
  {
   "cell_type": "markdown",
   "metadata": {},
   "source": [
    "## Input data: Path to your raw .tiff file(s)\n",
    "\n",
    "Make sure your `data_path` contains only `.tiff` files for this imaging session. If there are other `.tiff` files, such as from another session or a processed file for this session, those files will be included in the scan and lead to errors."
   ]
  },
  {
   "cell_type": "markdown",
   "metadata": {},
   "source": [
    "## Initialize a scanreader object\n",
    "\n",
    "Pass a list of files, or a wildcard string (e.g. \"/path/to/files/*\"matches all files in that directory) to {func}`mbo_utilities.read_scan`.\n",
    "\n",
    "``` {tip}\n",
    "mbo.get_files() is useful to easily get all files of the same filetype\n",
    "```"
   ]
  },
  {
   "cell_type": "code",
   "execution_count": 2,
   "metadata": {
    "execution": {
     "iopub.execute_input": "2025-04-27T20:40:19.354636Z",
     "iopub.status.busy": "2025-04-27T20:40:19.354636Z",
     "iopub.status.idle": "2025-04-27T20:40:19.363292Z",
     "shell.execute_reply": "2025-04-27T20:40:19.363292Z",
     "shell.execute_reply.started": "2025-04-27T20:40:19.354636Z"
    }
   },
   "outputs": [
    {
     "data": {
      "text/plain": [
       "('D:\\\\demo\\\\raw_data\\\\demo_lbm_raw_00000.tif', 11)"
      ]
     },
     "execution_count": 2,
     "metadata": {},
     "output_type": "execute_result"
    }
   ],
   "source": [
    "files = mbo.get_files(\"D://demo//raw_data\", 'tif')\n",
    "files[0], len(files)"
   ]
  },
  {
   "cell_type": "code",
   "execution_count": 3,
   "metadata": {
    "execution": {
     "iopub.execute_input": "2025-04-27T20:40:19.979228Z",
     "iopub.status.busy": "2025-04-27T20:40:19.979228Z",
     "iopub.status.idle": "2025-04-27T20:40:20.128164Z",
     "shell.execute_reply": "2025-04-27T20:40:20.128164Z",
     "shell.execute_reply.started": "2025-04-27T20:40:19.979228Z"
    }
   },
   "outputs": [
    {
     "data": {
      "text/plain": [
       "(1437, 14, 448, 448)"
      ]
     },
     "execution_count": 3,
     "metadata": {},
     "output_type": "execute_result"
    }
   ],
   "source": [
    "scan = mbo.read_scan(files)\n",
    "scan.shape  # T, Z, X, Y"
   ]
  },
  {
   "cell_type": "code",
   "execution_count": 4,
   "metadata": {
    "ExecuteTime": {
     "end_time": "2024-11-29T23:34:19.589186Z",
     "start_time": "2024-11-29T23:34:19.553289Z"
    },
    "execution": {
     "iopub.execute_input": "2025-04-27T20:40:21.066626Z",
     "iopub.status.busy": "2025-04-27T20:40:21.066626Z",
     "iopub.status.idle": "2025-04-27T20:40:21.071638Z",
     "shell.execute_reply": "2025-04-27T20:40:21.071638Z",
     "shell.execute_reply.started": "2025-04-27T20:40:21.066626Z"
    }
   },
   "outputs": [
    {
     "name": "stdout",
     "output_type": "stream",
     "text": [
      "Planes: 14\n",
      "Frames: 1437\n",
      "ROIs: 2\n",
      "frame-rate: 17.06701142272251\n"
     ]
    }
   ],
   "source": [
    "print(f'Planes: {scan.num_channels}')\n",
    "print(f'Frames: {scan.num_frames}')\n",
    "print(f'ROIs: {scan.num_rois}')\n",
    "print(f'frame-rate: {scan.fps}')"
   ]
  },
  {
   "cell_type": "markdown",
   "metadata": {},
   "source": [
    "\n",
    "This will display a widget allowing you to scroll in time and in z."
   ]
  },
  {
   "cell_type": "code",
   "execution_count": 5,
   "metadata": {
    "execution": {
     "iopub.execute_input": "2025-04-27T20:40:22.610884Z",
     "iopub.status.busy": "2025-04-27T20:40:22.610884Z",
     "iopub.status.idle": "2025-04-27T20:40:22.620412Z",
     "shell.execute_reply": "2025-04-27T20:40:22.619900Z",
     "shell.execute_reply.started": "2025-04-27T20:40:22.610884Z"
    }
   },
   "outputs": [
    {
     "data": {
      "text/plain": [
       "array([[-24, -22, -18, ..., 113, 143, -26],\n",
       "       [182, -23, -23, ..., -18,  87, -13],\n",
       "       [-24, -33, -17, ..., 451, 305, 475],\n",
       "       ...,\n",
       "       [206, -27, -29, ..., 101, 387,  -8],\n",
       "       [ -9, 234,  -4, ..., 678, 273, 272],\n",
       "       [-15, -19, -14, ..., 204, -11,  88]], dtype=int16)"
      ]
     },
     "execution_count": 5,
     "metadata": {},
     "output_type": "execute_result"
    }
   ],
   "source": [
    "scan[0, 0, :, :]"
   ]
  },
  {
   "cell_type": "code",
   "execution_count": 6,
   "metadata": {
    "ExecuteTime": {
     "end_time": "2024-11-29T23:36:15.239661Z",
     "start_time": "2024-11-29T23:36:15.186317Z"
    },
    "execution": {
     "iopub.execute_input": "2025-04-27T20:40:25.804401Z",
     "iopub.status.busy": "2025-04-27T20:40:25.804401Z",
     "iopub.status.idle": "2025-04-27T20:40:26.980639Z",
     "shell.execute_reply": "2025-04-27T20:40:26.980130Z",
     "shell.execute_reply.started": "2025-04-27T20:40:25.804401Z"
    }
   },
   "outputs": [
    {
     "data": {
      "application/vnd.jupyter.widget-view+json": {
       "model_id": "c47f2da4a0394e7399a88687fe1727fc",
       "version_major": 2,
       "version_minor": 0
      },
      "text/plain": [
       "RFBOutputContext()"
      ]
     },
     "metadata": {},
     "output_type": "display_data"
    },
    {
     "ename": "IndexError",
     "evalue": "tuple index out of range",
     "output_type": "error",
     "traceback": [
      "\u001b[31m---------------------------------------------------------------------------\u001b[39m",
      "\u001b[31mIndexError\u001b[39m                                Traceback (most recent call last)",
      "\u001b[36mCell\u001b[39m\u001b[36m \u001b[39m\u001b[32mIn[6]\u001b[39m\u001b[32m, line 1\u001b[39m\n\u001b[32m----> \u001b[39m\u001b[32m1\u001b[39m image_widget = \u001b[43mfpl\u001b[49m\u001b[43m.\u001b[49m\u001b[43mImageWidget\u001b[49m\u001b[43m(\u001b[49m\u001b[43mscan\u001b[49m\u001b[43m,\u001b[49m\u001b[43m \u001b[49m\u001b[43mhistogram_widget\u001b[49m\u001b[43m=\u001b[49m\u001b[38;5;28;43;01mFalse\u001b[39;49;00m\u001b[43m)\u001b[49m\n\u001b[32m      2\u001b[39m image_widget.show()\n",
      "\u001b[36mFile \u001b[39m\u001b[32m~\\repos\\mbo_utilities\\.venv\\Lib\\site-packages\\fastplotlib\\widgets\\image_widget\\_widget.py:524\u001b[39m, in \u001b[36mImageWidget.__init__\u001b[39m\u001b[34m(self, data, window_funcs, frame_apply, figure_shape, names, figure_kwargs, histogram_widget, rgb, cmap, graphic_kwargs)\u001b[39m\n\u001b[32m    520\u001b[39m frame = \u001b[38;5;28mself\u001b[39m._process_frame_apply(frame, data_ix)\n\u001b[32m    522\u001b[39m \u001b[38;5;28;01mif\u001b[39;00m (vmin_specified \u001b[38;5;129;01mis\u001b[39;00m \u001b[38;5;28;01mNone\u001b[39;00m) \u001b[38;5;129;01mor\u001b[39;00m (vmax_specified \u001b[38;5;129;01mis\u001b[39;00m \u001b[38;5;28;01mNone\u001b[39;00m):\n\u001b[32m    523\u001b[39m     \u001b[38;5;66;03m# if either vmin or vmax are not specified, calculate an estimate by subsampling\u001b[39;00m\n\u001b[32m--> \u001b[39m\u001b[32m524\u001b[39m     vmin_estimate, vmax_estimate = \u001b[43mquick_min_max\u001b[49m\u001b[43m(\u001b[49m\u001b[43md\u001b[49m\u001b[43m)\u001b[49m\n\u001b[32m    526\u001b[39m     \u001b[38;5;66;03m# decide vmin, vmax passed to ImageGraphic constructor based on whether it's user specified or now\u001b[39;00m\n\u001b[32m    527\u001b[39m     \u001b[38;5;28;01mif\u001b[39;00m vmin_specified \u001b[38;5;129;01mis\u001b[39;00m \u001b[38;5;28;01mNone\u001b[39;00m:\n\u001b[32m    528\u001b[39m         \u001b[38;5;66;03m# user hasn't specified vmin, use estimated value\u001b[39;00m\n",
      "\u001b[36mFile \u001b[39m\u001b[32m~\\repos\\mbo_utilities\\.venv\\Lib\\site-packages\\fastplotlib\\utils\\functions.py:298\u001b[39m, in \u001b[36mquick_min_max\u001b[39m\u001b[34m(data)\u001b[39m\n\u001b[32m    295\u001b[39m     sl[ax] = \u001b[38;5;28mslice\u001b[39m(\u001b[38;5;28;01mNone\u001b[39;00m, \u001b[38;5;28;01mNone\u001b[39;00m, \u001b[32m2\u001b[39m)\n\u001b[32m    296\u001b[39m     data = data[\u001b[38;5;28mtuple\u001b[39m(sl)]\n\u001b[32m--> \u001b[39m\u001b[32m298\u001b[39m \u001b[38;5;28;01mreturn\u001b[39;00m \u001b[38;5;28mfloat\u001b[39m(\u001b[43mnp\u001b[49m\u001b[43m.\u001b[49m\u001b[43mnanmin\u001b[49m\u001b[43m(\u001b[49m\u001b[43mdata\u001b[49m\u001b[43m)\u001b[49m), \u001b[38;5;28mfloat\u001b[39m(np.nanmax(data))\n",
      "\u001b[36mFile \u001b[39m\u001b[32m~\\repos\\mbo_utilities\\.venv\\Lib\\site-packages\\numpy\\lib\\nanfunctions.py:349\u001b[39m, in \u001b[36mnanmin\u001b[39m\u001b[34m(a, axis, out, keepdims, initial, where)\u001b[39m\n\u001b[32m    345\u001b[39m         warnings.warn(\u001b[33m\"\u001b[39m\u001b[33mAll-NaN slice encountered\u001b[39m\u001b[33m\"\u001b[39m, \u001b[38;5;167;01mRuntimeWarning\u001b[39;00m,\n\u001b[32m    346\u001b[39m                       stacklevel=\u001b[32m2\u001b[39m)\n\u001b[32m    347\u001b[39m \u001b[38;5;28;01melse\u001b[39;00m:\n\u001b[32m    348\u001b[39m     \u001b[38;5;66;03m# Slow, but safe for subclasses of ndarray\u001b[39;00m\n\u001b[32m--> \u001b[39m\u001b[32m349\u001b[39m     a, mask = \u001b[43m_replace_nan\u001b[49m\u001b[43m(\u001b[49m\u001b[43ma\u001b[49m\u001b[43m,\u001b[49m\u001b[43m \u001b[49m\u001b[43m+\u001b[49m\u001b[43mnp\u001b[49m\u001b[43m.\u001b[49m\u001b[43minf\u001b[49m\u001b[43m)\u001b[49m\n\u001b[32m    350\u001b[39m     res = np.amin(a, axis=axis, out=out, **kwargs)\n\u001b[32m    351\u001b[39m     \u001b[38;5;28;01mif\u001b[39;00m mask \u001b[38;5;129;01mis\u001b[39;00m \u001b[38;5;28;01mNone\u001b[39;00m:\n",
      "\u001b[36mFile \u001b[39m\u001b[32m~\\repos\\mbo_utilities\\.venv\\Lib\\site-packages\\numpy\\lib\\nanfunctions.py:96\u001b[39m, in \u001b[36m_replace_nan\u001b[39m\u001b[34m(a, val)\u001b[39m\n\u001b[32m     68\u001b[39m \u001b[38;5;28;01mdef\u001b[39;00m\u001b[38;5;250m \u001b[39m\u001b[34m_replace_nan\u001b[39m(a, val):\n\u001b[32m     69\u001b[39m \u001b[38;5;250m    \u001b[39m\u001b[33;03m\"\"\"\u001b[39;00m\n\u001b[32m     70\u001b[39m \u001b[33;03m    If `a` is of inexact type, make a copy of `a`, replace NaNs with\u001b[39;00m\n\u001b[32m     71\u001b[39m \u001b[33;03m    the `val` value, and return the copy together with a boolean mask\u001b[39;00m\n\u001b[32m   (...)\u001b[39m\u001b[32m     94\u001b[39m \n\u001b[32m     95\u001b[39m \u001b[33;03m    \"\"\"\u001b[39;00m\n\u001b[32m---> \u001b[39m\u001b[32m96\u001b[39m     a = \u001b[43mnp\u001b[49m\u001b[43m.\u001b[49m\u001b[43masanyarray\u001b[49m\u001b[43m(\u001b[49m\u001b[43ma\u001b[49m\u001b[43m)\u001b[49m\n\u001b[32m     98\u001b[39m     \u001b[38;5;28;01mif\u001b[39;00m a.dtype == np.object_:\n\u001b[32m     99\u001b[39m         \u001b[38;5;66;03m# object arrays do not support `isnan` (gh-9009), so make a guess\u001b[39;00m\n\u001b[32m    100\u001b[39m         mask = np.not_equal(a, a, dtype=\u001b[38;5;28mbool\u001b[39m)\n",
      "\u001b[36mFile \u001b[39m\u001b[32m~\\repos\\mbo_utilities\\mbo_utilities\\scanreader\\scans.py:308\u001b[39m, in \u001b[36mBaseScan.__array__\u001b[39m\u001b[34m(self)\u001b[39m\n\u001b[32m    307\u001b[39m \u001b[38;5;28;01mdef\u001b[39;00m\u001b[38;5;250m \u001b[39m\u001b[34m__array__\u001b[39m(\u001b[38;5;28mself\u001b[39m):\n\u001b[32m--> \u001b[39m\u001b[32m308\u001b[39m     \u001b[38;5;28;01mreturn\u001b[39;00m \u001b[38;5;28;43mself\u001b[39;49m\u001b[43m[\u001b[49m\u001b[43m:\u001b[49m\u001b[43m]\u001b[49m\n",
      "\u001b[36mFile \u001b[39m\u001b[32m~\\repos\\mbo_utilities\\mbo_utilities\\file_io.py:213\u001b[39m, in \u001b[36mScanMultiROIReordered.__getitem__\u001b[39m\u001b[34m(self, key)\u001b[39m\n\u001b[32m    210\u001b[39m key = \u001b[38;5;28mtuple\u001b[39m(\u001b[38;5;28mlist\u001b[39m(k) \u001b[38;5;28;01mif\u001b[39;00m \u001b[38;5;28misinstance\u001b[39m(k, \u001b[38;5;28mrange\u001b[39m) \u001b[38;5;28;01melse\u001b[39;00m k \u001b[38;5;28;01mfor\u001b[39;00m k \u001b[38;5;129;01min\u001b[39;00m key)\n\u001b[32m    212\u001b[39m \u001b[38;5;66;03m# Call the parent class's __getitem__ with the reordered key\u001b[39;00m\n\u001b[32m--> \u001b[39m\u001b[32m213\u001b[39m item = \u001b[38;5;28msuper\u001b[39m().\u001b[34m__getitem__\u001b[39m((\u001b[32m0\u001b[39m, \u001b[43mkey\u001b[49m\u001b[43m[\u001b[49m\u001b[32;43m2\u001b[39;49m\u001b[43m]\u001b[49m, key[\u001b[32m3\u001b[39m], key[\u001b[32m1\u001b[39m], key[\u001b[32m0\u001b[39m]))\n\u001b[32m    214\u001b[39m \u001b[38;5;28;01mif\u001b[39;00m item.ndim == \u001b[32m2\u001b[39m:\n\u001b[32m    215\u001b[39m     \u001b[38;5;28;01mreturn\u001b[39;00m item\n",
      "\u001b[31mIndexError\u001b[39m: tuple index out of range"
     ]
    }
   ],
   "source": [
    "image_widget = fpl.ImageWidget(scan, histogram_widget=False)\n",
    "image_widget.show()"
   ]
  },
  {
   "cell_type": "code",
   "execution_count": 17,
   "metadata": {},
   "outputs": [],
   "source": [
    "image_widget.close()"
   ]
  },
  {
   "cell_type": "markdown",
   "metadata": {},
   "source": [
    "## Save assembled files\n",
    "\n",
    "The currently supported file extensions are `.tiff`."
   ]
  },
  {
   "cell_type": "code",
   "execution_count": 20,
   "metadata": {
    "ExecuteTime": {
     "end_time": "2024-11-30T00:32:15.931323Z",
     "start_time": "2024-11-30T00:32:05.473471Z"
    },
    "execution": {
     "iopub.execute_input": "2024-11-26T15:32:59.293337Z",
     "iopub.status.busy": "2024-11-26T15:32:59.292337Z",
     "iopub.status.idle": "2024-11-26T15:33:10.681350Z",
     "shell.execute_reply": "2024-11-26T15:33:10.681350Z",
     "shell.execute_reply.started": "2024-11-26T15:32:59.293337Z"
    }
   },
   "outputs": [
    {
     "name": "stdout",
     "output_type": "stream",
     "text": [
      "Reading tiff series data...\n",
      "Reading tiff pages...\n",
      "Raw tiff fully read.\n",
      "Saving 1437x14x448x448 in /home/flynn/lbm_data/mk301/assembled\n",
      "[2, 2, 2, 2]\n",
      "New height: 444\n",
      "New width: 444\n"
     ]
    },
    {
     "data": {
      "application/vnd.jupyter.widget-view+json": {
       "model_id": "645d3110905f45f49d0d50b544bcce87",
       "version_major": 2,
       "version_minor": 0
      },
      "text/plain": [
       "Saving plane 1:   0%|          | 0/56 [00:00<?, ?it/s]"
      ]
     },
     "metadata": {},
     "output_type": "display_data"
    },
    {
     "data": {
      "application/vnd.jupyter.widget-view+json": {
       "model_id": "f6c2522a68c841c39ab56678685a88b5",
       "version_major": 2,
       "version_minor": 0
      },
      "text/plain": [
       "Saving plane 7:   0%|          | 0/56 [00:00<?, ?it/s]"
      ]
     },
     "metadata": {},
     "output_type": "display_data"
    },
    {
     "data": {
      "application/vnd.jupyter.widget-view+json": {
       "model_id": "bbd77588b819495b97ce1b774ad78212",
       "version_major": 2,
       "version_minor": 0
      },
      "text/plain": [
       "Saving plane 14:   0%|          | 0/56 [00:00<?, ?it/s]"
      ]
     },
     "metadata": {},
     "output_type": "display_data"
    },
    {
     "name": "stdout",
     "output_type": "stream",
     "text": [
      "Time elapsed: 0 minutes 5 seconds.\n"
     ]
    }
   ],
   "source": [
    "save_path = Path(\"/home/flynn/lbm_data/mk301/assembled\")\n",
    "save_path.mkdir(exist_ok=True)\n",
    "\n",
    "mbo.save_as(\n",
    "    scan,\n",
    "    save_path,\n",
    "    planes=[0, 6, 13],      # for 14 z-planes, first, middle, last \n",
    "    overwrite=True,\n",
    "    ext = '.tiff',\n",
    "    trim_edge=[2, 2, 2, 2], # post-assembly pixels to trim [left, right, top, bottom]\n",
    "    append_str=\"_demo\",      # this will be appended to the filename, 'plane_N_demo.ext'\n",
    "    fix_phase=False          # fix bi-directional scan phase offset\n",
    ")"
   ]
  },
  {
   "cell_type": "markdown",
   "metadata": {},
   "source": [
    "## Vizualize data with [fastplotlib](https://www.fastplotlib.org/user_guide/guide.html#what-is-fastplotlib)\n",
    "\n",
    "To get a rough idea of the quality of your extracted timeseries, we can create a fastplotlib visualization to preview traces of individual pixels.\n",
    "\n",
    "Here, we simply click on any pixel in the movie, and we get a 2D trace (or \"temporal component\" as used in this field) of the pixel through the course of the movie:\n",
    "\n",
    "```{figure} ../_images/raw_data_preview.png\n",
    ":align: center\n",
    "```\n",
    "\n",
    "More advanced visualizations can be easily created, i.e. adding a baseline subtracted element to the trace, or passing the trace through a frequency filter."
   ]
  },
  {
   "cell_type": "code",
   "execution_count": 2,
   "metadata": {
    "ExecuteTime": {
     "end_time": "2024-11-30T01:12:13.742881Z",
     "start_time": "2024-11-30T01:12:13.473762Z"
    },
    "tags": [
     "remove-stderr"
    ]
   },
   "outputs": [
    {
     "ename": "NameError",
     "evalue": "name 'fpl' is not defined",
     "output_type": "error",
     "traceback": [
      "\u001b[0;31m---------------------------------------------------------------------------\u001b[0m",
      "\u001b[0;31mNameError\u001b[0m                                 Traceback (most recent call last)",
      "Cell \u001b[0;32mIn[2], line 5\u001b[0m\n\u001b[1;32m      2\u001b[0m \u001b[38;5;28;01mfrom\u001b[39;00m \u001b[38;5;21;01mipywidgets\u001b[39;00m \u001b[38;5;28;01mimport\u001b[39;00m VBox\n\u001b[1;32m      4\u001b[0m img \u001b[38;5;241m=\u001b[39m tifffile\u001b[38;5;241m.\u001b[39mmemmap(\u001b[38;5;124m\"\u001b[39m\u001b[38;5;124m/home/flynn/lbm_data/mk301/assembled/plane_07_demo.tiff\u001b[39m\u001b[38;5;124m\"\u001b[39m)\n\u001b[0;32m----> 5\u001b[0m iw_movie \u001b[38;5;241m=\u001b[39m \u001b[43mfpl\u001b[49m\u001b[38;5;241m.\u001b[39mImageWidget(img, cmap\u001b[38;5;241m=\u001b[39m\u001b[38;5;124m\"\u001b[39m\u001b[38;5;124mviridis\u001b[39m\u001b[38;5;124m\"\u001b[39m)\n\u001b[1;32m      7\u001b[0m tfig \u001b[38;5;241m=\u001b[39m fpl\u001b[38;5;241m.\u001b[39mFigure()\n\u001b[1;32m      9\u001b[0m raw_trace \u001b[38;5;241m=\u001b[39m tfig[\u001b[38;5;241m0\u001b[39m, \u001b[38;5;241m0\u001b[39m]\u001b[38;5;241m.\u001b[39madd_line(np\u001b[38;5;241m.\u001b[39mzeros(img\u001b[38;5;241m.\u001b[39mshape[\u001b[38;5;241m0\u001b[39m]))\n",
      "\u001b[0;31mNameError\u001b[0m: name 'fpl' is not defined"
     ]
    }
   ],
   "source": [
    "import tifffile\n",
    "from ipywidgets import VBox\n",
    "\n",
    "img = tifffile.memmap(\"/home/flynn/lbm_data/mk301/assembled/plane_07_demo.tiff\")\n",
    "iw_movie = fpl.ImageWidget(img, cmap=\"viridis\")\n",
    "\n",
    "tfig = fpl.Figure()\n",
    "\n",
    "raw_trace = tfig[0, 0].add_line(np.zeros(img.shape[0]))\n",
    "\n",
    "@iw_movie.managed_graphics[0].add_event_handler(\"click\")\n",
    "def pixel_clicked(ev):\n",
    "    col, row = ev.pick_info[\"index\"]\n",
    "    raw_trace.data[:, 1] =  iw_movie.data[0][:, row, col]\n",
    "    tfig[0, 0].auto_scale(maintain_aspect=False)\n",
    "\n",
    "VBox([iw_movie.show(), tfig.show()])"
   ]
  },
  {
   "cell_type": "code",
   "execution_count": null,
   "metadata": {},
   "outputs": [],
   "source": []
  }
 ],
 "metadata": {
  "kernelspec": {
   "display_name": "Python 3 (ipykernel)",
   "language": "python",
   "name": "python3"
  },
  "language_info": {
   "codemirror_mode": {
    "name": "ipython",
    "version": 3
   },
   "file_extension": ".py",
   "mimetype": "text/x-python",
   "name": "python",
   "nbconvert_exporter": "python",
   "pygments_lexer": "ipython3",
   "version": "3.11.12"
  }
 },
 "nbformat": 4,
 "nbformat_minor": 4
}
