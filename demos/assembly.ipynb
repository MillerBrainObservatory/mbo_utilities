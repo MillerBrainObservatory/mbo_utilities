{
 "cells": [
  {
   "cell_type": "markdown",
   "metadata": {},
   "source": [
    "# Image Assembly\n",
    "\n",
    "Converting raw scanimage-tiff files into fused z-planes."
   ]
  },
  {
   "cell_type": "markdown",
   "metadata": {},
   "source": [
    "## Quickstart\n",
    "\n",
    "All you need is a path to your .tiffs and a place to save them.\n",
    "\n",
    "```python\n",
    "import mbo_utilities as mbo\n",
    "\n",
    "scan = mbo.imread(r\"path/to/tiffs*\")  # glob or list of filepaths\n",
    "\n",
    "# Save options:\n",
    "scan.roi = 1        # save just mROI 1\n",
    "scan.roi = [1, 2]   # save mROI 1 and 2\n",
    "scan.roi = 0        # save all mROIs separately\n",
    "scan.roi = None     # stitch/fuse all mROIs\n",
    "\n",
    "mbo.imwrite(scan, \"/path/to/save\", planes=[1, 7, 14])\n",
    "# Creates: plane_01.tiff, plane_07.tiff, plane_14.tiff\n",
    "```"
   ]
  },
  {
   "cell_type": "code",
   "execution_count": 1,
   "metadata": {
    "execution": {
     "iopub.execute_input": "2025-10-28T02:25:05.630649Z",
     "iopub.status.busy": "2025-10-28T02:25:05.630649Z",
     "iopub.status.idle": "2025-10-28T02:25:11.853324Z",
     "shell.execute_reply": "2025-10-28T02:25:11.852309Z",
     "shell.execute_reply.started": "2025-10-28T02:25:05.630649Z"
    }
   },
   "outputs": [
    {
     "data": {
      "application/vnd.jupyter.widget-view+json": {
       "model_id": "27175edd781d4658819779f3e4c58a40",
       "version_major": 2,
       "version_minor": 0
      },
      "text/plain": [
       "Image(value=b'version https://git-lfs.github.com/spec/...', height='55', width='300')"
      ]
     },
     "metadata": {},
     "output_type": "display_data"
    },
    {
     "data": {
      "text/html": [
       "<b>Available devices:</b><table><tr><th>Valid</th><th>Device</th><th>Type</th><th>Backend</th><th>Driver</th></tr><tr title=\"This adapter can be used with fastplotlib\"><td>✅ (default) </td><td>NVIDIA RTX A4000</td><td>DiscreteGPU</td><td>Vulkan</td><td>553.09</td></tr><tr title=\"This adapter can be used with fastplotlib\"><td>✅</td><td>NVIDIA RTX A4000</td><td>DiscreteGPU</td><td>D3D12</td><td></td></tr><tr title=\"This adapter can be used with fastplotlib\"><td>✅</td><td>NVIDIA RTX A4000</td><td>DiscreteGPU</td><td>D3D12</td><td></td></tr><tr title=\"CPU rendering support is limited and mainly for testing purposes\"><td>❗ limited</td><td>Microsoft Basic Render Driver</td><td>CPU</td><td>D3D12</td><td></td></tr><tr title=\"This adapter cannot be used with fastplotlib\"><td>❌</td><td>NVIDIA RTX A4000/PCIe/SSE2</td><td>Unknown</td><td>OpenGL</td><td>4.6.0 NVIDIA 553.09</td></tr></table>"
      ],
      "text/plain": [
       "<IPython.core.display.HTML object>"
      ]
     },
     "metadata": {},
     "output_type": "display_data"
    }
   ],
   "source": [
    "from pathlib import Path\n",
    "import numpy as np\n",
    "\n",
    "import fastplotlib as fpl\n",
    "import mbo_utilities as mbo"
   ]
  },
  {
   "cell_type": "markdown",
   "metadata": {},
   "source": [
    "## Input data: Path to your raw .tiff file(s)\n",
    "\n",
    "Make sure your `data_path` contains only `.tiff` files for this imaging session. If there are other `.tiff` files, such as from another session or a processed file for this session, those files will be included in the scan and lead to errors."
   ]
  },
  {
   "cell_type": "markdown",
   "metadata": {},
   "source": [
    "## Read in your data\n",
    "\n",
    "Pass a list of files, or a wildcard string (e.g. \"/path/to/files/*\" matches all files in that directory) to `mbo.imread()`."
   ]
  },
  {
   "cell_type": "code",
   "execution_count": null,
   "metadata": {},
   "outputs": [],
   "source": [
    "raw_scanimage_tiffs = Path(\"/path/to/data/raw/tiffs\")\n",
    "len(files)"
   ]
  },
  {
   "cell_type": "code",
   "execution_count": null,
   "metadata": {},
   "outputs": [],
   "source": [
    "scan = mbo.imread(files)"
   ]
  },
  {
   "cell_type": "code",
   "execution_count": null,
   "metadata": {},
   "outputs": [],
   "source": [
    "print(f'Planes: {scan.num_channels}')\n",
    "print(f'Frames: {scan.num_frames}')\n",
    "print(f'ROIs: {scan.num_rois}')\n",
    "print(f'Shape (T, Z, Y, X): {scan.shape}')"
   ]
  },
  {
   "cell_type": "markdown",
   "metadata": {},
   "source": [
    "## Accessing data in the scan\n",
    "\n",
    "Numpy-like indexing:\n",
    "\n",
    "```python\n",
    "frame = scan[0, 0, :, :]   # first frame, plane 1\n",
    "zplane7 = scan[:, 6, :, :] # all frames from z-plane 7\n",
    "```"
   ]
  },
  {
   "cell_type": "code",
   "execution_count": null,
   "metadata": {},
   "outputs": [],
   "source": [
    "# Visualize the data\n",
    "iw = scan.imshow()\n",
    "iw.show()"
   ]
  },
  {
   "cell_type": "code",
   "execution_count": null,
   "metadata": {},
   "outputs": [],
   "source": [
    "iw.close()"
   ]
  },
  {
   "cell_type": "markdown",
   "metadata": {},
   "source": [
    "## Save assembled files\n",
    "\n",
    "The currently supported file extensions are `.tiff`, `.bin`, `.zarr`, and `.h5`."
   ]
  },
  {
   "cell_type": "markdown",
   "metadata": {},
   "source": [
    "### Basic Usage: Stitch ROIs and Save All Planes"
   ]
  },
  {
   "cell_type": "code",
   "execution_count": null,
   "metadata": {},
   "outputs": [],
   "source": [
    "save_path = Path(\"/path/to/save\")\n",
    "save_path.mkdir(exist_ok=True)\n",
    "\n",
    "# Stitch all ROIs together (default behavior)\n",
    "scan.roi = None\n",
    "mbo.imwrite(scan, save_path, ext='.tiff')\n",
    "# Creates: plane01_stitched.tiff, plane02_stitched.tiff, ..., plane14_stitched.tiff"
   ]
  },
  {
   "cell_type": "markdown",
   "metadata": {},
   "source": [
    "### Save Specific Planes"
   ]
  },
  {
   "cell_type": "code",
   "execution_count": null,
   "metadata": {},
   "outputs": [],
   "source": [
    "# Save only first, middle, and last planes (for 14-plane volume)\n",
    "mbo.imwrite(\n",
    "    scan,\n",
    "    save_path,\n",
    "    planes=[1, 7, 14],\n",
    "    overwrite=False,\n",
    "    ext='.tiff'\n",
    ")\n",
    "# Creates: plane01_stitched.tiff, plane07_stitched.tiff, plane14_stitched.tiff"
   ]
  },
  {
   "cell_type": "markdown",
   "metadata": {},
   "source": [
    "### ROI Handling Options"
   ]
  },
  {
   "cell_type": "code",
   "execution_count": null,
   "metadata": {},
   "outputs": [],
   "source": [
    "# Option 1: Stitch all ROIs together (default)\n",
    "scan.roi = None\n",
    "mbo.imwrite(scan, save_path / \"stitched\")\n",
    "# Creates: plane01_stitched.tiff, plane02_stitched.tiff, ...\n",
    "\n",
    "# Option 2: Save all ROIs as separate files\n",
    "scan.roi = 0\n",
    "mbo.imwrite(scan, save_path / \"split_rois\")\n",
    "# Creates: plane01_roi1.tiff, plane01_roi2.tiff, ..., plane14_roi1.tiff, plane14_roi2.tiff\n",
    "\n",
    "# Option 3: Save specific ROI only\n",
    "scan.roi = 1\n",
    "mbo.imwrite(scan, save_path / \"roi1_only\")\n",
    "# Creates: plane01_roi1.tiff, plane02_roi1.tiff, ..., plane14_roi1.tiff\n",
    "\n",
    "# Option 4: Save multiple specific ROIs\n",
    "scan.roi = [1, 3]\n",
    "mbo.imwrite(scan, save_path / \"roi1_and_roi3\")\n",
    "# Creates: plane01_roi1.tiff, plane01_roi3.tiff, ..., plane14_roi1.tiff, plane14_roi3.tiff"
   ]
  },
  {
   "cell_type": "markdown",
   "metadata": {},
   "source": [
    "### Enable Phase Correction\n",
    "\n",
    "Fix bidirectional scan phase artifacts before saving:"
   ]
  },
  {
   "cell_type": "code",
   "execution_count": null,
   "metadata": {},
   "outputs": [],
   "source": [
    "scan.fix_phase = True\n",
    "scan.phasecorr_method = \"mean\"  # Options: \"mean\", \"median\", \"max\"\n",
    "scan.use_fft = True  # Use FFT-based correction (faster)\n",
    "mbo.imwrite(scan, save_path / \"phase_corrected\")"
   ]
  },
  {
   "cell_type": "markdown",
   "metadata": {},
   "source": [
    "### Z-Plane Registration\n",
    "\n",
    "Align z-planes spatially using Suite3D registration:"
   ]
  },
  {
   "cell_type": "code",
   "execution_count": null,
   "metadata": {},
   "outputs": [],
   "source": [
    "# Automatic registration with Suite3D (requires Suite3D + CuPy installed)\n",
    "mbo.imwrite(\n",
    "    scan,\n",
    "    save_path / \"registered\",\n",
    "    register_z=True,\n",
    "    roi=None\n",
    ")\n",
    "# Computes rigid shifts and applies them during write\n",
    "# Validates registration results before proceeding"
   ]
  },
  {
   "cell_type": "markdown",
   "metadata": {},
   "source": [
    "### Export Subset of Frames\n",
    "\n",
    "Useful for testing or creating demos:"
   ]
  },
  {
   "cell_type": "code",
   "execution_count": null,
   "metadata": {},
   "outputs": [],
   "source": [
    "# Export only first 1000 frames\n",
    "mbo.imwrite(scan, save_path / \"test_data\", num_frames=1000, planes=[1, 7, 14])"
   ]
  },
  {
   "cell_type": "markdown",
   "metadata": {},
   "source": [
    "### Convert to Suite2p Binary Format"
   ]
  },
  {
   "cell_type": "code",
   "execution_count": null,
   "metadata": {},
   "outputs": [],
   "source": [
    "# Save as Suite2p-compatible binary files\n",
    "mbo.imwrite(scan, save_path / \"suite2p\", ext='.bin', roi=0)\n",
    "# Creates: plane01_roi1/data_raw.bin + ops.npy, plane01_roi2/data_raw.bin + ops.npy, ..."
   ]
  },
  {
   "cell_type": "markdown",
   "metadata": {},
   "source": [
    "### Save to Zarr Format"
   ]
  },
  {
   "cell_type": "code",
   "execution_count": null,
   "metadata": {},
   "outputs": [],
   "source": [
    "# Save as Zarr v3 stores (efficient for large datasets)\n",
    "mbo.imwrite(scan, save_path / \"zarr_data\", ext='.zarr', roi=0)\n",
    "# Creates: plane01_roi1.zarr, plane01_roi2.zarr, ..."
   ]
  },
  {
   "cell_type": "markdown",
   "metadata": {},
   "source": [
    "### Use Pre-Computed Registration Shifts\n",
    "\n",
    "*In progress*"
   ]
  },
  {
   "cell_type": "code",
   "execution_count": null,
   "metadata": {},
   "outputs": [],
   "source": [
    "# Load previously computed shifts\n",
    "# import numpy as np\n",
    "# summary = np.load(\"previous_job/summary/summary.npy\", allow_pickle=True).item()\n",
    "# shift_vectors = summary['plane_shifts']  # shape: (n_planes, 2)\n",
    "\n",
    "# # Apply shifts without re-running registration\n",
    "# mbo.imwrite(scan, save_path / \"registered\", shift_vectors=shift_vectors)"
   ]
  },
  {
   "cell_type": "markdown",
   "metadata": {},
   "source": [
    "## Visualize data with [fastplotlib](https://www.fastplotlib.org/user_guide/guide.html#what-is-fastplotlib)\n",
    "\n",
    "To get a rough idea of the quality of your extracted timeseries, we can create a fastplotlib visualization to preview traces of individual pixels.\n",
    "\n",
    "Here, we simply click on any pixel in the movie, and we get a 2D trace (or \"temporal component\" as used in this field) of the pixel through the course of the movie:\n",
    "\n",
    "More advanced visualizations can be easily created, i.e. adding a baseline subtracted element to the trace, or passing the trace through a frequency filter."
   ]
  },
  {
   "cell_type": "code",
   "execution_count": null,
   "metadata": {},
   "outputs": [],
   "source": [
    "import tifffile\n",
    "from ipywidgets import VBox\n",
    "\n",
    "img = mbo.imread(\"path/to/assembled/plane07_stitched.tiff\")\n",
    "iw_movie = fpl.ImageWidget(img, cmap=\"viridis\")\n",
    "\n",
    "tfig = fpl.Figure()\n",
    "\n",
    "raw_trace = tfig[0, 0].add_line(np.zeros(img.shape[0]))\n",
    "\n",
    "@iw_movie.managed_graphics[0].add_event_handler(\"click\")\n",
    "def pixel_clicked(ev):\n",
    "    col, row = ev.pick_info[\"index\"]\n",
    "    raw_trace.data[:, 1] = iw_movie.data[0][:, row, col]\n",
    "    tfig[0, 0].auto_scale(maintain_aspect=False)\n",
    "\n",
    "VBox([iw_movie.show(), tfig.show()])"
   ]
  }
 ],
 "metadata": {
  "kernelspec": {
   "display_name": "Python 3 (ipykernel)",
   "language": "python",
   "name": "python3"
  },
  "language_info": {
   "codemirror_mode": {
    "name": "ipython",
    "version": 3
   },
   "file_extension": ".py",
   "mimetype": "text/x-python",
   "name": "python",
   "nbconvert_exporter": "python",
   "pygments_lexer": "ipython3",
   "version": "3.12.9"
  }
 },
 "nbformat": 4,
 "nbformat_minor": 4
}
