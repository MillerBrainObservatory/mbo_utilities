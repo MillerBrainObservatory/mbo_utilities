{
 "cells": [
  {
   "cell_type": "code",
   "execution_count": 2,
   "id": "f57652f9",
   "metadata": {
    "execution": {
     "iopub.execute_input": "2025-04-25T19:55:01.991939Z",
     "iopub.status.busy": "2025-04-25T19:55:01.991939Z",
     "iopub.status.idle": "2025-04-25T19:55:08.544524Z",
     "shell.execute_reply": "2025-04-25T19:55:08.544524Z",
     "shell.execute_reply.started": "2025-04-25T19:55:01.991939Z"
    }
   },
   "outputs": [
    {
     "name": "stdout",
     "output_type": "stream",
     "text": [
      "Install gitpython for dev benchmarking to work\n"
     ]
    },
    {
     "name": "stderr",
     "output_type": "stream",
     "text": [
      "fastplotlib version from git (0.4.0) and __version__ (0.5.0) don't match.\n",
      "WARNING: Attribute Qt::AA_EnableHighDpiScaling must be set before QCoreApplication is created.\n"
     ]
    }
   ],
   "source": [
    "%gui qt\n",
    "%load_ext autoreload\n",
    "%autoreload 2\n",
    "\n",
    "import os\n",
    "from pathlib import Path\n",
    "import numpy as n\n",
    "from matplotlib import pyplot as plt\n",
    "import napari\n",
    "\n",
    "# path to wherever the s2p-lbm repository is cloned on your computer\n",
    "os.chdir(os.path.dirname(os.path.abspath(\"\")))\n",
    "\n",
    "# set to \"false\" to run code without messages intended for developers\n",
    "os.environ[\"SUITE3D_DEVELOPER\"] = \"true\"\n",
    "\n",
    "import suite3d\n",
    "from suite3d.job import Job\n",
    "from suite3d import ui\n",
    "from suite3d import io\n",
    "from suite3d import plot_utils\n",
    "\n",
    "import mbo_utilities as mbo\n",
    "import lbm_suite2p_python as lsp\n",
    "from icecream import ic\n",
    "\n",
    "import fastplotlib as fpl\n",
    "\n",
    "## for this nb only\n",
    "from suite3d.utils import to_int, default_log, get_matching_params, make_batch_paths\n"
   ]
  },
  {
   "cell_type": "code",
   "execution_count": 4,
   "id": "43bd8204-a3b2-4755-a484-c5dda11144c7",
   "metadata": {
    "execution": {
     "iopub.execute_input": "2025-04-25T19:55:17.311785Z",
     "iopub.status.busy": "2025-04-25T19:55:17.311785Z",
     "iopub.status.idle": "2025-04-25T19:55:17.452498Z",
     "shell.execute_reply": "2025-04-25T19:55:17.452498Z",
     "shell.execute_reply.started": "2025-04-25T19:55:17.311785Z"
    }
   },
   "outputs": [],
   "source": [
    "corr_map_param_names = [\n",
    "    \"voxel_size_um\",\n",
    "    \"temporal_hpf\",\n",
    "    \"edge_crop_npix\",\n",
    "    \"npil_filt_type\",\n",
    "    \"npil_filt_z_um\",\n",
    "    \"npil_filt_xy_um\",\n",
    "    \"cell_filt_type\",\n",
    "    \"cell_filt_z_um\",\n",
    "    \"cell_filt_xy_um\",\n",
    "    \"fix_vmap_edge_planes\",\n",
    "    \"detection_timebin\",\n",
    "    \"sdnorm_exp\",\n",
    "    \"intensity_thresh\",\n",
    "    \"standard_vmap\",\n",
    "]\n",
    "\n",
    "computation_param_names = [\"n_proc\", \"dtype\", \"t_batch_size\"]"
   ]
  },
  {
   "cell_type": "code",
   "execution_count": 5,
   "id": "9f0d542b",
   "metadata": {
    "execution": {
     "iopub.execute_input": "2025-04-25T19:55:17.638012Z",
     "iopub.status.busy": "2025-04-25T19:55:17.638012Z",
     "iopub.status.idle": "2025-04-25T19:55:17.764268Z",
     "shell.execute_reply": "2025-04-25T19:55:17.764268Z",
     "shell.execute_reply.started": "2025-04-25T19:55:17.638012Z"
    }
   },
   "outputs": [],
   "source": [
    "fpath = Path(r\"D:\\W2_DATA\\kbarber\\2025_03_01\\mk301\")\n",
    "job_path = fpath.joinpath(\"results\")\n",
    "tif_path = fpath.joinpath(\"green\")"
   ]
  },
  {
   "cell_type": "code",
   "execution_count": 6,
   "id": "e02910a1",
   "metadata": {
    "execution": {
     "iopub.execute_input": "2025-04-25T19:55:18.529688Z",
     "iopub.status.busy": "2025-04-25T19:55:18.529688Z",
     "iopub.status.idle": "2025-04-25T19:55:18.662380Z",
     "shell.execute_reply": "2025-04-25T19:55:18.662380Z",
     "shell.execute_reply.started": "2025-04-25T19:55:18.529688Z"
    }
   },
   "outputs": [
    {
     "name": "stdout",
     "output_type": "stream",
     "text": [
      "   Found and loaded params from D:\\W2_DATA\\kbarber\\2025_03_01\\mk301\\results\\s3d-v5_dt25\\params.npy\n",
      "v5_dt25\n"
     ]
    }
   ],
   "source": [
    "job_id_list = [\"03_27\", \"v5_dt25\", \"v5_mbo\"]\n",
    "idx = 1\n",
    "\n",
    "job = Job(job_path, job_id_list[idx], create=False, overwrite=False, verbosity = 1)\n",
    "\n",
    "print(job_id_list[idx])"
   ]
  },
  {
   "cell_type": "code",
   "execution_count": 7,
   "id": "c03c9e4d",
   "metadata": {
    "execution": {
     "iopub.execute_input": "2025-04-25T19:55:18.745407Z",
     "iopub.status.busy": "2025-04-25T19:55:18.745407Z",
     "iopub.status.idle": "2025-04-25T19:55:18.880429Z",
     "shell.execute_reply": "2025-04-25T19:55:18.880429Z",
     "shell.execute_reply.started": "2025-04-25T19:55:18.745407Z"
    },
    "scrolled": true
   },
   "outputs": [],
   "source": [
    "# ~1.5*fs\n",
    "res = job.load_corr_map_results()"
   ]
  },
  {
   "cell_type": "code",
   "execution_count": 8,
   "id": "d76fff34",
   "metadata": {
    "execution": {
     "iopub.execute_input": "2025-04-25T19:55:19.702543Z",
     "iopub.status.busy": "2025-04-25T19:55:19.702543Z",
     "iopub.status.idle": "2025-04-25T19:55:19.896753Z",
     "shell.execute_reply": "2025-04-25T19:55:19.896753Z",
     "shell.execute_reply.started": "2025-04-25T19:55:19.702543Z"
    }
   },
   "outputs": [
    {
     "name": "stderr",
     "output_type": "stream",
     "text": [
      "ic| job.params[\"npil_filt_xy_um\"]: 3.0\n",
      "    job.params[\"cell_filt_xy_um\"]: 5.0\n",
      "    job.params[\"cell_filt_z_um\"]: 18\n",
      "    job.params[\"npil_filt_type\"]: 'gaussian'\n",
      "    job.params[\"cell_filt_type\"]: 'gaussian'\n",
      "    job.params[\"detection_timebin\"]: 25\n",
      "    job.params[\"intensity_thresh\"]: 0.7\n"
     ]
    }
   ],
   "source": [
    "_=ic(job.params[\"npil_filt_xy_um\"], job.params[\"cell_filt_xy_um\"], job.params[\"cell_filt_z_um\"], job.params[\"npil_filt_type\"], job.params[\"cell_filt_type\"], job.params[\"detection_timebin\"], job.params[\"intensity_thresh\"])"
   ]
  },
  {
   "cell_type": "code",
   "execution_count": 26,
   "id": "1e4178a7-3cad-45df-8c23-b237288d0e19",
   "metadata": {
    "execution": {
     "iopub.execute_input": "2025-04-25T19:12:44.708881Z",
     "iopub.status.busy": "2025-04-25T19:12:44.707881Z",
     "iopub.status.idle": "2025-04-25T19:12:45.568627Z",
     "shell.execute_reply": "2025-04-25T19:12:45.568627Z",
     "shell.execute_reply.started": "2025-04-25T19:12:44.708881Z"
    },
    "scrolled": true
   },
   "outputs": [
    {
     "name": "stdout",
     "output_type": "stream",
     "text": [
      "Data provided and set.\n",
      "Is running jupyter\n"
     ]
    },
    {
     "data": {
      "application/vnd.jupyter.widget-view+json": {
       "model_id": "bc81d6b190424c56aa7aeb3a9dcc5ab1",
       "version_major": 2,
       "version_minor": 0
      },
      "text/plain": [
       "RFBOutputContext()"
      ]
     },
     "metadata": {},
     "output_type": "display_data"
    },
    {
     "data": {
      "application/vnd.jupyter.widget-view+json": {
       "model_id": "55322455c52b4eb28eece1d0b44d9345",
       "version_major": 2,
       "version_minor": 0
      },
      "text/html": [
       "<div class='snapshot-55322455c52b4eb28eece1d0b44d9345' style='position:relative;'><img src='data:image/png;base64,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' style='width:500.0px;height:500.0px;' /><div style='position: absolute; top:0; left:0; padding:1px 3px; background: #777; color:#fff; font-size: 90%; font-family:sans-serif; '>snapshot</div></div>"
      ],
      "text/plain": [
       "JupyterRenderCanvas(css_height='500.0px', css_width='500.0px')"
      ]
     },
     "execution_count": 26,
     "metadata": {},
     "output_type": "execute_result"
    }
   ],
   "source": [
    "iw = mbo.run_gui(res[\"vmap\"], figure_kwargs={\"size\": (500, 500)})\n",
    "iw.show()"
   ]
  },
  {
   "cell_type": "code",
   "execution_count": 27,
   "id": "f6d60e50-bb88-4b75-890d-0ad6f259dfe9",
   "metadata": {
    "execution": {
     "iopub.execute_input": "2025-04-25T19:13:53.416887Z",
     "iopub.status.busy": "2025-04-25T19:13:53.416887Z",
     "iopub.status.idle": "2025-04-25T19:13:53.550691Z",
     "shell.execute_reply": "2025-04-25T19:13:53.550691Z",
     "shell.execute_reply.started": "2025-04-25T19:13:53.416887Z"
    }
   },
   "outputs": [],
   "source": [
    "iw.close()"
   ]
  },
  {
   "cell_type": "code",
   "execution_count": 9,
   "id": "90d66196-c76c-4e71-80c7-cc03bd348f70",
   "metadata": {
    "execution": {
     "iopub.execute_input": "2025-04-25T19:55:29.083809Z",
     "iopub.status.busy": "2025-04-25T19:55:29.082811Z",
     "iopub.status.idle": "2025-04-25T19:55:29.227618Z",
     "shell.execute_reply": "2025-04-25T19:55:29.227618Z",
     "shell.execute_reply.started": "2025-04-25T19:55:29.083809Z"
    }
   },
   "outputs": [
    {
     "data": {
      "text/html": [
       "<table>\n",
       "    <tr>\n",
       "        <td>\n",
       "            <table style=\"border-collapse: collapse;\">\n",
       "                <thead>\n",
       "                    <tr>\n",
       "                        <td> </td>\n",
       "                        <th> Array </th>\n",
       "                        <th> Chunk </th>\n",
       "                    </tr>\n",
       "                </thead>\n",
       "                <tbody>\n",
       "                    \n",
       "                    <tr>\n",
       "                        <th> Bytes </th>\n",
       "                        <td> 72.01 GiB </td>\n",
       "                        <td> 1.28 GiB </td>\n",
       "                    </tr>\n",
       "                    \n",
       "                    <tr>\n",
       "                        <th> Shape </th>\n",
       "                        <td> (14, 5632, 561, 437) </td>\n",
       "                        <td> (14, 100, 561, 437) </td>\n",
       "                    </tr>\n",
       "                    <tr>\n",
       "                        <th> Dask graph </th>\n",
       "                        <td colspan=\"2\"> 79 chunks in 2 graph layers </td>\n",
       "                    </tr>\n",
       "                    <tr>\n",
       "                        <th> Data type </th>\n",
       "                        <td colspan=\"2\"> float32 numpy.ndarray </td>\n",
       "                    </tr>\n",
       "                </tbody>\n",
       "            </table>\n",
       "        </td>\n",
       "        <td>\n",
       "        <svg width=\"347\" height=\"159\" style=\"stroke:rgb(0,0,0);stroke-width:1\" >\n",
       "\n",
       "  <!-- Horizontal lines -->\n",
       "  <line x1=\"0\" y1=\"0\" x2=\"25\" y2=\"0\" style=\"stroke-width:2\" />\n",
       "  <line x1=\"0\" y1=\"25\" x2=\"25\" y2=\"25\" style=\"stroke-width:2\" />\n",
       "\n",
       "  <!-- Vertical lines -->\n",
       "  <line x1=\"0\" y1=\"0\" x2=\"0\" y2=\"25\" style=\"stroke-width:2\" />\n",
       "  <line x1=\"25\" y1=\"0\" x2=\"25\" y2=\"25\" style=\"stroke-width:2\" />\n",
       "\n",
       "  <!-- Colored Rectangle -->\n",
       "  <polygon points=\"0.0,0.0 25.412616514582485,0.0 25.412616514582485,25.412616514582485 0.0,25.412616514582485\" style=\"fill:#ECB172A0;stroke-width:0\"/>\n",
       "\n",
       "  <!-- Text -->\n",
       "  <text x=\"12.706308\" y=\"45.412617\" font-size=\"1.0rem\" font-weight=\"100\" text-anchor=\"middle\" >14</text>\n",
       "  <text x=\"45.412617\" y=\"12.706308\" font-size=\"1.0rem\" font-weight=\"100\" text-anchor=\"middle\" transform=\"rotate(0,45.412617,12.706308)\">1</text>\n",
       "\n",
       "\n",
       "  <!-- Horizontal lines -->\n",
       "  <line x1=\"95\" y1=\"0\" x2=\"165\" y2=\"70\" style=\"stroke-width:2\" />\n",
       "  <line x1=\"95\" y1=\"38\" x2=\"165\" y2=\"109\" style=\"stroke-width:2\" />\n",
       "\n",
       "  <!-- Vertical lines -->\n",
       "  <line x1=\"95\" y1=\"0\" x2=\"95\" y2=\"38\" style=\"stroke-width:2\" />\n",
       "  <line x1=\"97\" y1=\"2\" x2=\"97\" y2=\"41\" />\n",
       "  <line x1=\"99\" y1=\"4\" x2=\"99\" y2=\"43\" />\n",
       "  <line x1=\"102\" y1=\"7\" x2=\"102\" y2=\"46\" />\n",
       "  <line x1=\"103\" y1=\"8\" x2=\"103\" y2=\"47\" />\n",
       "  <line x1=\"105\" y1=\"10\" x2=\"105\" y2=\"49\" />\n",
       "  <line x1=\"107\" y1=\"12\" x2=\"107\" y2=\"51\" />\n",
       "  <line x1=\"111\" y1=\"16\" x2=\"111\" y2=\"54\" />\n",
       "  <line x1=\"113\" y1=\"18\" x2=\"113\" y2=\"56\" />\n",
       "  <line x1=\"116\" y1=\"21\" x2=\"116\" y2=\"59\" />\n",
       "  <line x1=\"117\" y1=\"22\" x2=\"117\" y2=\"61\" />\n",
       "  <line x1=\"120\" y1=\"25\" x2=\"120\" y2=\"63\" />\n",
       "  <line x1=\"121\" y1=\"26\" x2=\"121\" y2=\"65\" />\n",
       "  <line x1=\"124\" y1=\"29\" x2=\"124\" y2=\"67\" />\n",
       "  <line x1=\"126\" y1=\"31\" x2=\"126\" y2=\"69\" />\n",
       "  <line x1=\"129\" y1=\"34\" x2=\"129\" y2=\"72\" />\n",
       "  <line x1=\"130\" y1=\"35\" x2=\"130\" y2=\"74\" />\n",
       "  <line x1=\"132\" y1=\"37\" x2=\"132\" y2=\"75\" />\n",
       "  <line x1=\"135\" y1=\"40\" x2=\"135\" y2=\"79\" />\n",
       "  <line x1=\"136\" y1=\"41\" x2=\"136\" y2=\"80\" />\n",
       "  <line x1=\"139\" y1=\"44\" x2=\"139\" y2=\"83\" />\n",
       "  <line x1=\"141\" y1=\"46\" x2=\"141\" y2=\"84\" />\n",
       "  <line x1=\"143\" y1=\"48\" x2=\"143\" y2=\"86\" />\n",
       "  <line x1=\"144\" y1=\"49\" x2=\"144\" y2=\"88\" />\n",
       "  <line x1=\"148\" y1=\"53\" x2=\"148\" y2=\"91\" />\n",
       "  <line x1=\"150\" y1=\"55\" x2=\"150\" y2=\"93\" />\n",
       "  <line x1=\"153\" y1=\"58\" x2=\"153\" y2=\"96\" />\n",
       "  <line x1=\"154\" y1=\"59\" x2=\"154\" y2=\"98\" />\n",
       "  <line x1=\"156\" y1=\"61\" x2=\"156\" y2=\"100\" />\n",
       "  <line x1=\"159\" y1=\"64\" x2=\"159\" y2=\"102\" />\n",
       "  <line x1=\"161\" y1=\"66\" x2=\"161\" y2=\"105\" />\n",
       "  <line x1=\"163\" y1=\"68\" x2=\"163\" y2=\"106\" />\n",
       "  <line x1=\"165\" y1=\"70\" x2=\"165\" y2=\"109\" style=\"stroke-width:2\" />\n",
       "\n",
       "  <!-- Colored Rectangle -->\n",
       "  <polygon points=\"95.0,0.0 165.58823529411765,70.58823529411765 165.58823529411765,109.16339579731707 95.0,38.57516050319942\" style=\"fill:#8B4903A0;stroke-width:0\"/>\n",
       "\n",
       "  <!-- Horizontal lines -->\n",
       "  <line x1=\"95\" y1=\"0\" x2=\"132\" y2=\"0\" style=\"stroke-width:2\" />\n",
       "  <line x1=\"97\" y1=\"2\" x2=\"134\" y2=\"2\" />\n",
       "  <line x1=\"99\" y1=\"4\" x2=\"136\" y2=\"4\" />\n",
       "  <line x1=\"102\" y1=\"7\" x2=\"139\" y2=\"7\" />\n",
       "  <line x1=\"103\" y1=\"8\" x2=\"140\" y2=\"8\" />\n",
       "  <line x1=\"105\" y1=\"10\" x2=\"142\" y2=\"10\" />\n",
       "  <line x1=\"107\" y1=\"12\" x2=\"144\" y2=\"12\" />\n",
       "  <line x1=\"111\" y1=\"16\" x2=\"148\" y2=\"16\" />\n",
       "  <line x1=\"113\" y1=\"18\" x2=\"150\" y2=\"18\" />\n",
       "  <line x1=\"116\" y1=\"21\" x2=\"153\" y2=\"21\" />\n",
       "  <line x1=\"117\" y1=\"22\" x2=\"154\" y2=\"22\" />\n",
       "  <line x1=\"120\" y1=\"25\" x2=\"157\" y2=\"25\" />\n",
       "  <line x1=\"121\" y1=\"26\" x2=\"158\" y2=\"26\" />\n",
       "  <line x1=\"124\" y1=\"29\" x2=\"161\" y2=\"29\" />\n",
       "  <line x1=\"126\" y1=\"31\" x2=\"163\" y2=\"31\" />\n",
       "  <line x1=\"129\" y1=\"34\" x2=\"166\" y2=\"34\" />\n",
       "  <line x1=\"130\" y1=\"35\" x2=\"168\" y2=\"35\" />\n",
       "  <line x1=\"132\" y1=\"37\" x2=\"169\" y2=\"37\" />\n",
       "  <line x1=\"135\" y1=\"40\" x2=\"172\" y2=\"40\" />\n",
       "  <line x1=\"136\" y1=\"41\" x2=\"174\" y2=\"41\" />\n",
       "  <line x1=\"139\" y1=\"44\" x2=\"176\" y2=\"44\" />\n",
       "  <line x1=\"141\" y1=\"46\" x2=\"178\" y2=\"46\" />\n",
       "  <line x1=\"143\" y1=\"48\" x2=\"180\" y2=\"48\" />\n",
       "  <line x1=\"144\" y1=\"49\" x2=\"181\" y2=\"49\" />\n",
       "  <line x1=\"148\" y1=\"53\" x2=\"185\" y2=\"53\" />\n",
       "  <line x1=\"150\" y1=\"55\" x2=\"187\" y2=\"55\" />\n",
       "  <line x1=\"153\" y1=\"58\" x2=\"190\" y2=\"58\" />\n",
       "  <line x1=\"154\" y1=\"59\" x2=\"191\" y2=\"59\" />\n",
       "  <line x1=\"156\" y1=\"61\" x2=\"193\" y2=\"61\" />\n",
       "  <line x1=\"159\" y1=\"64\" x2=\"196\" y2=\"64\" />\n",
       "  <line x1=\"161\" y1=\"66\" x2=\"199\" y2=\"66\" />\n",
       "  <line x1=\"163\" y1=\"68\" x2=\"200\" y2=\"68\" />\n",
       "  <line x1=\"165\" y1=\"70\" x2=\"202\" y2=\"70\" style=\"stroke-width:2\" />\n",
       "\n",
       "  <!-- Vertical lines -->\n",
       "  <line x1=\"95\" y1=\"0\" x2=\"165\" y2=\"70\" style=\"stroke-width:2\" />\n",
       "  <line x1=\"132\" y1=\"0\" x2=\"202\" y2=\"70\" style=\"stroke-width:2\" />\n",
       "\n",
       "  <!-- Colored Rectangle -->\n",
       "  <polygon points=\"95.0,0.0 132.147966052694,0.0 202.73620134681164,70.58823529411765 165.58823529411765,70.58823529411765\" style=\"fill:#8B4903A0;stroke-width:0\"/>\n",
       "\n",
       "  <!-- Horizontal lines -->\n",
       "  <line x1=\"165\" y1=\"70\" x2=\"202\" y2=\"70\" style=\"stroke-width:2\" />\n",
       "  <line x1=\"165\" y1=\"109\" x2=\"202\" y2=\"109\" style=\"stroke-width:2\" />\n",
       "\n",
       "  <!-- Vertical lines -->\n",
       "  <line x1=\"165\" y1=\"70\" x2=\"165\" y2=\"109\" style=\"stroke-width:2\" />\n",
       "  <line x1=\"202\" y1=\"70\" x2=\"202\" y2=\"109\" style=\"stroke-width:2\" />\n",
       "\n",
       "  <!-- Colored Rectangle -->\n",
       "  <polygon points=\"165.58823529411765,70.58823529411765 202.73620134681164,70.58823529411765 202.73620134681164,109.16339579731707 165.58823529411765,109.16339579731707\" style=\"fill:#ECB172A0;stroke-width:0\"/>\n",
       "\n",
       "  <!-- Text -->\n",
       "  <text x=\"184.162218\" y=\"129.163396\" font-size=\"1.0rem\" font-weight=\"100\" text-anchor=\"middle\" >437</text>\n",
       "  <text x=\"222.736201\" y=\"89.875816\" font-size=\"1.0rem\" font-weight=\"100\" text-anchor=\"middle\" transform=\"rotate(-90,222.736201,89.875816)\">561</text>\n",
       "  <text x=\"120.294118\" y=\"93.869278\" font-size=\"1.0rem\" font-weight=\"100\" text-anchor=\"middle\" transform=\"rotate(45,120.294118,93.869278)\">5632</text>\n",
       "</svg>\n",
       "        </td>\n",
       "    </tr>\n",
       "</table>"
      ],
      "text/plain": [
       "dask.array<astype, shape=(14, 5632, 561, 437), dtype=float32, chunksize=(14, 100, 561, 437), chunktype=numpy.ndarray>"
      ]
     },
     "execution_count": 9,
     "metadata": {},
     "output_type": "execute_result"
    }
   ],
   "source": [
    "mov = job.get_registered_movie(\"registered_fused_data\", \"fused\")\n",
    "mov"
   ]
  },
  {
   "cell_type": "code",
   "execution_count": 10,
   "id": "5f7dd1a1-c7a6-4fc5-9d79-ad46986521b6",
   "metadata": {
    "execution": {
     "iopub.execute_input": "2025-04-25T19:55:31.370074Z",
     "iopub.status.busy": "2025-04-25T19:55:31.369075Z",
     "iopub.status.idle": "2025-04-25T19:55:31.513941Z",
     "shell.execute_reply": "2025-04-25T19:55:31.513941Z",
     "shell.execute_reply.started": "2025-04-25T19:55:31.370074Z"
    }
   },
   "outputs": [
    {
     "name": "stderr",
     "output_type": "stream",
     "text": [
      "ic| nz: 14, nt: 5632, ny: 561, nx: 437\n"
     ]
    }
   ],
   "source": [
    "nz, nt, ny, nx = mov.shape\n",
    "_=ic(nz, nt, ny, nx)"
   ]
  },
  {
   "cell_type": "code",
   "execution_count": 11,
   "id": "04079e6a-bac5-42f9-9dc3-f1053606a5e8",
   "metadata": {
    "execution": {
     "iopub.execute_input": "2025-04-25T19:55:32.085127Z",
     "iopub.status.busy": "2025-04-25T19:55:32.085127Z",
     "iopub.status.idle": "2025-04-25T19:55:32.229602Z",
     "shell.execute_reply": "2025-04-25T19:55:32.229602Z",
     "shell.execute_reply.started": "2025-04-25T19:55:32.085127Z"
    }
   },
   "outputs": [
    {
     "name": "stderr",
     "output_type": "stream",
     "text": [
      "ic| t_batch_size: 300, dtype: <class 'numpy.float32'>\n"
     ]
    }
   ],
   "source": [
    "t_batch_size = job.params[\"t_batch_size\"]\n",
    "dtype = job.params[\"dtype\"]\n",
    "_=ic(t_batch_size, dtype)"
   ]
  },
  {
   "cell_type": "code",
   "execution_count": 12,
   "id": "83041b96-12b7-4d81-bb97-f3f95d9611fd",
   "metadata": {
    "execution": {
     "iopub.execute_input": "2025-04-25T19:55:32.843676Z",
     "iopub.status.busy": "2025-04-25T19:55:32.843676Z",
     "iopub.status.idle": "2025-04-25T19:55:32.995646Z",
     "shell.execute_reply": "2025-04-25T19:55:32.995646Z",
     "shell.execute_reply.started": "2025-04-25T19:55:32.843676Z"
    }
   },
   "outputs": [
    {
     "name": "stderr",
     "output_type": "stream",
     "text": [
      "ic| n_batches: 19\n"
     ]
    },
    {
     "data": {
      "text/plain": [
       "19"
      ]
     },
     "execution_count": 12,
     "metadata": {},
     "output_type": "execute_result"
    }
   ],
   "source": [
    "n_batches = to_int(n.ceil(nt / t_batch_size))\n",
    "ic(n_batches)"
   ]
  },
  {
   "cell_type": "code",
   "execution_count": 20,
   "id": "edc319ce-b074-4e66-93d5-f90f13cb7348",
   "metadata": {
    "execution": {
     "iopub.execute_input": "2025-04-25T23:18:55.837392Z",
     "iopub.status.busy": "2025-04-25T23:18:55.837392Z",
     "iopub.status.idle": "2025-04-25T23:18:56.084604Z",
     "shell.execute_reply": "2025-04-25T23:18:56.084604Z",
     "shell.execute_reply.started": "2025-04-25T23:18:55.837392Z"
    }
   },
   "outputs": [],
   "source": [
    "corr_map_params = job.params\n",
    "computation_params = job.params\n",
    "summary = job.load_summary()\n",
    "vz, vy, vx = corr_map_params[\"voxel_size_um\"]\n",
    "nb, nz, ny, nx = mov.shape\n",
    "\n",
    "npil_filt_type = corr_map_params[\"npil_filt_type\"]\n",
    "edge_crop_npix = corr_map_params[\"edge_crop_npix\"]\n",
    "if edge_crop_npix is not None and edge_crop_npix > 0:\n",
    "    assert summary is not None\n",
    "npil_filt_pix = (\n",
    "    (corr_map_params[\"npil_filt_z_um\"] / vz),\n",
    "    (corr_map_params[\"npil_filt_xy_um\"] / vy),\n",
    "    (corr_map_params[\"npil_filt_xy_um\"] / vx),\n",
    ")\n",
    "cell_filt_type = corr_map_params[\"cell_filt_type\"]\n",
    "cell_filt_pix = (\n",
    "    (corr_map_params[\"cell_filt_z_um\"] / vz),\n",
    "    (corr_map_params[\"cell_filt_xy_um\"] / vy),\n",
    "    (corr_map_params[\"cell_filt_xy_um\"] / vx),\n",
    ")\n",
    "sdnorm_exp = corr_map_params[\"sdnorm_exp\"]\n",
    "intensity_thresh = corr_map_params[\"intensity_thresh\"]\n",
    "# fix_vmap_edge_planes = corr_map_params[\"fix_vmap_edge_planes\"]\n",
    "\n",
    "# these parameters relate to computational resources\n",
    "n_processors = computation_params[\"n_proc\"]\n",
    "dtype = computation_params[\"dtype\"]\n",
    "minibatch_size = max(20, int(n.ceil(nb / n_processors)))"
   ]
  },
  {
   "cell_type": "code",
   "execution_count": 21,
   "id": "9f50acc5-9daa-4446-9e75-419e49ed1c4e",
   "metadata": {
    "execution": {
     "iopub.execute_input": "2025-04-25T23:18:57.700021Z",
     "iopub.status.busy": "2025-04-25T23:18:57.700021Z",
     "iopub.status.idle": "2025-04-25T23:18:57.837537Z",
     "shell.execute_reply": "2025-04-25T23:18:57.837028Z",
     "shell.execute_reply.started": "2025-04-25T23:18:57.700021Z"
    }
   },
   "outputs": [
    {
     "data": {
      "text/plain": [
       "14"
      ]
     },
     "execution_count": 21,
     "metadata": {},
     "output_type": "execute_result"
    }
   ],
   "source": [
    "temporal_hpf = to_int(corr_map_params[\"temporal_hpf\"])\n",
    "temporal_hpf = min(nb, temporal_hpf)\n",
    "temporal_hpf"
   ]
  },
  {
   "cell_type": "code",
   "execution_count": 15,
   "id": "695a2728-d489-4b22-9821-495e3d07a46a",
   "metadata": {
    "execution": {
     "iopub.execute_input": "2025-04-25T19:55:39.548570Z",
     "iopub.status.busy": "2025-04-25T19:55:39.548570Z",
     "iopub.status.idle": "2025-04-25T19:55:39.679769Z",
     "shell.execute_reply": "2025-04-25T19:55:39.679769Z",
     "shell.execute_reply.started": "2025-04-25T19:55:39.548570Z"
    }
   },
   "outputs": [],
   "source": [
    "accum = suite3d.corrmap.init_corr_map_accumulators((nz, ny, nx), dtype)"
   ]
  },
  {
   "cell_type": "code",
   "execution_count": 16,
   "id": "e10b5242-1d01-4767-adf3-2ba4ee45a557",
   "metadata": {
    "execution": {
     "iopub.execute_input": "2025-04-25T19:55:46.724141Z",
     "iopub.status.busy": "2025-04-25T19:55:46.724141Z",
     "iopub.status.idle": "2025-04-25T19:55:49.198019Z",
     "shell.execute_reply": "2025-04-25T19:55:49.198019Z",
     "shell.execute_reply.started": "2025-04-25T19:55:46.724141Z"
    }
   },
   "outputs": [
    {
     "name": "stderr",
     "output_type": "stream",
     "text": [
      "ic| batch_idx: 0\n"
     ]
    }
   ],
   "source": [
    "from suite3d import extension as ext\n",
    "from suite3d.utils import default_log as log\n",
    "import dask.array as darr\n",
    "\n",
    "for i, batch_idx in enumerate(range(n_batches)):\n",
    "    if i == 0:\n",
    "        _=ic(batch_idx)\n",
    "        job.log(\"prep\", tic=True)\n",
    "        start_idx = batch_idx * t_batch_size\n",
    "        end_idx = min(nt, start_idx + t_batch_size)\n",
    "        job.log(\"Running batch %d of %d\" % (batch_idx + 1, n_batches), 2)\n",
    "        mov_batch = mov[:, start_idx:end_idx]\n",
    "        if corr_map_params.get(\"detection_timebin\", 1) > 1:\n",
    "            mov_batch_bin = ext.binned_mean_ax1(mov_batch, corr_map_params[\"detection_timebin\"] )\n",
    "        mov_batch_swap = darr.swapaxes(mov_batch, 0, 1).compute().astype(dtype)"
   ]
  },
  {
   "cell_type": "code",
   "execution_count": 21,
   "id": "9aefcc49-e68b-4647-892e-25d5d716ad5b",
   "metadata": {
    "execution": {
     "iopub.execute_input": "2025-04-25T19:51:00.043148Z",
     "iopub.status.busy": "2025-04-25T19:51:00.043148Z",
     "iopub.status.idle": "2025-04-25T19:51:00.177202Z",
     "shell.execute_reply": "2025-04-25T19:51:00.177202Z",
     "shell.execute_reply.started": "2025-04-25T19:51:00.043148Z"
    }
   },
   "outputs": [
    {
     "data": {
      "text/plain": [
       "(14, 300, 561, 437)"
      ]
     },
     "execution_count": 21,
     "metadata": {},
     "output_type": "execute_result"
    }
   ],
   "source": [
    "mov_batch.shape"
   ]
  },
  {
   "cell_type": "code",
   "execution_count": 18,
   "id": "94f5fb9d-9cd7-4aae-84c4-8e4218e0d0c7",
   "metadata": {
    "execution": {
     "iopub.execute_input": "2025-04-25T19:59:33.737614Z",
     "iopub.status.busy": "2025-04-25T19:59:33.737614Z",
     "iopub.status.idle": "2025-04-25T19:59:37.129892Z",
     "shell.execute_reply": "2025-04-25T19:59:37.129892Z",
     "shell.execute_reply.started": "2025-04-25T19:59:33.737614Z"
    },
    "scrolled": true
   },
   "outputs": [
    {
     "data": {
      "text/plain": [
       "<rendercanvas.qt.QRenderCanvas at 0x21d88434ca0>"
      ]
     },
     "execution_count": 18,
     "metadata": {},
     "output_type": "execute_result"
    }
   ],
   "source": [
    "fpl.ImageWidget(mov_batch_bin).show()"
   ]
  },
  {
   "cell_type": "code",
   "execution_count": 19,
   "id": "5e10c0d7-c385-4539-8a98-3efb31e97306",
   "metadata": {
    "execution": {
     "iopub.execute_input": "2025-04-25T23:18:47.305333Z",
     "iopub.status.busy": "2025-04-25T23:18:47.305333Z",
     "iopub.status.idle": "2025-04-25T23:18:47.709270Z",
     "shell.execute_reply": "2025-04-25T23:18:47.709270Z",
     "shell.execute_reply.started": "2025-04-25T23:18:47.305333Z"
    }
   },
   "outputs": [
    {
     "name": "stderr",
     "output_type": "stream",
     "text": [
      "[autoreload of mbo_utilities.graphics.run_gui failed: Traceback (most recent call last):\n",
      "  File \"C:\\Users\\RBO\\miniforge3\\envs\\s3d\\Lib\\site-packages\\IPython\\extensions\\autoreload.py\", line 283, in check\n",
      "    superreload(m, reload, self.old_objects)\n",
      "  File \"C:\\Users\\RBO\\miniforge3\\envs\\s3d\\Lib\\site-packages\\IPython\\extensions\\autoreload.py\", line 483, in superreload\n",
      "    module = reload(module)\n",
      "             ^^^^^^^^^^^^^^\n",
      "  File \"C:\\Users\\RBO\\miniforge3\\envs\\s3d\\Lib\\importlib\\__init__.py\", line 169, in reload\n",
      "    _bootstrap._exec(spec, module)\n",
      "  File \"<frozen importlib._bootstrap>\", line 621, in _exec\n",
      "  File \"<frozen importlib._bootstrap_external>\", line 940, in exec_module\n",
      "  File \"<frozen importlib._bootstrap>\", line 241, in _call_with_frames_removed\n",
      "  File \"C:\\Users\\RBO\\repos\\mbo_utilities\\mbo_utilities\\graphics\\run_gui.py\", line 5, in <module>\n",
      "    from ..file_io import ScanMultiROIReordered, to_lazy_array, load_data_path\n",
      "ImportError: cannot import name 'load_data_path' from 'mbo_utilities.file_io' (C:\\Users\\RBO\\repos\\mbo_utilities\\mbo_utilities\\file_io.py)\n",
      "]\n"
     ]
    },
    {
     "ename": "NameError",
     "evalue": "name 'dtu' is not defined",
     "output_type": "error",
     "traceback": [
      "\u001b[31m---------------------------------------------------------------------------\u001b[39m",
      "\u001b[31mNameError\u001b[39m                                 Traceback (most recent call last)",
      "\u001b[36mCell\u001b[39m\u001b[36m \u001b[39m\u001b[32mIn[19]\u001b[39m\u001b[32m, line 1\u001b[39m\n\u001b[32m----> \u001b[39m\u001b[32m1\u001b[39m vmap_2, mov_sub = \u001b[43mdtu\u001b[49m.filter_and_reduce_movie(\n\u001b[32m      2\u001b[39m     mov,\n\u001b[32m      3\u001b[39m     npil_filt_type,\n\u001b[32m      4\u001b[39m     npil_filt_pix,\n\u001b[32m      5\u001b[39m     cell_filt_type,\n\u001b[32m      6\u001b[39m     cell_filt_pix,\n\u001b[32m      7\u001b[39m     intensity_thresh,\n\u001b[32m      8\u001b[39m     n_processors,\n\u001b[32m      9\u001b[39m     minibatch_size,\n\u001b[32m     10\u001b[39m     standard_vmap=corr_map_params[\u001b[33m\"\u001b[39m\u001b[33mstandard_vmap\u001b[39m\u001b[33m\"\u001b[39m],\n\u001b[32m     11\u001b[39m     log=log,\n\u001b[32m     12\u001b[39m     pool=pool,\n\u001b[32m     13\u001b[39m )\n",
      "\u001b[31mNameError\u001b[39m: name 'dtu' is not defined"
     ]
    }
   ],
   "source": [
    "vmap_2, mov_sub = dtu.filter_and_reduce_movie(\n",
    "    mov,\n",
    "    npil_filt_type,\n",
    "    npil_filt_pix,\n",
    "    cell_filt_type,\n",
    "    cell_filt_pix,\n",
    "    intensity_thresh,\n",
    "    n_processors,\n",
    "    minibatch_size,\n",
    "    standard_vmap=corr_map_params[\"standard_vmap\"],\n",
    "    log=log,\n",
    "    pool=pool,\n",
    ")"
   ]
  },
  {
   "cell_type": "code",
   "execution_count": null,
   "id": "57fc0b50-2847-4dcd-912b-5d34360e558b",
   "metadata": {},
   "outputs": [],
   "source": []
  }
 ],
 "metadata": {
  "kernelspec": {
   "display_name": "Python 3 (ipykernel)",
   "language": "python",
   "name": "python3"
  },
  "language_info": {
   "codemirror_mode": {
    "name": "ipython",
    "version": 3
   },
   "file_extension": ".py",
   "mimetype": "text/x-python",
   "name": "python",
   "nbconvert_exporter": "python",
   "pygments_lexer": "ipython3",
   "version": "3.11.12"
  }
 },
 "nbformat": 4,
 "nbformat_minor": 5
}
