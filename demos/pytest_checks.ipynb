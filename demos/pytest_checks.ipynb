{
 "cells": [
  {
   "cell_type": "code",
   "execution_count": 1,
   "id": "a492ceab-6fb9-4c27-9d5b-c8ff78d8a5b3",
   "metadata": {
    "execution": {
     "iopub.execute_input": "2025-05-30T17:53:05.279157Z",
     "iopub.status.busy": "2025-05-30T17:53:05.279157Z",
     "iopub.status.idle": "2025-05-30T17:53:07.448431Z",
     "shell.execute_reply": "2025-05-30T17:53:07.448431Z",
     "shell.execute_reply.started": "2025-05-30T17:53:05.279157Z"
    }
   },
   "outputs": [
    {
     "data": {
      "application/vnd.jupyter.widget-view+json": {
       "model_id": "38486d9c893b4eff91400ffd17e17b92",
       "version_major": 2,
       "version_minor": 0
      },
      "text/plain": [
       "Image(value=b'\\x89PNG\\r\\n\\x1a\\n\\x00\\x00\\x00\\rIHDR\\x00\\x00\\x01,\\x00\\x00\\x007\\x08\\x06\\x00\\x00\\x00\\xb6\\x1bw\\x99\\x…"
      ]
     },
     "metadata": {},
     "output_type": "display_data"
    },
    {
     "data": {
      "text/html": [
       "<b>Available devices:</b><table><tr><th>Valid</th><th>Device</th><th>Type</th><th>Backend</th><th>Driver</th></tr><tr title=\"This adapter can be used with fastplotlib\"><td>✅ (default) </td><td>NVIDIA RTX A4000</td><td>DiscreteGPU</td><td>Vulkan</td><td>560.94</td></tr><tr title=\"This adapter can be used with fastplotlib\"><td>✅</td><td>NVIDIA RTX A4000</td><td>DiscreteGPU</td><td>D3D12</td><td></td></tr><tr title=\"This adapter can be used with fastplotlib\"><td>✅</td><td>NVIDIA RTX A4000</td><td>DiscreteGPU</td><td>D3D12</td><td></td></tr><tr title=\"CPU rendering support is limited and mainly for testing purposes\"><td>❗ limited</td><td>Microsoft Basic Render Driver</td><td>CPU</td><td>D3D12</td><td></td></tr><tr title=\"This adapter cannot be used with fastplotlib\"><td>❌</td><td>NVIDIA RTX A4000/PCIe/SSE2</td><td>Unknown</td><td>OpenGL</td><td>4.6.0 NVIDIA 560.94</td></tr></table>"
      ],
      "text/plain": [
       "<IPython.core.display.HTML object>"
      ]
     },
     "metadata": {},
     "output_type": "display_data"
    }
   ],
   "source": [
    "%load_ext autoreload\n",
    "%autoreload 2\n",
    "import numpy as np\n",
    "from pathlib import Path\n",
    "import tifffile\n",
    "import mbo_utilities as mbo\n",
    "import fastplotlib as fpl"
   ]
  },
  {
   "cell_type": "code",
   "execution_count": 4,
   "id": "981fa9ae-6442-4eed-9cb9-45201a9cdd35",
   "metadata": {
    "execution": {
     "iopub.execute_input": "2025-05-30T17:55:00.621959Z",
     "iopub.status.busy": "2025-05-30T17:55:00.621959Z",
     "iopub.status.idle": "2025-05-30T17:55:00.694873Z",
     "shell.execute_reply": "2025-05-30T17:55:00.694362Z",
     "shell.execute_reply.started": "2025-05-30T17:55:00.621959Z"
    }
   },
   "outputs": [
    {
     "data": {
      "text/plain": [
       "['D:\\\\tests\\\\data\\\\assembled\\\\full\\\\plane_01.tif',\n",
       " 'D:\\\\tests\\\\data\\\\assembled\\\\roi1\\\\plane_01.tif',\n",
       " 'D:\\\\tests\\\\data\\\\assembled\\\\roi2\\\\plane_01.tif']"
      ]
     },
     "execution_count": 4,
     "metadata": {},
     "output_type": "execute_result"
    }
   ],
   "source": [
    "test_path = Path(r\"D:\\tests\\data\")\n",
    "assembled_path = test_path / \"assembled\"\n",
    "in_files = mbo.get_files(test_path, \"tif\")\n",
    "\n",
    "plane_1_outputs = mbo.get_files(assembled_path, 'plane_01.tif', max_depth=3)\n",
    "plane_1_outputs"
   ]
  },
  {
   "cell_type": "code",
   "execution_count": 13,
   "id": "a5b1091f-eea0-48c4-9f4c-cf8948b50c03",
   "metadata": {
    "execution": {
     "iopub.execute_input": "2025-05-30T18:07:14.029268Z",
     "iopub.status.busy": "2025-05-30T18:07:14.029268Z",
     "iopub.status.idle": "2025-05-30T18:07:14.101880Z",
     "shell.execute_reply": "2025-05-30T18:07:14.101880Z",
     "shell.execute_reply.started": "2025-05-30T18:07:14.029268Z"
    }
   },
   "outputs": [],
   "source": [
    "import tifffile\n",
    "import numpy as np\n",
    "\n",
    "def test_full_contains_rois_side_by_side():\n",
    "    # find the three outputs for plane 1\n",
    "    plane1_paths = mbo.get_files(assembled_path, \"plane_01.tif\", max_depth=3)\n",
    "    # you should get exactly these three in some order\n",
    "    full_path   = next(p for p in plane1_paths if \"\\\\full\\\\\"   in p)\n",
    "    roi1_path   = next(p for p in plane1_paths if \"\\\\roi1\\\\\"   in p)\n",
    "    roi2_path   = next(p for p in plane1_paths if \"\\\\roi2\\\\\"   in p)\n",
    "\n",
    "    print((full_path, roi1_path, roi2_path))\n",
    "\n",
    "    full = tifffile.imread(full_path)\n",
    "    roi1 = tifffile.imread(roi1_path)\n",
    "    roi2 = tifffile.imread(roi2_path)\n",
    "\n",
    "    T, H, W = full.shape\n",
    "    assert roi1.shape == (T, H, W // 2)\n",
    "    assert roi2.shape == (T, H, W - W // 2)\n",
    "\n",
    "    # compare pixel data\n",
    "    left_half  = full[:, :, : W // 2]\n",
    "    right_half = full[:, :,  W // 2 :]\n",
    "\n",
    "    print(W//2)\n",
    "\n",
    "    # these two assertions will catch any mismatch\n",
    "    np.testing.assert_array_equal(left_half,  roi1,\n",
    "        err_msg=\"Left half of full plane does not match roi1\")\n",
    "    np.testing.assert_array_equal(right_half, roi2,\n",
    "        err_msg=\"Right half of full plane does not match roi2\")"
   ]
  },
  {
   "cell_type": "code",
   "execution_count": 14,
   "id": "13fb5b92-d42b-4229-b995-9a112261a6ca",
   "metadata": {
    "execution": {
     "iopub.execute_input": "2025-05-30T18:07:15.076265Z",
     "iopub.status.busy": "2025-05-30T18:07:15.076265Z",
     "iopub.status.idle": "2025-05-30T18:07:15.454500Z",
     "shell.execute_reply": "2025-05-30T18:07:15.454500Z",
     "shell.execute_reply.started": "2025-05-30T18:07:15.076265Z"
    }
   },
   "outputs": [
    {
     "name": "stdout",
     "output_type": "stream",
     "text": [
      "('D:\\\\tests\\\\data\\\\assembled\\\\full\\\\plane_01.tif', 'D:\\\\tests\\\\data\\\\assembled\\\\roi1\\\\plane_01.tif', 'D:\\\\tests\\\\data\\\\assembled\\\\roi2\\\\plane_01.tif')\n",
      "224\n"
     ]
    },
    {
     "ename": "AssertionError",
     "evalue": "\nArrays are not equal\nLeft half of full plane does not match roi1\nMismatched elements: 10996022 / 22077440 (49.8%)\nMax absolute difference among violations: 4051\nMax relative difference among violations: 2627.\n ACTUAL: array([[[ -22,  -29,  -22, ...,  322,  110,  194],\n        [ -24,  -25,  -31, ...,  -12,  169,   -6],\n        [  -5,   -3,    3, ...,  240,  177,    0],...\n DESIRED: array([[[ -22,  -29,  -22, ...,  322,  110,  194],\n        [  28,  -46,    3, ...,  -70,   13,   71],\n        [  -5,   -3,    3, ...,  240,  177,    0],...",
     "output_type": "error",
     "traceback": [
      "\u001b[31m---------------------------------------------------------------------------\u001b[39m",
      "\u001b[31mAssertionError\u001b[39m                            Traceback (most recent call last)",
      "\u001b[36mCell\u001b[39m\u001b[36m \u001b[39m\u001b[32mIn[14]\u001b[39m\u001b[32m, line 1\u001b[39m\n\u001b[32m----> \u001b[39m\u001b[32m1\u001b[39m \u001b[43mtest_full_contains_rois_side_by_side\u001b[49m\u001b[43m(\u001b[49m\u001b[43m)\u001b[49m\n",
      "\u001b[36mCell\u001b[39m\u001b[36m \u001b[39m\u001b[32mIn[13]\u001b[39m\u001b[32m, line 29\u001b[39m, in \u001b[36mtest_full_contains_rois_side_by_side\u001b[39m\u001b[34m()\u001b[39m\n\u001b[32m     26\u001b[39m \u001b[38;5;28mprint\u001b[39m(W//\u001b[32m2\u001b[39m)\n\u001b[32m     28\u001b[39m \u001b[38;5;66;03m# these two assertions will catch any mismatch\u001b[39;00m\n\u001b[32m---> \u001b[39m\u001b[32m29\u001b[39m \u001b[43mnp\u001b[49m\u001b[43m.\u001b[49m\u001b[43mtesting\u001b[49m\u001b[43m.\u001b[49m\u001b[43massert_array_equal\u001b[49m\u001b[43m(\u001b[49m\u001b[43mleft_half\u001b[49m\u001b[43m,\u001b[49m\u001b[43m  \u001b[49m\u001b[43mroi1\u001b[49m\u001b[43m,\u001b[49m\n\u001b[32m     30\u001b[39m \u001b[43m    \u001b[49m\u001b[43merr_msg\u001b[49m\u001b[43m=\u001b[49m\u001b[33;43m\"\u001b[39;49m\u001b[33;43mLeft half of full plane does not match roi1\u001b[39;49m\u001b[33;43m\"\u001b[39;49m\u001b[43m)\u001b[49m\n\u001b[32m     31\u001b[39m np.testing.assert_array_equal(right_half, roi2,\n\u001b[32m     32\u001b[39m     err_msg=\u001b[33m\"\u001b[39m\u001b[33mRight half of full plane does not match roi2\u001b[39m\u001b[33m\"\u001b[39m)\n",
      "    \u001b[31m[... skipping hidden 2 frame]\u001b[39m\n",
      "\u001b[36mFile \u001b[39m\u001b[32m~\\repos\\mbo_utilities\\.venv\\Lib\\site-packages\\numpy\\testing\\_private\\utils.py:921\u001b[39m, in \u001b[36massert_array_compare\u001b[39m\u001b[34m(comparison, x, y, err_msg, verbose, header, precision, equal_nan, equal_inf, strict, names)\u001b[39m\n\u001b[32m    916\u001b[39m         err_msg += \u001b[33m'\u001b[39m\u001b[38;5;130;01m\\n\u001b[39;00m\u001b[33m'\u001b[39m + \u001b[33m'\u001b[39m\u001b[38;5;130;01m\\n\u001b[39;00m\u001b[33m'\u001b[39m.join(remarks)\n\u001b[32m    917\u001b[39m         msg = build_err_msg([ox, oy], err_msg,\n\u001b[32m    918\u001b[39m                             verbose=verbose, header=header,\n\u001b[32m    919\u001b[39m                             names=names,\n\u001b[32m    920\u001b[39m                             precision=precision)\n\u001b[32m--> \u001b[39m\u001b[32m921\u001b[39m         \u001b[38;5;28;01mraise\u001b[39;00m \u001b[38;5;167;01mAssertionError\u001b[39;00m(msg)\n\u001b[32m    922\u001b[39m \u001b[38;5;28;01mexcept\u001b[39;00m \u001b[38;5;167;01mValueError\u001b[39;00m:\n\u001b[32m    923\u001b[39m     \u001b[38;5;28;01mimport\u001b[39;00m\u001b[38;5;250m \u001b[39m\u001b[34;01mtraceback\u001b[39;00m\n",
      "\u001b[31mAssertionError\u001b[39m: \nArrays are not equal\nLeft half of full plane does not match roi1\nMismatched elements: 10996022 / 22077440 (49.8%)\nMax absolute difference among violations: 4051\nMax relative difference among violations: 2627.\n ACTUAL: array([[[ -22,  -29,  -22, ...,  322,  110,  194],\n        [ -24,  -25,  -31, ...,  -12,  169,   -6],\n        [  -5,   -3,    3, ...,  240,  177,    0],...\n DESIRED: array([[[ -22,  -29,  -22, ...,  322,  110,  194],\n        [  28,  -46,    3, ...,  -70,   13,   71],\n        [  -5,   -3,    3, ...,  240,  177,    0],..."
     ]
    }
   ],
   "source": [
    "test_full_contains_rois_side_by_side()"
   ]
  },
  {
   "cell_type": "code",
   "execution_count": null,
   "id": "69181fee-7715-4ec3-aeab-018637083aef",
   "metadata": {},
   "outputs": [],
   "source": []
  }
 ],
 "metadata": {
  "kernelspec": {
   "display_name": "Python 3 (ipykernel)",
   "language": "python",
   "name": "python3"
  },
  "language_info": {
   "codemirror_mode": {
    "name": "ipython",
    "version": 3
   },
   "file_extension": ".py",
   "mimetype": "text/x-python",
   "name": "python",
   "nbconvert_exporter": "python",
   "pygments_lexer": "ipython3",
   "version": "3.11.12"
  }
 },
 "nbformat": 4,
 "nbformat_minor": 5
}
