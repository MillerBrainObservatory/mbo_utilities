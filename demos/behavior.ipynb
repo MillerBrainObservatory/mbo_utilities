{
 "cells": [
  {
   "cell_type": "code",
   "execution_count": 3,
   "id": "10b0fad9-fe25-4306-9d5a-2282a1ea166f",
   "metadata": {
    "execution": {
     "iopub.execute_input": "2025-02-21T20:40:46.113945Z",
     "iopub.status.busy": "2025-02-21T20:40:46.113945Z",
     "iopub.status.idle": "2025-02-21T20:40:48.848418Z",
     "shell.execute_reply": "2025-02-21T20:40:48.848418Z",
     "shell.execute_reply.started": "2025-02-21T20:40:46.113945Z"
    }
   },
   "outputs": [
    {
     "data": {
      "application/vnd.jupyter.widget-view+json": {
       "model_id": "0c89a3dd6f55475d83683d927c5e4116",
       "version_major": 2,
       "version_minor": 0
      },
      "text/plain": [
       "Image(value=b'\\x89PNG\\r\\n\\x1a\\n\\x00\\x00\\x00\\rIHDR\\x00\\x00\\x01,\\x00\\x00\\x007\\x08\\x06\\x00\\x00\\x00\\xb6\\x1bw\\x99\\x…"
      ]
     },
     "metadata": {},
     "output_type": "display_data"
    },
    {
     "data": {
      "text/html": [
       "<b>Available devices:</b><table><tr><th>Valid</th><th>Device</th><th>Type</th><th>Backend</th><th>Driver</th></tr><tr title=\"This adapter can be used with fastplotlib\"><td>✅ (default) </td><td>NVIDIA RTX A4000</td><td>DiscreteGPU</td><td>Vulkan</td><td>560.94</td></tr><tr title=\"This adapter can be used with fastplotlib\"><td>✅</td><td>NVIDIA RTX A4000</td><td>DiscreteGPU</td><td>D3D12</td><td></td></tr><tr title=\"CPU rendering support is limited and mainly for testing purposes\"><td>❗ limited</td><td>Microsoft Basic Render Driver</td><td>CPU</td><td>D3D12</td><td></td></tr><tr title=\"This adapter can be used with fastplotlib\"><td>✅</td><td>NVIDIA RTX A4000</td><td>DiscreteGPU</td><td>D3D12</td><td></td></tr><tr title=\"This adapter cannot be used with fastplotlib\"><td>❌</td><td>NVIDIA RTX A4000/PCIe/SSE2</td><td>Unknown</td><td>OpenGL</td><td>4.6.0 NVIDIA 560.94</td></tr></table>"
      ],
      "text/plain": [
       "<IPython.core.display.HTML object>"
      ]
     },
     "metadata": {},
     "output_type": "display_data"
    },
    {
     "ename": "ModuleNotFoundError",
     "evalue": "No module named 'lbm_mc'",
     "output_type": "error",
     "traceback": [
      "\u001b[1;31m---------------------------------------------------------------------------\u001b[0m",
      "\u001b[1;31mModuleNotFoundError\u001b[0m                       Traceback (most recent call last)",
      "Cell \u001b[1;32mIn[3], line 11\u001b[0m\n\u001b[0;32m      9\u001b[0m \u001b[38;5;28;01mimport\u001b[39;00m\u001b[38;5;250m \u001b[39m\u001b[38;5;21;01mfastplotlib\u001b[39;00m\u001b[38;5;250m \u001b[39m\u001b[38;5;28;01mas\u001b[39;00m\u001b[38;5;250m \u001b[39m\u001b[38;5;21;01mfpl\u001b[39;00m\n\u001b[0;32m     10\u001b[0m \u001b[38;5;28;01mimport\u001b[39;00m\u001b[38;5;250m \u001b[39m\u001b[38;5;21;01mmatplotlib\u001b[39;00m\u001b[38;5;21;01m.\u001b[39;00m\u001b[38;5;21;01mpyplot\u001b[39;00m\u001b[38;5;250m \u001b[39m\u001b[38;5;28;01mas\u001b[39;00m\u001b[38;5;250m \u001b[39m\u001b[38;5;21;01mplt\u001b[39;00m\n\u001b[1;32m---> 11\u001b[0m \u001b[38;5;28;01mimport\u001b[39;00m\u001b[38;5;250m \u001b[39m\u001b[38;5;21;01mlbm_mc\u001b[39;00m\u001b[38;5;250m \u001b[39m\u001b[38;5;28;01mas\u001b[39;00m\u001b[38;5;250m \u001b[39m\u001b[38;5;21;01mmc\u001b[39;00m\n\u001b[0;32m     12\u001b[0m \u001b[38;5;28;01mimport\u001b[39;00m\u001b[38;5;250m \u001b[39m\u001b[38;5;21;01mlbm_caiman_python\u001b[39;00m\u001b[38;5;250m \u001b[39m\u001b[38;5;28;01mas\u001b[39;00m\u001b[38;5;250m \u001b[39m\u001b[38;5;21;01mlcp\u001b[39;00m\n\u001b[0;32m     13\u001b[0m \u001b[38;5;28;01mfrom\u001b[39;00m\u001b[38;5;250m \u001b[39m\u001b[38;5;21;01mtqdm\u001b[39;00m\u001b[38;5;21;01m.\u001b[39;00m\u001b[38;5;21;01mnotebook\u001b[39;00m\u001b[38;5;250m \u001b[39m\u001b[38;5;28;01mimport\u001b[39;00m tqdm\n",
      "\u001b[1;31mModuleNotFoundError\u001b[0m: No module named 'lbm_mc'"
     ]
    }
   ],
   "source": [
    "%load_ext autoreload\n",
    "%autoreload 2\n",
    "\n",
    "from pathlib import Path\n",
    "import dask.array as da\n",
    "import numpy as np\n",
    "import tifffile\n",
    "import cv2\n",
    "import fastplotlib as fpl\n",
    "import matplotlib.pyplot as plt\n",
    "import lbm_mc as mc\n",
    "import lbm_caiman_python as lcp\n",
    "from tqdm.notebook import tqdm\n",
    "\n",
    "import json\n",
    "import pandas as pd\n",
    "import matplotlib.pyplot as plt\n",
    "\n",
    "from lbm_mc.caiman_extensions.cnmf import cnmf_cache"
   ]
  },
  {
   "cell_type": "code",
   "execution_count": 4,
   "id": "8c77f4a0-3f36-4597-830b-d5e7c844818b",
   "metadata": {
    "execution": {
     "iopub.execute_input": "2025-02-13T05:50:11.576625Z",
     "iopub.status.busy": "2025-02-13T05:50:11.575629Z",
     "iopub.status.idle": "2025-02-13T05:50:11.756589Z",
     "shell.execute_reply": "2025-02-13T05:50:11.756589Z",
     "shell.execute_reply.started": "2025-02-13T05:50:11.576625Z"
    }
   },
   "outputs": [
    {
     "data": {
      "text/plain": [
       "True"
      ]
     },
     "execution_count": 4,
     "metadata": {},
     "output_type": "execute_result"
    }
   ],
   "source": [
    "behavior_data_folder = Path(\"../\")\n",
    "b_data = behavior_data_folder.resolve() / 'raw_behavior_data' / \"_iblrig_taskData.raw.jsonable\"\n",
    "b_data.is_file()"
   ]
  },
  {
   "cell_type": "code",
   "execution_count": 8,
   "id": "aa627725-4ca0-4023-b564-73207fe81256",
   "metadata": {
    "execution": {
     "iopub.execute_input": "2025-02-13T05:53:17.141383Z",
     "iopub.status.busy": "2025-02-13T05:53:17.141383Z",
     "iopub.status.idle": "2025-02-13T05:53:17.524406Z",
     "shell.execute_reply": "2025-02-13T05:53:17.524406Z",
     "shell.execute_reply.started": "2025-02-13T05:53:17.141383Z"
    }
   },
   "outputs": [],
   "source": [
    "\n",
    "with open(b_data, \"r\", encoding=\"cp1252\") as f:\n",
    "    data = [json.loads(line) for line in f] \n",
    "\n",
    "# Convert to DataFrame\n",
    "df = pd.DataFrame(data)\n"
   ]
  },
  {
   "cell_type": "code",
   "execution_count": 16,
   "id": "302487e0-0c66-414a-ad38-1afe127b4057",
   "metadata": {
    "execution": {
     "iopub.execute_input": "2025-02-13T05:57:31.704033Z",
     "iopub.status.busy": "2025-02-13T05:57:31.704033Z",
     "iopub.status.idle": "2025-02-13T05:57:31.887056Z",
     "shell.execute_reply": "2025-02-13T05:57:31.887056Z",
     "shell.execute_reply.started": "2025-02-13T05:57:31.704033Z"
    }
   },
   "outputs": [
    {
     "data": {
      "text/plain": [
       "Index(['init_datetime', 'task_protocol', 'data_file_path', 'data_file',\n",
       "       'position_set', 'repeat_on_error', 'repeat_contrasts',\n",
       "       'threshold_events_dict', 'quiescent_period_base', 'quiescent_period',\n",
       "       'response_window', 'interactive_delay', 'iti_error',\n",
       "       'iti_correct_target', 'osc_client', 'stim_freq', 'stim_angle',\n",
       "       'stim_gain', 'stim_sigma', 'out_tone', 'out_noise', 'out_stop_sound',\n",
       "       'poop_count', 'save_ambient_data', 'as_data', 'reward_amount',\n",
       "       'reward_valve_time', 'iti_correct', 'ac', 'rc', 'contrast_set',\n",
       "       'trial_num', 'position', 'stim_probability_left', 'stim_phase',\n",
       "       'stim_reverse', 'event_error', 'event_reward', 'movement_left',\n",
       "       'movement_right', 'contrast', 'current_contrast', 'signed_contrast',\n",
       "       'signed_contrast_buffer', 'elapsed_time', 'behavior_data',\n",
       "       'response_time', 'response_time_buffer', 'response_buffer',\n",
       "       'response_side_buffer', 'trial_correct', 'ntrials_correct',\n",
       "       'water_delivered', 'non_rc_ntrials'],\n",
       "      dtype='object')"
      ]
     },
     "execution_count": 16,
     "metadata": {},
     "output_type": "execute_result"
    }
   ],
   "source": [
    "df.columns"
   ]
  },
  {
   "cell_type": "code",
   "execution_count": 1,
   "id": "77eb367b-684b-4da0-b707-1121cd6b1617",
   "metadata": {
    "execution": {
     "iopub.execute_input": "2025-02-21T20:40:41.504762Z",
     "iopub.status.busy": "2025-02-21T20:40:41.489128Z",
     "iopub.status.idle": "2025-02-21T20:40:41.567052Z",
     "shell.execute_reply": "2025-02-21T20:40:41.567052Z",
     "shell.execute_reply.started": "2025-02-21T20:40:41.504762Z"
    }
   },
   "outputs": [],
   "source": [
    "def read_avi_to_numpy(filepath):\n",
    "    \"\"\" Convert a .avi into a NumPy array of shape (frames, height, width) or (frames, height, width, channels) for color videos.\"\"\"\n",
    "    cap = cv2.VideoCapture(str(filepath))\n",
    "    if not cap.isOpened():\n",
    "        raise ValueError(f\"Error opening video file: {filepath}\")\n",
    "    frames = []\n",
    "    while True:\n",
    "        ret, frame = cap.read()\n",
    "        if not ret:\n",
    "            break\n",
    "        frames.append(frame)\n",
    "    cap.release()\n",
    "    return np.array(frames)"
   ]
  },
  {
   "cell_type": "code",
   "execution_count": 2,
   "id": "b3939979-c56c-47db-a70f-2b30ea6badde",
   "metadata": {
    "execution": {
     "iopub.execute_input": "2025-02-21T20:40:42.515183Z",
     "iopub.status.busy": "2025-02-21T20:40:42.515183Z",
     "iopub.status.idle": "2025-02-21T20:40:42.848523Z",
     "shell.execute_reply": "2025-02-21T20:40:42.848523Z",
     "shell.execute_reply.started": "2025-02-21T20:40:42.515183Z"
    }
   },
   "outputs": [
    {
     "ename": "NameError",
     "evalue": "name 'cv2' is not defined",
     "output_type": "error",
     "traceback": [
      "\u001b[1;31m---------------------------------------------------------------------------\u001b[0m",
      "\u001b[1;31mNameError\u001b[0m                                 Traceback (most recent call last)",
      "Cell \u001b[1;32mIn[2], line 2\u001b[0m\n\u001b[0;32m      1\u001b[0m vid_data \u001b[38;5;241m=\u001b[39m \u001b[38;5;124mr\u001b[39m\u001b[38;5;124m\"\u001b[39m\u001b[38;5;124mD:\u001b[39m\u001b[38;5;124m\\\u001b[39m\u001b[38;5;124mW2_DATA\u001b[39m\u001b[38;5;124m\\\u001b[39m\u001b[38;5;124mkbarber\u001b[39m\u001b[38;5;124m\\\u001b[39m\u001b[38;5;124m2025-02-10\u001b[39m\u001b[38;5;124m\\\u001b[39m\u001b[38;5;124mmk303\u001b[39m\u001b[38;5;124m\\\u001b[39m\u001b[38;5;124mraw_video_data\u001b[39m\u001b[38;5;124m\\\u001b[39m\u001b[38;5;124m_iblrig_leftCamera.raw.avi\u001b[39m\u001b[38;5;124m\"\u001b[39m\n\u001b[1;32m----> 2\u001b[0m video_data \u001b[38;5;241m=\u001b[39m \u001b[43mread_avi_to_numpy\u001b[49m\u001b[43m(\u001b[49m\u001b[43mvid_data\u001b[49m\u001b[43m)\u001b[49m\n\u001b[0;32m      3\u001b[0m \u001b[38;5;28mprint\u001b[39m(video_data\u001b[38;5;241m.\u001b[39mshape)  \u001b[38;5;66;03m# (num_frames, height, width, channels) for color, (num_frames, height, width) for grayscale\u001b[39;00m\n",
      "Cell \u001b[1;32mIn[1], line 3\u001b[0m, in \u001b[0;36mread_avi_to_numpy\u001b[1;34m(filepath)\u001b[0m\n\u001b[0;32m      1\u001b[0m \u001b[38;5;28;01mdef\u001b[39;00m\u001b[38;5;250m \u001b[39m\u001b[38;5;21mread_avi_to_numpy\u001b[39m(filepath):\n\u001b[0;32m      2\u001b[0m \u001b[38;5;250m    \u001b[39m\u001b[38;5;124;03m\"\"\" Convert a .avi into a NumPy array of shape (frames, height, width) or (frames, height, width, channels) for color videos.\"\"\"\u001b[39;00m\n\u001b[1;32m----> 3\u001b[0m     cap \u001b[38;5;241m=\u001b[39m \u001b[43mcv2\u001b[49m\u001b[38;5;241m.\u001b[39mVideoCapture(\u001b[38;5;28mstr\u001b[39m(filepath))\n\u001b[0;32m      4\u001b[0m     \u001b[38;5;28;01mif\u001b[39;00m \u001b[38;5;129;01mnot\u001b[39;00m cap\u001b[38;5;241m.\u001b[39misOpened():\n\u001b[0;32m      5\u001b[0m         \u001b[38;5;28;01mraise\u001b[39;00m \u001b[38;5;167;01mValueError\u001b[39;00m(\u001b[38;5;124mf\u001b[39m\u001b[38;5;124m\"\u001b[39m\u001b[38;5;124mError opening video file: \u001b[39m\u001b[38;5;132;01m{\u001b[39;00mfilepath\u001b[38;5;132;01m}\u001b[39;00m\u001b[38;5;124m\"\u001b[39m)\n",
      "\u001b[1;31mNameError\u001b[0m: name 'cv2' is not defined"
     ]
    }
   ],
   "source": [
    "vid_data = r\"D:\\W2_DATA\\kbarber\\2025-02-10\\mk303\\raw_video_data\\_iblrig_leftCamera.raw.avi\"\n",
    "video_data = read_avi_to_numpy(vid_data)\n",
    "print(video_data.shape)  # (num_frames, height, width, channels) for color, (num_frames, height, width) for grayscale"
   ]
  },
  {
   "cell_type": "code",
   "execution_count": null,
   "id": "7d3b5139-3fd6-4610-b622-88677e2b1d3f",
   "metadata": {},
   "outputs": [],
   "source": []
  }
 ],
 "metadata": {
  "kernelspec": {
   "display_name": "Python 3 (ipykernel)",
   "language": "python",
   "name": "python3"
  },
  "language_info": {
   "codemirror_mode": {
    "name": "ipython",
    "version": 3
   },
   "file_extension": ".py",
   "mimetype": "text/x-python",
   "name": "python",
   "nbconvert_exporter": "python",
   "pygments_lexer": "ipython3",
   "version": "3.10.16"
  }
 },
 "nbformat": 4,
 "nbformat_minor": 5
}
