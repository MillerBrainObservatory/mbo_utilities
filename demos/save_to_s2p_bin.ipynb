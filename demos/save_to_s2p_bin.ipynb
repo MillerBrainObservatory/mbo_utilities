{
 "cells": [
  {
   "cell_type": "markdown",
   "id": "e1917e3c-bee7-41df-b2c1-60e9c395c756",
   "metadata": {
    "execution": {
     "iopub.execute_input": "2025-04-30T04:54:25.220556Z",
     "iopub.status.busy": "2025-04-30T04:54:25.220145Z",
     "iopub.status.idle": "2025-04-30T04:54:25.225569Z",
     "shell.execute_reply": "2025-04-30T04:54:25.224530Z",
     "shell.execute_reply.started": "2025-04-30T04:54:25.220522Z"
    }
   },
   "source": [
    "## Save to Suite2p bin"
   ]
  },
  {
   "cell_type": "code",
   "execution_count": 1,
   "id": "fa1176a3-e819-428e-9f93-d3e5be54c386",
   "metadata": {
    "execution": {
     "iopub.execute_input": "2025-05-01T01:13:35.640837Z",
     "iopub.status.busy": "2025-05-01T01:13:35.640367Z",
     "iopub.status.idle": "2025-05-01T01:13:39.226110Z",
     "shell.execute_reply": "2025-05-01T01:13:39.225727Z",
     "shell.execute_reply.started": "2025-05-01T01:13:35.640805Z"
    }
   },
   "outputs": [
    {
     "data": {
      "application/vnd.jupyter.widget-view+json": {
       "model_id": "f14118aa6121402582f1a700353fa324",
       "version_major": 2,
       "version_minor": 0
      },
      "text/plain": [
       "Image(value=b'\\x89PNG\\r\\n\\x1a\\n\\x00\\x00\\x00\\rIHDR\\x00\\x00\\x01,\\x00\\x00\\x007\\x08\\x06\\x00\\x00\\x00\\xb6\\x1bw\\x99\\x…"
      ]
     },
     "metadata": {},
     "output_type": "display_data"
    },
    {
     "data": {
      "text/html": [
       "<b>Available devices:</b><table><tr><th>Valid</th><th>Device</th><th>Type</th><th>Backend</th><th>Driver</th></tr><tr title=\"This adapter can be used with fastplotlib\"><td>✅ (default) </td><td>Intel(R) Graphics (RPL-P)</td><td>IntegratedGPU</td><td>Vulkan</td><td>Mesa 24.0.3-1pop1~1711635559~22.04~7a9f319</td></tr><tr title=\"CPU rendering support is limited and mainly for testing purposes\"><td>❗ limited</td><td>llvmpipe (LLVM 15.0.7, 256 bits)</td><td>CPU</td><td>Vulkan</td><td>Mesa 24.0.3-1pop1~1711635559~22.04~7a9f319 (LLVM 15.0.7)</td></tr><tr title=\"This adapter cannot be used with fastplotlib\"><td>❌</td><td>Mesa Intel(R) Graphics (RPL-P)</td><td>IntegratedGPU</td><td>OpenGL</td><td>4.6 (Core Profile) Mesa 24.2.8-1~bpo12+1pop1~1744225826~22.04~b077665</td></tr></table>"
      ],
      "text/plain": [
       "<IPython.core.display.HTML object>"
      ]
     },
     "metadata": {},
     "output_type": "display_data"
    },
    {
     "data": {
      "text/plain": [
       "True"
      ]
     },
     "execution_count": 1,
     "metadata": {},
     "output_type": "execute_result"
    }
   ],
   "source": [
    "from pathlib import Path\n",
    "import mbo_utilities as mbo\n",
    "try:\n",
    "    from suite2p.io import BinaryFile\n",
    "    HAS_SUITE2P = True\n",
    "except ImportError:\n",
    "    HAS_SUITE2P = True\n",
    "    BInaryFIle = None\n",
    "HAS_SUITE2P"
   ]
  },
  {
   "cell_type": "code",
   "execution_count": 2,
   "id": "cf388585-4f02-4499-baaf-de1434a1dbc9",
   "metadata": {
    "execution": {
     "iopub.execute_input": "2025-05-01T01:13:39.227036Z",
     "iopub.status.busy": "2025-05-01T01:13:39.226790Z",
     "iopub.status.idle": "2025-05-01T01:13:39.286224Z",
     "shell.execute_reply": "2025-05-01T01:13:39.285957Z",
     "shell.execute_reply.started": "2025-05-01T01:13:39.227025Z"
    }
   },
   "outputs": [
    {
     "data": {
      "text/plain": [
       "(1437, 14, 448, 448)"
      ]
     },
     "execution_count": 2,
     "metadata": {},
     "output_type": "execute_result"
    }
   ],
   "source": [
    "scan = mbo.read_scan(\"/home/flynn/lbm_data/demo/raw/*\")\n",
    "scan.shape"
   ]
  },
  {
   "cell_type": "code",
   "execution_count": 7,
   "id": "c25a0868-5d53-43ee-bf00-6f2e1c97629c",
   "metadata": {
    "execution": {
     "iopub.execute_input": "2025-05-01T01:14:58.727354Z",
     "iopub.status.busy": "2025-05-01T01:14:58.727125Z",
     "iopub.status.idle": "2025-05-01T01:14:59.128861Z",
     "shell.execute_reply": "2025-05-01T01:14:59.128302Z",
     "shell.execute_reply.started": "2025-05-01T01:14:58.727339Z"
    }
   },
   "outputs": [
    {
     "name": "stdout",
     "output_type": "stream",
     "text": [
      "Reading tiff series data...\n",
      "Reading tiff pages...\n",
      "Raw tiff fully read.\n"
     ]
    },
    {
     "data": {
      "application/vnd.jupyter.widget-view+json": {
       "model_id": "978e40faa1424c2bbaa331517eb3f6ed",
       "version_major": 2,
       "version_minor": 0
      },
      "text/plain": [
       "Saving planes:   0%|          | 0/28 [00:00<?, ?it/s]"
      ]
     },
     "metadata": {},
     "output_type": "display_data"
    },
    {
     "ename": "AttributeError",
     "evalue": "module 'zarr' has no attribute 'creation'",
     "output_type": "error",
     "traceback": [
      "\u001b[31m---------------------------------------------------------------------------\u001b[39m",
      "\u001b[31mAttributeError\u001b[39m                            Traceback (most recent call last)",
      "\u001b[36mCell\u001b[39m\u001b[36m \u001b[39m\u001b[32mIn[7]\u001b[39m\u001b[32m, line 3\u001b[39m\n\u001b[32m      1\u001b[39m save_path = Path(\u001b[33m\"\u001b[39m\u001b[33m/home/flynn/lbm_data/demo/output\u001b[39m\u001b[33m\"\u001b[39m)\n\u001b[32m----> \u001b[39m\u001b[32m3\u001b[39m \u001b[43mmbo\u001b[49m\u001b[43m.\u001b[49m\u001b[43msave_as\u001b[49m\u001b[43m(\u001b[49m\n\u001b[32m      4\u001b[39m \u001b[43m    \u001b[49m\u001b[43mscan\u001b[49m\u001b[43m,\u001b[49m\n\u001b[32m      5\u001b[39m \u001b[43m    \u001b[49m\u001b[43msave_path\u001b[49m\u001b[43m,\u001b[49m\n\u001b[32m      6\u001b[39m \u001b[43m    \u001b[49m\u001b[43mext\u001b[49m\u001b[43m \u001b[49m\u001b[43m=\u001b[49m\u001b[43m \u001b[49m\u001b[33;43m'\u001b[39;49m\u001b[33;43m.zarr\u001b[39;49m\u001b[33;43m'\u001b[39;49m\u001b[43m,\u001b[49m\n\u001b[32m      7\u001b[39m \u001b[43m    \u001b[49m\u001b[43mplanes\u001b[49m\u001b[43m \u001b[49m\u001b[43m=\u001b[49m\u001b[43m \u001b[49m\u001b[43m[\u001b[49m\u001b[32;43m4\u001b[39;49m\u001b[43m]\u001b[49m\u001b[43m,\u001b[49m\n\u001b[32m      8\u001b[39m \u001b[43m    \u001b[49m\u001b[43moverwrite\u001b[49m\u001b[43m=\u001b[49m\u001b[38;5;28;43;01mFalse\u001b[39;49;00m\u001b[43m,\u001b[49m\n\u001b[32m      9\u001b[39m \u001b[43m)\u001b[49m\n",
      "\u001b[36mFile \u001b[39m\u001b[32m~/repos/work/mbo_utilities/mbo_utilities/assembly.py:153\u001b[39m, in \u001b[36msave_as\u001b[39m\u001b[34m(scan, savedir, planes, metadata, overwrite, ext, order, trim_edge, fix_phase, target_chunk_mb)\u001b[39m\n\u001b[32m    151\u001b[39m     savedir.mkdir(parents=\u001b[38;5;28;01mTrue\u001b[39;00m)\n\u001b[32m    152\u001b[39m start_time = time.time()\n\u001b[32m--> \u001b[39m\u001b[32m153\u001b[39m \u001b[43m_save_data\u001b[49m\u001b[43m(\u001b[49m\n\u001b[32m    154\u001b[39m \u001b[43m    \u001b[49m\u001b[43mscan\u001b[49m\u001b[43m,\u001b[49m\n\u001b[32m    155\u001b[39m \u001b[43m    \u001b[49m\u001b[43msavedir\u001b[49m\u001b[43m,\u001b[49m\n\u001b[32m    156\u001b[39m \u001b[43m    \u001b[49m\u001b[43mplanes\u001b[49m\u001b[43m,\u001b[49m\n\u001b[32m    157\u001b[39m \u001b[43m    \u001b[49m\u001b[43moverwrite\u001b[49m\u001b[43m,\u001b[49m\n\u001b[32m    158\u001b[39m \u001b[43m    \u001b[49m\u001b[43mext\u001b[49m\u001b[43m,\u001b[49m\n\u001b[32m    159\u001b[39m \u001b[43m    \u001b[49m\u001b[43mmetadata\u001b[49m\u001b[43m=\u001b[49m\u001b[43mmdata\u001b[49m\u001b[43m,\u001b[49m\n\u001b[32m    160\u001b[39m \u001b[43m    \u001b[49m\u001b[43mtrim_edge\u001b[49m\u001b[43m=\u001b[49m\u001b[43mtrim_edge\u001b[49m\u001b[43m,\u001b[49m\n\u001b[32m    161\u001b[39m \u001b[43m    \u001b[49m\u001b[43mfix_phase\u001b[49m\u001b[43m=\u001b[49m\u001b[43mfix_phase\u001b[49m\u001b[43m,\u001b[49m\n\u001b[32m    162\u001b[39m \u001b[43m    \u001b[49m\u001b[43mtarget_chunk_mb\u001b[49m\u001b[43m=\u001b[49m\u001b[43mtarget_chunk_mb\u001b[49m\u001b[43m,\u001b[49m\n\u001b[32m    163\u001b[39m \u001b[43m\u001b[49m\u001b[43m)\u001b[49m\n\u001b[32m    164\u001b[39m end_time = time.time()\n\u001b[32m    165\u001b[39m elapsed_time = end_time - start_time\n",
      "\u001b[36mFile \u001b[39m\u001b[32m~/repos/work/mbo_utilities/mbo_utilities/assembly.py:258\u001b[39m, in \u001b[36m_save_data\u001b[39m\u001b[34m(scan, path, planes, overwrite, file_extension, metadata, trim_edge, fix_phase, target_chunk_mb)\u001b[39m\n\u001b[32m    255\u001b[39m     \u001b[38;5;28;01mif\u001b[39;00m ofs:\n\u001b[32m    256\u001b[39m         data_chunk = mbo_utilities.fix_scan_phase(data_chunk, -ofs)\n\u001b[32m--> \u001b[39m\u001b[32m258\u001b[39m \u001b[43mwriter\u001b[49m\u001b[43m(\u001b[49m\u001b[43mfname\u001b[49m\u001b[43m,\u001b[49m\u001b[43m \u001b[49m\u001b[43mdata_chunk\u001b[49m\u001b[43m,\u001b[49m\u001b[43m \u001b[49m\u001b[43mchan_index\u001b[49m\u001b[43m=\u001b[49m\u001b[43mchan_index\u001b[49m\u001b[43m)\u001b[49m\n\u001b[32m    259\u001b[39m start = end\n\u001b[32m    260\u001b[39m pbar.update(\u001b[32m1\u001b[39m)\n",
      "\u001b[36mFile \u001b[39m\u001b[32m~/repos/work/mbo_utilities/mbo_utilities/assembly.py:449\u001b[39m, in \u001b[36m_write_zarr\u001b[39m\u001b[34m(path, data, overwrite, metadata, data_shape, chan_index)\u001b[39m\n\u001b[32m    447\u001b[39m empty_shape = (\u001b[32m0\u001b[39m,) + data.shape[\u001b[32m1\u001b[39m:]\n\u001b[32m    448\u001b[39m max_shape = (\u001b[38;5;28;01mNone\u001b[39;00m,) + data.shape[\u001b[32m1\u001b[39m:]\n\u001b[32m--> \u001b[39m\u001b[32m449\u001b[39m z = \u001b[43mzarr\u001b[49m\u001b[43m.\u001b[49m\u001b[43mcreation\u001b[49m.create(\n\u001b[32m    450\u001b[39m     store=\u001b[38;5;28mstr\u001b[39m(filename),\n\u001b[32m    451\u001b[39m     shape=empty_shape,\n\u001b[32m    452\u001b[39m     chunks=(\u001b[32m1\u001b[39m,) + data.shape[\u001b[32m1\u001b[39m:],  \u001b[38;5;66;03m# one slice per chunk\u001b[39;00m\n\u001b[32m    453\u001b[39m     dtype=data.dtype,\n\u001b[32m    454\u001b[39m     overwrite=\u001b[38;5;28;01mTrue\u001b[39;00m,\n\u001b[32m    455\u001b[39m     max_shape=max_shape,\n\u001b[32m    456\u001b[39m )\n\u001b[32m    457\u001b[39m \u001b[38;5;28;01mif\u001b[39;00m metadata:\n\u001b[32m    458\u001b[39m     \u001b[38;5;28;01mfor\u001b[39;00m k, v \u001b[38;5;129;01min\u001b[39;00m metadata.items():\n",
      "\u001b[31mAttributeError\u001b[39m: module 'zarr' has no attribute 'creation'"
     ]
    }
   ],
   "source": [
    "save_path = Path(\"/home/flynn/lbm_data/demo/output\")\n",
    "\n",
    "mbo.save_as(\n",
    "    scan,\n",
    "    save_path,\n",
    "    ext = '.tiff',\n",
    "    planes = [4],\n",
    "    overwrite=False,\n",
    ")"
   ]
  },
  {
   "cell_type": "code",
   "execution_count": 10,
   "id": "7f263334-f2ab-4f80-be48-33e9aee814c8",
   "metadata": {
    "execution": {
     "iopub.execute_input": "2025-04-30T05:30:40.165356Z",
     "iopub.status.busy": "2025-04-30T05:30:40.165159Z",
     "iopub.status.idle": "2025-04-30T05:30:40.170409Z",
     "shell.execute_reply": "2025-04-30T05:30:40.169542Z",
     "shell.execute_reply.started": "2025-04-30T05:30:40.165341Z"
    }
   },
   "outputs": [],
   "source": [
    "import numpy as np\n",
    "\n",
    "# fill these in with your actual values\n",
    "data = np.memmap(\n",
    "    save_path.joinpath(\"plane0\", \"raw_data.bin\"),\n",
    "    dtype=np.int16,\n",
    "    mode=\"r\",\n",
    "    # shape=(scan.shape[0], scan.shape[-1], scan.shape[-1]),\n",
    ")\n"
   ]
  },
  {
   "cell_type": "code",
   "execution_count": 11,
   "id": "48f54200-efa0-41dc-b02f-0d5e61f63fd1",
   "metadata": {
    "execution": {
     "iopub.execute_input": "2025-04-30T05:31:14.787088Z",
     "iopub.status.busy": "2025-04-30T05:31:14.785914Z",
     "iopub.status.idle": "2025-04-30T05:31:14.821662Z",
     "shell.execute_reply": "2025-04-30T05:31:14.820824Z",
     "shell.execute_reply.started": "2025-04-30T05:31:14.787049Z"
    }
   },
   "outputs": [
    {
     "ename": "ValueError",
     "evalue": "cannot reshape array of size 10235904 into shape (1437,448,448)",
     "output_type": "error",
     "traceback": [
      "\u001b[31m---------------------------------------------------------------------------\u001b[39m",
      "\u001b[31mValueError\u001b[39m                                Traceback (most recent call last)",
      "\u001b[36mCell\u001b[39m\u001b[36m \u001b[39m\u001b[32mIn[11]\u001b[39m\u001b[32m, line 1\u001b[39m\n\u001b[32m----> \u001b[39m\u001b[32m1\u001b[39m data_reshaped = \u001b[43mdata\u001b[49m\u001b[43m.\u001b[49m\u001b[43mreshape\u001b[49m\u001b[43m(\u001b[49m\u001b[43mn_frames\u001b[49m\u001b[43m,\u001b[49m\u001b[43m \u001b[49m\u001b[43mLy\u001b[49m\u001b[43m,\u001b[49m\u001b[43m \u001b[49m\u001b[43mLx\u001b[49m\u001b[43m)\u001b[49m\n\u001b[32m      2\u001b[39m data_reshaped\n",
      "\u001b[31mValueError\u001b[39m: cannot reshape array of size 10235904 into shape (1437,448,448)"
     ]
    }
   ],
   "source": [
    "data_reshaped = data.reshape(n_frames, Ly, Lx)\n",
    "data_reshaped"
   ]
  },
  {
   "cell_type": "code",
   "execution_count": 6,
   "id": "dda7f819-ea94-4f07-97e7-783951cc14bc",
   "metadata": {
    "execution": {
     "iopub.execute_input": "2025-04-30T05:27:17.582370Z",
     "iopub.status.busy": "2025-04-30T05:27:17.582002Z",
     "iopub.status.idle": "2025-04-30T05:27:17.589770Z",
     "shell.execute_reply": "2025-04-30T05:27:17.588909Z",
     "shell.execute_reply.started": "2025-04-30T05:27:17.582341Z"
    }
   },
   "outputs": [
    {
     "data": {
      "text/plain": [
       "(20471808,)"
      ]
     },
     "execution_count": 6,
     "metadata": {},
     "output_type": "execute_result"
    }
   ],
   "source": [
    "import numpy as np\n",
    "data = np.memmap(save_path.joinpath(\"plane0\", \"raw_data.bin\")"
   ]
  },
  {
   "cell_type": "code",
   "execution_count": null,
   "id": "eb6dd0f5-e7cb-48d2-ae0f-72f6d4caef51",
   "metadata": {},
   "outputs": [],
   "source": [
    "fpl.ImageWidget("
   ]
  }
 ],
 "metadata": {
  "kernelspec": {
   "display_name": "Python 3 (ipykernel)",
   "language": "python",
   "name": "python3"
  },
  "language_info": {
   "codemirror_mode": {
    "name": "ipython",
    "version": 3
   },
   "file_extension": ".py",
   "mimetype": "text/x-python",
   "name": "python",
   "nbconvert_exporter": "python",
   "pygments_lexer": "ipython3",
   "version": "3.11.12"
  }
 },
 "nbformat": 4,
 "nbformat_minor": 5
}
