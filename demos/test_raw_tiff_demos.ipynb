{
 "cells": [
  {
   "cell_type": "code",
   "execution_count": 1,
   "id": "d468b8e5-b110-4d96-9e61-0bd5a5949f09",
   "metadata": {
    "execution": {
     "iopub.execute_input": "2025-06-03T15:02:03.194916Z",
     "iopub.status.busy": "2025-06-03T15:02:03.194386Z",
     "iopub.status.idle": "2025-06-03T15:02:03.356640Z",
     "shell.execute_reply": "2025-06-03T15:02:03.356041Z",
     "shell.execute_reply.started": "2025-06-03T15:02:03.194890Z"
    }
   },
   "outputs": [
    {
     "name": "stdout",
     "output_type": "stream",
     "text": [
      "Sourcing .zshenv...\n",
      "\u001b[2mUsing Python 3.12.10 environment at: /home/flynn/repos/work/mbo_utilities/.venv\u001b[0m\n",
      "\u001b[2mAudited \u001b[1m1 package\u001b[0m \u001b[2min 18ms\u001b[0m\u001b[0m\n"
     ]
    }
   ],
   "source": [
    "!uv pip install jupyterlab-vim"
   ]
  },
  {
   "cell_type": "code",
   "execution_count": 12,
   "id": "50257acf-420a-4138-809a-60a77fd6f3b6",
   "metadata": {
    "execution": {
     "iopub.execute_input": "2025-06-03T15:13:44.259134Z",
     "iopub.status.busy": "2025-06-03T15:13:44.258807Z",
     "iopub.status.idle": "2025-06-03T15:13:44.263441Z",
     "shell.execute_reply": "2025-06-03T15:13:44.262744Z",
     "shell.execute_reply.started": "2025-06-03T15:13:44.259106Z"
    }
   },
   "outputs": [],
   "source": [
    "import mbo_utilities as mbo\n",
    "import fastplotlib as fpl\n",
    "from suite2p.io import BinaryFile"
   ]
  },
  {
   "cell_type": "code",
   "execution_count": 13,
   "id": "32bdd968-8bf0-4dca-811e-9ab74215ecb6",
   "metadata": {
    "execution": {
     "iopub.execute_input": "2025-06-03T15:13:44.567832Z",
     "iopub.status.busy": "2025-06-03T15:13:44.567487Z",
     "iopub.status.idle": "2025-06-03T15:13:44.571617Z",
     "shell.execute_reply": "2025-06-03T15:13:44.570898Z",
     "shell.execute_reply.started": "2025-06-03T15:13:44.567805Z"
    }
   },
   "outputs": [],
   "source": [
    "import numpy as np\n",
    "from scipy.ndimage import fourier_shift\n",
    "from skimage.registration import phase_cross_correlation"
   ]
  },
  {
   "cell_type": "code",
   "execution_count": 14,
   "id": "1e6879ba-2292-43b0-a0cd-d8f003340837",
   "metadata": {
    "execution": {
     "iopub.execute_input": "2025-06-03T15:13:44.884794Z",
     "iopub.status.busy": "2025-06-03T15:13:44.884478Z",
     "iopub.status.idle": "2025-06-03T15:13:44.889974Z",
     "shell.execute_reply": "2025-06-03T15:13:44.889342Z",
     "shell.execute_reply.started": "2025-06-03T15:13:44.884769Z"
    }
   },
   "outputs": [
    {
     "data": {
      "text/plain": [
       "'/home/flynn/lbm_data/bin/roi1/plane10/ops.npy'"
      ]
     },
     "execution_count": 14,
     "metadata": {},
     "output_type": "execute_result"
    }
   ],
   "source": [
    "bin_files = mbo.get_files(\"/home/flynn/lbm_data/bin\",\"ops.npy\",max_depth=3)[0]\n",
    "bin_files"
   ]
  },
  {
   "cell_type": "code",
   "execution_count": 15,
   "id": "420f7e8f-5cc4-4c5f-8542-dd7924fda9dc",
   "metadata": {
    "execution": {
     "iopub.execute_input": "2025-06-03T15:13:45.588697Z",
     "iopub.status.busy": "2025-06-03T15:13:45.587909Z",
     "iopub.status.idle": "2025-06-03T15:13:45.600391Z",
     "shell.execute_reply": "2025-06-03T15:13:45.599160Z",
     "shell.execute_reply.started": "2025-06-03T15:13:45.588662Z"
    }
   },
   "outputs": [],
   "source": [
    "from suite2p.io import BinaryFile\n",
    "import numpy as np\n",
    "\n",
    "class LazySuite2pMovie:\n",
    "    def __init__(self, ops_path):\n",
    "        \"\"\"\n",
    "        ops_path should point to the ops.npy you created when writing.\n",
    "        After loading, ops[\"reg_file\"] is the path to data_raw.bin,\n",
    "        ops[\"Ly\"], ops[\"Lx\"], and ops[\"nframes\"] tell us how to open it.\n",
    "        \"\"\"\n",
    "        ops = np.load(ops_path, allow_pickle=True).item()\n",
    "        Ly = ops[\"Ly\"]\n",
    "        Lx = ops[\"Lx\"]\n",
    "        n_frames = ops[\"nframes\"]\n",
    "        reg_file = ops[\"reg_file\"]\n",
    "        # keep the BinaryFile open for lazy indexing\n",
    "        self._bf = BinaryFile(Ly=Ly, Lx=Lx, filename=reg_file, n_frames=n_frames)\n",
    "        self.shape = (n_frames, Ly, Lx)\n",
    "        self.ndim = 3\n",
    "        self.dtype = np.int16\n",
    "\n",
    "    def __len__(self):\n",
    "        return self.shape[0]\n",
    "\n",
    "    def __getitem__(self, key):\n",
    "        # 1) integer → single 2D frame\n",
    "        if isinstance(key, int):\n",
    "            return self._bf[key]\n",
    "\n",
    "        # 2) slice in time → stack that range into a NumPy array\n",
    "        if isinstance(key, slice):\n",
    "            idxs = range(*key.indices(self.shape[0]))\n",
    "            return np.stack([self._bf[i] for i in idxs], axis=0)\n",
    "\n",
    "        # 3) full 3D indexing (t, y, x), where t may be int or slice\n",
    "        t, y, x = key\n",
    "        if isinstance(t, int):\n",
    "            frame = self._bf[t]\n",
    "            return frame[y, x]\n",
    "        # if t is a slice and y/x slices:\n",
    "        idxs = range(*t.indices(self.shape[0]))\n",
    "        return np.stack([self._bf[i][y, x] for i in idxs], axis=0)\n",
    "\n",
    "    @property\n",
    "    def min(self) -> float:\n",
    "        # Fastplotlib’s quick_min_max will use this to avoid scanning entire file\n",
    "        return float(self._bf[0].min())\n",
    "\n",
    "    @property\n",
    "    def max(self) -> float:\n",
    "        return float(self._bf[0].max())\n",
    "\n",
    "    def __array__(self):\n",
    "        # Provide a small NumPy “preview” so that subsample_array() (used by the histogram)\n",
    "        # can actually return a real array. We only grab the first few frames.\n",
    "        n = min(10, self.shape[0])\n",
    "        return np.stack([self._bf[i] for i in range(n)], axis=0)\n",
    "\n",
    "    def close(self):\n",
    "        # Call this when you’re done\n",
    "        self._bf.file.close()\n",
    "\n",
    "\n",
    "def load_lazy_movie_for_fastplotlib(ops_path: str) -> LazySuite2pMovie:\n",
    "    \"\"\"\n",
    "    Given the path to your ops.npy (which contains \"reg_file\", \"Ly\", \"Lx\", \"nframes\"),\n",
    "    return a LazySuite2pMovie that you can hand to ImageWidget:\n",
    "\n",
    "        reader = load_lazy_movie_for_fastplotlib(\"/.../ops.npy\")\n",
    "        fpl.ImageWidget(reader).show()\n",
    "    \"\"\"\n",
    "    return LazySuite2pMovie(ops_path)\n"
   ]
  },
  {
   "cell_type": "code",
   "execution_count": 16,
   "id": "55062c24-d2dc-4c6e-bbd1-1c8ead95e218",
   "metadata": {
    "execution": {
     "iopub.execute_input": "2025-06-03T15:13:46.428861Z",
     "iopub.status.busy": "2025-06-03T15:13:46.428110Z",
     "iopub.status.idle": "2025-06-03T15:13:46.436222Z",
     "shell.execute_reply": "2025-06-03T15:13:46.434879Z",
     "shell.execute_reply.started": "2025-06-03T15:13:46.428816Z"
    }
   },
   "outputs": [],
   "source": [
    "reader = LazySuite2pMovie(bin_files)"
   ]
  },
  {
   "cell_type": "code",
   "execution_count": 17,
   "id": "1d55f660-25e8-48f6-940f-69d1d386f2d8",
   "metadata": {
    "execution": {
     "iopub.execute_input": "2025-06-03T15:13:46.941064Z",
     "iopub.status.busy": "2025-06-03T15:13:46.940926Z",
     "iopub.status.idle": "2025-06-03T15:13:47.094060Z",
     "shell.execute_reply": "2025-06-03T15:13:47.093424Z",
     "shell.execute_reply.started": "2025-06-03T15:13:46.941052Z"
    }
   },
   "outputs": [
    {
     "data": {
      "application/vnd.jupyter.widget-view+json": {
       "model_id": "7b0cd1ffdf71454cae7c96de90d6f95d",
       "version_major": 2,
       "version_minor": 0
      },
      "text/plain": [
       "RFBOutputContext()"
      ]
     },
     "metadata": {},
     "output_type": "display_data"
    },
    {
     "data": {
      "application/vnd.jupyter.widget-view+json": {
       "model_id": "4c5ca498fce2486abf607be83ba47387",
       "version_major": 2,
       "version_minor": 0
      },
      "text/html": [
       "<div class='snapshot-4c5ca498fce2486abf607be83ba47387' style='position:relative;'><img src='data:image/png;base64,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' style='width:500.0px;height:300.0px;' /><div style='position: absolute; top:0; left:0; padding:1px 3px; background: #777; color:#fff; font-size: 90%; font-family:sans-serif; '>snapshot</div></div>"
      ],
      "text/plain": [
       "JupyterRenderCanvas(css_height='300.0px', css_width='500.0px')"
      ]
     },
     "execution_count": 17,
     "metadata": {},
     "output_type": "execute_result"
    }
   ],
   "source": [
    "fpl.ImageWidget(reader, histogram_widget=True).show()"
   ]
  },
  {
   "cell_type": "code",
   "execution_count": 36,
   "id": "2085d2a7-0793-4342-85e1-1588e1941b63",
   "metadata": {
    "execution": {
     "iopub.execute_input": "2025-06-04T01:59:32.721086Z",
     "iopub.status.busy": "2025-06-04T01:59:32.720633Z",
     "iopub.status.idle": "2025-06-04T01:59:32.729569Z",
     "shell.execute_reply": "2025-06-04T01:59:32.728670Z",
     "shell.execute_reply.started": "2025-06-04T01:59:32.721053Z"
    }
   },
   "outputs": [],
   "source": [
    "from pprint import pprint\n",
    "mdata = np.load(\"/home/flynn/lbm_data/bin/roi1/plane11/ops.npy\", allow_pickle=True).item()\n",
    "# mdata = np.load(\"/home/flynn/lbm_data/tif/roi2/results_testing/ops.npy\", allow_pickle=True).item()\n",
    "mdata_short = mdata.pop(\"si\")"
   ]
  },
  {
   "cell_type": "code",
   "execution_count": 11,
   "id": "6515e50c-19b7-405c-ba61-e9a9e8d396a3",
   "metadata": {
    "execution": {
     "iopub.execute_input": "2025-06-03T15:02:28.762976Z",
     "iopub.status.busy": "2025-06-03T15:02:28.762857Z",
     "iopub.status.idle": "2025-06-03T15:02:28.767793Z",
     "shell.execute_reply": "2025-06-03T15:02:28.767321Z",
     "shell.execute_reply.started": "2025-06-03T15:02:28.762966Z"
    }
   },
   "outputs": [
    {
     "data": {
      "text/plain": [
       "['/home/flynn/lbm_data/raw/mk301_03_01_2025_2roi_17p07hz_224x448px_2umpx_180mw_green_00004.tif',\n",
       " '/home/flynn/lbm_data/raw/mk301_03_01_2025_2roi_17p07hz_224x448px_2umpx_180mw_green_00002.tif',\n",
       " '/home/flynn/lbm_data/raw/mk301_03_01_2025_2roi_17p07hz_224x448px_2umpx_180mw_green_00010.tif',\n",
       " '/home/flynn/lbm_data/raw/mk301_03_01_2025_2roi_17p07hz_224x448px_2umpx_180mw_green_00008.tif',\n",
       " '/home/flynn/lbm_data/raw/mk301_03_01_2025_2roi_17p07hz_224x448px_2umpx_180mw_green_00005.tif',\n",
       " '/home/flynn/lbm_data/raw/mk301_03_01_2025_2roi_17p07hz_224x448px_2umpx_180mw_green_00001.tif',\n",
       " '/home/flynn/lbm_data/raw/mk301_03_01_2025_2roi_17p07hz_224x448px_2umpx_180mw_green_00000.tif',\n",
       " '/home/flynn/lbm_data/raw/mk301_03_01_2025_2roi_17p07hz_224x448px_2umpx_180mw_green_00009.tif',\n",
       " '/home/flynn/lbm_data/raw/mk301_03_01_2025_2roi_17p07hz_224x448px_2umpx_180mw_green_00003.tif',\n",
       " '/home/flynn/lbm_data/raw/mk301_03_01_2025_2roi_17p07hz_224x448px_2umpx_180mw_green_00006.tif',\n",
       " '/home/flynn/lbm_data/raw/mk301_03_01_2025_2roi_17p07hz_224x448px_2umpx_180mw_green_00007.tif']"
      ]
     },
     "execution_count": 11,
     "metadata": {},
     "output_type": "execute_result"
    }
   ],
   "source": [
    "raw_files = mbo.get_files(\"/home/flynn/lbm_data/raw\",max_depth=3)\n",
    "raw_files"
   ]
  },
  {
   "cell_type": "code",
   "execution_count": 92,
   "id": "229581f8-8807-4ab0-bea9-cff042d20c2c",
   "metadata": {
    "execution": {
     "iopub.execute_input": "2025-06-02T14:42:02.664095Z",
     "iopub.status.busy": "2025-06-02T14:42:02.663748Z",
     "iopub.status.idle": "2025-06-02T14:42:02.767628Z",
     "shell.execute_reply": "2025-06-02T14:42:02.766999Z",
     "shell.execute_reply.started": "2025-06-02T14:42:02.664074Z"
    }
   },
   "outputs": [
    {
     "name": "stderr",
     "output_type": "stream",
     "text": [
      "ic| record.getMessage(): 'MBO Scan initialized.'\n"
     ]
    }
   ],
   "source": [
    "scan = mbo.read_scan(\"/home/flynn/lbm_data/raw\", roi=2)"
   ]
  },
  {
   "cell_type": "code",
   "execution_count": 93,
   "id": "6f464913-0487-4bb0-b19b-d66a3ffb6d77",
   "metadata": {
    "execution": {
     "iopub.execute_input": "2025-06-02T14:42:03.070762Z",
     "iopub.status.busy": "2025-06-02T14:42:03.070433Z",
     "iopub.status.idle": "2025-06-02T14:42:03.545491Z",
     "shell.execute_reply": "2025-06-02T14:42:03.544541Z",
     "shell.execute_reply.started": "2025-06-02T14:42:03.070736Z"
    }
   },
   "outputs": [
    {
     "data": {
      "text/plain": [
       "(1437, 448, 224)"
      ]
     },
     "execution_count": 93,
     "metadata": {},
     "output_type": "execute_result"
    }
   ],
   "source": [
    "data = scan[:, 11, :, :]\n",
    "data.shape"
   ]
  },
  {
   "cell_type": "code",
   "execution_count": 94,
   "id": "6a0c9e0c-b65f-44d6-b486-ae1efb32a137",
   "metadata": {
    "execution": {
     "iopub.execute_input": "2025-06-02T14:42:03.546567Z",
     "iopub.status.busy": "2025-06-02T14:42:03.546403Z",
     "iopub.status.idle": "2025-06-02T14:42:03.575128Z",
     "shell.execute_reply": "2025-06-02T14:42:03.574329Z",
     "shell.execute_reply.started": "2025-06-02T14:42:03.546552Z"
    }
   },
   "outputs": [
    {
     "data": {
      "text/plain": [
       "(1437,)"
      ]
     },
     "execution_count": 94,
     "metadata": {},
     "output_type": "execute_result"
    }
   ],
   "source": [
    "offsets = np.zeros(scan.num_frames, dtype=np.float32)\n",
    "offsets.shape"
   ]
  },
  {
   "cell_type": "code",
   "execution_count": null,
   "id": "e3bcae25-0522-4bc5-a4c2-f065c2cdd299",
   "metadata": {},
   "outputs": [],
   "source": [
    "offsets = compute_scan_phase_offsets(scan[:, 11, :, :], upsample=10, border=0, max_offset=1)\n",
    "offsets"
   ]
  },
  {
   "cell_type": "code",
   "execution_count": 55,
   "id": "b4bc360a-8ad9-4fec-a488-ca347cec0bca",
   "metadata": {
    "execution": {
     "iopub.execute_input": "2025-06-02T00:51:24.959278Z",
     "iopub.status.busy": "2025-06-02T00:51:24.958677Z",
     "iopub.status.idle": "2025-06-02T00:51:28.098403Z",
     "shell.execute_reply": "2025-06-02T00:51:28.097942Z",
     "shell.execute_reply.started": "2025-06-02T00:51:24.959241Z"
    }
   },
   "outputs": [],
   "source": [
    "frames = apply_scan_phase_offsets(scan[:, 11, :, :], offsets)"
   ]
  },
  {
   "cell_type": "code",
   "execution_count": 50,
   "id": "316bffc3-e6d6-454a-ad1c-3e3799190ccb",
   "metadata": {
    "execution": {
     "iopub.execute_input": "2025-06-02T00:46:01.511621Z",
     "iopub.status.busy": "2025-06-02T00:46:01.510947Z",
     "iopub.status.idle": "2025-06-02T00:46:01.543731Z",
     "shell.execute_reply": "2025-06-02T00:46:01.543320Z",
     "shell.execute_reply.started": "2025-06-02T00:46:01.511570Z"
    }
   },
   "outputs": [
    {
     "data": {
      "text/plain": [
       "[209, 210, 506, 533]"
      ]
     },
     "execution_count": 50,
     "metadata": {},
     "output_type": "execute_result"
    }
   ],
   "source": [
    "bad_indices = [i for i, off in enumerate(offsets) if abs(off) > 2]\n",
    "bad_indices"
   ]
  },
  {
   "cell_type": "code",
   "execution_count": 56,
   "id": "0de4d624-2a4a-4cb2-a37f-6fe31c4981a1",
   "metadata": {
    "execution": {
     "iopub.execute_input": "2025-06-02T00:51:44.639721Z",
     "iopub.status.busy": "2025-06-02T00:51:44.639242Z",
     "iopub.status.idle": "2025-06-02T00:51:44.823222Z",
     "shell.execute_reply": "2025-06-02T00:51:44.822762Z",
     "shell.execute_reply.started": "2025-06-02T00:51:44.639693Z"
    }
   },
   "outputs": [
    {
     "data": {
      "application/vnd.jupyter.widget-view+json": {
       "model_id": "c8deddcde4e74fe1ba87568c37c41c4f",
       "version_major": 2,
       "version_minor": 0
      },
      "text/plain": [
       "RFBOutputContext()"
      ]
     },
     "metadata": {},
     "output_type": "display_data"
    },
    {
     "data": {
      "application/vnd.jupyter.widget-view+json": {
       "model_id": "23a56cd8ade14bfba5a2117884f45c4b",
       "version_major": 2,
       "version_minor": 0
      },
      "text/html": [
       "<div class='snapshot-23a56cd8ade14bfba5a2117884f45c4b' style='position:relative;'><img src='data:image/png;base64,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' style='width:500.0px;height:300.0px;' /><div style='position: absolute; top:0; left:0; padding:1px 3px; background: #777; color:#fff; font-size: 90%; font-family:sans-serif; '>snapshot</div></div>"
      ],
      "text/plain": [
       "JupyterRenderCanvas(css_height='300.0px', css_width='500.0px')"
      ]
     },
     "execution_count": 56,
     "metadata": {},
     "output_type": "execute_result"
    }
   ],
   "source": [
    "fpl.ImageWidget(frames[bad_indices]).show()"
   ]
  },
  {
   "cell_type": "code",
   "execution_count": 18,
   "id": "919d34a6-d55c-40f0-8757-3b9ee7d3c620",
   "metadata": {
    "execution": {
     "iopub.execute_input": "2025-06-01T02:14:35.687342Z",
     "iopub.status.busy": "2025-06-01T02:14:35.686902Z",
     "iopub.status.idle": "2025-06-01T02:14:36.451934Z",
     "shell.execute_reply": "2025-06-01T02:14:36.451321Z",
     "shell.execute_reply.started": "2025-06-01T02:14:35.687312Z"
    }
   },
   "outputs": [
    {
     "name": "stdout",
     "output_type": "stream",
     "text": [
      "(128, 912, 224)\n"
     ]
    }
   ],
   "source": [
    "with tifffile.TiffFile(files[0], is_scanimage=False) as tif:\n",
    "    \n",
    "    data = tif.asarray()\n",
    "    h, w = data.shape[1:]\n",
    "    dtype = data.dtype\n",
    "\n",
    "    bytes_per_frame = h * w * np.dtype(dtype).itemsize\n",
    "    max_frames = (50 * 1024**2) // bytes_per_frame  # 50 MB\n",
    "    sliced = data[:max_frames]\n",
    "    \n",
    "print(sliced.shape)"
   ]
  },
  {
   "cell_type": "code",
   "execution_count": 19,
   "id": "8a066db6-77df-4965-ac3a-d37f3b5cbb27",
   "metadata": {
    "execution": {
     "iopub.execute_input": "2025-04-16T19:13:11.472596Z",
     "iopub.status.busy": "2025-04-16T19:13:11.472596Z",
     "iopub.status.idle": "2025-04-16T19:13:11.564424Z",
     "shell.execute_reply": "2025-04-16T19:13:11.564424Z",
     "shell.execute_reply.started": "2025-04-16T19:13:11.472596Z"
    }
   },
   "outputs": [],
   "source": [
    "with open(files[0], 'rb') as f:\n",
    "    frame_data, roi_data, version = read_scanimage_metadata(f)\n",
    "\n",
    "    frame_bytes = sliced.shape[1] * sliced.shape[2] * np.dtype(sliced.dtype).itemsize\n",
    "    max_frames = int((50 * 1024**2) // frame_bytes)\n",
    "    sliced = full_data[:max_frames]"
   ]
  },
  {
   "cell_type": "code",
   "execution_count": 30,
   "id": "2b6bf160-6d0a-47e9-8f95-727fc2538476",
   "metadata": {
    "execution": {
     "iopub.execute_input": "2025-04-16T19:20:33.892757Z",
     "iopub.status.busy": "2025-04-16T19:20:33.892757Z",
     "iopub.status.idle": "2025-04-16T19:20:33.986288Z",
     "shell.execute_reply": "2025-04-16T19:20:33.986288Z",
     "shell.execute_reply.started": "2025-04-16T19:20:33.892757Z"
    }
   },
   "outputs": [],
   "source": [
    "from tifffile import TiffWriter\n",
    "import struct\n",
    "import json\n",
    "\n",
    "save_path = Path().cwd().parent.joinpath(\"data\")\n",
    "save_file = save_path.joinpath(\"demo.tif\")"
   ]
  },
  {
   "cell_type": "code",
   "execution_count": 51,
   "id": "39bf2188-da1a-49ee-8203-a6645c73f9c8",
   "metadata": {
    "execution": {
     "iopub.execute_input": "2025-04-16T20:16:59.560907Z",
     "iopub.status.busy": "2025-04-16T20:16:59.560907Z",
     "iopub.status.idle": "2025-04-16T20:16:59.642531Z",
     "shell.execute_reply": "2025-04-16T20:16:59.642531Z",
     "shell.execute_reply.started": "2025-04-16T20:16:59.560907Z"
    }
   },
   "outputs": [],
   "source": [
    "def matlabstr(obj):\n",
    "    \"\"\"Convert Python dict to ScanImage-style MATLAB string.\"\"\"\n",
    "    def _format(v):\n",
    "        if isinstance(v, list):\n",
    "            if all(isinstance(i, str) for i in v):\n",
    "                return '{' + ' '.join(f\"'{i}'\" for i in v) + '}'\n",
    "            return '[' + ' '.join(str(i) for i in v) + ']'\n",
    "        if isinstance(v, str):\n",
    "            return f\"'{v}'\"\n",
    "        if isinstance(v, bool):\n",
    "            return 'true' if v else 'false'\n",
    "        return str(v)\n",
    "\n",
    "    return '\\n'.join(f\"{k} = {_format(v)}\" for k, v in obj.items())\n"
   ]
  },
  {
   "cell_type": "code",
   "execution_count": 37,
   "id": "002cd107-6d49-4eda-a37d-3f97c47e1945",
   "metadata": {
    "execution": {
     "iopub.execute_input": "2025-04-16T19:48:24.845975Z",
     "iopub.status.busy": "2025-04-16T19:48:24.845975Z",
     "iopub.status.idle": "2025-04-16T19:48:24.951248Z",
     "shell.execute_reply": "2025-04-16T19:48:24.951248Z",
     "shell.execute_reply.started": "2025-04-16T19:48:24.845975Z"
    }
   },
   "outputs": [],
   "source": [
    "sp = r\"C:\\Users\\RBO\\repos\\mbo_utilities\\data\"\n",
    "with open(save_file, 'wb') as f:\n",
    "    # Write ScanImage header manually\n",
    "    f.write(struct.pack('<2sH', b'II', 43))  # BigTIFF header\n",
    "    f.seek(16)\n",
    "\n",
    "    # Fake ScanImage metadata block (exactly like original)\n",
    "    metadata_bin = bytearray()\n",
    "    metadata_bin += struct.pack('<IIII', 117637889, version, 0, 0)  # placeholder sizes\n",
    "\n",
    "    # Serialize static + ROI metadata\n",
    "    # static_txt = tifffile.matlabstr2py(frame_data).encode('utf-8') + b'\\0'\n",
    "    static_txt = matlabstr(frame_data).encode('utf-8') + b'\\0'\n",
    "\n",
    "    roi_txt = json.dumps(roi_data, separators=(',', ':')).encode('utf-8')\n",
    "\n",
    "    size0 = len(static_txt)\n",
    "    size1 = len(roi_txt)\n",
    "    metadata_bin[8:16] = struct.pack('<II', size0, size1)\n",
    "    metadata_bin += static_txt\n",
    "    metadata_bin += roi_txt\n",
    "\n",
    "    # Write metadata\n",
    "    f.write(metadata_bin)\n",
    "\n",
    "    offset_to_first_ifd = f.tell()"
   ]
  },
  {
   "cell_type": "code",
   "execution_count": 39,
   "id": "c56b6fc8-f4a1-40d6-a232-ded9f722c852",
   "metadata": {
    "execution": {
     "iopub.execute_input": "2025-04-16T19:49:45.673820Z",
     "iopub.status.busy": "2025-04-16T19:49:45.673820Z",
     "iopub.status.idle": "2025-04-16T19:49:45.767529Z",
     "shell.execute_reply": "2025-04-16T19:49:45.767529Z",
     "shell.execute_reply.started": "2025-04-16T19:49:45.673820Z"
    }
   },
   "outputs": [
    {
     "data": {
      "text/plain": [
       "_io.BufferedWriter"
      ]
     },
     "execution_count": 39,
     "metadata": {},
     "output_type": "execute_result"
    }
   ],
   "source": [
    "type(f)"
   ]
  },
  {
   "cell_type": "code",
   "execution_count": 55,
   "id": "5c1fb5a3-27d7-48b2-b4e1-1956aa743002",
   "metadata": {
    "execution": {
     "iopub.execute_input": "2025-04-16T20:19:54.017746Z",
     "iopub.status.busy": "2025-04-16T20:19:54.017746Z",
     "iopub.status.idle": "2025-04-16T20:19:54.111218Z",
     "shell.execute_reply": "2025-04-16T20:19:54.111218Z",
     "shell.execute_reply.started": "2025-04-16T20:19:54.017746Z"
    }
   },
   "outputs": [],
   "source": [
    "import tifffile\n",
    "import numpy as np\n",
    "import shutil\n",
    "\n",
    "def trim_tiff_frames(input_path, output_path, max_frames=20):\n",
    "    # Copy original file to preserve metadata\n",
    "    shutil.copyfile(input_path, output_path)\n",
    "\n",
    "    with tifffile.TiffFile(input_path, is_scanimage=False) as tif:\n",
    "        data = tif.asarray()[:max_frames]\n",
    "\n",
    "    with tifffile.TiffWriter(output_path, bigtiff=True, append=True) as tif_writer:\n",
    "        for frame in data:\n",
    "            tif_writer.write(\n",
    "                frame,\n",
    "                contiguous=False,\n",
    "                metadata=None,\n",
    "                software=None,\n",
    "                description=None\n",
    "            )\n"
   ]
  },
  {
   "cell_type": "code",
   "execution_count": 58,
   "id": "4819ba33-d991-4f79-82c4-a27d9d05e9c3",
   "metadata": {
    "execution": {
     "iopub.execute_input": "2025-04-16T20:21:15.571046Z",
     "iopub.status.busy": "2025-04-16T20:21:15.571046Z",
     "iopub.status.idle": "2025-04-16T20:21:16.280137Z",
     "shell.execute_reply": "2025-04-16T20:21:16.280137Z",
     "shell.execute_reply.started": "2025-04-16T20:21:15.571046Z"
    }
   },
   "outputs": [
    {
     "name": "stderr",
     "output_type": "stream",
     "text": [
      "<tifffile.TiffFile 'scanimage_trimmed.tif'> ScanImage series raised ValueError('unable to determine framesPerSlice')\n"
     ]
    }
   ],
   "source": [
    "output_path= r\"..\\data\\scanimage_trimmed.tif\"\n",
    "new = tifffile.imread(output_path)"
   ]
  },
  {
   "cell_type": "code",
   "execution_count": 11,
   "id": "9e7da1ba-be73-4252-93df-38eea6777be6",
   "metadata": {
    "execution": {
     "iopub.execute_input": "2025-04-16T18:58:16.720760Z",
     "iopub.status.busy": "2025-04-16T18:58:16.720760Z",
     "iopub.status.idle": "2025-04-16T18:58:16.824817Z",
     "shell.execute_reply": "2025-04-16T18:58:16.824817Z",
     "shell.execute_reply.started": "2025-04-16T18:58:16.720760Z"
    },
    "scrolled": true
   },
   "outputs": [
    {
     "data": {
      "text/plain": [
       "['D:\\\\W2_DATA\\\\kbarber\\\\2025_03_01\\\\mk301\\\\green\\\\mk301_03_01_2025_2roi_17p07hz_224x448px_2umpx_180mw_green_00000.tif',\n",
       " 'D:\\\\W2_DATA\\\\kbarber\\\\2025_03_01\\\\mk301\\\\green\\\\mk301_03_01_2025_2roi_17p07hz_224x448px_2umpx_180mw_green_00001.tif',\n",
       " 'D:\\\\W2_DATA\\\\kbarber\\\\2025_03_01\\\\mk301\\\\green\\\\mk301_03_01_2025_2roi_17p07hz_224x448px_2umpx_180mw_green_00002.tif',\n",
       " 'D:\\\\W2_DATA\\\\kbarber\\\\2025_03_01\\\\mk301\\\\green\\\\mk301_03_01_2025_2roi_17p07hz_224x448px_2umpx_180mw_green_00003.tif',\n",
       " 'D:\\\\W2_DATA\\\\kbarber\\\\2025_03_01\\\\mk301\\\\green\\\\mk301_03_01_2025_2roi_17p07hz_224x448px_2umpx_180mw_green_00004.tif',\n",
       " 'D:\\\\W2_DATA\\\\kbarber\\\\2025_03_01\\\\mk301\\\\green\\\\mk301_03_01_2025_2roi_17p07hz_224x448px_2umpx_180mw_green_00005.tif',\n",
       " 'D:\\\\W2_DATA\\\\kbarber\\\\2025_03_01\\\\mk301\\\\green\\\\mk301_03_01_2025_2roi_17p07hz_224x448px_2umpx_180mw_green_00006.tif',\n",
       " 'D:\\\\W2_DATA\\\\kbarber\\\\2025_03_01\\\\mk301\\\\green\\\\mk301_03_01_2025_2roi_17p07hz_224x448px_2umpx_180mw_green_00007.tif',\n",
       " 'D:\\\\W2_DATA\\\\kbarber\\\\2025_03_01\\\\mk301\\\\green\\\\mk301_03_01_2025_2roi_17p07hz_224x448px_2umpx_180mw_green_00008.tif',\n",
       " 'D:\\\\W2_DATA\\\\kbarber\\\\2025_03_01\\\\mk301\\\\green\\\\mk301_03_01_2025_2roi_17p07hz_224x448px_2umpx_180mw_green_00009.tif',\n",
       " 'D:\\\\W2_DATA\\\\kbarber\\\\2025_03_01\\\\mk301\\\\green\\\\mk301_03_01_2025_2roi_17p07hz_224x448px_2umpx_180mw_green_00010.tif',\n",
       " 'D:\\\\W2_DATA\\\\kbarber\\\\2025_03_01\\\\mk301\\\\green\\\\mk301_03_01_2025_2roi_17p07hz_224x448px_2umpx_180mw_green_00011.tif',\n",
       " 'D:\\\\W2_DATA\\\\kbarber\\\\2025_03_01\\\\mk301\\\\green\\\\mk301_03_01_2025_2roi_17p07hz_224x448px_2umpx_180mw_green_00012.tif',\n",
       " 'D:\\\\W2_DATA\\\\kbarber\\\\2025_03_01\\\\mk301\\\\green\\\\mk301_03_01_2025_2roi_17p07hz_224x448px_2umpx_180mw_green_00013.tif',\n",
       " 'D:\\\\W2_DATA\\\\kbarber\\\\2025_03_01\\\\mk301\\\\green\\\\mk301_03_01_2025_2roi_17p07hz_224x448px_2umpx_180mw_green_00014.tif',\n",
       " 'D:\\\\W2_DATA\\\\kbarber\\\\2025_03_01\\\\mk301\\\\green\\\\mk301_03_01_2025_2roi_17p07hz_224x448px_2umpx_180mw_green_00015.tif',\n",
       " 'D:\\\\W2_DATA\\\\kbarber\\\\2025_03_01\\\\mk301\\\\green\\\\mk301_03_01_2025_2roi_17p07hz_224x448px_2umpx_180mw_green_00016.tif',\n",
       " 'D:\\\\W2_DATA\\\\kbarber\\\\2025_03_01\\\\mk301\\\\green\\\\mk301_03_01_2025_2roi_17p07hz_224x448px_2umpx_180mw_green_00017.tif',\n",
       " 'D:\\\\W2_DATA\\\\kbarber\\\\2025_03_01\\\\mk301\\\\green\\\\mk301_03_01_2025_2roi_17p07hz_224x448px_2umpx_180mw_green_00018.tif',\n",
       " 'D:\\\\W2_DATA\\\\kbarber\\\\2025_03_01\\\\mk301\\\\green\\\\mk301_03_01_2025_2roi_17p07hz_224x448px_2umpx_180mw_green_00019.tif',\n",
       " 'D:\\\\W2_DATA\\\\kbarber\\\\2025_03_01\\\\mk301\\\\green\\\\mk301_03_01_2025_2roi_17p07hz_224x448px_2umpx_180mw_green_00020.tif',\n",
       " 'D:\\\\W2_DATA\\\\kbarber\\\\2025_03_01\\\\mk301\\\\green\\\\mk301_03_01_2025_2roi_17p07hz_224x448px_2umpx_180mw_green_00021.tif',\n",
       " 'D:\\\\W2_DATA\\\\kbarber\\\\2025_03_01\\\\mk301\\\\green\\\\mk301_03_01_2025_2roi_17p07hz_224x448px_2umpx_180mw_green_00022.tif',\n",
       " 'D:\\\\W2_DATA\\\\kbarber\\\\2025_03_01\\\\mk301\\\\green\\\\mk301_03_01_2025_2roi_17p07hz_224x448px_2umpx_180mw_green_00023.tif',\n",
       " 'D:\\\\W2_DATA\\\\kbarber\\\\2025_03_01\\\\mk301\\\\green\\\\mk301_03_01_2025_2roi_17p07hz_224x448px_2umpx_180mw_green_00024.tif',\n",
       " 'D:\\\\W2_DATA\\\\kbarber\\\\2025_03_01\\\\mk301\\\\green\\\\mk301_03_01_2025_2roi_17p07hz_224x448px_2umpx_180mw_green_00025.tif',\n",
       " 'D:\\\\W2_DATA\\\\kbarber\\\\2025_03_01\\\\mk301\\\\green\\\\mk301_03_01_2025_2roi_17p07hz_224x448px_2umpx_180mw_green_00026.tif',\n",
       " 'D:\\\\W2_DATA\\\\kbarber\\\\2025_03_01\\\\mk301\\\\green\\\\mk301_03_01_2025_2roi_17p07hz_224x448px_2umpx_180mw_green_00027.tif',\n",
       " 'D:\\\\W2_DATA\\\\kbarber\\\\2025_03_01\\\\mk301\\\\green\\\\mk301_03_01_2025_2roi_17p07hz_224x448px_2umpx_180mw_green_00028.tif',\n",
       " 'D:\\\\W2_DATA\\\\kbarber\\\\2025_03_01\\\\mk301\\\\green\\\\mk301_03_01_2025_2roi_17p07hz_224x448px_2umpx_180mw_green_00029.tif',\n",
       " 'D:\\\\W2_DATA\\\\kbarber\\\\2025_03_01\\\\mk301\\\\green\\\\mk301_03_01_2025_2roi_17p07hz_224x448px_2umpx_180mw_green_00030.tif',\n",
       " 'D:\\\\W2_DATA\\\\kbarber\\\\2025_03_01\\\\mk301\\\\green\\\\mk301_03_01_2025_2roi_17p07hz_224x448px_2umpx_180mw_green_00031.tif',\n",
       " 'D:\\\\W2_DATA\\\\kbarber\\\\2025_03_01\\\\mk301\\\\green\\\\mk301_03_01_2025_2roi_17p07hz_224x448px_2umpx_180mw_green_00032.tif',\n",
       " 'D:\\\\W2_DATA\\\\kbarber\\\\2025_03_01\\\\mk301\\\\green\\\\mk301_03_01_2025_2roi_17p07hz_224x448px_2umpx_180mw_green_00033.tif',\n",
       " 'D:\\\\W2_DATA\\\\kbarber\\\\2025_03_01\\\\mk301\\\\green\\\\mk301_03_01_2025_2roi_17p07hz_224x448px_2umpx_180mw_green_00034.tif',\n",
       " 'D:\\\\W2_DATA\\\\kbarber\\\\2025_03_01\\\\mk301\\\\green\\\\mk301_03_01_2025_2roi_17p07hz_224x448px_2umpx_180mw_green_00035.tif',\n",
       " 'D:\\\\W2_DATA\\\\kbarber\\\\2025_03_01\\\\mk301\\\\green\\\\mk301_03_01_2025_2roi_17p07hz_224x448px_2umpx_180mw_green_00036.tif',\n",
       " 'D:\\\\W2_DATA\\\\kbarber\\\\2025_03_01\\\\mk301\\\\green\\\\mk301_03_01_2025_2roi_17p07hz_224x448px_2umpx_180mw_green_00037.tif',\n",
       " 'D:\\\\W2_DATA\\\\kbarber\\\\2025_03_01\\\\mk301\\\\green\\\\mk301_03_01_2025_2roi_17p07hz_224x448px_2umpx_180mw_green_00038.tif',\n",
       " 'D:\\\\W2_DATA\\\\kbarber\\\\2025_03_01\\\\mk301\\\\green\\\\mk301_03_01_2025_2roi_17p07hz_224x448px_2umpx_180mw_green_00039.tif',\n",
       " 'D:\\\\W2_DATA\\\\kbarber\\\\2025_03_01\\\\mk301\\\\green\\\\mk301_03_01_2025_2roi_17p07hz_224x448px_2umpx_180mw_green_00040.tif',\n",
       " 'D:\\\\W2_DATA\\\\kbarber\\\\2025_03_01\\\\mk301\\\\green\\\\mk301_03_01_2025_2roi_17p07hz_224x448px_2umpx_180mw_green_00041.tif',\n",
       " 'D:\\\\W2_DATA\\\\kbarber\\\\2025_03_01\\\\mk301\\\\green\\\\mk301_03_01_2025_2roi_17p07hz_224x448px_2umpx_180mw_green_00042.tif',\n",
       " 'D:\\\\W2_DATA\\\\kbarber\\\\2025_03_01\\\\mk301\\\\green\\\\mk301_03_01_2025_2roi_17p07hz_224x448px_2umpx_180mw_green_00043.tif',\n",
       " 'D:\\\\W2_DATA\\\\kbarber\\\\2025_03_01\\\\mk301\\\\green\\\\mk301_03_01_2025_2roi_17p07hz_224x448px_2umpx_180mw_green_00044.tif',\n",
       " 'D:\\\\W2_DATA\\\\kbarber\\\\2025_03_01\\\\mk301\\\\green\\\\mk301_03_01_2025_2roi_17p07hz_224x448px_2umpx_180mw_green_00045.tif',\n",
       " 'D:\\\\W2_DATA\\\\kbarber\\\\2025_03_01\\\\mk301\\\\green\\\\mk301_03_01_2025_2roi_17p07hz_224x448px_2umpx_180mw_green_00046.tif',\n",
       " 'D:\\\\W2_DATA\\\\kbarber\\\\2025_03_01\\\\mk301\\\\green\\\\mk301_03_01_2025_2roi_17p07hz_224x448px_2umpx_180mw_green_00047.tif',\n",
       " 'D:\\\\W2_DATA\\\\kbarber\\\\2025_03_01\\\\mk301\\\\green\\\\mk301_03_01_2025_2roi_17p07hz_224x448px_2umpx_180mw_green_00048.tif',\n",
       " 'D:\\\\W2_DATA\\\\kbarber\\\\2025_03_01\\\\mk301\\\\green\\\\mk301_03_01_2025_2roi_17p07hz_224x448px_2umpx_180mw_green_00049.tif']"
      ]
     },
     "execution_count": 11,
     "metadata": {},
     "output_type": "execute_result"
    }
   ],
   "source": [
    "files = mbo.get_files(fname, 'tif', 1)\n",
    "files"
   ]
  },
  {
   "cell_type": "code",
   "execution_count": 16,
   "id": "e79421c5-1ed5-445b-84ae-e67e64d61446",
   "metadata": {
    "execution": {
     "iopub.execute_input": "2025-04-16T14:54:36.666655Z",
     "iopub.status.busy": "2025-04-16T14:54:36.665654Z",
     "iopub.status.idle": "2025-04-16T14:54:36.772671Z",
     "shell.execute_reply": "2025-04-16T14:54:36.772671Z",
     "shell.execute_reply.started": "2025-04-16T14:54:36.666655Z"
    }
   },
   "outputs": [],
   "source": [
    "data = tifffile.memmap(files[6])"
   ]
  },
  {
   "cell_type": "code",
   "execution_count": 101,
   "id": "d17b1c33-6c0c-4593-8a04-ad29b670d448",
   "metadata": {
    "execution": {
     "iopub.execute_input": "2025-06-02T23:15:55.408850Z",
     "iopub.status.busy": "2025-06-02T23:15:55.408230Z",
     "iopub.status.idle": "2025-06-02T23:15:55.436761Z",
     "shell.execute_reply": "2025-06-02T23:15:55.436474Z",
     "shell.execute_reply.started": "2025-06-02T23:15:55.408822Z"
    }
   },
   "outputs": [],
   "source": [
    "npy_file = np.memmap(\"/home/flynn/lbm_data/mk301/roi2/plane6/data_raw.bin\", dtype=np.int16, shape=(mdata[\"Lx\"], mdata[\"Ly\"]))"
   ]
  },
  {
   "cell_type": "code",
   "execution_count": 104,
   "id": "901f1fb9-70a6-42ab-9aab-faa0ee14754b",
   "metadata": {
    "execution": {
     "iopub.execute_input": "2025-06-03T14:03:03.499278Z",
     "iopub.status.busy": "2025-06-03T14:03:03.498883Z",
     "iopub.status.idle": "2025-06-03T14:03:03.517615Z",
     "shell.execute_reply": "2025-06-03T14:03:03.517315Z",
     "shell.execute_reply.started": "2025-06-03T14:03:03.499254Z"
    }
   },
   "outputs": [],
   "source": [
    "from suite2p.io import BinaryFile\n",
    "# nframes, Lx, Ly = self.metadata[\"nframes\"], self.metadata[\"Lx\"], self.metadata[\"Ly\"]"
   ]
  },
  {
   "cell_type": "code",
   "execution_count": 4,
   "id": "09691246-cd25-4add-a35e-b380d4b86b3f",
   "metadata": {
    "execution": {
     "iopub.execute_input": "2025-04-13T19:33:27.985655Z",
     "iopub.status.busy": "2025-04-13T19:33:27.985655Z",
     "iopub.status.idle": "2025-04-13T19:33:27.989655Z",
     "shell.execute_reply": "2025-04-13T19:33:27.989655Z",
     "shell.execute_reply.started": "2025-04-13T19:33:27.985655Z"
    }
   },
   "outputs": [],
   "source": [
    "\n",
    "def run_plane_bin(plane_dir):\n",
    "    plane_dir = Path(plane_dir)\n",
    "    ops_path = plane_dir / \"ops.npy\"\n",
    "    if ops_path.exists():\n",
    "        _ = ic(f\"Loading ops from existing file: {ops_path}\")\n",
    "        ops = load_ops(str(ops_path))\n",
    "    else:\n",
    "        raise ValueError(f\"Invalid ops path: {ops_path}\")\n",
    "\n",
    "    # ops.update(input_format=\"binary\", delete_bin=False, move_bin=False)\n",
    "    if \"nframes\" in ops and \"n_frames\" not in ops:\n",
    "        ops[\"n_frames\"] = ops[\"nframes\"]\n",
    "    if \"n_frames\" not in ops:\n",
    "        raise KeyError(\"run_plane_bin: missing frame count (nframes or n_frames)\")\n",
    "    n_frames = ops[\"n_frames\"]\n",
    "\n",
    "    Ly, Lx = ops[\"Ly\"], ops[\"Lx\"]\n",
    "\n",
    "    ops[\"raw_file\"] = str((plane_dir / \"data_raw.bin\").resolve())\n",
    "    ops[\"reg_file\"] = str((plane_dir / \"data.bin\").resolve())\n",
    "\n",
    "    with suite2p.io.BinaryFile(Ly=Ly, Lx=Lx, filename=ops[\"reg_file\"], n_frames=n_frames) as f_reg, \\\n",
    "            suite2p.io.BinaryFile(Ly=Ly, Lx=Lx, filename=ops[\"raw_file\"], n_frames=n_frames) \\\n",
    "                    if \"raw_file\" in ops and ops[\"raw_file\"] is not None else nullcontext() as f_raw:\n",
    "    return ops\n",
    "iw.close()"
   ]
  },
  {
   "cell_type": "code",
   "execution_count": 22,
   "id": "99c3e3da-3430-4a75-b370-4f4995f93609",
   "metadata": {
    "execution": {
     "iopub.execute_input": "2025-04-16T14:56:39.949114Z",
     "iopub.status.busy": "2025-04-16T14:56:39.949114Z",
     "iopub.status.idle": "2025-04-16T14:56:40.157080Z",
     "shell.execute_reply": "2025-04-16T14:56:40.157080Z",
     "shell.execute_reply.started": "2025-04-16T14:56:39.949114Z"
    }
   },
   "outputs": [
    {
     "data": {
      "application/vnd.jupyter.widget-view+json": {
       "model_id": "7f6965d9f2e64db2aea11907965a6559",
       "version_major": 2,
       "version_minor": 0
      },
      "text/plain": [
       "RFBOutputContext()"
      ]
     },
     "metadata": {},
     "output_type": "display_data"
    }
   ],
   "source": [
    "fig = fpl.Figure()\n",
    "volume = fig[0,0].add_image_volume(data=data[:500])\n",
    "\n",
    "# volume.interpolation = \"linear\"\n",
    "volume.cmap = \"gnuplot2\""
   ]
  },
  {
   "cell_type": "code",
   "execution_count": 23,
   "id": "f8d4edfc-a0e4-4bba-82a0-8cf9e16b73f0",
   "metadata": {
    "execution": {
     "iopub.execute_input": "2025-04-16T14:56:40.913908Z",
     "iopub.status.busy": "2025-04-16T14:56:40.913908Z",
     "iopub.status.idle": "2025-04-16T14:56:41.058374Z",
     "shell.execute_reply": "2025-04-16T14:56:41.058374Z",
     "shell.execute_reply.started": "2025-04-16T14:56:40.913908Z"
    }
   },
   "outputs": [
    {
     "data": {
      "application/vnd.jupyter.widget-view+json": {
       "model_id": "d78e3387160440828609729917900d61",
       "version_major": 2,
       "version_minor": 0
      },
      "text/html": [
       "<div class='snapshot-d78e3387160440828609729917900d61' style='position:relative;'><img src='data:image/png;base64,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' style='width:500.0px;height:300.0px;' /><div style='position: absolute; top:0; left:0; padding:1px 3px; background: #777; color:#fff; font-size: 90%; font-family:sans-serif; '>snapshot</div></div>"
      ],
      "text/plain": [
       "JupyterRenderCanvas(css_height='300.0px', css_width='500.0px')"
      ]
     },
     "execution_count": 23,
     "metadata": {},
     "output_type": "execute_result"
    }
   ],
   "source": [
    "fig.show()"
   ]
  },
  {
   "cell_type": "code",
   "execution_count": 9,
   "id": "c8560ad0-f685-4060-b2a9-bf5e1cafce99",
   "metadata": {
    "execution": {
     "iopub.execute_input": "2025-04-16T14:50:15.323478Z",
     "iopub.status.busy": "2025-04-16T14:50:15.323478Z",
     "iopub.status.idle": "2025-04-16T14:50:22.111412Z",
     "shell.execute_reply": "2025-04-16T14:50:22.111412Z",
     "shell.execute_reply.started": "2025-04-16T14:50:15.323478Z"
    }
   },
   "outputs": [
    {
     "name": "stdout",
     "output_type": "stream",
     "text": [
      "Detected possible escaped characters in the path. Use a raw string (r'...') or double backslashes.\n"
     ]
    }
   ],
   "source": [
    "fname_scan = r\"D:\\W2_DATA\\kbarber\\2025_03_01\\mk301\\green\\*\"\n",
    "raw_scan = mbo.read_scan(fname_scan)"
   ]
  },
  {
   "cell_type": "code",
   "execution_count": 52,
   "id": "165f432d-b8cc-4069-b84d-115d695bcae0",
   "metadata": {
    "execution": {
     "iopub.execute_input": "2025-04-15T21:04:27.636333Z",
     "iopub.status.busy": "2025-04-15T21:04:27.636333Z",
     "iopub.status.idle": "2025-04-15T21:05:01.615963Z",
     "shell.execute_reply": "2025-04-15T21:05:01.615963Z",
     "shell.execute_reply.started": "2025-04-15T21:04:27.636333Z"
    }
   },
   "outputs": [
    {
     "name": "stdout",
     "output_type": "stream",
     "text": [
      "Reading tiff series data...\n",
      "Reading tiff pages...\n",
      "Raw tiff fully read.\n"
     ]
    },
    {
     "data": {
      "application/vnd.jupyter.widget-view+json": {
       "model_id": "720b77c1c96541cf95fc4337d0d8d2c2",
       "version_major": 2,
       "version_minor": 0
      },
      "text/plain": [
       "Saving plane 1:   0%|          | 0/216 [00:00<?, ?it/s]"
      ]
     },
     "metadata": {},
     "output_type": "display_data"
    },
    {
     "name": "stdout",
     "output_type": "stream",
     "text": [
      "num-chunks: 216\n"
     ]
    },
    {
     "data": {
      "application/vnd.jupyter.widget-view+json": {
       "model_id": "7027f3773a1f43229a2351fff3a3dc82",
       "version_major": 2,
       "version_minor": 0
      },
      "text/plain": [
       "Saving plane 8:   0%|          | 0/216 [00:00<?, ?it/s]"
      ]
     },
     "metadata": {},
     "output_type": "display_data"
    },
    {
     "name": "stdout",
     "output_type": "stream",
     "text": [
      "num-chunks: 216\n"
     ]
    },
    {
     "data": {
      "application/vnd.jupyter.widget-view+json": {
       "model_id": "9e227527c8964d2ab15cb022ec21801f",
       "version_major": 2,
       "version_minor": 0
      },
      "text/plain": [
       "Saving plane 14:   0%|          | 0/216 [00:00<?, ?it/s]"
      ]
     },
     "metadata": {},
     "output_type": "display_data"
    },
    {
     "name": "stdout",
     "output_type": "stream",
     "text": [
      "num-chunks: 216\n",
      "Time elapsed: 0 minutes 33 seconds.\n"
     ]
    }
   ],
   "source": [
    "mbo.save_as(raw_scan, r\"D:\\W2_DATA\\kbarber\\2025_03_01\\mk301\\assembled_zarr\", planes=[0, 7, 13], ext=\".zarr\")"
   ]
  },
  {
   "cell_type": "code",
   "execution_count": 55,
   "id": "e1e765b3-cda1-4298-900b-cb923c442d76",
   "metadata": {
    "execution": {
     "iopub.execute_input": "2025-04-15T21:07:22.783641Z",
     "iopub.status.busy": "2025-04-15T21:07:22.783641Z",
     "iopub.status.idle": "2025-04-15T21:07:22.956661Z",
     "shell.execute_reply": "2025-04-15T21:07:22.956661Z",
     "shell.execute_reply.started": "2025-04-15T21:07:22.783641Z"
    }
   },
   "outputs": [],
   "source": [
    "zpath = r\"D:\\W2_DATA\\kbarber\\2025_03_01\\mk301\\assembled_zarr\"\n",
    "arr = mbo.zarr_to_dask(zpath)"
   ]
  }
 ],
 "metadata": {
  "kernelspec": {
   "display_name": "Python 3 (ipykernel)",
   "language": "python",
   "name": "python3"
  },
  "language_info": {
   "codemirror_mode": {
    "name": "ipython",
    "version": 3
   },
   "file_extension": ".py",
   "mimetype": "text/x-python",
   "name": "python",
   "nbconvert_exporter": "python",
   "pygments_lexer": "ipython3",
   "version": "3.12.10"
  }
 },
 "nbformat": 4,
 "nbformat_minor": 5
}
