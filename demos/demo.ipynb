{
 "cells": [
  {
   "cell_type": "code",
   "execution_count": 1,
   "metadata": {
    "execution": {
     "iopub.execute_input": "2025-02-18T21:50:42.283455Z",
     "iopub.status.busy": "2025-02-18T21:50:42.283455Z",
     "iopub.status.idle": "2025-02-18T21:50:44.344986Z",
     "shell.execute_reply": "2025-02-18T21:50:44.344986Z",
     "shell.execute_reply.started": "2025-02-18T21:50:42.283455Z"
    }
   },
   "outputs": [
    {
     "data": {
      "application/vnd.jupyter.widget-view+json": {
       "model_id": "ac717bf77ea24229816dec64b5bb34fc",
       "version_major": 2,
       "version_minor": 0
      },
      "text/plain": [
       "Image(value=b'\\x89PNG\\r\\n\\x1a\\n\\x00\\x00\\x00\\rIHDR\\x00\\x00\\x01,\\x00\\x00\\x007\\x08\\x06\\x00\\x00\\x00\\xb6\\x1bw\\x99\\x…"
      ]
     },
     "metadata": {},
     "output_type": "display_data"
    },
    {
     "data": {
      "text/html": [
       "<b>Available devices:</b><table><tr><th>Valid</th><th>Device</th><th>Type</th><th>Backend</th><th>Driver</th></tr><tr title=\"This adapter can be used with fastplotlib\"><td>✅ (default) </td><td>NVIDIA RTX A4000</td><td>DiscreteGPU</td><td>Vulkan</td><td>560.94</td></tr><tr title=\"This adapter can be used with fastplotlib\"><td>✅</td><td>NVIDIA RTX A4000</td><td>DiscreteGPU</td><td>D3D12</td><td></td></tr><tr title=\"CPU rendering support is limited and mainly for testing purposes\"><td>❗ limited</td><td>Microsoft Basic Render Driver</td><td>CPU</td><td>D3D12</td><td></td></tr><tr title=\"This adapter cannot be used with fastplotlib\"><td>❌</td><td>NVIDIA RTX A4000/PCIe/SSE2</td><td>Unknown</td><td>OpenGL</td><td>4.6.0 NVIDIA 560.94</td></tr></table>"
      ],
      "text/plain": [
       "<IPython.core.display.HTML object>"
      ]
     },
     "metadata": {},
     "output_type": "display_data"
    }
   ],
   "source": [
    "%load_ext autoreload\n",
    "%autoreload 2\n",
    "import numpy as np\n",
    "from pathlib import Path\n",
    "import fastplotlib as fpl\n",
    "import mbo_utilities as mbo\n",
    "import dask.array as da\n",
    "from tqdm import tqdm\n",
    "import zarr\n",
    "import tifffile\n",
    "import numpy as np"
   ]
  },
  {
   "cell_type": "code",
   "execution_count": 2,
   "metadata": {
    "execution": {
     "iopub.execute_input": "2025-02-18T21:50:45.294997Z",
     "iopub.status.busy": "2025-02-18T21:50:45.294997Z",
     "iopub.status.idle": "2025-02-18T21:50:45.355998Z",
     "shell.execute_reply": "2025-02-18T21:50:45.355998Z",
     "shell.execute_reply.started": "2025-02-18T21:50:45.294997Z"
    }
   },
   "outputs": [],
   "source": [
    "base_dir = Path(r\"D:\\SANDBOX\\demo\")"
   ]
  },
  {
   "cell_type": "code",
   "execution_count": 3,
   "metadata": {
    "execution": {
     "iopub.execute_input": "2025-02-18T21:50:45.668066Z",
     "iopub.status.busy": "2025-02-18T21:50:45.668066Z",
     "iopub.status.idle": "2025-02-18T21:50:45.728997Z",
     "shell.execute_reply": "2025-02-18T21:50:45.728997Z",
     "shell.execute_reply.started": "2025-02-18T21:50:45.668066Z"
    }
   },
   "outputs": [
    {
     "data": {
      "text/plain": [
       "['D:\\\\SANDBOX\\\\demo\\\\mk303_mbo_2umpx_2roi_448umx896um_17p07_green_14planes_00001.tif']"
      ]
     },
     "execution_count": 3,
     "metadata": {},
     "output_type": "execute_result"
    }
   ],
   "source": [
    "files = mbo.get_files(base_dir, max_depth=1, str_contains='tif')\n",
    "files"
   ]
  },
  {
   "cell_type": "code",
   "execution_count": 4,
   "metadata": {
    "execution": {
     "iopub.execute_input": "2025-02-18T21:50:45.936997Z",
     "iopub.status.busy": "2025-02-18T21:50:45.936997Z",
     "iopub.status.idle": "2025-02-18T21:50:46.445997Z",
     "shell.execute_reply": "2025-02-18T21:50:46.445997Z",
     "shell.execute_reply.started": "2025-02-18T21:50:45.936997Z"
    }
   },
   "outputs": [],
   "source": [
    "scan = mbo.read_scan(files, join_contiguous=True)"
   ]
  },
  {
   "cell_type": "code",
   "execution_count": 5,
   "metadata": {
    "execution": {
     "iopub.execute_input": "2025-02-18T21:50:50.089589Z",
     "iopub.status.busy": "2025-02-18T21:50:50.089589Z",
     "iopub.status.idle": "2025-02-18T21:50:50.144874Z",
     "shell.execute_reply": "2025-02-18T21:50:50.144723Z",
     "shell.execute_reply.started": "2025-02-18T21:50:50.089589Z"
    }
   },
   "outputs": [],
   "source": [
    "scan.shape\n",
    "planes = np.arange(scan.shape[1])\n",
    "frames = np.arange(scan.shape[0])\n",
    "image_shape = scan.shape[2:]\n",
    "append_str = '_assembled'\n",
    "path = Path(r\"D:/SANDBOX/\")"
   ]
  },
  {
   "cell_type": "code",
   "execution_count": 6,
   "metadata": {
    "execution": {
     "iopub.execute_input": "2025-02-18T21:50:50.898339Z",
     "iopub.status.busy": "2025-02-18T21:50:50.898339Z",
     "iopub.status.idle": "2025-02-18T21:51:35.714267Z",
     "shell.execute_reply": "2025-02-18T21:51:35.712991Z",
     "shell.execute_reply.started": "2025-02-18T21:50:50.898339Z"
    }
   },
   "outputs": [
    {
     "name": "stdout",
     "output_type": "stream",
     "text": [
      "Reading tiff series data...\n",
      "Reading tiff pages...\n",
      "Raw tiff fully read.\n"
     ]
    },
    {
     "data": {
      "application/vnd.jupyter.widget-view+json": {
       "model_id": "d708a17aee1c4411af4bc8f77f5481fa",
       "version_major": 2,
       "version_minor": 0
      },
      "text/plain": [
       "Saving plane 1:   0%|          | 0/196 [00:00<?, ?it/s]"
      ]
     },
     "metadata": {},
     "output_type": "display_data"
    },
    {
     "data": {
      "application/vnd.jupyter.widget-view+json": {
       "model_id": "f7ee05e4497e450697089431cff4e7e2",
       "version_major": 2,
       "version_minor": 0
      },
      "text/plain": [
       "Saving plane 2:   0%|          | 0/196 [00:00<?, ?it/s]"
      ]
     },
     "metadata": {},
     "output_type": "display_data"
    },
    {
     "data": {
      "application/vnd.jupyter.widget-view+json": {
       "model_id": "e3c398ec20c94ed58a1a46cdba1f9fd6",
       "version_major": 2,
       "version_minor": 0
      },
      "text/plain": [
       "Saving plane 3:   0%|          | 0/196 [00:00<?, ?it/s]"
      ]
     },
     "metadata": {},
     "output_type": "display_data"
    },
    {
     "name": "stdout",
     "output_type": "stream",
     "text": [
      "Time elapsed: 0 minutes 42 seconds.\n"
     ]
    }
   ],
   "source": [
    "mbo.save_as(scan, path, planes=[1, 2, 3])"
   ]
  },
  {
   "cell_type": "code",
   "execution_count": 7,
   "metadata": {
    "execution": {
     "iopub.execute_input": "2025-02-18T21:51:43.496330Z",
     "iopub.status.busy": "2025-02-18T21:51:43.496330Z",
     "iopub.status.idle": "2025-02-18T21:51:44.621424Z",
     "shell.execute_reply": "2025-02-18T21:51:44.621424Z",
     "shell.execute_reply.started": "2025-02-18T21:51:43.496330Z"
    }
   },
   "outputs": [
    {
     "name": "stdout",
     "output_type": "stream",
     "text": [
      "Using ScanMultiROIReordered object\n",
      "Running in Jupyter\n",
      "Creating image widget\n"
     ]
    },
    {
     "data": {
      "application/vnd.jupyter.widget-view+json": {
       "model_id": "0506e454371f4cdb944d5ca714141566",
       "version_major": 2,
       "version_minor": 0
      },
      "text/plain": [
       "RFBOutputContext()"
      ]
     },
     "metadata": {},
     "output_type": "display_data"
    },
    {
     "name": "stdout",
     "output_type": "stream",
     "text": [
      "Running in Jupyter, returning image widget\n"
     ]
    },
    {
     "data": {
      "text/plain": [
       "fastplotlib.widgets.image_widget._widget.ImageWidget"
      ]
     },
     "execution_count": 7,
     "metadata": {},
     "output_type": "execute_result"
    }
   ],
   "source": [
    "gui = mbo.run_gui(scan)\n",
    "type(gui)"
   ]
  },
  {
   "cell_type": "code",
   "execution_count": 8,
   "metadata": {
    "execution": {
     "iopub.execute_input": "2025-02-18T21:51:48.188053Z",
     "iopub.status.busy": "2025-02-18T21:51:48.187053Z",
     "iopub.status.idle": "2025-02-18T21:51:48.577569Z",
     "shell.execute_reply": "2025-02-18T21:51:48.577569Z",
     "shell.execute_reply.started": "2025-02-18T21:51:48.188053Z"
    }
   },
   "outputs": [
    {
     "data": {
      "application/vnd.jupyter.widget-view+json": {
       "model_id": "75605516ab6e46a6812563687b86871e",
       "version_major": 2,
       "version_minor": 0
      },
      "text/html": [
       "<div class='snapshot-75605516ab6e46a6812563687b86871e' style='position:relative;'><img src='data:image/png;base64,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' style='width:500.0px;height:300.0px;' /><div style='position: absolute; top:0; left:0; padding:1px 3px; background: #777; color:#fff; font-size: 90%; font-family:sans-serif; '>snapshot</div></div>"
      ],
      "text/plain": [
       "JupyterRenderCanvas(css_height='300.0px', css_width='500.0px')"
      ]
     },
     "execution_count": 8,
     "metadata": {},
     "output_type": "execute_result"
    }
   ],
   "source": [
    "gui.show()"
   ]
  },
  {
   "cell_type": "code",
   "execution_count": 23,
   "metadata": {
    "execution": {
     "iopub.execute_input": "2025-02-17T20:45:52.581535Z",
     "iopub.status.busy": "2025-02-17T20:45:52.581535Z",
     "iopub.status.idle": "2025-02-17T20:54:23.707675Z",
     "shell.execute_reply": "2025-02-17T20:54:23.707675Z",
     "shell.execute_reply.started": "2025-02-17T20:45:52.581535Z"
    }
   },
   "outputs": [
    {
     "name": "stderr",
     "output_type": "stream",
     "text": [
      "100%|██████████████████████████████████████████████████████████████████████████████████████████████████████████████████████████████████████████████████████████████████████████████| 14/14 [08:31<00:00, 36.51s/it]\n"
     ]
    }
   ],
   "source": [
    "import matplotlib.pyplot as plt\n",
    "from tqdm import tqdm\n",
    "\n",
    "for z in tqdm(range(scan.shape[1])):\n",
    "    spath = planes_path.resolve() / f'plane_{z+1}.npy'\n",
    "    zp = scan[:, z, :, :]\n",
    "    np.save(spath, zp)\n",
    "    # mean_image = np.mean(zp, axis=0)\n",
    "    # offset = mbo.return_scan_offset(mean_image)\n",
    "    # arr[z] = offset\n",
    "    # zp = mbo.fix_scan_phase(zp, offset)\n",
    "    # mean_image_corr = np.mean(zp, axis=0)\n",
    "    # offsets[f'plane_{z}'] = (offset, mean_image, mean_image)"
   ]
  },
  {
   "cell_type": "code",
   "execution_count": null,
   "metadata": {
    "execution": {
     "iopub.execute_input": "2025-02-17T21:04:11.359076Z",
     "iopub.status.busy": "2025-02-17T21:04:11.359076Z"
    }
   },
   "outputs": [
    {
     "name": "stdout",
     "output_type": "stream",
     "text": [
      "Phase = 0, no correction applied.\n",
      "Phase = 0, no correction applied.\n",
      "Phase = 0, no correction applied.\n"
     ]
    }
   ],
   "source": [
    "for z in range(scan.shape[1]):\n",
    "    spath = planes_path.resolve() / f'plane_{z+1}.npy'\n",
    "    spath_corr = planes_path.resolve() / f'plane_{z+1}_corr.npy'\n",
    "    zp = np.load(spath,)\n",
    "    zp= mbo.fix_scan_phase(zp, int(arr[z].compute()))\n",
    "    np.save(spath_corr, zp)"
   ]
  },
  {
   "cell_type": "code",
   "execution_count": 36,
   "metadata": {
    "execution": {
     "iopub.execute_input": "2025-02-17T21:00:37.166109Z",
     "iopub.status.busy": "2025-02-17T21:00:37.166109Z",
     "iopub.status.idle": "2025-02-17T21:00:37.181493Z",
     "shell.execute_reply": "2025-02-17T21:00:37.181493Z",
     "shell.execute_reply.started": "2025-02-17T21:00:37.166109Z"
    }
   },
   "outputs": [
    {
     "data": {
      "text/plain": [
       "array([ 1.,  0.,  0.,  0., -1., -1., -1., -1., -1., -1., -1., -2.,  1.,\n",
       "        1.])"
      ]
     },
     "execution_count": 36,
     "metadata": {},
     "output_type": "execute_result"
    }
   ],
   "source": [
    "arr.compute()"
   ]
  },
  {
   "cell_type": "code",
   "execution_count": 31,
   "metadata": {
    "execution": {
     "iopub.execute_input": "2025-02-16T21:40:25.930602Z",
     "iopub.status.busy": "2025-02-16T21:40:25.930602Z",
     "iopub.status.idle": "2025-02-16T21:40:26.126853Z",
     "shell.execute_reply": "2025-02-16T21:40:26.126853Z",
     "shell.execute_reply.started": "2025-02-16T21:40:25.930602Z"
    }
   },
   "outputs": [
    {
     "data": {
      "application/vnd.jupyter.widget-view+json": {
       "model_id": "749559f67b444e698fedf5045662752c",
       "version_major": 2,
       "version_minor": 0
      },
      "text/plain": [
       "RFBOutputContext()"
      ]
     },
     "metadata": {},
     "output_type": "display_data"
    },
    {
     "name": "stderr",
     "output_type": "stream",
     "text": [
      "C:\\Users\\RBO\\miniforge3\\envs\\util_test\\lib\\site-packages\\fastplotlib\\graphics\\_features\\_base.py:18: UserWarning: casting float64 array to float32\n",
      "  warn(f\"casting {array.dtype} array to float32\")\n"
     ]
    },
    {
     "data": {
      "application/vnd.jupyter.widget-view+json": {
       "model_id": "39cf0ee195a640339a1ed59ff77cac61",
       "version_major": 2,
       "version_minor": 0
      },
      "text/html": [
       "<div class='snapshot-39cf0ee195a640339a1ed59ff77cac61' style='position:relative;'><img src='data:image/png;base64,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' style='width:500.0px;height:300.0px;' /><div style='position: absolute; top:0; left:0; padding:1px 3px; background: #777; color:#fff; font-size: 90%; font-family:sans-serif; '>snapshot</div></div>"
      ],
      "text/plain": [
       "JupyterRenderCanvas(css_height='300.0px', css_width='500.0px')"
      ]
     },
     "execution_count": 31,
     "metadata": {},
     "output_type": "execute_result"
    }
   ],
   "source": [
    "iw = fpl.ImageWidget(data=[offsets['plane_1'][1], offsets['plane_1'][2]])\n",
    "iw.show()"
   ]
  },
  {
   "cell_type": "code",
   "execution_count": 27,
   "metadata": {
    "execution": {
     "iopub.execute_input": "2025-02-18T20:15:34.351788Z",
     "iopub.status.busy": "2025-02-18T20:15:34.351788Z",
     "iopub.status.idle": "2025-02-18T20:15:34.421789Z",
     "shell.execute_reply": "2025-02-18T20:15:34.420788Z",
     "shell.execute_reply.started": "2025-02-18T20:15:34.351788Z"
    }
   },
   "outputs": [],
   "source": [
    "arr_2d = np.random.randn(50, 50)  # 50x50 image\n",
    "arr_3d = np.random.randn(20, 50, 50)  # movie with 20 frames\n",
    "arr_4d = np.random.randn(20, 2, 50, 50)  # stack of movies with 20 frames\n",
    "\n",
    "def get_subsampled_array(arr):\n",
    "    # the only information this function has knowledge of is\n",
    "    shape = arr.shape\n",
    "    size = arr.size\n",
    "    return shape, size"
   ]
  },
  {
   "cell_type": "code",
   "execution_count": 28,
   "metadata": {
    "execution": {
     "iopub.execute_input": "2025-02-18T20:15:35.223796Z",
     "iopub.status.busy": "2025-02-18T20:15:35.222796Z",
     "iopub.status.idle": "2025-02-18T20:15:35.277797Z",
     "shell.execute_reply": "2025-02-18T20:15:35.277797Z",
     "shell.execute_reply.started": "2025-02-18T20:15:35.223796Z"
    }
   },
   "outputs": [
    {
     "data": {
      "text/plain": [
       "((20, 2, 50, 50), 100000)"
      ]
     },
     "execution_count": 28,
     "metadata": {},
     "output_type": "execute_result"
    }
   ],
   "source": [
    "my_func(arr_4d)"
   ]
  },
  {
   "cell_type": "code",
   "execution_count": 24,
   "metadata": {
    "execution": {
     "iopub.execute_input": "2025-02-18T20:15:06.971759Z",
     "iopub.status.busy": "2025-02-18T20:15:06.971759Z",
     "iopub.status.idle": "2025-02-18T20:15:07.045759Z",
     "shell.execute_reply": "2025-02-18T20:15:07.045759Z",
     "shell.execute_reply.started": "2025-02-18T20:15:06.971759Z"
    }
   },
   "outputs": [
    {
     "data": {
      "text/plain": [
       "array([ 2, 42])"
      ]
     },
     "execution_count": 24,
     "metadata": {},
     "output_type": "execute_result"
    }
   ],
   "source": [
    "arr_2d"
   ]
  },
  {
   "cell_type": "code",
   "execution_count": null,
   "metadata": {},
   "outputs": [],
   "source": []
  }
 ],
 "metadata": {
  "kernelspec": {
   "display_name": "Python 3 (ipykernel)",
   "language": "python",
   "name": "python3"
  },
  "language_info": {
   "codemirror_mode": {
    "name": "ipython",
    "version": 3
   },
   "file_extension": ".py",
   "mimetype": "text/x-python",
   "name": "python",
   "nbconvert_exporter": "python",
   "pygments_lexer": "ipython3",
   "version": "3.10.8"
  }
 },
 "nbformat": 4,
 "nbformat_minor": 4
}
