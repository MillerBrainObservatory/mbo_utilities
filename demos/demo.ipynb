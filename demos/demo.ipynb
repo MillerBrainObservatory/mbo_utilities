{
 "cells": [
  {
   "cell_type": "code",
   "execution_count": 1,
   "metadata": {},
   "outputs": [
    {
     "name": "stderr",
     "output_type": "stream",
     "text": [
      "rendercanvas could not load some backends:\n",
      "jupyter: No module named 'jupyter_rfb'\n",
      "Rendercanvas selected glfw backend because asyncio loop is running.\n"
     ]
    }
   ],
   "source": [
    "from pathlib import Path\n",
    "import mbo_utilities as mbo"
   ]
  },
  {
   "cell_type": "code",
   "execution_count": 2,
   "metadata": {},
   "outputs": [],
   "source": [
    "base_dir = Path(r\"D:\\SANDBOX\\raw\\single_tiff\")"
   ]
  },
  {
   "cell_type": "code",
   "execution_count": 3,
   "metadata": {},
   "outputs": [
    {
     "data": {
      "text/plain": [
       "['D:\\\\SANDBOX\\\\raw\\\\single_tiff\\\\mk303_mbo_2umpx_2roi_448umx896um_17p07_green_14planes_00001.tif']"
      ]
     },
     "execution_count": 3,
     "metadata": {},
     "output_type": "execute_result"
    }
   ],
   "source": [
    "files = mbo.get_files(base_dir, max_depth=1, str_contains='tif')\n",
    "files"
   ]
  },
  {
   "cell_type": "code",
   "execution_count": 4,
   "metadata": {},
   "outputs": [],
   "source": [
    "scan = mbo.read_scan(files, join_contiguous=True)"
   ]
  },
  {
   "cell_type": "code",
   "execution_count": 5,
   "metadata": {},
   "outputs": [
    {
     "name": "stdout",
     "output_type": "stream",
     "text": [
      "Setting up main window\n"
     ]
    },
    {
     "ename": "TypeError",
     "evalue": "setCentralWidget(self, widget: Optional[QWidget]): argument 1 has unexpected type 'GlfwRenderCanvas'",
     "output_type": "error",
     "traceback": [
      "\u001b[1;31m---------------------------------------------------------------------------\u001b[0m",
      "\u001b[1;31mTypeError\u001b[0m                                 Traceback (most recent call last)",
      "Cell \u001b[1;32mIn[5], line 1\u001b[0m\n\u001b[1;32m----> 1\u001b[0m \u001b[43mmbo\u001b[49m\u001b[38;5;241;43m.\u001b[39;49m\u001b[43mrun_gui\u001b[49m\u001b[43m(\u001b[49m\u001b[43mscan\u001b[49m\u001b[43m)\u001b[49m\n",
      "File \u001b[1;32m~\\repos\\mbo_utilities\\mbo_utilities\\gui\\widgets.py:158\u001b[0m, in \u001b[0;36mrun_gui\u001b[1;34m(data_in)\u001b[0m\n\u001b[0;32m    155\u001b[0m \u001b[38;5;28;01melse\u001b[39;00m:\n\u001b[0;32m    156\u001b[0m     \u001b[38;5;28;01mraise\u001b[39;00m \u001b[38;5;167;01mTypeError\u001b[39;00m(\u001b[38;5;124mf\u001b[39m\u001b[38;5;124m\"\u001b[39m\u001b[38;5;124mUnsupported data type: \u001b[39m\u001b[38;5;132;01m{\u001b[39;00m\u001b[38;5;28mtype\u001b[39m(data_in)\u001b[38;5;132;01m}\u001b[39;00m\u001b[38;5;124m\"\u001b[39m)\n\u001b[1;32m--> 158\u001b[0m main_window \u001b[38;5;241m=\u001b[39m \u001b[43mLBMMainWindow\u001b[49m\u001b[43m(\u001b[49m\u001b[43mdata\u001b[49m\u001b[43m)\u001b[49m\n\u001b[0;32m    159\u001b[0m main_window\u001b[38;5;241m.\u001b[39mshow()\n\u001b[0;32m    160\u001b[0m app\u001b[38;5;241m.\u001b[39mexec()\n",
      "File \u001b[1;32m~\\repos\\mbo_utilities\\mbo_utilities\\gui\\widgets.py:91\u001b[0m, in \u001b[0;36mLBMMainWindow.__init__\u001b[1;34m(self, data)\u001b[0m\n\u001b[0;32m     89\u001b[0m \u001b[38;5;28mself\u001b[39m\u001b[38;5;241m.\u001b[39mresize(\u001b[38;5;241m1200\u001b[39m, \u001b[38;5;241m1000\u001b[39m)\n\u001b[0;32m     90\u001b[0m qwidget \u001b[38;5;241m=\u001b[39m \u001b[38;5;28mself\u001b[39m\u001b[38;5;241m.\u001b[39mimage_widget\u001b[38;5;241m.\u001b[39mshow()\n\u001b[1;32m---> 91\u001b[0m \u001b[38;5;28;43mself\u001b[39;49m\u001b[38;5;241;43m.\u001b[39;49m\u001b[43msetCentralWidget\u001b[49m\u001b[43m(\u001b[49m\u001b[43mqwidget\u001b[49m\u001b[43m)\u001b[49m\n",
      "\u001b[1;31mTypeError\u001b[0m: setCentralWidget(self, widget: Optional[QWidget]): argument 1 has unexpected type 'GlfwRenderCanvas'"
     ]
    }
   ],
   "source": [
    "mbo.run_gui(scan)"
   ]
  },
  {
   "cell_type": "code",
   "execution_count": null,
   "metadata": {},
   "outputs": [],
   "source": []
  }
 ],
 "metadata": {
  "kernelspec": {
   "display_name": "util_test",
   "language": "python",
   "name": "python3"
  },
  "language_info": {
   "codemirror_mode": {
    "name": "ipython",
    "version": 3
   },
   "file_extension": ".py",
   "mimetype": "text/x-python",
   "name": "python",
   "nbconvert_exporter": "python",
   "pygments_lexer": "ipython3",
   "version": "3.10.16"
  }
 },
 "nbformat": 4,
 "nbformat_minor": 2
}
