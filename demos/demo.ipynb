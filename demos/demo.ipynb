{
 "cells": [
  {
   "cell_type": "code",
   "execution_count": 1,
   "metadata": {},
   "outputs": [
    {
     "name": "stderr",
     "output_type": "stream",
     "text": [
      "rendercanvas could not load some backends:\n",
      "jupyter: No module named 'jupyter_rfb'\n",
      "Rendercanvas selected glfw backend because asyncio loop is running.\n"
     ]
    }
   ],
   "source": [
    "from pathlib import Path\n",
    "import mbo_utilities as mbo"
   ]
  },
  {
   "cell_type": "markdown",
   "metadata": {},
   "source": [
    "## get_files_ext()"
   ]
  },
  {
   "cell_type": "code",
   "execution_count": 2,
   "metadata": {},
   "outputs": [
    {
     "data": {
      "text/plain": [
       "['D:\\\\SANDBOX\\\\raw\\\\single_tiff\\\\mk303_mbo_2umpx_2roi_448umx896um_17p07_green_14planes_00001.tif']"
      ]
     },
     "execution_count": 2,
     "metadata": {},
     "output_type": "execute_result"
    }
   ],
   "source": [
    "base_dir = r\"D:\\SANDBOX\\raw\\single_tiff\"\n",
    "files = mbo.get_files(base_dir, str_contains=\"tif\", files_only=False)\n",
    "files"
   ]
  },
  {
   "cell_type": "code",
   "execution_count": 22,
   "metadata": {},
   "outputs": [],
   "source": [
    "base_path = Path(base_dir).expanduser().resolve()\n",
    "str_contains = \"tif\"\n",
    "base_path"
   ]
  },
  {
   "cell_type": "code",
   "execution_count": 23,
   "metadata": {},
   "outputs": [
    {
     "data": {
      "text/plain": [
       "[]"
      ]
     },
     "execution_count": 23,
     "metadata": {},
     "output_type": "execute_result"
    }
   ],
   "source": [
    "files = [\n",
    "    file for file in base_path.rglob(f'*{str_contains}*')\n",
    "    if len(file.relative_to(base_path).parts) <= max_depth\n",
    "]\n",
    "files\n",
    "\n",
    "# if sorted:\n",
    "    #     def numerical_sort_key(path):\n",
    "    #         match = re.search(r'\\d+', path.name)\n",
    "    #         return int(match.group()) if match else float('inf')\n",
    "\n",
    "    #     files.sort(key=numerical_sort_key)\n",
    "\n",
    "    # return [str(file) for file in files]"
   ]
  },
  {
   "cell_type": "code",
   "execution_count": 14,
   "metadata": {},
   "outputs": [
    {
     "name": "stdout",
     "output_type": "stream",
     "text": [
      "D:\\SANDBOX\\raw\\single_tiff\\mk303_mbo_2umpx_2roi_448umx896um_17p07_green_14planes_00001.tif\n",
      "D:\\SANDBOX\\raw\\single_tiff\\nested\\test.tiff\n"
     ]
    }
   ],
   "source": [
    "for file in base_path.rglob(f'*{str_contains}*'):\n",
    "    print(file)"
   ]
  },
  {
   "cell_type": "code",
   "execution_count": null,
   "metadata": {},
   "outputs": [],
   "source": []
  }
 ],
 "metadata": {
  "kernelspec": {
   "display_name": "util_test",
   "language": "python",
   "name": "python3"
  },
  "language_info": {
   "codemirror_mode": {
    "name": "ipython",
    "version": 3
   },
   "file_extension": ".py",
   "mimetype": "text/x-python",
   "name": "python",
   "nbconvert_exporter": "python",
   "pygments_lexer": "ipython3",
   "version": "3.10.16"
  }
 },
 "nbformat": 4,
 "nbformat_minor": 2
}
