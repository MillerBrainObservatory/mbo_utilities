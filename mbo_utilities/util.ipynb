{
 "cells": [
  {
   "cell_type": "code",
   "execution_count": 1,
   "id": "d62f7520-8f99-443d-98e9-6c3dce25d84b",
   "metadata": {
    "execution": {
     "iopub.execute_input": "2025-01-15T00:35:33.485112Z",
     "iopub.status.busy": "2025-01-15T00:35:33.484112Z",
     "iopub.status.idle": "2025-01-15T00:35:33.593996Z",
     "shell.execute_reply": "2025-01-15T00:35:33.593475Z",
     "shell.execute_reply.started": "2025-01-15T00:35:33.485112Z"
    }
   },
   "outputs": [],
   "source": [
    "import numpy as np\n",
    "import scanreader\n",
    "import tifffile\n",
    "from pathlib import Path\n",
    "from mbo_utilities import get_metadata"
   ]
  },
  {
   "cell_type": "code",
   "execution_count": 2,
   "id": "e9c94cea-1bf6-4492-8f91-3ea53e09ea41",
   "metadata": {
    "execution": {
     "iopub.execute_input": "2025-01-15T00:35:34.888178Z",
     "iopub.status.busy": "2025-01-15T00:35:34.887242Z",
     "iopub.status.idle": "2025-01-15T00:35:35.171236Z",
     "shell.execute_reply": "2025-01-15T00:35:35.171236Z",
     "shell.execute_reply.started": "2025-01-15T00:35:34.888178Z"
    }
   },
   "outputs": [],
   "source": [
    "from skimage.restoration import estimate_sigma\n",
    "\n",
    "def estimate_noise_sk(img):\n",
    "    return estimate_sigma(img, average_sigmas=True)"
   ]
  },
  {
   "cell_type": "code",
   "execution_count": 13,
   "id": "e3d5c5e8-439b-4f1e-9fe2-eaede917eef5",
   "metadata": {
    "execution": {
     "iopub.execute_input": "2025-01-15T00:55:35.016889Z",
     "iopub.status.busy": "2025-01-15T00:55:35.016889Z",
     "iopub.status.idle": "2025-01-15T00:55:35.030945Z",
     "shell.execute_reply": "2025-01-15T00:55:35.030699Z",
     "shell.execute_reply.started": "2025-01-15T00:55:35.016889Z"
    }
   },
   "outputs": [
    {
     "data": {
      "text/plain": [
       "['E:\\\\datasets\\\\relaxed_resolution\\\\mh89_2mm_FOV_50_550um_depth_250mW_som_stimuli_9min_00001_00001.tif',\n",
       " 'E:\\\\datasets\\\\relaxed_resolution\\\\mh89_2mm_FOV_50_550um_depth_250mW_som_stimuli_9min_00001_00002.tif',\n",
       " 'E:\\\\datasets\\\\relaxed_resolution\\\\mh89_2mm_FOV_50_550um_depth_250mW_som_stimuli_9min_00001_00003.tif']"
      ]
     },
     "execution_count": 13,
     "metadata": {},
     "output_type": "execute_result"
    }
   ],
   "source": [
    "raw_data = Path(\"E://datasets/relaxed_resolution\")\n",
    "files = list(raw_data.glob(\"*.tif*\"))\n",
    "files = [str(file) for file in files]\n",
    "files"
   ]
  },
  {
   "cell_type": "code",
   "execution_count": 6,
   "id": "a19dc0d1-1384-441f-95aa-6102f2a2570a",
   "metadata": {
    "execution": {
     "iopub.execute_input": "2025-01-15T00:36:59.049707Z",
     "iopub.status.busy": "2025-01-15T00:36:59.048707Z",
     "iopub.status.idle": "2025-01-15T00:36:59.903343Z",
     "shell.execute_reply": "2025-01-15T00:36:59.903343Z",
     "shell.execute_reply.started": "2025-01-15T00:36:59.049707Z"
    }
   },
   "outputs": [
    {
     "data": {
      "text/plain": [
       "{'num_planes': 30,\n",
       " 'num_frames': 1162,\n",
       " 'fov': (400, 400.0),\n",
       " 'num_rois': 5,\n",
       " 'frame_rate': 6.4464,\n",
       " 'pixel_resolution': array([2.78, 2.78]),\n",
       " 'ndim': 4,\n",
       " 'dtype': 'uint16',\n",
       " 'size': 56167826400,\n",
       " 'raw_height': 3704,\n",
       " 'raw_width': 145,\n",
       " 'tiff_pages': 34860,\n",
       " 'roi_width_px': 144,\n",
       " 'roi_height_px': 720,\n",
       " 'sample_format': 'int16',\n",
       " 'objective_resolution': 157.5}"
      ]
     },
     "execution_count": 6,
     "metadata": {},
     "output_type": "execute_result"
    }
   ],
   "source": [
    "metadata = get_metadata(files[0])\n",
    "metadata"
   ]
  },
  {
   "cell_type": "code",
   "execution_count": 14,
   "id": "71581cc9-4b2a-45b3-8fb2-190a351e601a",
   "metadata": {
    "execution": {
     "iopub.execute_input": "2025-01-15T00:55:41.177023Z",
     "iopub.status.busy": "2025-01-15T00:55:41.176023Z",
     "iopub.status.idle": "2025-01-15T00:55:41.828949Z",
     "shell.execute_reply": "2025-01-15T00:55:41.828514Z",
     "shell.execute_reply.started": "2025-01-15T00:55:41.177023Z"
    }
   },
   "outputs": [],
   "source": [
    "scan = scanreader.read_scan(files, join_contiguous=True)"
   ]
  },
  {
   "cell_type": "code",
   "execution_count": 5,
   "id": "aced2ae1-b58a-41af-8441-8e7a5bba47a3",
   "metadata": {
    "execution": {
     "iopub.execute_input": "2025-01-14T23:37:13.013770Z",
     "iopub.status.busy": "2025-01-14T23:37:13.012770Z",
     "iopub.status.idle": "2025-01-14T23:39:11.781151Z",
     "shell.execute_reply": "2025-01-14T23:39:11.781151Z",
     "shell.execute_reply.started": "2025-01-14T23:37:13.013770Z"
    }
   },
   "outputs": [
    {
     "name": "stdout",
     "output_type": "stream",
     "text": [
      "14.5 s ± 117 ms per loop (mean ± std. dev. of 7 runs, 1 loop each)\n"
     ]
    }
   ],
   "source": [
    "%%timeit\n",
    "\n",
    "#### f, Y, X, Z, T\n",
    "data = scan[:, :, :, 1, :].squeeze()\n",
    "clone = np.zeros("
   ]
  },
  {
   "cell_type": "code",
   "execution_count": 19,
   "id": "1a93461a-25a0-4e98-9c51-8b14673232be",
   "metadata": {
    "execution": {
     "iopub.execute_input": "2025-01-15T00:05:08.724825Z",
     "iopub.status.busy": "2025-01-15T00:05:08.724825Z",
     "iopub.status.idle": "2025-01-15T00:05:13.478834Z",
     "shell.execute_reply": "2025-01-15T00:05:13.478834Z",
     "shell.execute_reply.started": "2025-01-15T00:05:08.724825Z"
    }
   },
   "outputs": [
    {
     "name": "stdout",
     "output_type": "stream",
     "text": [
      "5.82 ms ± 67.4 μs per loop (mean ± std. dev. of 7 runs, 100 loops each)\n"
     ]
    }
   ],
   "source": [
    "%%timeit\n",
    "scan[:, :, :, 2, 1].squeeze()"
   ]
  },
  {
   "cell_type": "code",
   "execution_count": 7,
   "id": "9544c4af-bd3c-410c-83c2-7dc1aefd41ea",
   "metadata": {
    "execution": {
     "iopub.execute_input": "2025-01-14T23:41:28.898546Z",
     "iopub.status.busy": "2025-01-14T23:41:28.898546Z",
     "iopub.status.idle": "2025-01-14T23:41:43.281937Z",
     "shell.execute_reply": "2025-01-14T23:41:43.281937Z",
     "shell.execute_reply.started": "2025-01-14T23:41:28.898546Z"
    }
   },
   "outputs": [
    {
     "data": {
      "text/plain": [
       "(720, 720, 3486)"
      ]
     },
     "execution_count": 7,
     "metadata": {},
     "output_type": "execute_result"
    }
   ],
   "source": [
    "data = scan[:, :, :, 1, :].squeeze()\n",
    "data.shape"
   ]
  },
  {
   "cell_type": "code",
   "execution_count": 8,
   "id": "bbf21574-a81f-44d2-9649-b2d552a26d83",
   "metadata": {
    "execution": {
     "iopub.execute_input": "2025-01-14T23:41:51.215384Z",
     "iopub.status.busy": "2025-01-14T23:41:51.215384Z",
     "iopub.status.idle": "2025-01-14T23:41:58.187080Z",
     "shell.execute_reply": "2025-01-14T23:41:58.186975Z",
     "shell.execute_reply.started": "2025-01-14T23:41:51.215384Z"
    }
   },
   "outputs": [
    {
     "name": "stdout",
     "output_type": "stream",
     "text": [
      "862 ms ± 31 ms per loop (mean ± std. dev. of 7 runs, 1 loop each)\n"
     ]
    }
   ],
   "source": [
    "%%timeit\n",
    "\n",
    "mean = data.mean(axis=1)\n",
    "mean"
   ]
  },
  {
   "cell_type": "code",
   "execution_count": 8,
   "id": "8fc9b1ea-1942-406c-a97b-647febf7ed67",
   "metadata": {
    "execution": {
     "iopub.execute_input": "2025-01-15T00:43:45.545991Z",
     "iopub.status.busy": "2025-01-15T00:43:45.545991Z",
     "iopub.status.idle": "2025-01-15T00:43:45.562991Z",
     "shell.execute_reply": "2025-01-15T00:43:45.561990Z",
     "shell.execute_reply.started": "2025-01-15T00:43:45.545991Z"
    }
   },
   "outputs": [],
   "source": [
    "import zarr"
   ]
  },
  {
   "cell_type": "code",
   "execution_count": 9,
   "id": "f1b7c8fa-9d8c-4cd6-9071-ccbb3936623f",
   "metadata": {
    "execution": {
     "iopub.execute_input": "2025-01-15T00:50:04.794908Z",
     "iopub.status.busy": "2025-01-15T00:50:04.793909Z",
     "iopub.status.idle": "2025-01-15T00:50:05.640796Z",
     "shell.execute_reply": "2025-01-15T00:50:05.640796Z",
     "shell.execute_reply.started": "2025-01-15T00:50:04.794908Z"
    }
   },
   "outputs": [],
   "source": [
    "file_t = tifffile.imread(files[0], aszarr=True)"
   ]
  },
  {
   "cell_type": "code",
   "execution_count": 7,
   "id": "b29ab71f-9eae-486a-bb51-22f5e0ba3f90",
   "metadata": {
    "execution": {
     "iopub.execute_input": "2025-01-15T00:38:17.254572Z",
     "iopub.status.busy": "2025-01-15T00:38:17.254572Z",
     "iopub.status.idle": "2025-01-15T00:38:17.281808Z",
     "shell.execute_reply": "2025-01-15T00:38:17.280645Z",
     "shell.execute_reply.started": "2025-01-15T00:38:17.254572Z"
    }
   },
   "outputs": [],
   "source": [
    "def get_zt(z, t):\n",
    "    return scan[:, :, :, z, t].squeeze()"
   ]
  },
  {
   "cell_type": "code",
   "execution_count": null,
   "id": "4fdc009a-ae7a-43d4-aa27-aad96b2f180b",
   "metadata": {
    "execution": {
     "execution_failed": "2025-01-14T23:16:41.326Z"
    }
   },
   "outputs": [],
   "source": [
    "mean_imgs = {}\n",
    "import time\n",
    "start = time.time()\n",
    "for i in range(scan.num_channels):\n",
    "    data = scan[:, :, :, i, :].squeeze()\n",
    "    mean_imgs[i] = (data.mean(axis=-1), estimate_noise_sk(data[..., 0]))\n",
    "print(f'Duration: {time.time() - start:.2f}')"
   ]
  },
  {
   "cell_type": "code",
   "execution_count": 11,
   "id": "204c49cd-e366-4afa-b047-c93db1496297",
   "metadata": {
    "execution": {
     "iopub.execute_input": "2025-01-14T23:45:32.355988Z",
     "iopub.status.busy": "2025-01-14T23:45:32.355988Z",
     "iopub.status.idle": "2025-01-14T23:45:33.743430Z",
     "shell.execute_reply": "2025-01-14T23:45:33.743430Z",
     "shell.execute_reply.started": "2025-01-14T23:45:32.355988Z"
    }
   },
   "outputs": [
    {
     "data": {
      "application/vnd.jupyter.widget-view+json": {
       "model_id": "3814d1719e414102ae459be7c870f8ca",
       "version_major": 2,
       "version_minor": 0
      },
      "text/plain": [
       "Image(value=b'\\x89PNG\\r\\n\\x1a\\n\\x00\\x00\\x00\\rIHDR\\x00\\x00\\x01,\\x00\\x00\\x007\\x08\\x06\\x00\\x00\\x00\\xb6\\x1bw\\x99\\x…"
      ]
     },
     "metadata": {},
     "output_type": "display_data"
    },
    {
     "name": "stdout",
     "output_type": "stream",
     "text": [
      "Available devices:\n",
      "✅ (default) | NVIDIA RTX A4000 | DiscreteGPU | Vulkan | 560.94\n",
      "✅ | NVIDIA RTX A4000 | DiscreteGPU | D3D12 | \n",
      "❗ | Microsoft Basic Render Driver | CPU | D3D12 | \n",
      "❗ | NVIDIA RTX A4000/PCIe/SSE2 | Unknown | OpenGL | \n"
     ]
    }
   ],
   "source": [
    "import fastplotlib as fpl"
   ]
  },
  {
   "cell_type": "code",
   "execution_count": 16,
   "id": "392ab8e6-e32c-40cd-9122-3405917dacfa",
   "metadata": {
    "execution": {
     "iopub.execute_input": "2025-01-14T23:59:18.384597Z",
     "iopub.status.busy": "2025-01-14T23:59:18.384597Z",
     "iopub.status.idle": "2025-01-14T23:59:18.463422Z",
     "shell.execute_reply": "2025-01-14T23:59:18.463422Z",
     "shell.execute_reply.started": "2025-01-14T23:59:18.384597Z"
    }
   },
   "outputs": [],
   "source": [
    "import dask.array as da"
   ]
  },
  {
   "cell_type": "code",
   "execution_count": 11,
   "id": "cf048741-c19b-4089-b2ab-f89e131addbe",
   "metadata": {
    "execution": {
     "iopub.execute_input": "2025-01-15T00:55:24.393954Z",
     "iopub.status.busy": "2025-01-15T00:55:24.392955Z",
     "iopub.status.idle": "2025-01-15T00:55:25.514455Z",
     "shell.execute_reply": "2025-01-15T00:55:25.513455Z",
     "shell.execute_reply.started": "2025-01-15T00:55:24.393954Z"
    }
   },
   "outputs": [
    {
     "data": {
      "application/vnd.jupyter.widget-view+json": {
       "model_id": "669cfd175b5046c4b5a5b94d8fdb4f44",
       "version_major": 2,
       "version_minor": 0
      },
      "text/plain": [
       "Image(value=b'\\x89PNG\\r\\n\\x1a\\n\\x00\\x00\\x00\\rIHDR\\x00\\x00\\x01,\\x00\\x00\\x007\\x08\\x06\\x00\\x00\\x00\\xb6\\x1bw\\x99\\x…"
      ]
     },
     "metadata": {},
     "output_type": "display_data"
    },
    {
     "name": "stdout",
     "output_type": "stream",
     "text": [
      "Available devices:\n",
      "✅ (default) | NVIDIA RTX A4000 | DiscreteGPU | Vulkan | 560.94\n",
      "✅ | NVIDIA RTX A4000 | DiscreteGPU | D3D12 | \n",
      "❗ | Microsoft Basic Render Driver | CPU | D3D12 | \n",
      "❗ | NVIDIA RTX A4000/PCIe/SSE2 | Unknown | OpenGL | \n"
     ]
    }
   ],
   "source": [
    "import fastplotlib as fpl"
   ]
  },
  {
   "cell_type": "code",
   "execution_count": 16,
   "id": "ad41a3d7-203c-4bf9-9c9c-cb4480a81f62",
   "metadata": {
    "execution": {
     "iopub.execute_input": "2025-01-15T00:56:48.326756Z",
     "iopub.status.busy": "2025-01-15T00:56:48.326756Z",
     "iopub.status.idle": "2025-01-15T00:56:48.432075Z",
     "shell.execute_reply": "2025-01-15T00:56:48.431073Z",
     "shell.execute_reply.started": "2025-01-15T00:56:48.326756Z"
    }
   },
   "outputs": [
    {
     "ename": "TypeError",
     "evalue": "`data` must be an array-like type or a list of array-like.You have passed the following type <class 'scanreader.scans.ScanMultiROI'>",
     "output_type": "error",
     "traceback": [
      "\u001b[1;31m---------------------------------------------------------------------------\u001b[0m",
      "\u001b[1;31mTypeError\u001b[0m                                 Traceback (most recent call last)",
      "Cell \u001b[1;32mIn[16], line 1\u001b[0m\n\u001b[1;32m----> 1\u001b[0m iw \u001b[38;5;241m=\u001b[39m \u001b[43mfpl\u001b[49m\u001b[38;5;241;43m.\u001b[39;49m\u001b[43mImageWidget\u001b[49m\u001b[43m(\u001b[49m\u001b[43mscan\u001b[49m\u001b[43m,\u001b[49m\u001b[43m \u001b[49m\u001b[43mhistogram_widget\u001b[49m\u001b[38;5;241;43m=\u001b[39;49m\u001b[38;5;28;43;01mFalse\u001b[39;49;00m\u001b[43m)\u001b[49m\n\u001b[0;32m      2\u001b[0m iw\u001b[38;5;241m.\u001b[39mshow()\n",
      "File \u001b[1;32m~\\miniforge3\\envs\\mbo_util\\lib\\site-packages\\fastplotlib\\widgets\\image.py:439\u001b[0m, in \u001b[0;36mImageWidget.__init__\u001b[1;34m(self, data, window_funcs, frame_apply, figure_shape, names, figure_kwargs, histogram_widget, rgb, cmap, graphic_kwargs)\u001b[0m\n\u001b[0;32m    432\u001b[0m         \u001b[38;5;28;01mraise\u001b[39;00m \u001b[38;5;167;01mTypeError\u001b[39;00m(\n\u001b[0;32m    433\u001b[0m             \u001b[38;5;124mf\u001b[39m\u001b[38;5;124m\"\u001b[39m\u001b[38;5;124mIf passing a list to `data` all elements must be an \u001b[39m\u001b[38;5;124m\"\u001b[39m\n\u001b[0;32m    434\u001b[0m             \u001b[38;5;124mf\u001b[39m\u001b[38;5;124m\"\u001b[39m\u001b[38;5;124marray-like type representing an n-dimensional image. \u001b[39m\u001b[38;5;124m\"\u001b[39m\n\u001b[0;32m    435\u001b[0m             \u001b[38;5;124mf\u001b[39m\u001b[38;5;124m\"\u001b[39m\u001b[38;5;124mYou have passed the following types:\u001b[39m\u001b[38;5;130;01m\\n\u001b[39;00m\u001b[38;5;124m\"\u001b[39m\n\u001b[0;32m    436\u001b[0m             \u001b[38;5;124mf\u001b[39m\u001b[38;5;124m\"\u001b[39m\u001b[38;5;132;01m{\u001b[39;00m[\u001b[38;5;28mtype\u001b[39m(a)\u001b[38;5;250m \u001b[39m\u001b[38;5;28;01mfor\u001b[39;00m\u001b[38;5;250m \u001b[39ma\u001b[38;5;250m \u001b[39m\u001b[38;5;129;01min\u001b[39;00m\u001b[38;5;250m \u001b[39mdata]\u001b[38;5;132;01m}\u001b[39;00m\u001b[38;5;124m\"\u001b[39m\n\u001b[0;32m    437\u001b[0m         )\n\u001b[0;32m    438\u001b[0m \u001b[38;5;28;01melse\u001b[39;00m:\n\u001b[1;32m--> 439\u001b[0m     \u001b[38;5;28;01mraise\u001b[39;00m \u001b[38;5;167;01mTypeError\u001b[39;00m(\n\u001b[0;32m    440\u001b[0m         \u001b[38;5;124mf\u001b[39m\u001b[38;5;124m\"\u001b[39m\u001b[38;5;124m`data` must be an array-like type or a list of array-like.\u001b[39m\u001b[38;5;124m\"\u001b[39m\n\u001b[0;32m    441\u001b[0m         \u001b[38;5;124mf\u001b[39m\u001b[38;5;124m\"\u001b[39m\u001b[38;5;124mYou have passed the following type \u001b[39m\u001b[38;5;132;01m{\u001b[39;00m\u001b[38;5;28mtype\u001b[39m(data)\u001b[38;5;132;01m}\u001b[39;00m\u001b[38;5;124m\"\u001b[39m\n\u001b[0;32m    442\u001b[0m     )\n\u001b[0;32m    444\u001b[0m \u001b[38;5;66;03m# Sliders are made for all dimensions except the image dimensions\u001b[39;00m\n\u001b[0;32m    445\u001b[0m \u001b[38;5;28mself\u001b[39m\u001b[38;5;241m.\u001b[39m_slider_dims \u001b[38;5;241m=\u001b[39m \u001b[38;5;28mlist\u001b[39m()\n",
      "\u001b[1;31mTypeError\u001b[0m: `data` must be an array-like type or a list of array-like.You have passed the following type <class 'scanreader.scans.ScanMultiROI'>"
     ]
    }
   ],
   "source": [
    "iw = fpl.ImageWidget(scan, histogram_widget=False)\n",
    "iw.show()"
   ]
  },
  {
   "cell_type": "code",
   "execution_count": 14,
   "id": "e3d06a89-eb61-4417-9db7-8457465d46c2",
   "metadata": {
    "execution": {
     "iopub.execute_input": "2025-01-14T23:53:44.453417Z",
     "iopub.status.busy": "2025-01-14T23:53:44.453417Z",
     "iopub.status.idle": "2025-01-14T23:53:44.635569Z",
     "shell.execute_reply": "2025-01-14T23:53:44.635569Z",
     "shell.execute_reply.started": "2025-01-14T23:53:44.453417Z"
    }
   },
   "outputs": [
    {
     "data": {
      "application/vnd.jupyter.widget-view+json": {
       "model_id": "399d7bce5eb844059fcc1796eeceef59",
       "version_major": 2,
       "version_minor": 0
      },
      "text/plain": [
       "RFBOutputContext()"
      ]
     },
     "metadata": {},
     "output_type": "display_data"
    },
    {
     "data": {
      "application/vnd.jupyter.widget-view+json": {
       "model_id": "e55547d626f3476196c34e6f8d625cdc",
       "version_major": 2,
       "version_minor": 0
      },
      "text/plain": [
       "JupyterOutputContext(children=(JupyterWgpuCanvas(), IpywidgetToolBar(children=(Button(icon='expand-arrows-alt'…"
      ]
     },
     "execution_count": 14,
     "metadata": {},
     "output_type": "execute_result"
    }
   ],
   "source": [
    "iw = fpl.ImageWidget(np.moveaxis(data, -1, 0))\n",
    "iw.window_funcs = {\"t\": (np.mean, 13)}\n",
    "iw.show()"
   ]
  },
  {
   "cell_type": "code",
   "execution_count": 69,
   "id": "12d9ddbd-6528-4bcc-8419-6fcfcdf08aac",
   "metadata": {
    "execution": {
     "iopub.execute_input": "2025-01-14T21:05:56.780252Z",
     "iopub.status.busy": "2025-01-14T21:05:56.779251Z",
     "iopub.status.idle": "2025-01-14T21:05:56.791326Z",
     "shell.execute_reply": "2025-01-14T21:05:56.791326Z",
     "shell.execute_reply.started": "2025-01-14T21:05:56.780252Z"
    }
   },
   "outputs": [],
   "source": [
    "import math\n",
    "from scipy.signal import convolve2d\n",
    "\n",
    "def estimate_noise(I):\n",
    "\n",
    "  H, W = I.shape\n",
    "\n",
    "  M = [[1, -2, 1],\n",
    "       [-2, 4, -2],\n",
    "       [1, -2, 1]]\n",
    "\n",
    "  sigma = np.sum(np.sum(np.absolute(convolve2d(I, M))))\n",
    "  sigma = sigma * math.sqrt(0.5 * math.pi) / (6 * (W-2) * (H-2))\n",
    "\n",
    "  return sigma"
   ]
  },
  {
   "cell_type": "code",
   "execution_count": 70,
   "id": "d941490f-f979-44cd-bc50-954452caad01",
   "metadata": {
    "execution": {
     "iopub.execute_input": "2025-01-14T21:05:57.221864Z",
     "iopub.status.busy": "2025-01-14T21:05:57.221864Z",
     "iopub.status.idle": "2025-01-14T21:05:57.252990Z",
     "shell.execute_reply": "2025-01-14T21:05:57.252990Z",
     "shell.execute_reply.started": "2025-01-14T21:05:57.221864Z"
    }
   },
   "outputs": [
    {
     "data": {
      "text/plain": [
       "166.73132934796297"
      ]
     },
     "execution_count": 70,
     "metadata": {},
     "output_type": "execute_result"
    }
   ],
   "source": [
    "sig = estimate_noise(data[..., 0])\n",
    "sig"
   ]
  },
  {
   "cell_type": "code",
   "execution_count": 9,
   "id": "73f7f4e0-19d1-437d-b4c7-c1eb65069def",
   "metadata": {
    "execution": {
     "iopub.execute_input": "2025-01-14T23:44:59.314905Z",
     "iopub.status.busy": "2025-01-14T23:44:59.313905Z",
     "iopub.status.idle": "2025-01-14T23:44:59.782757Z",
     "shell.execute_reply": "2025-01-14T23:44:59.782757Z",
     "shell.execute_reply.started": "2025-01-14T23:44:59.314905Z"
    }
   },
   "outputs": [],
   "source": []
  },
  {
   "cell_type": "code",
   "execution_count": 67,
   "id": "540c3749-e119-4b06-8cb5-e634eea526ad",
   "metadata": {
    "execution": {
     "iopub.execute_input": "2025-01-14T21:05:49.214138Z",
     "iopub.status.busy": "2025-01-14T21:05:49.214138Z",
     "iopub.status.idle": "2025-01-14T21:05:49.249491Z",
     "shell.execute_reply": "2025-01-14T21:05:49.249491Z",
     "shell.execute_reply.started": "2025-01-14T21:05:49.214138Z"
    }
   },
   "outputs": [
    {
     "data": {
      "text/plain": [
       "152.3732865925228"
      ]
     },
     "execution_count": 67,
     "metadata": {},
     "output_type": "execute_result"
    }
   ],
   "source": [
    "noise = estimate_noise_sk(data[..., 0])\n",
    "noise"
   ]
  },
  {
   "cell_type": "code",
   "execution_count": 2,
   "id": "cb28c85c",
   "metadata": {},
   "outputs": [],
   "source": [
    "from __future__ import annotations\n",
    "\n",
    "import argparse\n",
    "from pathlib import Path\n",
    "\n",
    "import numpy as np\n",
    "import fastplotlib as fpl\n",
    "from pprint import pprint\n",
    "from mbo_utilities.lcp_io import get_metadata\n",
    "from mbo_utilities.scanreader.exceptions import PathnameError, FieldDimensionMismatch\n",
    "from mbo_utilities.scanreader.core import scans, expand_wildcard\n",
    "\n",
    "\n",
    "def read_scan(pathnames, dtype=np.int16, join_contiguous=False):\n",
    "    \"\"\" Reads a ScanImage scan. \"\"\"\n",
    "    # Expand wildcards\n",
    "    filenames = expand_wildcard(pathnames)\n",
    "    if len(filenames) == 0:\n",
    "        error_msg = 'Pathname(s) {} do not match any files in disk.'.format(pathnames)\n",
    "        raise PathnameError(error_msg)\n",
    "\n",
    "    scan = ScanMultiROIReordered(join_contiguous=join_contiguous)\n",
    "\n",
    "    # Read metadata and data (lazy operation)\n",
    "    scan.read_data(filenames, dtype=dtype)\n",
    "\n",
    "    return scan\n",
    "\n",
    "\n",
    "class ScanMultiROIReordered(scans.ScanMultiROI):\n",
    "    \"\"\"\n",
    "    A subclass of ScanMultiROI that ignores the num_fields dimension\n",
    "    and reorders the output to [time, z, x, y].\n",
    "    \"\"\"\n",
    "\n",
    "    def __getitem__(self, key):\n",
    "        if not isinstance(key, tuple):\n",
    "            key = (key,)\n",
    "\n",
    "        # Call the parent class's __getitem__ with the reordered key\n",
    "        item = super().__getitem__((0, key[2], key[3], key[1], key[0]))\n",
    "        if item.ndim == 2:\n",
    "            return item\n",
    "        elif item.ndim == 3:\n",
    "            return np.transpose(item, (2, 0, 1))\n",
    "        else:\n",
    "            raise FieldDimensionMismatch('ScanMultiROIReordered.__getitem__')\n",
    "\n",
    "    @property\n",
    "    def shape(self):\n",
    "        return self.num_frames, self.num_channels, self.field_heights[0], self.field_widths[0]\n",
    "\n",
    "    @property\n",
    "    def ndim(self):\n",
    "        return 4\n",
    "\n",
    "\n",
    "def add_args(parser: argparse.ArgumentParser):\n",
    "    \"\"\"\n",
    "    Add command-line arguments to the parser, dynamically adding arguments\n",
    "    for each key in the `ops` dictionary.\n",
    "\n",
    "    Parameters\n",
    "    ----------\n",
    "    parser : argparse.ArgumentParser\n",
    "        The argument parser to which arguments are added.\n",
    "\n",
    "    Returns\n",
    "    -------\n",
    "    argparse.ArgumentParser\n",
    "        The parser with added arguments.\n",
    "    \"\"\"\n",
    "    parser.add_argument('--path', type=str,\n",
    "                        help='Path to a directory containing raw scanimage tiff files for a single session.')\n",
    "    parser.add_argument('--version', action='store_true', help='Print the version of the package.')\n",
    "    return parser\n",
    "\n",
    "\n",
    "def main():\n",
    "    parser = argparse.ArgumentParser(description=\"Preview a scanimage imaging session.\")\n",
    "    parser = add_args(parser)\n",
    "    args = parser.parse_args()\n",
    "\n",
    "    # Handle version\n",
    "    if args.version:\n",
    "        import mbo_utilities as mbo\n",
    "        print(\"lbm_caiman_python v{}\".format(mbo.__version__))\n",
    "        return\n",
    "\n",
    "    files = [str(f) for f in Path(args.path).expanduser().glob('*.tif*')]\n",
    "    metadata = get_metadata(files[0])\n",
    "    pprint(metadata)\n",
    "    scan = read_scan(files, join_contiguous=True)\n",
    "    iw = fpl.ImageWidget(scan, histogram_widget=False)\n",
    "    iw.show()\n",
    "    if fpl.__version__ == \"0.2.0\":\n",
    "        fpl.run()\n",
    "    elif fpl.__version__ == \"0.3.0\":\n",
    "        fpl.loop.run()"
   ]
  },
  {
   "cell_type": "code",
   "execution_count": 8,
   "id": "caa6ce96",
   "metadata": {},
   "outputs": [
    {
     "data": {
      "text/plain": [
       "'D:\\\\DATA\\\\2025-01-16_GCaMP8s_tdtomato_mk302\\\\mk302_2umpx_17p07hz_224pxby448px_2mroi_200mw_50to550umdeep_GCaMP8s_00001_00001.tif'"
      ]
     },
     "execution_count": 8,
     "metadata": {},
     "output_type": "execute_result"
    }
   ],
   "source": [
    "path = Path(r\"D:\\DATA\\2025-01-16_GCaMP8s_tdtomato_mk302\")\n",
    "files = [str(f) for f in Path(path).expanduser().glob('*.tif*')]\n",
    "files[0]"
   ]
  },
  {
   "cell_type": "code",
   "execution_count": 6,
   "id": "a1bd5915",
   "metadata": {},
   "outputs": [],
   "source": [
    "metadata = get_metadata(files[0])"
   ]
  },
  {
   "cell_type": "code",
   "execution_count": 11,
   "id": "ab74ae44",
   "metadata": {},
   "outputs": [
    {
     "ename": "TypeError",
     "evalue": "'float' object cannot be interpreted as an integer",
     "output_type": "error",
     "traceback": [
      "\u001b[1;31m---------------------------------------------------------------------------\u001b[0m",
      "\u001b[1;31mTypeError\u001b[0m                                 Traceback (most recent call last)",
      "Cell \u001b[1;32mIn[11], line 1\u001b[0m\n\u001b[1;32m----> 1\u001b[0m scan \u001b[38;5;241m=\u001b[39m \u001b[43mread_scan\u001b[49m\u001b[43m(\u001b[49m\u001b[43mfiles\u001b[49m\u001b[43m[\u001b[49m\u001b[38;5;241;43m0\u001b[39;49m\u001b[43m]\u001b[49m\u001b[43m,\u001b[49m\u001b[43m \u001b[49m\u001b[43mjoin_contiguous\u001b[49m\u001b[38;5;241;43m=\u001b[39;49m\u001b[38;5;28;43;01mTrue\u001b[39;49;00m\u001b[43m)\u001b[49m\n",
      "Cell \u001b[1;32mIn[2], line 25\u001b[0m, in \u001b[0;36mread_scan\u001b[1;34m(pathnames, dtype, join_contiguous)\u001b[0m\n\u001b[0;32m     22\u001b[0m scan \u001b[38;5;241m=\u001b[39m ScanMultiROIReordered(join_contiguous\u001b[38;5;241m=\u001b[39mjoin_contiguous)\n\u001b[0;32m     24\u001b[0m \u001b[38;5;66;03m# Read metadata and data (lazy operation)\u001b[39;00m\n\u001b[1;32m---> 25\u001b[0m \u001b[43mscan\u001b[49m\u001b[38;5;241;43m.\u001b[39;49m\u001b[43mread_data\u001b[49m\u001b[43m(\u001b[49m\u001b[43mfilenames\u001b[49m\u001b[43m,\u001b[49m\u001b[43m \u001b[49m\u001b[43mdtype\u001b[49m\u001b[38;5;241;43m=\u001b[39;49m\u001b[43mdtype\u001b[49m\u001b[43m)\u001b[49m\n\u001b[0;32m     27\u001b[0m \u001b[38;5;28;01mreturn\u001b[39;00m scan\n",
      "File \u001b[1;32mc:\\Users\\RBO\\miniforge3\\envs\\tools\\lib\\site-packages\\mbo_utilities\\scanreader\\scans.py:763\u001b[0m, in \u001b[0;36mScanMultiROI.read_data\u001b[1;34m(self, filenames, dtype)\u001b[0m\n\u001b[0;32m    761\u001b[0m \u001b[38;5;28msuper\u001b[39m()\u001b[38;5;241m.\u001b[39mread_data(filenames, dtype)\n\u001b[0;32m    762\u001b[0m \u001b[38;5;28mself\u001b[39m\u001b[38;5;241m.\u001b[39mrois \u001b[38;5;241m=\u001b[39m \u001b[38;5;28mself\u001b[39m\u001b[38;5;241m.\u001b[39m_create_rois()\n\u001b[1;32m--> 763\u001b[0m \u001b[38;5;28mself\u001b[39m\u001b[38;5;241m.\u001b[39mfields \u001b[38;5;241m=\u001b[39m \u001b[38;5;28;43mself\u001b[39;49m\u001b[38;5;241;43m.\u001b[39;49m\u001b[43m_create_fields\u001b[49m\u001b[43m(\u001b[49m\u001b[43m)\u001b[49m\n\u001b[0;32m    764\u001b[0m \u001b[38;5;28;01mif\u001b[39;00m \u001b[38;5;28mself\u001b[39m\u001b[38;5;241m.\u001b[39mjoin_contiguous:\n\u001b[0;32m    765\u001b[0m     \u001b[38;5;28mself\u001b[39m\u001b[38;5;241m.\u001b[39m_join_contiguous_fields()\n",
      "File \u001b[1;32mc:\\Users\\RBO\\miniforge3\\envs\\tools\\lib\\site-packages\\mbo_utilities\\scanreader\\scans.py:787\u001b[0m, in \u001b[0;36mScanMultiROI._create_fields\u001b[1;34m(self)\u001b[0m\n\u001b[0;32m    785\u001b[0m next_line_in_page \u001b[38;5;241m=\u001b[39m \u001b[38;5;241m0\u001b[39m \u001b[38;5;66;03m# each slice is one tiff page\u001b[39;00m\n\u001b[0;32m    786\u001b[0m \u001b[38;5;28;01mfor\u001b[39;00m roi_id, roi \u001b[38;5;129;01min\u001b[39;00m \u001b[38;5;28menumerate\u001b[39m(\u001b[38;5;28mself\u001b[39m\u001b[38;5;241m.\u001b[39mrois):\n\u001b[1;32m--> 787\u001b[0m     new_field \u001b[38;5;241m=\u001b[39m \u001b[43mroi\u001b[49m\u001b[38;5;241;43m.\u001b[39;49m\u001b[43mget_field_at\u001b[49m\u001b[43m(\u001b[49m\u001b[43mscanning_depth\u001b[49m\u001b[43m)\u001b[49m\n\u001b[0;32m    789\u001b[0m     \u001b[38;5;28;01mif\u001b[39;00m new_field \u001b[38;5;129;01mis\u001b[39;00m \u001b[38;5;129;01mnot\u001b[39;00m \u001b[38;5;28;01mNone\u001b[39;00m:\n\u001b[0;32m    790\u001b[0m         \u001b[38;5;28;01mif\u001b[39;00m next_line_in_page \u001b[38;5;241m+\u001b[39m new_field\u001b[38;5;241m.\u001b[39mheight \u001b[38;5;241m>\u001b[39m \u001b[38;5;28mself\u001b[39m\u001b[38;5;241m.\u001b[39m_page_height:\n",
      "File \u001b[1;32mc:\\Users\\RBO\\miniforge3\\envs\\tools\\lib\\site-packages\\mbo_utilities\\scanreader\\multiroi.py:90\u001b[0m, in \u001b[0;36mROI.get_field_at\u001b[1;34m(self, scanning_depth)\u001b[0m\n\u001b[0;32m     88\u001b[0m \u001b[38;5;28;01melse\u001b[39;00m: \u001b[38;5;66;03m# interpolate between scanfields\u001b[39;00m\n\u001b[0;32m     89\u001b[0m     scanfield_depths \u001b[38;5;241m=\u001b[39m [sf\u001b[38;5;241m.\u001b[39mdepth \u001b[38;5;28;01mfor\u001b[39;00m sf \u001b[38;5;129;01min\u001b[39;00m \u001b[38;5;28mself\u001b[39m\u001b[38;5;241m.\u001b[39mscanfields]\n\u001b[1;32m---> 90\u001b[0m     valid_range \u001b[38;5;241m=\u001b[39m \u001b[38;5;28;43mrange\u001b[39;49m\u001b[43m(\u001b[49m\u001b[38;5;28;43mmin\u001b[39;49m\u001b[43m(\u001b[49m\u001b[43mscanfield_depths\u001b[49m\u001b[43m)\u001b[49m\u001b[43m,\u001b[49m\u001b[43m \u001b[49m\u001b[38;5;28;43mmax\u001b[39;49m\u001b[43m(\u001b[49m\u001b[43mscanfield_depths\u001b[49m\u001b[43m)\u001b[49m\u001b[43m \u001b[49m\u001b[38;5;241;43m+\u001b[39;49m\u001b[43m \u001b[49m\u001b[38;5;241;43m1\u001b[39;49m\u001b[43m)\u001b[49m\n\u001b[0;32m     91\u001b[0m     \u001b[38;5;28;01mif\u001b[39;00m scanning_depth \u001b[38;5;129;01min\u001b[39;00m valid_range:\n\u001b[0;32m     92\u001b[0m         field \u001b[38;5;241m=\u001b[39m Field()\n",
      "\u001b[1;31mTypeError\u001b[0m: 'float' object cannot be interpreted as an integer"
     ]
    }
   ],
   "source": [
    "scan = read_scan(files[0], join_contiguous=True)"
   ]
  },
  {
   "cell_type": "code",
   "execution_count": null,
   "id": "df717e2e",
   "metadata": {},
   "outputs": [],
   "source": []
  }
 ],
 "metadata": {
  "kernelspec": {
   "display_name": "tools",
   "language": "python",
   "name": "python3"
  },
  "language_info": {
   "codemirror_mode": {
    "name": "ipython",
    "version": 3
   },
   "file_extension": ".py",
   "mimetype": "text/x-python",
   "name": "python",
   "nbconvert_exporter": "python",
   "pygments_lexer": "ipython3",
   "version": "3.10.16"
  }
 },
 "nbformat": 4,
 "nbformat_minor": 5
}
