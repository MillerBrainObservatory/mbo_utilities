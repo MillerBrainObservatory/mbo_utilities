{
 "cells": [
  {
   "cell_type": "code",
   "execution_count": 1,
   "id": "a492ceab-6fb9-4c27-9d5b-c8ff78d8a5b3",
   "metadata": {
    "execution": {
     "iopub.execute_input": "2025-10-07T18:24:56.729861Z",
     "iopub.status.busy": "2025-10-07T18:24:56.729861Z",
     "iopub.status.idle": "2025-10-07T18:24:59.183240Z",
     "shell.execute_reply": "2025-10-07T18:24:59.183240Z",
     "shell.execute_reply.started": "2025-10-07T18:24:56.729861Z"
    }
   },
   "outputs": [
    {
     "data": {
      "application/vnd.jupyter.widget-view+json": {
       "model_id": "9ae9874822264899b10546c88cb2c823",
       "version_major": 2,
       "version_minor": 0
      },
      "text/plain": [
       "Image(value=b'\\x89PNG\\r\\n\\x1a\\n\\x00\\x00\\x00\\rIHDR\\x00\\x00\\x01,\\x00\\x00\\x007\\x08\\x06\\x00\\x00\\x00\\xb6\\x1bw\\x99\\x…"
      ]
     },
     "metadata": {},
     "output_type": "display_data"
    },
    {
     "data": {
      "text/html": [
       "<b>Available devices:</b><table><tr><th>Valid</th><th>Device</th><th>Type</th><th>Backend</th><th>Driver</th></tr><tr title=\"This adapter can be used with fastplotlib\"><td>✅ (default) </td><td>NVIDIA RTX A4000</td><td>DiscreteGPU</td><td>Vulkan</td><td>553.09</td></tr><tr title=\"This adapter can be used with fastplotlib\"><td>✅</td><td>NVIDIA RTX A4000</td><td>DiscreteGPU</td><td>D3D12</td><td></td></tr><tr title=\"This adapter can be used with fastplotlib\"><td>✅</td><td>NVIDIA RTX A4000</td><td>DiscreteGPU</td><td>D3D12</td><td></td></tr><tr title=\"CPU rendering support is limited and mainly for testing purposes\"><td>❗ limited</td><td>Microsoft Basic Render Driver</td><td>CPU</td><td>D3D12</td><td></td></tr><tr title=\"This adapter cannot be used with fastplotlib\"><td>❌</td><td>NVIDIA RTX A4000/PCIe/SSE2</td><td>Unknown</td><td>OpenGL</td><td>4.6.0 NVIDIA 553.09</td></tr></table>"
      ],
      "text/plain": [
       "<IPython.core.display.HTML object>"
      ]
     },
     "metadata": {},
     "output_type": "display_data"
    }
   ],
   "source": [
    "%load_ext autoreload\n",
    "%autoreload 2\n",
    "import numpy as np\n",
    "from pathlib import Path\n",
    "import tifffile\n",
    "import mbo_utilities as mbo\n",
    "import fastplotlib as fpl"
   ]
  },
  {
   "cell_type": "code",
   "execution_count": 2,
   "id": "2db9b745-857b-4639-b357-2b7a039a497c",
   "metadata": {
    "execution": {
     "iopub.execute_input": "2025-10-07T18:25:00.822871Z",
     "iopub.status.busy": "2025-10-07T18:25:00.822871Z",
     "iopub.status.idle": "2025-10-07T18:25:00.926211Z",
     "shell.execute_reply": "2025-10-07T18:25:00.925192Z",
     "shell.execute_reply.started": "2025-10-07T18:25:00.822871Z"
    }
   },
   "outputs": [],
   "source": [
    "from mbo_utilities.phasecorr import _phase_corr_2d"
   ]
  },
  {
   "cell_type": "code",
   "execution_count": 3,
   "id": "a475fdad-816e-465d-a665-e38f093cd94b",
   "metadata": {
    "execution": {
     "iopub.execute_input": "2025-10-07T18:25:02.590837Z",
     "iopub.status.busy": "2025-10-07T18:25:02.589843Z",
     "iopub.status.idle": "2025-10-07T18:25:02.754028Z",
     "shell.execute_reply": "2025-10-07T18:25:02.754028Z",
     "shell.execute_reply.started": "2025-10-07T18:25:02.590837Z"
    }
   },
   "outputs": [
    {
     "data": {
      "text/plain": [
       "True"
      ]
     },
     "execution_count": 3,
     "metadata": {},
     "output_type": "execute_result"
    }
   ],
   "source": [
    "data_path = Path(r\"D:\\W2_DATA\\kbarber\\07_27_2025\\mk355\\raw\\mk355_7_27_2025_180mw_right_m2_go_to_2x-mROI-880x1100um_220x550px_2um-px_14p00Hz_00001_00001_00001.tif\")\n",
    "data_path.is_file()"
   ]
  },
  {
   "cell_type": "code",
   "execution_count": 20,
   "id": "55b46c5f-f163-4be7-982c-88aa1899daf2",
   "metadata": {
    "execution": {
     "iopub.execute_input": "2025-10-07T19:03:14.128251Z",
     "iopub.status.busy": "2025-10-07T19:03:14.128251Z",
     "iopub.status.idle": "2025-10-07T19:03:14.985525Z",
     "shell.execute_reply": "2025-10-07T19:03:14.983070Z",
     "shell.execute_reply.started": "2025-10-07T19:03:14.128251Z"
    }
   },
   "outputs": [],
   "source": [
    "data = mbo.imread(data_path)\n",
    "data.fix_phase = False"
   ]
  },
  {
   "cell_type": "code",
   "execution_count": 21,
   "id": "f810e53e-3870-4f96-b7a3-e0a25bae9b8c",
   "metadata": {
    "execution": {
     "iopub.execute_input": "2025-10-07T19:03:16.006811Z",
     "iopub.status.busy": "2025-10-07T19:03:16.005813Z",
     "iopub.status.idle": "2025-10-07T19:03:16.143748Z",
     "shell.execute_reply": "2025-10-07T19:03:16.143748Z",
     "shell.execute_reply.started": "2025-10-07T19:03:16.006811Z"
    }
   },
   "outputs": [
    {
     "data": {
      "text/plain": [
       "701"
      ]
     },
     "execution_count": 21,
     "metadata": {},
     "output_type": "execute_result"
    }
   ],
   "source": [
    "nframes = data.num_frames\n",
    "nframes"
   ]
  },
  {
   "cell_type": "code",
   "execution_count": 22,
   "id": "7d2703ad-df37-4b5a-82b2-d57c3c47db15",
   "metadata": {
    "execution": {
     "iopub.execute_input": "2025-10-07T19:03:18.148648Z",
     "iopub.status.busy": "2025-10-07T19:03:18.148648Z",
     "iopub.status.idle": "2025-10-07T19:03:18.417735Z",
     "shell.execute_reply": "2025-10-07T19:03:18.414195Z",
     "shell.execute_reply.started": "2025-10-07T19:03:18.148648Z"
    }
   },
   "outputs": [
    {
     "name": "stdout",
     "output_type": "stream",
     "text": [
      "Using fast integer correlation\n",
      "no fft: 1.0\n",
      "Using FFT-based phase correlation\n",
      "with fft: 0.5\n",
      "Using fast integer correlation\n",
      "no fft: 1.0\n",
      "Using FFT-based phase correlation\n",
      "with fft: 0.5\n",
      "Using fast integer correlation\n",
      "no fft: 1.0\n",
      "Using FFT-based phase correlation\n",
      "with fft: 1.0\n",
      "Using fast integer correlation\n",
      "no fft: 1.0\n",
      "Using FFT-based phase correlation\n",
      "with fft: 1.0\n",
      "Using fast integer correlation\n",
      "no fft: 0.0\n",
      "Using FFT-based phase correlation\n",
      "with fft: 0.5\n"
     ]
    }
   ],
   "source": [
    "import numpy as np\n",
    "\n",
    "test = []\n",
    "for idx in range(5):\n",
    "    frame = data[idx, 0, :, :]\n",
    "    dx_int = _phase_corr_2d(frame, use_fft=False)\n",
    "    print(f\"no fft: {dx_int}\")\n",
    "    dx_fft = _phase_corr_2d(frame, use_fft=True)\n",
    "    print(f\"with fft: {dx_fft}\")"
   ]
  }
 ],
 "metadata": {
  "kernelspec": {
   "display_name": "Python 3 (ipykernel)",
   "language": "python",
   "name": "python3"
  },
  "language_info": {
   "codemirror_mode": {
    "name": "ipython",
    "version": 3
   },
   "file_extension": ".py",
   "mimetype": "text/x-python",
   "name": "python",
   "nbconvert_exporter": "python",
   "pygments_lexer": "ipython3",
   "version": "3.12.9"
  }
 },
 "nbformat": 4,
 "nbformat_minor": 5
}
