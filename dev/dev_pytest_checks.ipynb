{
 "cells": [
  {
   "cell_type": "code",
   "execution_count": 1,
   "id": "a492ceab-6fb9-4c27-9d5b-c8ff78d8a5b3",
   "metadata": {
    "execution": {
     "iopub.execute_input": "2025-05-30T19:45:07.420033Z",
     "iopub.status.busy": "2025-05-30T19:45:07.420033Z",
     "iopub.status.idle": "2025-05-30T19:45:09.404237Z",
     "shell.execute_reply": "2025-05-30T19:45:09.404237Z",
     "shell.execute_reply.started": "2025-05-30T19:45:07.420033Z"
    }
   },
   "outputs": [
    {
     "data": {
      "application/vnd.jupyter.widget-view+json": {
       "model_id": "455d44546185457a9fcfc70d3203f5e7",
       "version_major": 2,
       "version_minor": 0
      },
      "text/plain": [
       "Image(value=b'\\x89PNG\\r\\n\\x1a\\n\\x00\\x00\\x00\\rIHDR\\x00\\x00\\x01,\\x00\\x00\\x007\\x08\\x06\\x00\\x00\\x00\\xb6\\x1bw\\x99\\x…"
      ]
     },
     "metadata": {},
     "output_type": "display_data"
    },
    {
     "data": {
      "text/html": [
       "<b>Available devices:</b><table><tr><th>Valid</th><th>Device</th><th>Type</th><th>Backend</th><th>Driver</th></tr><tr title=\"This adapter can be used with fastplotlib\"><td>✅ (default) </td><td>NVIDIA RTX A4000</td><td>DiscreteGPU</td><td>Vulkan</td><td>560.94</td></tr><tr title=\"This adapter can be used with fastplotlib\"><td>✅</td><td>NVIDIA RTX A4000</td><td>DiscreteGPU</td><td>D3D12</td><td></td></tr><tr title=\"This adapter can be used with fastplotlib\"><td>✅</td><td>NVIDIA RTX A4000</td><td>DiscreteGPU</td><td>D3D12</td><td></td></tr><tr title=\"CPU rendering support is limited and mainly for testing purposes\"><td>❗ limited</td><td>Microsoft Basic Render Driver</td><td>CPU</td><td>D3D12</td><td></td></tr><tr title=\"This adapter cannot be used with fastplotlib\"><td>❌</td><td>NVIDIA RTX A4000/PCIe/SSE2</td><td>Unknown</td><td>OpenGL</td><td>4.6.0 NVIDIA 560.94</td></tr></table>"
      ],
      "text/plain": [
       "<IPython.core.display.HTML object>"
      ]
     },
     "metadata": {},
     "output_type": "display_data"
    }
   ],
   "source": [
    "%load_ext autoreload\n",
    "%autoreload 2\n",
    "import numpy as np\n",
    "from pathlib import Path\n",
    "import tifffile\n",
    "import mbo_utilities as mbo\n",
    "import fastplotlib as fpl"
   ]
  },
  {
   "cell_type": "code",
   "execution_count": 2,
   "id": "981fa9ae-6442-4eed-9cb9-45201a9cdd35",
   "metadata": {
    "execution": {
     "iopub.execute_input": "2025-05-30T19:45:10.732483Z",
     "iopub.status.busy": "2025-05-30T19:45:10.732483Z",
     "iopub.status.idle": "2025-05-30T19:45:10.806012Z",
     "shell.execute_reply": "2025-05-30T19:45:10.806012Z",
     "shell.execute_reply.started": "2025-05-30T19:45:10.732483Z"
    }
   },
   "outputs": [
    {
     "data": {
      "text/plain": [
       "['D:\\\\tests\\\\data\\\\assembled\\\\full\\\\plane_01.tif',\n",
       " 'D:\\\\tests\\\\data\\\\assembled\\\\roi1\\\\plane_01.tif',\n",
       " 'D:\\\\tests\\\\data\\\\assembled\\\\roi2\\\\plane_01.tif']"
      ]
     },
     "execution_count": 2,
     "metadata": {},
     "output_type": "execute_result"
    }
   ],
   "source": [
    "test_path = Path(r\"D:\\tests\\data\")\n",
    "assembled_path = test_path / \"assembled\"\n",
    "in_files = mbo.get_files(test_path, \"tif\")\n",
    "\n",
    "plane_1_outputs = mbo.get_files(assembled_path, 'plane_01.tif', max_depth=3)\n",
    "plane_1_outputs"
   ]
  },
  {
   "cell_type": "code",
   "execution_count": 3,
   "id": "a5b1091f-eea0-48c4-9f4c-cf8948b50c03",
   "metadata": {
    "execution": {
     "iopub.execute_input": "2025-05-30T19:45:13.857815Z",
     "iopub.status.busy": "2025-05-30T19:45:13.857815Z",
     "iopub.status.idle": "2025-05-30T19:45:13.926493Z",
     "shell.execute_reply": "2025-05-30T19:45:13.925888Z",
     "shell.execute_reply.started": "2025-05-30T19:45:13.857815Z"
    }
   },
   "outputs": [],
   "source": [
    "import tifffile\n",
    "import numpy as np\n",
    "\n",
    "def test_full_contains_rois_side_by_side():\n",
    "    # find the three outputs for plane 1\n",
    "    plane1_paths = mbo.get_files(assembled_path, \"plane_01.tif\", max_depth=3)\n",
    "    # you should get exactly these three in some order\n",
    "    full_path   = next(p for p in plane1_paths if \"\\\\full\\\\\"   in p)\n",
    "    roi1_path   = next(p for p in plane1_paths if \"\\\\roi1\\\\\"   in p)\n",
    "    roi2_path   = next(p for p in plane1_paths if \"\\\\roi2\\\\\"   in p)\n",
    "\n",
    "    print((full_path, roi1_path, roi2_path))\n",
    "\n",
    "    full = tifffile.imread(full_path)\n",
    "    roi1 = tifffile.imread(roi1_path)\n",
    "    roi2 = tifffile.imread(roi2_path)\n",
    "\n",
    "    T, H, W = full.shape\n",
    "    assert roi1.shape == (T, H, W // 2)\n",
    "    assert roi2.shape == (T, H, W - W // 2)\n",
    "\n",
    "    # compare pixel data\n",
    "    left_half  = full[:, :, : W // 2]\n",
    "    right_half = full[:, :,  W // 2 :]\n",
    "\n",
    "    print(W//2)\n",
    "\n",
    "    # these two assertions will catch any mismatch\n",
    "    np.testing.assert_array_equal(left_half,  roi1,\n",
    "        err_msg=\"Left half of full plane does not match roi1\")\n",
    "    np.testing.assert_array_equal(right_half, roi2,\n",
    "        err_msg=\"Right half of full plane does not match roi2\")"
   ]
  },
  {
   "cell_type": "code",
   "execution_count": 4,
   "id": "13fb5b92-d42b-4229-b995-9a112261a6ca",
   "metadata": {
    "execution": {
     "iopub.execute_input": "2025-05-30T19:45:14.654528Z",
     "iopub.status.busy": "2025-05-30T19:45:14.654528Z",
     "iopub.status.idle": "2025-05-30T19:45:15.032244Z",
     "shell.execute_reply": "2025-05-30T19:45:15.032244Z",
     "shell.execute_reply.started": "2025-05-30T19:45:14.654528Z"
    }
   },
   "outputs": [
    {
     "name": "stdout",
     "output_type": "stream",
     "text": [
      "('D:\\\\tests\\\\data\\\\assembled\\\\full\\\\plane_01.tif', 'D:\\\\tests\\\\data\\\\assembled\\\\roi1\\\\plane_01.tif', 'D:\\\\tests\\\\data\\\\assembled\\\\roi2\\\\plane_01.tif')\n",
      "224\n"
     ]
    }
   ],
   "source": [
    "test_full_contains_rois_side_by_side()"
   ]
  },
  {
   "cell_type": "code",
   "execution_count": null,
   "id": "69181fee-7715-4ec3-aeab-018637083aef",
   "metadata": {},
   "outputs": [],
   "source": []
  }
 ],
 "metadata": {
  "kernelspec": {
   "display_name": "Python 3 (ipykernel)",
   "language": "python",
   "name": "python3"
  },
  "language_info": {
   "codemirror_mode": {
    "name": "ipython",
    "version": 3
   },
   "file_extension": ".py",
   "mimetype": "text/x-python",
   "name": "python",
   "nbconvert_exporter": "python",
   "pygments_lexer": "ipython3",
   "version": "3.11.12"
  }
 },
 "nbformat": 4,
 "nbformat_minor": 5
}
