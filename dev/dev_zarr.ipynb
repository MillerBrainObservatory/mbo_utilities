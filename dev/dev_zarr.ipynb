{
 "cells": [
  {
   "cell_type": "code",
   "execution_count": 1,
   "id": "b9937efc-c5fe-4846-a6bf-1b3343db6730",
   "metadata": {
    "execution": {
     "iopub.execute_input": "2025-09-29T16:05:21.454423Z",
     "iopub.status.busy": "2025-09-29T16:05:21.454423Z",
     "iopub.status.idle": "2025-09-29T16:05:21.541181Z",
     "shell.execute_reply": "2025-09-29T16:05:21.541181Z",
     "shell.execute_reply.started": "2025-09-29T16:05:21.454423Z"
    }
   },
   "outputs": [
    {
     "name": "stderr",
     "output_type": "stream",
     "text": [
      "\u001b[2mUsing Python 3.12.9 environment at: C:\\Users\\RBO\\repos\\mbo_utilities\\.venv\u001b[0m\n",
      "\u001b[2mAudited \u001b[1m1 package\u001b[0m \u001b[2min 13ms\u001b[0m\u001b[0m\n"
     ]
    }
   ],
   "source": [
    "!uv pip install jupyterlab-vim"
   ]
  },
  {
   "cell_type": "code",
   "execution_count": 1,
   "id": "64abd68f-60c3-4164-9a41-847ee9bdf5ce",
   "metadata": {
    "execution": {
     "iopub.execute_input": "2025-09-29T16:06:44.385611Z",
     "iopub.status.busy": "2025-09-29T16:06:44.385611Z",
     "iopub.status.idle": "2025-09-29T16:06:46.625046Z",
     "shell.execute_reply": "2025-09-29T16:06:46.625046Z",
     "shell.execute_reply.started": "2025-09-29T16:06:44.385611Z"
    }
   },
   "outputs": [
    {
     "data": {
      "application/vnd.jupyter.widget-view+json": {
       "model_id": "1bd3e4d1677b4d7abcc4d4ab5bf0b859",
       "version_major": 2,
       "version_minor": 0
      },
      "text/plain": [
       "Image(value=b'\\x89PNG\\r\\n\\x1a\\n\\x00\\x00\\x00\\rIHDR\\x00\\x00\\x01,\\x00\\x00\\x007\\x08\\x06\\x00\\x00\\x00\\xb6\\x1bw\\x99\\x…"
      ]
     },
     "metadata": {},
     "output_type": "display_data"
    },
    {
     "data": {
      "text/html": [
       "<b>Available devices:</b><table><tr><th>Valid</th><th>Device</th><th>Type</th><th>Backend</th><th>Driver</th></tr><tr title=\"This adapter can be used with fastplotlib\"><td>✅ (default) </td><td>NVIDIA RTX A4000</td><td>DiscreteGPU</td><td>Vulkan</td><td>553.09</td></tr><tr title=\"This adapter can be used with fastplotlib\"><td>✅</td><td>NVIDIA RTX A4000</td><td>DiscreteGPU</td><td>D3D12</td><td></td></tr><tr title=\"This adapter can be used with fastplotlib\"><td>✅</td><td>NVIDIA RTX A4000</td><td>DiscreteGPU</td><td>D3D12</td><td></td></tr><tr title=\"CPU rendering support is limited and mainly for testing purposes\"><td>❗ limited</td><td>Microsoft Basic Render Driver</td><td>CPU</td><td>D3D12</td><td></td></tr><tr title=\"This adapter cannot be used with fastplotlib\"><td>❌</td><td>NVIDIA RTX A4000/PCIe/SSE2</td><td>Unknown</td><td>OpenGL</td><td>4.6.0 NVIDIA 553.09</td></tr></table>"
      ],
      "text/plain": [
       "<IPython.core.display.HTML object>"
      ]
     },
     "metadata": {},
     "output_type": "display_data"
    }
   ],
   "source": [
    "from pathlib import Path\n",
    "import zarr\n",
    "import mbo_utilities as mbo\n",
    "import fastplotlib as fpl"
   ]
  },
  {
   "cell_type": "code",
   "execution_count": 2,
   "id": "6ee88f07-b2f5-463a-a0bd-ddbe46b541af",
   "metadata": {
    "execution": {
     "iopub.execute_input": "2025-09-29T16:06:47.842698Z",
     "iopub.status.busy": "2025-09-29T16:06:47.842698Z",
     "iopub.status.idle": "2025-09-29T16:06:47.856225Z",
     "shell.execute_reply": "2025-09-29T16:06:47.855719Z",
     "shell.execute_reply.started": "2025-09-29T16:06:47.842698Z"
    }
   },
   "outputs": [
    {
     "data": {
      "text/plain": [
       "[WindowsPath('D:/W2_DATA/kbarber/07_27_2025/mk355/zarr/data_roi_merged/plane01.zarr'),\n",
       " WindowsPath('D:/W2_DATA/kbarber/07_27_2025/mk355/zarr/data_roi_merged/plane02.zarr'),\n",
       " WindowsPath('D:/W2_DATA/kbarber/07_27_2025/mk355/zarr/data_roi_merged/plane03.zarr'),\n",
       " WindowsPath('D:/W2_DATA/kbarber/07_27_2025/mk355/zarr/data_roi_merged/plane04.zarr'),\n",
       " WindowsPath('D:/W2_DATA/kbarber/07_27_2025/mk355/zarr/data_roi_merged/plane05.zarr'),\n",
       " WindowsPath('D:/W2_DATA/kbarber/07_27_2025/mk355/zarr/data_roi_merged/plane06.zarr'),\n",
       " WindowsPath('D:/W2_DATA/kbarber/07_27_2025/mk355/zarr/data_roi_merged/plane07.zarr'),\n",
       " WindowsPath('D:/W2_DATA/kbarber/07_27_2025/mk355/zarr/data_roi_merged/plane08.zarr'),\n",
       " WindowsPath('D:/W2_DATA/kbarber/07_27_2025/mk355/zarr/data_roi_merged/plane09.zarr'),\n",
       " WindowsPath('D:/W2_DATA/kbarber/07_27_2025/mk355/zarr/data_roi_merged/plane10.zarr'),\n",
       " WindowsPath('D:/W2_DATA/kbarber/07_27_2025/mk355/zarr/data_roi_merged/plane11.zarr'),\n",
       " WindowsPath('D:/W2_DATA/kbarber/07_27_2025/mk355/zarr/data_roi_merged/plane12.zarr'),\n",
       " WindowsPath('D:/W2_DATA/kbarber/07_27_2025/mk355/zarr/data_roi_merged/plane13.zarr'),\n",
       " WindowsPath('D:/W2_DATA/kbarber/07_27_2025/mk355/zarr/data_roi_merged/plane14.zarr')]"
      ]
     },
     "execution_count": 2,
     "metadata": {},
     "output_type": "execute_result"
    }
   ],
   "source": [
    "path = Path(r\"D:\\W2_DATA\\kbarber\\07_27_2025\\mk355\\zarr\\data_roi_merged\")\n",
    "zarr_files = list(path.glob(\"*.zarr*\"))\n",
    "zarr_files"
   ]
  },
  {
   "cell_type": "code",
   "execution_count": 5,
   "id": "d79e753d-52b7-4bde-8b76-2958dfec517c",
   "metadata": {
    "execution": {
     "iopub.execute_input": "2025-09-29T13:15:38.982954Z",
     "iopub.status.busy": "2025-09-29T13:15:38.982954Z",
     "iopub.status.idle": "2025-09-29T13:15:39.011904Z",
     "shell.execute_reply": "2025-09-29T13:15:39.011904Z",
     "shell.execute_reply.started": "2025-09-29T13:15:38.982954Z"
    }
   },
   "outputs": [
    {
     "data": {
      "text/plain": [
       "(1574, 14, 647, 450)"
      ]
     },
     "execution_count": 5,
     "metadata": {},
     "output_type": "execute_result"
    }
   ],
   "source": [
    "from mbo_utilities.lazy_array import ZarrArray\n",
    "roi_arr = ZarrArray(\n",
    "    zarr_files\n",
    ")\n",
    "roi_arr.shape"
   ]
  },
  {
   "cell_type": "code",
   "execution_count": 7,
   "id": "554dc065-bbe0-4bb5-b687-820e1d239de1",
   "metadata": {
    "execution": {
     "iopub.execute_input": "2025-09-29T13:16:07.853085Z",
     "iopub.status.busy": "2025-09-29T13:16:07.853085Z",
     "iopub.status.idle": "2025-09-29T13:16:11.169708Z",
     "shell.execute_reply": "2025-09-29T13:16:11.169708Z",
     "shell.execute_reply.started": "2025-09-29T13:16:07.853085Z"
    }
   },
   "outputs": [
    {
     "data": {
      "application/vnd.jupyter.widget-view+json": {
       "model_id": "b41f9682af7149099de69263ce280ccb",
       "version_major": 2,
       "version_minor": 0
      },
      "text/plain": [
       "RFBOutputContext()"
      ]
     },
     "metadata": {},
     "output_type": "display_data"
    },
    {
     "data": {
      "application/vnd.jupyter.widget-view+json": {
       "model_id": "95e8b96a37f54f8c8a57d7b22697b6a1",
       "version_major": 2,
       "version_minor": 0
      },
      "text/html": [
       "<div class='snapshot-95e8b96a37f54f8c8a57d7b22697b6a1' style='position:relative;'><img src='data:image/png;base64,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' style='width:500.0px;height:300.0px;' /><div style='position: absolute; top:0; left:0; padding:1px 3px; background: #777; color:#fff; font-size: 90%; font-family:sans-serif; '>snapshot</div></div>"
      ],
      "text/plain": [
       "JupyterRenderCanvas(css_height='300.0px', css_width='500.0px')"
      ]
     },
     "execution_count": 7,
     "metadata": {},
     "output_type": "execute_result"
    }
   ],
   "source": [
    "fpl.ImageWidget(roi_arr).show()"
   ]
  },
  {
   "cell_type": "code",
   "execution_count": 16,
   "id": "84336367-985c-47e8-b4a6-689eec36db62",
   "metadata": {
    "execution": {
     "iopub.execute_input": "2025-09-29T13:20:57.954047Z",
     "iopub.status.busy": "2025-09-29T13:20:57.954047Z",
     "iopub.status.idle": "2025-09-29T13:20:58.013511Z",
     "shell.execute_reply": "2025-09-29T13:20:58.013511Z",
     "shell.execute_reply.started": "2025-09-29T13:20:57.954047Z"
    }
   },
   "outputs": [],
   "source": [
    "path = Path(r\"D:\\W2_DATA\\kbarber\\07_27_2025\\mk355\\zarr\\data_roi\")\n",
    "zarr_files = list(path.glob(\"*.zarr*\"))\n",
    "\n",
    "array = ZarrArray(\n",
    "    zarr_files\n",
    ")"
   ]
  },
  {
   "cell_type": "code",
   "execution_count": 19,
   "id": "a8cf440a-4c92-4586-9c64-fd266007afaa",
   "metadata": {
    "execution": {
     "iopub.execute_input": "2025-09-29T13:21:58.388551Z",
     "iopub.status.busy": "2025-09-29T13:21:58.388551Z",
     "iopub.status.idle": "2025-09-29T13:21:58.680883Z",
     "shell.execute_reply": "2025-09-29T13:21:58.680883Z",
     "shell.execute_reply.started": "2025-09-29T13:21:58.388551Z"
    }
   },
   "outputs": [],
   "source": [
    "import tifffile\n",
    "summary = np.load(Path(array.metadata[\"summary\"]).joinpath(\"summary.npy\"), allow_pickle=True).item()\n",
    "ref_img = summary[\"ref_img_3d\"]\n",
    "tifffile.imwrite(r\"D:\\W2_DATA\\kbarber\\07_27_2025\\mk355\\zarr\\ref_img.tiff\", ref_img)\n",
    "# fpl.ImageWidget(summary[\"ref_img_3d\"]).show()"
   ]
  },
  {
   "cell_type": "code",
   "execution_count": 23,
   "id": "9db0aa63-6f43-4488-9065-2dcfe8bc8aa8",
   "metadata": {
    "execution": {
     "iopub.execute_input": "2025-09-29T13:24:35.079079Z",
     "iopub.status.busy": "2025-09-29T13:24:35.078078Z",
     "iopub.status.idle": "2025-09-29T13:24:41.246057Z",
     "shell.execute_reply": "2025-09-29T13:24:41.243427Z",
     "shell.execute_reply.started": "2025-09-29T13:24:35.079079Z"
    }
   },
   "outputs": [],
   "source": [
    "init_mov = np.load(summary[\"init_mov_path\"], allow_pickle=True)\n",
    "init_mov.shape\n",
    "\n",
    "mean_z = np.mean(init_mov, axis=1)"
   ]
  },
  {
   "cell_type": "code",
   "execution_count": 24,
   "id": "92b933e2-bc4d-4282-bda9-a53043170fd6",
   "metadata": {
    "execution": {
     "iopub.execute_input": "2025-09-29T13:25:20.636876Z",
     "iopub.status.busy": "2025-09-29T13:25:20.636876Z",
     "iopub.status.idle": "2025-09-29T13:25:20.641546Z",
     "shell.execute_reply": "2025-09-29T13:25:20.641546Z",
     "shell.execute_reply.started": "2025-09-29T13:25:20.636876Z"
    }
   },
   "outputs": [
    {
     "data": {
      "text/plain": [
       "(14, 647, 453)"
      ]
     },
     "execution_count": 24,
     "metadata": {},
     "output_type": "execute_result"
    }
   ],
   "source": [
    "mean_z.shape"
   ]
  },
  {
   "cell_type": "code",
   "execution_count": 27,
   "id": "ad1f9847-f3d8-4b32-a244-26f5345fd4c8",
   "metadata": {
    "execution": {
     "iopub.execute_input": "2025-09-29T13:28:29.886971Z",
     "iopub.status.busy": "2025-09-29T13:28:29.886971Z",
     "iopub.status.idle": "2025-09-29T13:28:29.917545Z",
     "shell.execute_reply": "2025-09-29T13:28:29.917545Z",
     "shell.execute_reply.started": "2025-09-29T13:28:29.886971Z"
    }
   },
   "outputs": [],
   "source": [
    "tifffile.imwrite(r\"D:\\W2_DATA\\kbarber\\07_27_2025\\mk355\\zarr\\raw_img.tiff\", summary['raw_img'])"
   ]
  },
  {
   "cell_type": "code",
   "execution_count": 20,
   "id": "6f820716-e904-4d45-8386-1f3f78f20e74",
   "metadata": {
    "execution": {
     "iopub.execute_input": "2025-09-29T13:22:55.127889Z",
     "iopub.status.busy": "2025-09-29T13:22:55.127889Z",
     "iopub.status.idle": "2025-09-29T13:22:55.135470Z",
     "shell.execute_reply": "2025-09-29T13:22:55.135470Z",
     "shell.execute_reply.started": "2025-09-29T13:22:55.127889Z"
    }
   },
   "outputs": [
    {
     "data": {
      "text/plain": [
       "['ref_img_3d',\n",
       " 'raw_img',\n",
       " 'img',\n",
       " 'crosstalk_coeff',\n",
       " 'crosstalk_planes',\n",
       " 'crosstalk_info',\n",
       " 'plane_shifts',\n",
       " 'refs_and_masks',\n",
       " 'reference_params',\n",
       " 'reference_info',\n",
       " 'min_pix_vals',\n",
       " 'fuse_shifts',\n",
       " 'fuse_shift',\n",
       " 'fuse_ccs',\n",
       " 'tiffile_xs',\n",
       " 'xpad',\n",
       " 'ypad',\n",
       " 'new_xs',\n",
       " 'og_xs',\n",
       " 'init_mov_path',\n",
       " 'init_tifs']"
      ]
     },
     "execution_count": 20,
     "metadata": {},
     "output_type": "execute_result"
    }
   ],
   "source": [
    "list(summary.keys())"
   ]
  },
  {
   "cell_type": "code",
   "execution_count": 5,
   "id": "fe12e50d-8419-4186-adfc-70d17a276127",
   "metadata": {
    "execution": {
     "iopub.execute_input": "2025-09-29T16:07:39.951302Z",
     "iopub.status.busy": "2025-09-29T16:07:39.951302Z",
     "iopub.status.idle": "2025-09-29T16:07:39.964235Z",
     "shell.execute_reply": "2025-09-29T16:07:39.963728Z",
     "shell.execute_reply.started": "2025-09-29T16:07:39.951302Z"
    }
   },
   "outputs": [
    {
     "data": {
      "text/plain": [
       "(14, 14)"
      ]
     },
     "execution_count": 5,
     "metadata": {},
     "output_type": "execute_result"
    }
   ],
   "source": [
    "fpath1 = Path(r\"D:\\W2_DATA\\kbarber\\07_27_2025\\mk355\\raw\\anatomical_3_roi\")\n",
    "roi1_files = [x for x in fpath1.glob(\"*roi1*\")]\n",
    "roi2_files = [x for x in fpath1.glob(\"*roi2*\")]\n",
    "len(roi1_files), len(roi2_files)"
   ]
  },
  {
   "cell_type": "code",
   "execution_count": 8,
   "id": "f58acdcc-289f-45c8-8a49-2b88ad7e58e0",
   "metadata": {
    "execution": {
     "iopub.execute_input": "2025-09-29T16:08:23.189785Z",
     "iopub.status.busy": "2025-09-29T16:08:23.188785Z",
     "iopub.status.idle": "2025-09-29T16:08:23.213922Z",
     "shell.execute_reply": "2025-09-29T16:08:23.213922Z",
     "shell.execute_reply.started": "2025-09-29T16:08:23.189785Z"
    }
   },
   "outputs": [
    {
     "data": {
      "text/plain": [
       "['suite2p_version',\n",
       " 'look_one_level_down',\n",
       " 'fast_disk',\n",
       " 'delete_bin',\n",
       " 'mesoscan',\n",
       " 'bruker',\n",
       " 'bruker_bidirectional',\n",
       " 'h5py',\n",
       " 'h5py_key',\n",
       " 'nwb_file',\n",
       " 'nwb_driver',\n",
       " 'nwb_series',\n",
       " 'save_path0',\n",
       " 'save_folder',\n",
       " 'subfolders',\n",
       " 'move_bin',\n",
       " 'nplanes',\n",
       " 'nchannels',\n",
       " 'functional_chan',\n",
       " 'tau',\n",
       " 'fs',\n",
       " 'force_sktiff',\n",
       " 'frames_include',\n",
       " 'multiplane_parallel',\n",
       " 'ignore_flyback',\n",
       " 'preclassify',\n",
       " 'save_mat',\n",
       " 'save_NWB',\n",
       " 'combined',\n",
       " 'aspect',\n",
       " 'do_bidiphase',\n",
       " 'bidiphase',\n",
       " 'bidi_corrected',\n",
       " 'do_registration',\n",
       " 'two_step_registration',\n",
       " 'keep_movie_raw',\n",
       " 'nimg_init',\n",
       " 'batch_size',\n",
       " 'maxregshift',\n",
       " 'align_by_chan',\n",
       " 'reg_tif',\n",
       " 'reg_tif_chan2',\n",
       " 'subpixel',\n",
       " 'smooth_sigma_time',\n",
       " 'smooth_sigma',\n",
       " 'th_badframes',\n",
       " 'norm_frames',\n",
       " 'force_refImg',\n",
       " 'pad_fft',\n",
       " 'nonrigid',\n",
       " 'block_size',\n",
       " 'snr_thresh',\n",
       " 'maxregshiftNR',\n",
       " '1Preg',\n",
       " 'spatial_hp_reg',\n",
       " 'pre_smooth',\n",
       " 'spatial_taper',\n",
       " 'roidetect',\n",
       " 'spikedetect',\n",
       " 'sparse_mode',\n",
       " 'spatial_scale',\n",
       " 'connected',\n",
       " 'nbinned',\n",
       " 'max_iterations',\n",
       " 'threshold_scaling',\n",
       " 'max_overlap',\n",
       " 'high_pass',\n",
       " 'spatial_hp_detect',\n",
       " 'denoise',\n",
       " 'anatomical_only',\n",
       " 'diameter',\n",
       " 'cellprob_threshold',\n",
       " 'flow_threshold',\n",
       " 'spatial_hp_cp',\n",
       " 'pretrained_model',\n",
       " 'soma_crop',\n",
       " 'neuropil_extract',\n",
       " 'inner_neuropil_radius',\n",
       " 'min_neuropil_pixels',\n",
       " 'lam_percentile',\n",
       " 'allow_overlap',\n",
       " 'use_builtin_classifier',\n",
       " 'classifier_path',\n",
       " 'chan2_thres',\n",
       " 'baseline',\n",
       " 'win_baseline',\n",
       " 'sig_baseline',\n",
       " 'prctile_baseline',\n",
       " 'neucoeff',\n",
       " 'data_path',\n",
       " 'plane',\n",
       " 'save_path',\n",
       " 'Ly',\n",
       " 'Lx',\n",
       " 'nframes',\n",
       " 'dx',\n",
       " 'dy',\n",
       " 'ops_path',\n",
       " 'raw_file',\n",
       " 'num_planes',\n",
       " 'num_rois',\n",
       " 'fov',\n",
       " 'fov_px',\n",
       " 'frame_rate',\n",
       " 'pixel_resolution',\n",
       " 'ndim',\n",
       " 'dtype',\n",
       " 'size',\n",
       " 'roi_width_px',\n",
       " 'roi_height_px',\n",
       " 'objective_resolution',\n",
       " 'zoom_factor',\n",
       " 'uniform_sampling',\n",
       " 'fix_phase',\n",
       " 'phasecorr_method',\n",
       " 'offset',\n",
       " 'border',\n",
       " 'upsample',\n",
       " 'max_offset',\n",
       " 'num_frames',\n",
       " 'si',\n",
       " 'job_dir',\n",
       " 'registered_fused_data',\n",
       " 'summary',\n",
       " 'iters',\n",
       " 's3d-job',\n",
       " 'mroi',\n",
       " 'roi',\n",
       " 'shape',\n",
       " 'plane0_shift',\n",
       " 'z',\n",
       " 'reg_file',\n",
       " 'n_frames',\n",
       " 'refImg',\n",
       " 'rmin',\n",
       " 'rmax',\n",
       " 'yoff',\n",
       " 'xoff',\n",
       " 'corrXY',\n",
       " 'yoff1',\n",
       " 'xoff1',\n",
       " 'corrXY1',\n",
       " 'meanImg',\n",
       " 'badframes',\n",
       " 'yrange',\n",
       " 'xrange',\n",
       " 'spatscale_pix',\n",
       " 'meanImgE',\n",
       " 'tPC',\n",
       " 'regPC',\n",
       " 'regDX',\n",
       " 'max_proj',\n",
       " 'Vmax',\n",
       " 'ihop',\n",
       " 'Vsplit',\n",
       " 'Vcorr',\n",
       " 'Vmap',\n",
       " 'timing']"
      ]
     },
     "execution_count": 8,
     "metadata": {},
     "output_type": "execute_result"
    }
   ],
   "source": [
    "import lbm_suite2p_python as lsp\n",
    "\n",
    "ops1 = Path(roi1_files[0]) / \"ops.npy\"\n",
    "roi1 = lsp.load_ops(ops1)\n",
    "\n",
    "list(roi1.keys())"
   ]
  },
  {
   "cell_type": "code",
   "execution_count": null,
   "id": "94147ecf-7e56-4fd4-91e7-bae36df38567",
   "metadata": {},
   "outputs": [],
   "source": []
  }
 ],
 "metadata": {
  "kernelspec": {
   "display_name": "Python 3 (ipykernel)",
   "language": "python",
   "name": "python3"
  },
  "language_info": {
   "codemirror_mode": {
    "name": "ipython",
    "version": 3
   },
   "file_extension": ".py",
   "mimetype": "text/x-python",
   "name": "python",
   "nbconvert_exporter": "python",
   "pygments_lexer": "ipython3",
   "version": "3.12.9"
  }
 },
 "nbformat": 4,
 "nbformat_minor": 5
}
