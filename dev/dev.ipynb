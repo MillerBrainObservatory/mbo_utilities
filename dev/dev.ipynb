{
 "cells": [
  {
   "cell_type": "code",
   "execution_count": 1,
   "id": "335f1c98-c361-4f7c-b692-5eebdb25a5d1",
   "metadata": {
    "execution": {
     "iopub.execute_input": "2025-05-31T22:54:39.486338Z",
     "iopub.status.busy": "2025-05-31T22:54:39.486139Z",
     "iopub.status.idle": "2025-05-31T22:54:39.623846Z",
     "shell.execute_reply": "2025-05-31T22:54:39.623032Z",
     "shell.execute_reply.started": "2025-05-31T22:54:39.486323Z"
    }
   },
   "outputs": [
    {
     "name": "stdout",
     "output_type": "stream",
     "text": [
      "Sourcing .zshenv...\n",
      "\u001b[2mUsing Python 3.12.10 environment at: /home/flynn/repos/work/mbo_utilities/.venv\u001b[0m\n",
      "\u001b[2mAudited \u001b[1m1 package\u001b[0m \u001b[2min 6ms\u001b[0m\u001b[0m\n"
     ]
    }
   ],
   "source": [
    "!uv pip install jupyterlab-vim"
   ]
  },
  {
   "cell_type": "code",
   "execution_count": 2,
   "id": "32bdd968-8bf0-4dca-811e-9ab74215ecb6",
   "metadata": {
    "ExecuteTime": {
     "end_time": "2025-06-25T13:26:14.930333Z",
     "start_time": "2025-06-25T13:26:08.292999Z"
    },
    "execution": {
     "iopub.execute_input": "2025-07-14T22:36:35.548203Z",
     "iopub.status.busy": "2025-07-14T22:36:35.548203Z",
     "iopub.status.idle": "2025-07-14T22:36:35.722378Z",
     "shell.execute_reply": "2025-07-14T22:36:35.722378Z",
     "shell.execute_reply.started": "2025-07-14T22:36:35.548203Z"
    }
   },
   "outputs": [
    {
     "name": "stdout",
     "output_type": "stream",
     "text": [
      "The autoreload extension is already loaded. To reload it, use:\n",
      "  %reload_ext autoreload\n"
     ]
    }
   ],
   "source": [
    "%load_ext autoreload\n",
    "%autoreload 2\n",
    "import numpy as np\n",
    "from pathlib import Path\n",
    "import tifffile\n",
    "import mbo_utilities as mbo\n",
    "import fastplotlib as fpl\n",
    "\n",
    "# import dask.array as da"
   ]
  },
  {
   "cell_type": "code",
   "execution_count": 4,
   "id": "b0f8d68e-a3da-4642-91c9-70bf86a4a656",
   "metadata": {
    "ExecuteTime": {
     "end_time": "2025-06-25T15:00:50.389199Z",
     "start_time": "2025-06-25T15:00:50.355446Z"
    },
    "execution": {
     "iopub.execute_input": "2025-07-14T22:47:26.879980Z",
     "iopub.status.busy": "2025-07-14T22:47:26.879980Z",
     "iopub.status.idle": "2025-07-14T22:47:27.036137Z",
     "shell.execute_reply": "2025-07-14T22:47:27.035536Z",
     "shell.execute_reply.started": "2025-07-14T22:47:26.879980Z"
    }
   },
   "outputs": [
    {
     "data": {
      "text/plain": [
       "['D:\\\\W2_DATA\\\\kbarber\\\\2025_03_01\\\\mk301\\\\green\\\\mk301_03_01_2025_2roi_17p07hz_224x448px_2umpx_180mw_green_00000.tif',\n",
       " 'D:\\\\W2_DATA\\\\kbarber\\\\2025_03_01\\\\mk301\\\\green\\\\mk301_03_01_2025_2roi_17p07hz_224x448px_2umpx_180mw_green_00001.tif',\n",
       " 'D:\\\\W2_DATA\\\\kbarber\\\\2025_03_01\\\\mk301\\\\green\\\\mk301_03_01_2025_2roi_17p07hz_224x448px_2umpx_180mw_green_00002.tif',\n",
       " 'D:\\\\W2_DATA\\\\kbarber\\\\2025_03_01\\\\mk301\\\\green\\\\mk301_03_01_2025_2roi_17p07hz_224x448px_2umpx_180mw_green_00003.tif']"
      ]
     },
     "execution_count": 4,
     "metadata": {},
     "output_type": "execute_result"
    }
   ],
   "source": [
    "raw = r\"D:\\W2_DATA\\kbarber\\2025_03_01\\mk301\\green\"\n",
    "files = mbo.get_files(raw, \"tif\")\n",
    "files[:4]"
   ]
  },
  {
   "cell_type": "code",
   "execution_count": 10,
   "id": "bef66a83-fdaf-48b5-92f2-4749b3be9ab8",
   "metadata": {
    "execution": {
     "iopub.execute_input": "2025-07-14T22:50:05.130136Z",
     "iopub.status.busy": "2025-07-14T22:50:05.130136Z",
     "iopub.status.idle": "2025-07-14T22:50:05.946679Z",
     "shell.execute_reply": "2025-07-14T22:50:05.946679Z",
     "shell.execute_reply.started": "2025-07-14T22:50:05.130136Z"
    }
   },
   "outputs": [
    {
     "name": "stdout",
     "output_type": "stream",
     "text": [
      "Raw tiff fully read.\n"
     ]
    }
   ],
   "source": [
    "md = mbo.get_metadata(files)"
   ]
  },
  {
   "cell_type": "code",
   "execution_count": 11,
   "id": "7863ad58-f02c-4b6d-a521-690a3ae56fd2",
   "metadata": {
    "execution": {
     "iopub.execute_input": "2025-07-14T22:50:07.270671Z",
     "iopub.status.busy": "2025-07-14T22:50:07.270671Z",
     "iopub.status.idle": "2025-07-14T22:50:07.413416Z",
     "shell.execute_reply": "2025-07-14T22:50:07.412873Z",
     "shell.execute_reply.started": "2025-07-14T22:50:07.270671Z"
    }
   },
   "outputs": [
    {
     "data": {
      "text/plain": [
       "{'num_planes': 14,\n",
       " 'fov': (448, 896),\n",
       " 'fov_px': (224, 448),\n",
       " 'num_rois': 2,\n",
       " 'frame_rate': 17.06701142272251,\n",
       " 'pixel_resolution': array([2., 2.]),\n",
       " 'ndim': 4,\n",
       " 'dtype': 'int16',\n",
       " 'size': 1089672192,\n",
       " 'tiff_pages': 5334,\n",
       " 'roi_width_px': 224,\n",
       " 'roi_height_px': 448,\n",
       " 'objective_resolution': 61,\n",
       " 'num_frames': 78848,\n",
       " 'frame_indices': [5334,\n",
       "  1666,\n",
       "  1414,\n",
       "  1680,\n",
       "  1666,\n",
       "  1260,\n",
       "  1134,\n",
       "  2772,\n",
       "  1106,\n",
       "  980,\n",
       "  1106,\n",
       "  1274,\n",
       "  1260,\n",
       "  1162,\n",
       "  1582,\n",
       "  1050,\n",
       "  1498,\n",
       "  1820,\n",
       "  1428,\n",
       "  1330,\n",
       "  1050,\n",
       "  1988,\n",
       "  1330,\n",
       "  1162,\n",
       "  2072,\n",
       "  1610,\n",
       "  2184,\n",
       "  1582,\n",
       "  1400,\n",
       "  1764,\n",
       "  1288,\n",
       "  1568,\n",
       "  1036,\n",
       "  1414,\n",
       "  1610,\n",
       "  1344,\n",
       "  1358,\n",
       "  1302,\n",
       "  2156,\n",
       "  2086,\n",
       "  1120,\n",
       "  1456,\n",
       "  1526,\n",
       "  1092,\n",
       "  1232,\n",
       "  2058,\n",
       "  1106,\n",
       "  1498,\n",
       "  2226,\n",
       "  1708]}"
      ]
     },
     "execution_count": 11,
     "metadata": {},
     "output_type": "execute_result"
    }
   ],
   "source": [
    "md"
   ]
  },
  {
   "cell_type": "code",
   "execution_count": 3,
   "id": "65c66cc2-225c-4930-9617-1bca4da84055",
   "metadata": {
    "ExecuteTime": {
     "end_time": "2025-06-25T15:00:53.581007Z",
     "start_time": "2025-06-25T15:00:53.428302Z"
    },
    "execution": {
     "iopub.execute_input": "2025-05-31T22:59:09.129838Z",
     "iopub.status.busy": "2025-05-31T22:59:09.129347Z",
     "iopub.status.idle": "2025-05-31T22:59:09.209185Z",
     "shell.execute_reply": "2025-05-31T22:59:09.208641Z",
     "shell.execute_reply.started": "2025-05-31T22:59:09.129801Z"
    }
   },
   "outputs": [
    {
     "name": "stderr",
     "output_type": "stream",
     "text": [
      "Initializing MBO Scan with parameters:\n",
      "roi: 0, fix_phase: True, phasecorr_method: frame, border: 3, upsample: 5, max_offset: 4\n"
     ]
    },
    {
     "name": "stdout",
     "output_type": "stream",
     "text": [
      "Generating combined kerchunk reference for 2 files…\n",
      "Combined kerchunk reference written to /home/flynn/lbm_data/raw/combined_refs.json\n",
      "Raw tiff fully read.\n"
     ]
    }
   ],
   "source": [
    "scan = mbo.imread(files, roi=0)"
   ]
  },
  {
   "cell_type": "code",
   "execution_count": 6,
   "id": "ec77af93-4021-4fd6-a11d-f1d663717969",
   "metadata": {
    "execution": {
     "iopub.execute_input": "2025-05-31T23:01:49.252967Z",
     "iopub.status.busy": "2025-05-31T23:01:49.252052Z",
     "iopub.status.idle": "2025-05-31T23:01:49.292051Z",
     "shell.execute_reply": "2025-05-31T23:01:49.291576Z",
     "shell.execute_reply.started": "2025-05-31T23:01:49.252894Z"
    }
   },
   "outputs": [],
   "source": [
    "scan.fix_phase = True"
   ]
  }
 ],
 "metadata": {
  "kernelspec": {
   "display_name": "Python 3 (ipykernel)",
   "language": "python",
   "name": "python3"
  },
  "language_info": {
   "codemirror_mode": {
    "name": "ipython",
    "version": 3
   },
   "file_extension": ".py",
   "mimetype": "text/x-python",
   "name": "python",
   "nbconvert_exporter": "python",
   "pygments_lexer": "ipython3",
   "version": "3.12.4"
  }
 },
 "nbformat": 4,
 "nbformat_minor": 5
}
