{
 "cells": [
  {
   "cell_type": "code",
   "execution_count": 1,
   "id": "335f1c98-c361-4f7c-b692-5eebdb25a5d1",
   "metadata": {
    "execution": {
     "iopub.execute_input": "2025-05-31T22:54:39.486338Z",
     "iopub.status.busy": "2025-05-31T22:54:39.486139Z",
     "iopub.status.idle": "2025-05-31T22:54:39.623846Z",
     "shell.execute_reply": "2025-05-31T22:54:39.623032Z",
     "shell.execute_reply.started": "2025-05-31T22:54:39.486323Z"
    }
   },
   "outputs": [
    {
     "name": "stdout",
     "output_type": "stream",
     "text": [
      "Sourcing .zshenv...\n",
      "\u001B[2mUsing Python 3.12.10 environment at: /home/flynn/repos/work/mbo_utilities/.venv\u001B[0m\n",
      "\u001B[2mAudited \u001B[1m1 package\u001B[0m \u001B[2min 6ms\u001B[0m\u001B[0m\n"
     ]
    }
   ],
   "source": [
    "!uv pip install jupyterlab-vim"
   ]
  },
  {
   "cell_type": "code",
   "id": "32bdd968-8bf0-4dca-811e-9ab74215ecb6",
   "metadata": {
    "execution": {
     "iopub.execute_input": "2025-05-31T22:58:55.950032Z",
     "iopub.status.busy": "2025-05-31T22:58:55.949611Z",
     "iopub.status.idle": "2025-05-31T22:59:00.536743Z",
     "shell.execute_reply": "2025-05-31T22:59:00.536469Z",
     "shell.execute_reply.started": "2025-05-31T22:58:55.949999Z"
    },
    "ExecuteTime": {
     "end_time": "2025-06-25T13:26:14.930333Z",
     "start_time": "2025-06-25T13:26:08.292999Z"
    }
   },
   "source": [
    "%load_ext autoreload\n",
    "%autoreload 2\n",
    "import numpy as np\n",
    "from pathlib import Path\n",
    "import tifffile\n",
    "import mbo_utilities as mbo\n",
    "import fastplotlib as fpl\n",
    "\n",
    "# import dask.array as da"
   ],
   "outputs": [
    {
     "data": {
      "text/plain": [
       "Image(value=b'\\x89PNG\\r\\n\\x1a\\n\\x00\\x00\\x00\\rIHDR\\x00\\x00\\x01,\\x00\\x00\\x007\\x08\\x06\\x00\\x00\\x00\\xb6\\x1bw\\x99\\x…"
      ],
      "application/vnd.jupyter.widget-view+json": {
       "version_major": 2,
       "version_minor": 0,
       "model_id": "1945a1e4e88241bfb5429fc2f95d64cf"
      }
     },
     "metadata": {},
     "output_type": "display_data"
    },
    {
     "data": {
      "text/plain": [
       "<IPython.core.display.HTML object>"
      ],
      "text/html": [
       "<b>Available devices:</b><table><tr><th>Valid</th><th>Device</th><th>Type</th><th>Backend</th><th>Driver</th></tr><tr title=\"This adapter can be used with fastplotlib\"><td>✅ (default) </td><td>Intel(R) Graphics (RPL-P)</td><td>IntegratedGPU</td><td>Vulkan</td><td>Mesa 24.0.3-1pop1~1711635559~22.04~7a9f319</td></tr><tr title=\"CPU rendering support is limited and mainly for testing purposes\"><td>❗ limited</td><td>llvmpipe (LLVM 15.0.7, 256 bits)</td><td>CPU</td><td>Vulkan</td><td>Mesa 24.0.3-1pop1~1711635559~22.04~7a9f319 (LLVM 15.0.7)</td></tr><tr title=\"This adapter cannot be used with fastplotlib\"><td>❌</td><td>Mesa Intel(R) Graphics (RPL-P)</td><td>IntegratedGPU</td><td>OpenGL</td><td>4.6 (Core Profile) Mesa 24.2.8-1~bpo12+1pop1~1744225826~22.04~b077665</td></tr></table>"
      ]
     },
     "metadata": {},
     "output_type": "display_data"
    }
   ],
   "execution_count": 1
  },
  {
   "cell_type": "code",
   "id": "b0f8d68e-a3da-4642-91c9-70bf86a4a656",
   "metadata": {
    "execution": {
     "iopub.execute_input": "2025-05-31T22:59:07.397612Z",
     "iopub.status.busy": "2025-05-31T22:59:07.396903Z",
     "iopub.status.idle": "2025-05-31T22:59:07.424610Z",
     "shell.execute_reply": "2025-05-31T22:59:07.424356Z",
     "shell.execute_reply.started": "2025-05-31T22:59:07.397578Z"
    },
    "ExecuteTime": {
     "end_time": "2025-06-25T15:00:50.389199Z",
     "start_time": "2025-06-25T15:00:50.355446Z"
    }
   },
   "source": [
    "raw = r\"~/lbm_data/raw\"\n",
    "files = mbo.get_files(raw, \"tif\")\n",
    "files[:4]"
   ],
   "outputs": [
    {
     "data": {
      "text/plain": [
       "['/home/flynn/lbm_data/raw/mk301_03_01_2025_2roi_17p07hz_224x448px_2umpx_180mw_green_00002.tif',\n",
       " '/home/flynn/lbm_data/raw/mk301_03_01_2025_2roi_17p07hz_224x448px_2umpx_180mw_green_00001.tif']"
      ]
     },
     "execution_count": 2,
     "metadata": {},
     "output_type": "execute_result"
    }
   ],
   "execution_count": 2
  },
  {
   "cell_type": "code",
   "id": "65c66cc2-225c-4930-9617-1bca4da84055",
   "metadata": {
    "execution": {
     "iopub.execute_input": "2025-05-31T22:59:09.129838Z",
     "iopub.status.busy": "2025-05-31T22:59:09.129347Z",
     "iopub.status.idle": "2025-05-31T22:59:09.209185Z",
     "shell.execute_reply": "2025-05-31T22:59:09.208641Z",
     "shell.execute_reply.started": "2025-05-31T22:59:09.129801Z"
    },
    "ExecuteTime": {
     "end_time": "2025-06-25T15:00:53.581007Z",
     "start_time": "2025-06-25T15:00:53.428302Z"
    }
   },
   "source": "scan = mbo.imread(files, roi=0)",
   "outputs": [
    {
     "name": "stderr",
     "output_type": "stream",
     "text": [
      "Initializing MBO Scan with parameters:\n",
      "roi: 0, fix_phase: True, phasecorr_method: frame, border: 3, upsample: 5, max_offset: 4\n"
     ]
    },
    {
     "name": "stdout",
     "output_type": "stream",
     "text": [
      "Generating combined kerchunk reference for 2 files…\n",
      "Combined kerchunk reference written to /home/flynn/lbm_data/raw/combined_refs.json\n",
      "Raw tiff fully read.\n"
     ]
    }
   ],
   "execution_count": 3
  },
  {
   "cell_type": "code",
   "execution_count": 6,
   "id": "ec77af93-4021-4fd6-a11d-f1d663717969",
   "metadata": {
    "execution": {
     "iopub.execute_input": "2025-05-31T23:01:49.252967Z",
     "iopub.status.busy": "2025-05-31T23:01:49.252052Z",
     "iopub.status.idle": "2025-05-31T23:01:49.292051Z",
     "shell.execute_reply": "2025-05-31T23:01:49.291576Z",
     "shell.execute_reply.started": "2025-05-31T23:01:49.252894Z"
    }
   },
   "outputs": [],
   "source": "scan.fix_phase = True"
  }
 ],
 "metadata": {
  "kernelspec": {
   "display_name": "Python 3 (ipykernel)",
   "language": "python",
   "name": "python3"
  },
  "language_info": {
   "codemirror_mode": {
    "name": "ipython",
    "version": 3
   },
   "file_extension": ".py",
   "mimetype": "text/x-python",
   "name": "python",
   "nbconvert_exporter": "python",
   "pygments_lexer": "ipython3",
   "version": "3.12.10"
  }
 },
 "nbformat": 4,
 "nbformat_minor": 5
}
