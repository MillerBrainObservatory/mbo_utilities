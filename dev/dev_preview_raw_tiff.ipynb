{
 "cells": [
  {
   "cell_type": "code",
   "execution_count": 48,
   "id": "d468b8e5-b110-4d96-9e61-0bd5a5949f09",
   "metadata": {
    "execution": {
     "iopub.execute_input": "2025-06-04T16:43:39.674364Z",
     "iopub.status.busy": "2025-06-04T16:43:39.674179Z",
     "iopub.status.idle": "2025-06-04T16:43:39.855179Z",
     "shell.execute_reply": "2025-06-04T16:43:39.853188Z",
     "shell.execute_reply.started": "2025-06-04T16:43:39.674348Z"
    }
   },
   "outputs": [
    {
     "name": "stdout",
     "output_type": "stream",
     "text": [
      "Sourcing .zshenv...\n",
      "\u001B[2mUsing Python 3.12.10 environment at: /home/flynn/repos/work/mbo_utilities/.venv\u001B[0m\n",
      "\u001B[2mAudited \u001B[1m1 package\u001B[0m \u001B[2min 12ms\u001B[0m\u001B[0m\n"
     ]
    }
   ],
   "source": [
    "import mbo_utilities.lazy_array\n",
    "!uv pip install jupyterlab-vim"
   ]
  },
  {
   "metadata": {},
   "cell_type": "code",
   "outputs": [],
   "execution_count": null,
   "source": [
    "%load_ext autoreload\n",
    "%autoreload 2\n",
    "\n",
    "import mbo_utilities as mbo\n",
    "import fastplotlib as fpl\n",
    "import numpy as np\n",
    "from pathlib import Path"
   ],
   "id": "2bb9060b19d1b9b"
  },
  {
   "metadata": {},
   "cell_type": "code",
   "outputs": [],
   "execution_count": null,
   "source": [
    "fname_scan = [x for x in Path(r\"/home/flynn/lbm_data/raw\").glob(\"*tif*\")]\n",
    "raw_scan = mbo.read_scan(fname_scan)"
   ],
   "id": "a9c28332b5952ff8"
  },
  {
   "metadata": {},
   "cell_type": "code",
   "outputs": [],
   "execution_count": null,
   "source": "raw_scan = mbo.lazy_array.imread(\"/home/flynn/lbm_data/raw\")",
   "id": "a64489a119065687"
  },
  {
   "metadata": {},
   "cell_type": "code",
   "outputs": [],
   "execution_count": null,
   "source": [
    "import os\n",
    "\n",
    "os.environ[\"MBO_DEBUG\"] = \"1\""
   ],
   "id": "e97289175b55223"
  },
  {
   "metadata": {},
   "cell_type": "code",
   "outputs": [],
   "execution_count": null,
   "source": [
    "raw_scan.fix_phase = False\n",
    "raw_scan.roi = 0"
   ],
   "id": "216ed9c19a5caf0b"
  },
  {
   "metadata": {},
   "cell_type": "code",
   "outputs": [],
   "execution_count": null,
   "source": "type(raw_scan)",
   "id": "cfd9330a5bd3f3d2"
  },
  {
   "metadata": {},
   "cell_type": "code",
   "outputs": [],
   "execution_count": null,
   "source": [
    "%%timeit\n",
    "raw_scan[:200, 0, :, :]"
   ],
   "id": "905122d83e0b9533"
  },
  {
   "metadata": {},
   "cell_type": "code",
   "outputs": [],
   "execution_count": null,
   "source": "raw_scan.data.fix_phase = False",
   "id": "60d2627ef5cb4081"
  },
  {
   "metadata": {},
   "cell_type": "code",
   "outputs": [],
   "execution_count": null,
   "source": [
    "%%timeit\n",
    "raw_scan[:200, 0, :, :]"
   ],
   "id": "c9fc0607b77193c6"
  },
  {
   "metadata": {},
   "cell_type": "code",
   "outputs": [],
   "execution_count": null,
   "source": [
    "%%timeit\n",
    "raw_scan.fix_phase=False\n",
    "raw_scan[:200, 0, :, :]"
   ],
   "id": "909b441c1edea776"
  },
  {
   "metadata": {},
   "cell_type": "code",
   "outputs": [],
   "execution_count": null,
   "source": [
    "%%timeit\n",
    "raw_scan.fix_phase=False\n",
    "raw_scan[:2000, 0, :, :]"
   ],
   "id": "ad4b110d2d7e0fd4"
  },
  {
   "metadata": {},
   "cell_type": "code",
   "outputs": [],
   "execution_count": null,
   "source": [
    "%%timeit\n",
    "raw_scan.fix_phase=False\n",
    "raw_scan[::5, 0, :, :]"
   ],
   "id": "24ef4d227a4a9be2"
  },
  {
   "metadata": {},
   "cell_type": "code",
   "outputs": [],
   "execution_count": null,
   "source": [
    "%%timeit\n",
    "raw_scan.fix_phase=False\n",
    "raw_scan.roi=0\n",
    "raw_scan[::5, 0, :, :]"
   ],
   "id": "4f2271320b30c22b"
  },
  {
   "metadata": {},
   "cell_type": "code",
   "outputs": [],
   "execution_count": null,
   "source": "zstore = raw_scan.as_zarr()",
   "id": "39adb222bdc7537e"
  },
  {
   "metadata": {},
   "cell_type": "markdown",
   "source": "## Raw vs Kerchunked",
   "id": "88d2d303bda0f944"
  },
  {
   "metadata": {},
   "cell_type": "code",
   "outputs": [],
   "execution_count": null,
   "source": "import tifffile",
   "id": "5facc3fd3d48bea4"
  },
  {
   "metadata": {},
   "cell_type": "code",
   "outputs": [],
   "execution_count": null,
   "source": [
    "files = [x for x in Path(\"/home/flynn/lbm_data/raw/\").glob(\"*.tif*\")]\n",
    "files"
   ],
   "id": "579ea3c13d4caad2"
  },
  {
   "metadata": {},
   "cell_type": "code",
   "outputs": [],
   "execution_count": null,
   "source": [
    "data = np.concat([tifffile.imread(files[i]) for i in range(len(files))], axis=0)\n",
    "data.shape"
   ],
   "id": "2aab4668fe4fbfac"
  },
  {
   "metadata": {},
   "cell_type": "code",
   "outputs": [],
   "execution_count": null,
   "source": [
    "# /// script\n",
    "# requires-python = \">=3.13\"\n",
    "# dependencies = [\n",
    "#     \"numpy\",\n",
    "#     \"mbo_utilities\",\n",
    "#     \"fastplotlib\",\n",
    "# ]\n",
    "#\n",
    "# [tool.uv.sources]\n",
    "# mbo_utilities = { git = \"https://github.com/MillerBrainObservatory/mbo_utilities\", branch = \"dev\" }\n",
    "\n",
    "%load_ext autoreload\n",
    "%autoreload 2\n",
    "import time\n",
    "from functools import partial\n",
    "from typing import Literal\n",
    "\n",
    "import tifffile\n",
    "from pathlib import Path\n",
    "import tifffile as tiff\n",
    "import numpy as np\n",
    "\n",
    "import fastplotlib as fpl\n",
    "from fastplotlib.ui import EdgeWindow\n",
    "from fastplotlib.widgets import ImageWidget\n",
    "from scipy.ndimage import fourier_shift\n",
    "\n",
    "from mbo_utilities.lazy_array import imread, imwrite\n",
    "import mbo_utilities as mbo\n",
    "from mbo_utilities import is_raw_scanimage\n",
    "from mbo_utilities.graphics._imgui import ndim_to_frame\n",
    "from mbo_utilities.metadata import has_mbo_metadata\n",
    "\n",
    "from imgui_bundle import imgui"
   ],
   "id": "4d6525645d0497c7"
  },
  {
   "metadata": {},
   "cell_type": "code",
   "outputs": [],
   "execution_count": null,
   "source": [
    "def find_si_rois(file):\n",
    "    \"\"\"\n",
    "    Find the ROIs in the current ScanImage session.\n",
    "\n",
    "    Returns\n",
    "    -------\n",
    "    list\n",
    "        List of ROI names.\n",
    "    \"\"\"\n",
    "    with tifffile.TiffFile(file, mode=\"r\") as _tf:\n",
    "        if is_raw_scanimage(file):\n",
    "            si_metadata = _tf.scanimage_metadata\n",
    "        if has_mbo_metadata(file):\n",
    "            si_metadata = _tf.shaped_metadata[0][\"si\"]\n",
    "        rois = si_metadata[\"RoiGroups\"][\"imagingRoiGroup\"][\"rois\"]\n",
    "    return rois\n",
    "\n",
    "\n",
    "def write_u16(infile: str | Path, outfile: str | Path):\n",
    "    img = tiff.imread(infile).astype(np.int32)\n",
    "    off  = img.min()\n",
    "    rng  = img.max() - off\n",
    "    u16  = (img - off).astype(np.uint16)\n",
    "\n",
    "    tiff.imwrite(\n",
    "        outfile,\n",
    "        u16,\n",
    "        photometric=\"minisblack\",\n",
    "        bitspersample=16,\n",
    "        extratags=[\n",
    "            (340, \"H\", 1, (0,),   False),\n",
    "            (341, \"H\", 1, (rng if rng < 65536 else 65535,), False),\n",
    "            (65535, \"d\", 2, (float(off), float(rng)), False)\n",
    "        ],\n",
    "    )\n",
    "\n",
    "def timeit(func):\n",
    "    \"\"\"\n",
    "    Decorator to time a function.\n",
    "    \"\"\"\n",
    "    def wrapper(*args, **kwargs):\n",
    "        start = time.time()\n",
    "        result = func(*args, **kwargs)\n",
    "        end = time.time()\n",
    "        print(f\"Function {func.__name__} took {end - start:.4f} seconds\")\n",
    "        return result\n",
    "    return wrapper\n",
    "\n",
    "import matplotlib.pyplot as plt\n",
    "Path(\"/tmp/01\").mkdir(exist_ok=True,)\n",
    "\n",
    "data = imread(\n",
    "    r\"/home/flynn/lbm_data/raw\"\n",
    ")"
   ],
   "id": "a06a8ef49dddfd45"
  },
  {
   "metadata": {},
   "cell_type": "code",
   "outputs": [],
   "execution_count": null,
   "source": "data.output_xslices, data.output_yslices, data.xslices, data.yslices",
   "id": "e43ed745ad57d1e3"
  },
  {
   "metadata": {},
   "cell_type": "code",
   "outputs": [],
   "execution_count": null,
   "source": "data.output_xslices[0], data.output_xslices[1]",
   "id": "b97f11407909b72e"
  },
  {
   "metadata": {},
   "cell_type": "code",
   "outputs": [],
   "execution_count": null,
   "source": [
    "data.fix_phase = True\n",
    "data.roi = 2"
   ],
   "id": "3acfaccf1c7e9527"
  },
  {
   "metadata": {},
   "cell_type": "code",
   "outputs": [],
   "execution_count": null,
   "source": [
    "iw = fpl.ImageWidget(data, figure_kwargs={\"size\": (550, 550)})\n",
    "iw.show()"
   ],
   "id": "f7db446201862394"
  },
  {
   "metadata": {},
   "cell_type": "code",
   "outputs": [],
   "execution_count": null,
   "source": [
    "zarray = mbo_utilities.lazy_array.ZarrScanView(\n",
    "    data.data.as_zarr(),\n",
    "    ys=data.yslices,\n",
    "    xs=data.xslices,\n",
    "    oys=data.output_yslices,\n",
    "    oxs=data.output_xslices,\n",
    "    roi=None,\n",
    ")\n"
   ],
   "id": "2fbb97a0759ffdaf"
  },
  {
   "metadata": {},
   "cell_type": "code",
   "outputs": [],
   "execution_count": null,
   "source": "iw.close()",
   "id": "64b4cd7bc1d1bed7"
  },
  {
   "metadata": {},
   "cell_type": "code",
   "outputs": [],
   "execution_count": null,
   "source": [
    "zarray = mbo_utilities.lazy_array.ZarrScanView(\n",
    "    data.data.as_zarr(),\n",
    "    yslices=data.yslices,\n",
    "    xslices=data.xslices,\n",
    "    roi=0,\n",
    ")"
   ],
   "id": "d90ea41c3a61be5a"
  },
  {
   "metadata": {},
   "cell_type": "code",
   "outputs": [],
   "execution_count": null,
   "source": "zarray.shape, zarray[0, 0, ...].shape",
   "id": "9b8afbbea0933aef"
  },
  {
   "metadata": {},
   "cell_type": "code",
   "outputs": [],
   "execution_count": null,
   "source": [
    "files = [x for x in Path(\"/tmp/01/fsspec\").glob(\"*.tif*\")]\n",
    "check = tifffile.imread(files[0])\n",
    "fpl.ImageWidget(check,\n",
    "                histogram_widget=True,\n",
    "                figure_kwargs={\"size\": (800, 1000),},\n",
    "                graphic_kwargs={\"vmin\": check.min(), \"vmax\": check.max()},\n",
    "                window_funcs={\"t\": (np.mean, 0)},\n",
    "               ).show()"
   ],
   "id": "57005b62c422a1c4"
  }
 ],
 "metadata": {
  "kernelspec": {
   "display_name": "Python 3 (ipykernel)",
   "language": "python",
   "name": "python3"
  },
  "language_info": {
   "codemirror_mode": {
    "name": "ipython",
    "version": 3
   },
   "file_extension": ".py",
   "mimetype": "text/x-python",
   "name": "python",
   "nbconvert_exporter": "python",
   "pygments_lexer": "ipython3",
   "version": "3.11.12"
  }
 },
 "nbformat": 4,
 "nbformat_minor": 5
}
