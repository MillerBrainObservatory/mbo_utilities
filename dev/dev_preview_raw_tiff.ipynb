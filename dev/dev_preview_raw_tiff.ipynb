{
 "cells": [
  {
   "cell_type": "code",
   "execution_count": 1,
   "id": "d468b8e5-b110-4d96-9e61-0bd5a5949f09",
   "metadata": {
    "execution": {
     "iopub.execute_input": "2025-06-17T20:39:59.069149Z",
     "iopub.status.busy": "2025-06-17T20:39:59.068480Z",
     "iopub.status.idle": "2025-06-17T20:39:59.209277Z",
     "shell.execute_reply": "2025-06-17T20:39:59.207581Z",
     "shell.execute_reply.started": "2025-06-17T20:39:59.069096Z"
    }
   },
   "outputs": [
    {
     "name": "stdout",
     "output_type": "stream",
     "text": [
      "Sourcing .zshenv...\n",
      "\u001b[2mUsing Python 3.12.10 environment at: /home/flynn/repos/work/mbo_utilities/.venv\u001b[0m\n",
      "\u001b[2mAudited \u001b[1m1 package\u001b[0m \u001b[2min 5ms\u001b[0m\u001b[0m\n"
     ]
    }
   ],
   "source": [
    "!uv pip install jupyterlab-vim"
   ]
  },
  {
   "cell_type": "code",
   "execution_count": 1,
   "id": "50257acf-420a-4138-809a-60a77fd6f3b6",
   "metadata": {
    "execution": {
     "iopub.execute_input": "2025-06-18T23:11:02.336640Z",
     "iopub.status.busy": "2025-06-18T23:11:02.336035Z",
     "iopub.status.idle": "2025-06-18T23:11:07.623177Z",
     "shell.execute_reply": "2025-06-18T23:11:07.622602Z",
     "shell.execute_reply.started": "2025-06-18T23:11:02.336596Z"
    }
   },
   "outputs": [
    {
     "data": {
      "application/vnd.jupyter.widget-view+json": {
       "model_id": "b4658d3fb4334f2db84843365b175702",
       "version_major": 2,
       "version_minor": 0
      },
      "text/plain": [
       "Image(value=b'\\x89PNG\\r\\n\\x1a\\n\\x00\\x00\\x00\\rIHDR\\x00\\x00\\x01,\\x00\\x00\\x007\\x08\\x06\\x00\\x00\\x00\\xb6\\x1bw\\x99\\x…"
      ]
     },
     "metadata": {},
     "output_type": "display_data"
    },
    {
     "data": {
      "text/html": [
       "<b>Available devices:</b><table><tr><th>Valid</th><th>Device</th><th>Type</th><th>Backend</th><th>Driver</th></tr><tr title=\"This adapter can be used with fastplotlib\"><td>✅ (default) </td><td>Intel(R) Graphics (RPL-P)</td><td>IntegratedGPU</td><td>Vulkan</td><td>Mesa 24.0.3-1pop1~1711635559~22.04~7a9f319</td></tr><tr title=\"CPU rendering support is limited and mainly for testing purposes\"><td>❗ limited</td><td>llvmpipe (LLVM 15.0.7, 256 bits)</td><td>CPU</td><td>Vulkan</td><td>Mesa 24.0.3-1pop1~1711635559~22.04~7a9f319 (LLVM 15.0.7)</td></tr><tr title=\"This adapter cannot be used with fastplotlib\"><td>❌</td><td>Mesa Intel(R) Graphics (RPL-P)</td><td>IntegratedGPU</td><td>OpenGL</td><td>4.6 (Core Profile) Mesa 24.2.8-1~bpo12+1pop1~1744225826~22.04~b077665</td></tr></table>"
      ],
      "text/plain": [
       "<IPython.core.display.HTML object>"
      ]
     },
     "metadata": {},
     "output_type": "display_data"
    }
   ],
   "source": [
    "import mbo_utilities as mbo\n",
    "import fastplotlib as fpl\n",
    "import numpy as np\n",
    "from pathlib import Path"
   ]
  },
  {
   "cell_type": "code",
   "execution_count": 8,
   "id": "c8560ad0-f685-4060-b2a9-bf5e1cafce99",
   "metadata": {
    "execution": {
     "iopub.execute_input": "2025-06-17T20:40:47.017351Z",
     "iopub.status.busy": "2025-06-17T20:40:47.017083Z",
     "iopub.status.idle": "2025-06-17T20:40:47.074145Z",
     "shell.execute_reply": "2025-06-17T20:40:47.073563Z",
     "shell.execute_reply.started": "2025-06-17T20:40:47.017328Z"
    }
   },
   "outputs": [
    {
     "name": "stderr",
     "output_type": "stream",
     "text": [
      "Initializing MBO Scan with parameters:\n",
      "roi: None, fix_phase: True, phasecorr_method: frame, border: 3, upsample: 1, max_offset: 4\n"
     ]
    },
    {
     "name": "stdout",
     "output_type": "stream",
     "text": [
      "Raw tiff fully read.\n"
     ]
    }
   ],
   "source": [
    "fname_scan = [x for x in Path(r\"/home/flynn/lbm_data/raw\").glob(\"*tif*\")]\n",
    "raw_scan = mbo.read_scan(fname_scan)"
   ]
  },
  {
   "cell_type": "code",
   "execution_count": 3,
   "id": "ec94967a-b2f2-4ec7-9450-975610e88f96",
   "metadata": {
    "execution": {
     "iopub.execute_input": "2025-06-18T23:11:48.613437Z",
     "iopub.status.busy": "2025-06-18T23:11:48.613049Z",
     "iopub.status.idle": "2025-06-18T23:11:48.745044Z",
     "shell.execute_reply": "2025-06-18T23:11:48.744450Z",
     "shell.execute_reply.started": "2025-06-18T23:11:48.613419Z"
    }
   },
   "outputs": [
    {
     "name": "stderr",
     "output_type": "stream",
     "text": [
      "Initializing MBO Scan with parameters:\n",
      "roi: None, fix_phase: True, phasecorr_method: frame, border: 3, upsample: 5, max_offset: 4\n"
     ]
    },
    {
     "name": "stdout",
     "output_type": "stream",
     "text": [
      "Generating combined kerchunk reference for 2 files…\n",
      "Combined kerchunk reference written to /home/flynn/lbm_data/raw/combined_refs.json\n",
      "Raw tiff fully read.\n"
     ]
    }
   ],
   "source": [
    "raw_scan = mbo.lazy_array.imread(\"/home/flynn/lbm_data/raw\")"
   ]
  },
  {
   "cell_type": "code",
   "execution_count": 10,
   "id": "659757a6-9225-4d43-b8db-d2a59325cade",
   "metadata": {
    "execution": {
     "iopub.execute_input": "2025-06-18T23:29:07.709408Z",
     "iopub.status.busy": "2025-06-18T23:29:07.709017Z",
     "iopub.status.idle": "2025-06-18T23:29:07.711643Z",
     "shell.execute_reply": "2025-06-18T23:29:07.711221Z",
     "shell.execute_reply.started": "2025-06-18T23:29:07.709390Z"
    }
   },
   "outputs": [],
   "source": [
    "import os\n",
    "\n",
    "os.environ[\"MBO_DEBUG\"] = \"1\""
   ]
  },
  {
   "cell_type": "code",
   "execution_count": 11,
   "id": "a04b012c-635f-4479-9843-ad69fec19943",
   "metadata": {
    "execution": {
     "iopub.execute_input": "2025-06-18T23:29:12.295711Z",
     "iopub.status.busy": "2025-06-18T23:29:12.295258Z",
     "iopub.status.idle": "2025-06-18T23:29:12.298159Z",
     "shell.execute_reply": "2025-06-18T23:29:12.297693Z",
     "shell.execute_reply.started": "2025-06-18T23:29:12.295682Z"
    }
   },
   "outputs": [],
   "source": [
    "raw_scan.fix_phase = False\n",
    "raw_scan.roi = 0"
   ]
  },
  {
   "cell_type": "code",
   "execution_count": 12,
   "id": "e78d5304-0010-4a3b-9a2e-fe93eba22936",
   "metadata": {
    "execution": {
     "iopub.execute_input": "2025-06-18T23:29:18.349372Z",
     "iopub.status.busy": "2025-06-18T23:29:18.348431Z",
     "iopub.status.idle": "2025-06-18T23:29:18.356102Z",
     "shell.execute_reply": "2025-06-18T23:29:18.355236Z",
     "shell.execute_reply.started": "2025-06-18T23:29:18.349334Z"
    }
   },
   "outputs": [
    {
     "data": {
      "text/plain": [
       "mbo_utilities.lazy_array.MBOScanArray"
      ]
     },
     "execution_count": 12,
     "metadata": {},
     "output_type": "execute_result"
    }
   ],
   "source": [
    "type(raw_scan)"
   ]
  },
  {
   "cell_type": "code",
   "execution_count": 8,
   "id": "0919a1ff-e7ed-444d-95ca-971e161dc724",
   "metadata": {
    "execution": {
     "iopub.execute_input": "2025-06-18T23:20:30.598434Z",
     "iopub.status.busy": "2025-06-18T23:20:30.597928Z",
     "iopub.status.idle": "2025-06-18T23:20:59.969110Z",
     "shell.execute_reply": "2025-06-18T23:20:59.968713Z",
     "shell.execute_reply.started": "2025-06-18T23:20:30.598401Z"
    }
   },
   "outputs": [
    {
     "name": "stdout",
     "output_type": "stream",
     "text": [
      "3.72 s ± 345 ms per loop (mean ± std. dev. of 7 runs, 1 loop each)\n"
     ]
    }
   ],
   "source": [
    "%%timeit\n",
    "raw_scan[:200, 0, :, :]"
   ]
  },
  {
   "cell_type": "code",
   "execution_count": 13,
   "id": "d9fb6210-6062-4212-9334-5fc6a94cdc88",
   "metadata": {
    "execution": {
     "iopub.execute_input": "2025-06-18T23:30:05.529373Z",
     "iopub.status.busy": "2025-06-18T23:30:05.529116Z",
     "iopub.status.idle": "2025-06-18T23:30:05.531463Z",
     "shell.execute_reply": "2025-06-18T23:30:05.531128Z",
     "shell.execute_reply.started": "2025-06-18T23:30:05.529359Z"
    }
   },
   "outputs": [],
   "source": [
    "raw_scan.data.fix_phase = False"
   ]
  },
  {
   "cell_type": "code",
   "execution_count": 14,
   "id": "b995bc71-5e16-4d0c-8b5d-1ab897099de2",
   "metadata": {
    "execution": {
     "iopub.execute_input": "2025-06-18T23:30:07.936336Z",
     "iopub.status.busy": "2025-06-18T23:30:07.935848Z",
     "iopub.status.idle": "2025-06-18T23:30:12.250588Z",
     "shell.execute_reply": "2025-06-18T23:30:12.250152Z",
     "shell.execute_reply.started": "2025-06-18T23:30:07.936304Z"
    }
   },
   "outputs": [
    {
     "name": "stdout",
     "output_type": "stream",
     "text": [
      "52.9 ms ± 845 μs per loop (mean ± std. dev. of 7 runs, 10 loops each)\n"
     ]
    }
   ],
   "source": [
    "%%timeit\n",
    "raw_scan[:200, 0, :, :]"
   ]
  },
  {
   "cell_type": "code",
   "execution_count": 10,
   "id": "af1d6d42-f6df-443b-ab7c-3075a984f19a",
   "metadata": {
    "execution": {
     "iopub.execute_input": "2025-06-17T20:41:10.711365Z",
     "iopub.status.busy": "2025-06-17T20:41:10.711261Z",
     "iopub.status.idle": "2025-06-17T20:41:16.156636Z",
     "shell.execute_reply": "2025-06-17T20:41:16.155947Z",
     "shell.execute_reply.started": "2025-06-17T20:41:10.711356Z"
    }
   },
   "outputs": [
    {
     "name": "stdout",
     "output_type": "stream",
     "text": [
      "67 ms ± 1.55 ms per loop (mean ± std. dev. of 7 runs, 10 loops each)\n"
     ]
    }
   ],
   "source": [
    "%%timeit\n",
    "raw_scan.fix_phase=False\n",
    "raw_scan[:200, 0, :, :]"
   ]
  },
  {
   "cell_type": "code",
   "execution_count": 11,
   "id": "b6015387-8674-47d7-8154-1f80247eff26",
   "metadata": {
    "execution": {
     "iopub.execute_input": "2025-06-17T20:41:16.157003Z",
     "iopub.status.busy": "2025-06-17T20:41:16.156898Z",
     "iopub.status.idle": "2025-06-17T20:41:22.370574Z",
     "shell.execute_reply": "2025-06-17T20:41:22.369798Z",
     "shell.execute_reply.started": "2025-06-17T20:41:16.156993Z"
    }
   },
   "outputs": [
    {
     "name": "stdout",
     "output_type": "stream",
     "text": [
      "76.4 ms ± 1.06 ms per loop (mean ± std. dev. of 7 runs, 10 loops each)\n"
     ]
    }
   ],
   "source": [
    "%%timeit\n",
    "raw_scan.fix_phase=False\n",
    "raw_scan[:2000, 0, :, :]"
   ]
  },
  {
   "cell_type": "code",
   "execution_count": 12,
   "id": "6f464913-0487-4bb0-b19b-d66a3ffb6d77",
   "metadata": {
    "execution": {
     "iopub.execute_input": "2025-06-17T20:41:42.690276Z",
     "iopub.status.busy": "2025-06-17T20:41:42.689990Z",
     "iopub.status.idle": "2025-06-17T20:41:52.214292Z",
     "shell.execute_reply": "2025-06-17T20:41:52.213693Z",
     "shell.execute_reply.started": "2025-06-17T20:41:42.690256Z"
    }
   },
   "outputs": [
    {
     "name": "stdout",
     "output_type": "stream",
     "text": [
      "11.7 ms ± 167 μs per loop (mean ± std. dev. of 7 runs, 100 loops each)\n"
     ]
    }
   ],
   "source": [
    "%%timeit\n",
    "raw_scan.fix_phase=False\n",
    "raw_scan[::5, 0, :, :]"
   ]
  },
  {
   "cell_type": "code",
   "execution_count": 13,
   "id": "92a66b92-e048-4de9-98f3-85f9495ac189",
   "metadata": {
    "execution": {
     "iopub.execute_input": "2025-06-17T20:41:52.214833Z",
     "iopub.status.busy": "2025-06-17T20:41:52.214726Z",
     "iopub.status.idle": "2025-06-17T20:42:01.759779Z",
     "shell.execute_reply": "2025-06-17T20:42:01.759254Z",
     "shell.execute_reply.started": "2025-06-17T20:41:52.214824Z"
    }
   },
   "outputs": [
    {
     "name": "stdout",
     "output_type": "stream",
     "text": [
      "11.7 ms ± 38 μs per loop (mean ± std. dev. of 7 runs, 100 loops each)\n"
     ]
    }
   ],
   "source": [
    "%%timeit\n",
    "raw_scan.fix_phase=False\n",
    "raw_scan.roi=0\n",
    "raw_scan[::5, 0, :, :]"
   ]
  },
  {
   "cell_type": "code",
   "execution_count": 14,
   "id": "2456900d-29fa-42ba-867e-3b295aed969a",
   "metadata": {
    "execution": {
     "iopub.execute_input": "2025-06-18T23:10:34.998361Z",
     "iopub.status.busy": "2025-06-18T23:10:34.997116Z",
     "iopub.status.idle": "2025-06-18T23:10:35.023081Z",
     "shell.execute_reply": "2025-06-18T23:10:35.022563Z",
     "shell.execute_reply.started": "2025-06-18T23:10:34.998307Z"
    }
   },
   "outputs": [
    {
     "ename": "AttributeError",
     "evalue": "'Scan_MBO' object has no attribute 'as_zarr'",
     "output_type": "error",
     "traceback": [
      "\u001b[31m---------------------------------------------------------------------------\u001b[39m",
      "\u001b[31mAttributeError\u001b[39m                            Traceback (most recent call last)",
      "\u001b[36mCell\u001b[39m\u001b[36m \u001b[39m\u001b[32mIn[14]\u001b[39m\u001b[32m, line 1\u001b[39m\n\u001b[32m----> \u001b[39m\u001b[32m1\u001b[39m zstore = \u001b[43mraw_scan\u001b[49m\u001b[43m.\u001b[49m\u001b[43mas_zarr\u001b[49m()\n",
      "\u001b[31mAttributeError\u001b[39m: 'Scan_MBO' object has no attribute 'as_zarr'"
     ]
    }
   ],
   "source": [
    "zstore = raw_scan.as_zarr()"
   ]
  },
  {
   "cell_type": "markdown",
   "id": "4f64f2d1-1f87-4714-970d-66abc398db50",
   "metadata": {},
   "source": [
    "## Raw vs Kerchunked"
   ]
  },
  {
   "cell_type": "code",
   "execution_count": 15,
   "id": "5703f0ed-9ef5-466c-8b1e-606dec260a53",
   "metadata": {
    "execution": {
     "iopub.execute_input": "2025-06-18T23:40:04.862898Z",
     "iopub.status.busy": "2025-06-18T23:40:04.862392Z",
     "iopub.status.idle": "2025-06-18T23:40:04.867548Z",
     "shell.execute_reply": "2025-06-18T23:40:04.866495Z",
     "shell.execute_reply.started": "2025-06-18T23:40:04.862867Z"
    }
   },
   "outputs": [],
   "source": [
    "import tifffile"
   ]
  },
  {
   "cell_type": "code",
   "execution_count": 17,
   "id": "8a8662e1-50c8-4f1c-a8d9-71c73a0ec2d4",
   "metadata": {
    "execution": {
     "iopub.execute_input": "2025-06-18T23:41:09.251311Z",
     "iopub.status.busy": "2025-06-18T23:41:09.250720Z",
     "iopub.status.idle": "2025-06-18T23:41:09.258802Z",
     "shell.execute_reply": "2025-06-18T23:41:09.257919Z",
     "shell.execute_reply.started": "2025-06-18T23:41:09.251270Z"
    }
   },
   "outputs": [
    {
     "data": {
      "text/plain": [
       "[PosixPath('/home/flynn/lbm_data/raw/mk301_03_01_2025_2roi_17p07hz_224x448px_2umpx_180mw_green_00002.tif'),\n",
       " PosixPath('/home/flynn/lbm_data/raw/mk301_03_01_2025_2roi_17p07hz_224x448px_2umpx_180mw_green_00001.tif')]"
      ]
     },
     "execution_count": 17,
     "metadata": {},
     "output_type": "execute_result"
    }
   ],
   "source": [
    "files = [x for x in Path(\"/home/flynn/lbm_data/raw/\").glob(\"*.tif*\")]\n",
    "files"
   ]
  },
  {
   "cell_type": "code",
   "execution_count": 23,
   "id": "7027cb4e-0cac-47f0-90a8-d1c149a5db3e",
   "metadata": {
    "execution": {
     "iopub.execute_input": "2025-06-18T23:42:50.876968Z",
     "iopub.status.busy": "2025-06-18T23:42:50.876537Z",
     "iopub.status.idle": "2025-06-18T23:42:53.173076Z",
     "shell.execute_reply": "2025-06-18T23:42:53.172830Z",
     "shell.execute_reply.started": "2025-06-18T23:42:50.876930Z"
    }
   },
   "outputs": [
    {
     "data": {
      "text/plain": [
       "(220, 14, 912, 224)"
      ]
     },
     "execution_count": 23,
     "metadata": {},
     "output_type": "execute_result"
    }
   ],
   "source": [
    "data = np.concat([tifffile.imread(files[i]) for i in range(len(files))], axis=0)\n",
    "data.shape"
   ]
  },
  {
   "cell_type": "code",
   "execution_count": null,
   "id": "774195d5-adc9-439e-a21a-040530fea5af",
   "metadata": {},
   "outputs": [],
   "source": []
  }
 ],
 "metadata": {
  "kernelspec": {
   "display_name": "Python 3 (ipykernel)",
   "language": "python",
   "name": "python3"
  },
  "language_info": {
   "codemirror_mode": {
    "name": "ipython",
    "version": 3
   },
   "file_extension": ".py",
   "mimetype": "text/x-python",
   "name": "python",
   "nbconvert_exporter": "python",
   "pygments_lexer": "ipython3",
   "version": "3.12.10"
  }
 },
 "nbformat": 4,
 "nbformat_minor": 5
}
