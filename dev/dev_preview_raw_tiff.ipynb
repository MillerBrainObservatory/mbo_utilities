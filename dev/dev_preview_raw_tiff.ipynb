{
 "cells": [
  {
   "cell_type": "code",
   "execution_count": 1,
   "id": "d468b8e5-b110-4d96-9e61-0bd5a5949f09",
   "metadata": {
    "execution": {
     "iopub.execute_input": "2025-06-17T20:39:59.069149Z",
     "iopub.status.busy": "2025-06-17T20:39:59.068480Z",
     "iopub.status.idle": "2025-06-17T20:39:59.209277Z",
     "shell.execute_reply": "2025-06-17T20:39:59.207581Z",
     "shell.execute_reply.started": "2025-06-17T20:39:59.069096Z"
    }
   },
   "outputs": [
    {
     "name": "stdout",
     "output_type": "stream",
     "text": [
      "Sourcing .zshenv...\n",
      "\u001b[2mUsing Python 3.12.10 environment at: /home/flynn/repos/work/mbo_utilities/.venv\u001b[0m\n",
      "\u001b[2mAudited \u001b[1m1 package\u001b[0m \u001b[2min 5ms\u001b[0m\u001b[0m\n"
     ]
    }
   ],
   "source": [
    "!uv pip install jupyterlab-vim"
   ]
  },
  {
   "cell_type": "code",
   "execution_count": 7,
   "id": "50257acf-420a-4138-809a-60a77fd6f3b6",
   "metadata": {
    "execution": {
     "iopub.execute_input": "2025-06-17T20:40:46.759424Z",
     "iopub.status.busy": "2025-06-17T20:40:46.759080Z",
     "iopub.status.idle": "2025-06-17T20:40:46.763866Z",
     "shell.execute_reply": "2025-06-17T20:40:46.763346Z",
     "shell.execute_reply.started": "2025-06-17T20:40:46.759397Z"
    }
   },
   "outputs": [],
   "source": [
    "import mbo_utilities as mbo\n",
    "import fastplotlib as fpl\n",
    "import numpy as np\n",
    "from pathlib import Path"
   ]
  },
  {
   "cell_type": "code",
   "execution_count": 8,
   "id": "c8560ad0-f685-4060-b2a9-bf5e1cafce99",
   "metadata": {
    "execution": {
     "iopub.execute_input": "2025-06-17T20:40:47.017351Z",
     "iopub.status.busy": "2025-06-17T20:40:47.017083Z",
     "iopub.status.idle": "2025-06-17T20:40:47.074145Z",
     "shell.execute_reply": "2025-06-17T20:40:47.073563Z",
     "shell.execute_reply.started": "2025-06-17T20:40:47.017328Z"
    }
   },
   "outputs": [
    {
     "name": "stderr",
     "output_type": "stream",
     "text": [
      "Initializing MBO Scan with parameters:\n",
      "roi: None, fix_phase: True, phasecorr_method: frame, border: 3, upsample: 1, max_offset: 4\n"
     ]
    },
    {
     "name": "stdout",
     "output_type": "stream",
     "text": [
      "Raw tiff fully read.\n"
     ]
    }
   ],
   "source": [
    "fname_scan = [x for x in Path(r\"/home/flynn/lbm_data/raw\").glob(\"*tif*\")]\n",
    "raw_scan = mbo.read_scan(fname_scan)"
   ]
  },
  {
   "cell_type": "code",
   "execution_count": 9,
   "id": "0919a1ff-e7ed-444d-95ca-971e161dc724",
   "metadata": {
    "execution": {
     "iopub.execute_input": "2025-06-17T20:40:49.400418Z",
     "iopub.status.busy": "2025-06-17T20:40:49.400225Z",
     "iopub.status.idle": "2025-06-17T20:41:10.710710Z",
     "shell.execute_reply": "2025-06-17T20:41:10.710183Z",
     "shell.execute_reply.started": "2025-06-17T20:40:49.400403Z"
    }
   },
   "outputs": [
    {
     "name": "stdout",
     "output_type": "stream",
     "text": [
      "2.64 s ± 37.3 ms per loop (mean ± std. dev. of 7 runs, 1 loop each)\n"
     ]
    }
   ],
   "source": [
    "%%timeit\n",
    "raw_scan[:200, 0, :, :]"
   ]
  },
  {
   "cell_type": "code",
   "execution_count": 10,
   "id": "af1d6d42-f6df-443b-ab7c-3075a984f19a",
   "metadata": {
    "execution": {
     "iopub.execute_input": "2025-06-17T20:41:10.711365Z",
     "iopub.status.busy": "2025-06-17T20:41:10.711261Z",
     "iopub.status.idle": "2025-06-17T20:41:16.156636Z",
     "shell.execute_reply": "2025-06-17T20:41:16.155947Z",
     "shell.execute_reply.started": "2025-06-17T20:41:10.711356Z"
    }
   },
   "outputs": [
    {
     "name": "stdout",
     "output_type": "stream",
     "text": [
      "67 ms ± 1.55 ms per loop (mean ± std. dev. of 7 runs, 10 loops each)\n"
     ]
    }
   ],
   "source": [
    "%%timeit\n",
    "raw_scan.fix_phase=False\n",
    "raw_scan[:200, 0, :, :]"
   ]
  },
  {
   "cell_type": "code",
   "execution_count": 11,
   "id": "b6015387-8674-47d7-8154-1f80247eff26",
   "metadata": {
    "execution": {
     "iopub.execute_input": "2025-06-17T20:41:16.157003Z",
     "iopub.status.busy": "2025-06-17T20:41:16.156898Z",
     "iopub.status.idle": "2025-06-17T20:41:22.370574Z",
     "shell.execute_reply": "2025-06-17T20:41:22.369798Z",
     "shell.execute_reply.started": "2025-06-17T20:41:16.156993Z"
    }
   },
   "outputs": [
    {
     "name": "stdout",
     "output_type": "stream",
     "text": [
      "76.4 ms ± 1.06 ms per loop (mean ± std. dev. of 7 runs, 10 loops each)\n"
     ]
    }
   ],
   "source": [
    "%%timeit\n",
    "raw_scan.fix_phase=False\n",
    "raw_scan[:2000, 0, :, :]"
   ]
  },
  {
   "cell_type": "code",
   "execution_count": 12,
   "id": "6f464913-0487-4bb0-b19b-d66a3ffb6d77",
   "metadata": {
    "execution": {
     "iopub.execute_input": "2025-06-17T20:41:42.690276Z",
     "iopub.status.busy": "2025-06-17T20:41:42.689990Z",
     "iopub.status.idle": "2025-06-17T20:41:52.214292Z",
     "shell.execute_reply": "2025-06-17T20:41:52.213693Z",
     "shell.execute_reply.started": "2025-06-17T20:41:42.690256Z"
    }
   },
   "outputs": [
    {
     "name": "stdout",
     "output_type": "stream",
     "text": [
      "11.7 ms ± 167 μs per loop (mean ± std. dev. of 7 runs, 100 loops each)\n"
     ]
    }
   ],
   "source": [
    "%%timeit\n",
    "raw_scan.fix_phase=False\n",
    "raw_scan[::5, 0, :, :]"
   ]
  },
  {
   "cell_type": "code",
   "execution_count": 13,
   "id": "92a66b92-e048-4de9-98f3-85f9495ac189",
   "metadata": {
    "execution": {
     "iopub.execute_input": "2025-06-17T20:41:52.214833Z",
     "iopub.status.busy": "2025-06-17T20:41:52.214726Z",
     "iopub.status.idle": "2025-06-17T20:42:01.759779Z",
     "shell.execute_reply": "2025-06-17T20:42:01.759254Z",
     "shell.execute_reply.started": "2025-06-17T20:41:52.214824Z"
    }
   },
   "outputs": [
    {
     "name": "stdout",
     "output_type": "stream",
     "text": [
      "11.7 ms ± 38 μs per loop (mean ± std. dev. of 7 runs, 100 loops each)\n"
     ]
    }
   ],
   "source": [
    "%%timeit\n",
    "raw_scan.fix_phase=False\n",
    "raw_scan.roi=0\n",
    "raw_scan[::5, 0, :, :]"
   ]
  },
  {
   "cell_type": "code",
   "execution_count": 52,
   "id": "165f432d-b8cc-4069-b84d-115d695bcae0",
   "metadata": {
    "execution": {
     "iopub.execute_input": "2025-04-15T21:04:27.636333Z",
     "iopub.status.busy": "2025-04-15T21:04:27.636333Z",
     "iopub.status.idle": "2025-04-15T21:05:01.615963Z",
     "shell.execute_reply": "2025-04-15T21:05:01.615963Z",
     "shell.execute_reply.started": "2025-04-15T21:04:27.636333Z"
    }
   },
   "outputs": [
    {
     "name": "stdout",
     "output_type": "stream",
     "text": [
      "Reading tiff series data...\n",
      "Reading tiff pages...\n",
      "Raw tiff fully read.\n"
     ]
    },
    {
     "data": {
      "application/vnd.jupyter.widget-view+json": {
       "model_id": "720b77c1c96541cf95fc4337d0d8d2c2",
       "version_major": 2,
       "version_minor": 0
      },
      "text/plain": [
       "Saving plane 1:   0%|          | 0/216 [00:00<?, ?it/s]"
      ]
     },
     "metadata": {},
     "output_type": "display_data"
    },
    {
     "name": "stdout",
     "output_type": "stream",
     "text": [
      "num-chunks: 216\n"
     ]
    },
    {
     "data": {
      "application/vnd.jupyter.widget-view+json": {
       "model_id": "7027f3773a1f43229a2351fff3a3dc82",
       "version_major": 2,
       "version_minor": 0
      },
      "text/plain": [
       "Saving plane 8:   0%|          | 0/216 [00:00<?, ?it/s]"
      ]
     },
     "metadata": {},
     "output_type": "display_data"
    },
    {
     "name": "stdout",
     "output_type": "stream",
     "text": [
      "num-chunks: 216\n"
     ]
    },
    {
     "data": {
      "application/vnd.jupyter.widget-view+json": {
       "model_id": "9e227527c8964d2ab15cb022ec21801f",
       "version_major": 2,
       "version_minor": 0
      },
      "text/plain": [
       "Saving plane 14:   0%|          | 0/216 [00:00<?, ?it/s]"
      ]
     },
     "metadata": {},
     "output_type": "display_data"
    },
    {
     "name": "stdout",
     "output_type": "stream",
     "text": [
      "num-chunks: 216\n",
      "Time elapsed: 0 minutes 33 seconds.\n"
     ]
    }
   ],
   "source": [
    "mbo.save_as(raw_scan, r\"D:\\W2_DATA\\kbarber\\2025_03_01\\mk301\\assembled_zarr\", planes=[0, 7, 13], ext=\".zarr\")"
   ]
  }
 ],
 "metadata": {
  "kernelspec": {
   "display_name": "Python 3 (ipykernel)",
   "language": "python",
   "name": "python3"
  },
  "language_info": {
   "codemirror_mode": {
    "name": "ipython",
    "version": 3
   },
   "file_extension": ".py",
   "mimetype": "text/x-python",
   "name": "python",
   "nbconvert_exporter": "python",
   "pygments_lexer": "ipython3",
   "version": "3.12.10"
  }
 },
 "nbformat": 4,
 "nbformat_minor": 5
}
