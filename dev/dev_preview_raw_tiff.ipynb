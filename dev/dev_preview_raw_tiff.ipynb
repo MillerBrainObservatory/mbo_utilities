{
 "cells": [
  {
   "cell_type": "code",
   "execution_count": 1,
   "id": "d468b8e5-b110-4d96-9e61-0bd5a5949f09",
   "metadata": {
    "execution": {
     "iopub.execute_input": "2025-06-19T16:57:46.067354Z",
     "iopub.status.busy": "2025-06-19T16:57:46.067022Z",
     "iopub.status.idle": "2025-06-19T16:57:46.380637Z",
     "shell.execute_reply": "2025-06-19T16:57:46.379664Z",
     "shell.execute_reply.started": "2025-06-19T16:57:46.067334Z"
    }
   },
   "outputs": [
    {
     "name": "stdout",
     "output_type": "stream",
     "text": [
      "Sourcing .zshenv...\n",
      "\u001b[2mUsing Python 3.12.10 environment at: /home/flynn/repos/work/mbo_utilities/.venv\u001b[0m\n",
      "\u001b[2K\u001b[2mResolved \u001b[1m92 packages\u001b[0m \u001b[2min 134ms\u001b[0m\u001b[0m                                        \u001b[0m\n",
      "\u001b[2K\u001b[2mInstalled \u001b[1m1 package\u001b[0m \u001b[2min 5ms\u001b[0m\u001b[0m.4                                \u001b[0m\n",
      " \u001b[32m+\u001b[39m \u001b[1mjupyterlab-vim\u001b[0m\u001b[2m==4.1.4\u001b[0m\n"
     ]
    }
   ],
   "source": [
    "!uv pip install jupyterlab-vim"
   ]
  },
  {
   "cell_type": "code",
   "execution_count": 9,
   "id": "50257acf-420a-4138-809a-60a77fd6f3b6",
   "metadata": {
    "execution": {
     "iopub.execute_input": "2025-06-19T16:58:12.272060Z",
     "iopub.status.busy": "2025-06-19T16:58:12.271454Z",
     "iopub.status.idle": "2025-06-19T16:58:12.333074Z",
     "shell.execute_reply": "2025-06-19T16:58:12.332229Z",
     "shell.execute_reply.started": "2025-06-19T16:58:12.272022Z"
    }
   },
   "outputs": [
    {
     "name": "stdout",
     "output_type": "stream",
     "text": [
      "The autoreload extension is already loaded. To reload it, use:\n",
      "  %reload_ext autoreload\n"
     ]
    }
   ],
   "source": [
    "%load_ext autoreload\n",
    "%autoreload 2\n",
    "\n",
    "import mbo_utilities as mbo\n",
    "import fastplotlib as fpl\n",
    "import numpy as np\n",
    "from pathlib import Path"
   ]
  },
  {
   "cell_type": "code",
   "execution_count": 8,
   "id": "c8560ad0-f685-4060-b2a9-bf5e1cafce99",
   "metadata": {
    "execution": {
     "iopub.execute_input": "2025-06-17T20:40:47.017351Z",
     "iopub.status.busy": "2025-06-17T20:40:47.017083Z",
     "iopub.status.idle": "2025-06-17T20:40:47.074145Z",
     "shell.execute_reply": "2025-06-17T20:40:47.073563Z",
     "shell.execute_reply.started": "2025-06-17T20:40:47.017328Z"
    }
   },
   "outputs": [
    {
     "name": "stderr",
     "output_type": "stream",
     "text": [
      "Initializing MBO Scan with parameters:\n",
      "roi: None, fix_phase: True, phasecorr_method: frame, border: 3, upsample: 1, max_offset: 4\n"
     ]
    },
    {
     "name": "stdout",
     "output_type": "stream",
     "text": [
      "Raw tiff fully read.\n"
     ]
    }
   ],
   "source": [
    "fname_scan = [x for x in Path(r\"/home/flynn/lbm_data/raw\").glob(\"*tif*\")]\n",
    "raw_scan = mbo.read_scan(fname_scan)"
   ]
  },
  {
   "cell_type": "code",
   "execution_count": 3,
   "id": "ec94967a-b2f2-4ec7-9450-975610e88f96",
   "metadata": {
    "execution": {
     "iopub.execute_input": "2025-06-18T23:11:48.613437Z",
     "iopub.status.busy": "2025-06-18T23:11:48.613049Z",
     "iopub.status.idle": "2025-06-18T23:11:48.745044Z",
     "shell.execute_reply": "2025-06-18T23:11:48.744450Z",
     "shell.execute_reply.started": "2025-06-18T23:11:48.613419Z"
    }
   },
   "outputs": [
    {
     "name": "stderr",
     "output_type": "stream",
     "text": [
      "Initializing MBO Scan with parameters:\n",
      "roi: None, fix_phase: True, phasecorr_method: frame, border: 3, upsample: 5, max_offset: 4\n"
     ]
    },
    {
     "name": "stdout",
     "output_type": "stream",
     "text": [
      "Generating combined kerchunk reference for 2 files…\n",
      "Combined kerchunk reference written to /home/flynn/lbm_data/raw/combined_refs.json\n",
      "Raw tiff fully read.\n"
     ]
    }
   ],
   "source": [
    "raw_scan = mbo.lazy_array.imread(\"/home/flynn/lbm_data/raw\")"
   ]
  },
  {
   "cell_type": "code",
   "execution_count": 10,
   "id": "659757a6-9225-4d43-b8db-d2a59325cade",
   "metadata": {
    "execution": {
     "iopub.execute_input": "2025-06-18T23:29:07.709408Z",
     "iopub.status.busy": "2025-06-18T23:29:07.709017Z",
     "iopub.status.idle": "2025-06-18T23:29:07.711643Z",
     "shell.execute_reply": "2025-06-18T23:29:07.711221Z",
     "shell.execute_reply.started": "2025-06-18T23:29:07.709390Z"
    }
   },
   "outputs": [],
   "source": [
    "import os\n",
    "\n",
    "os.environ[\"MBO_DEBUG\"] = \"1\""
   ]
  },
  {
   "cell_type": "code",
   "execution_count": 11,
   "id": "a04b012c-635f-4479-9843-ad69fec19943",
   "metadata": {
    "execution": {
     "iopub.execute_input": "2025-06-18T23:29:12.295711Z",
     "iopub.status.busy": "2025-06-18T23:29:12.295258Z",
     "iopub.status.idle": "2025-06-18T23:29:12.298159Z",
     "shell.execute_reply": "2025-06-18T23:29:12.297693Z",
     "shell.execute_reply.started": "2025-06-18T23:29:12.295682Z"
    }
   },
   "outputs": [],
   "source": [
    "raw_scan.fix_phase = False\n",
    "raw_scan.roi = 0"
   ]
  },
  {
   "cell_type": "code",
   "execution_count": 12,
   "id": "e78d5304-0010-4a3b-9a2e-fe93eba22936",
   "metadata": {
    "execution": {
     "iopub.execute_input": "2025-06-18T23:29:18.349372Z",
     "iopub.status.busy": "2025-06-18T23:29:18.348431Z",
     "iopub.status.idle": "2025-06-18T23:29:18.356102Z",
     "shell.execute_reply": "2025-06-18T23:29:18.355236Z",
     "shell.execute_reply.started": "2025-06-18T23:29:18.349334Z"
    }
   },
   "outputs": [
    {
     "data": {
      "text/plain": [
       "mbo_utilities.lazy_array.MBOScanArray"
      ]
     },
     "execution_count": 12,
     "metadata": {},
     "output_type": "execute_result"
    }
   ],
   "source": [
    "type(raw_scan)"
   ]
  },
  {
   "cell_type": "code",
   "execution_count": 8,
   "id": "0919a1ff-e7ed-444d-95ca-971e161dc724",
   "metadata": {
    "execution": {
     "iopub.execute_input": "2025-06-18T23:20:30.598434Z",
     "iopub.status.busy": "2025-06-18T23:20:30.597928Z",
     "iopub.status.idle": "2025-06-18T23:20:59.969110Z",
     "shell.execute_reply": "2025-06-18T23:20:59.968713Z",
     "shell.execute_reply.started": "2025-06-18T23:20:30.598401Z"
    }
   },
   "outputs": [
    {
     "name": "stdout",
     "output_type": "stream",
     "text": [
      "3.72 s ± 345 ms per loop (mean ± std. dev. of 7 runs, 1 loop each)\n"
     ]
    }
   ],
   "source": [
    "%%timeit\n",
    "raw_scan[:200, 0, :, :]"
   ]
  },
  {
   "cell_type": "code",
   "execution_count": 13,
   "id": "d9fb6210-6062-4212-9334-5fc6a94cdc88",
   "metadata": {
    "execution": {
     "iopub.execute_input": "2025-06-18T23:30:05.529373Z",
     "iopub.status.busy": "2025-06-18T23:30:05.529116Z",
     "iopub.status.idle": "2025-06-18T23:30:05.531463Z",
     "shell.execute_reply": "2025-06-18T23:30:05.531128Z",
     "shell.execute_reply.started": "2025-06-18T23:30:05.529359Z"
    }
   },
   "outputs": [],
   "source": [
    "raw_scan.data.fix_phase = False"
   ]
  },
  {
   "cell_type": "code",
   "execution_count": 14,
   "id": "b995bc71-5e16-4d0c-8b5d-1ab897099de2",
   "metadata": {
    "execution": {
     "iopub.execute_input": "2025-06-18T23:30:07.936336Z",
     "iopub.status.busy": "2025-06-18T23:30:07.935848Z",
     "iopub.status.idle": "2025-06-18T23:30:12.250588Z",
     "shell.execute_reply": "2025-06-18T23:30:12.250152Z",
     "shell.execute_reply.started": "2025-06-18T23:30:07.936304Z"
    }
   },
   "outputs": [
    {
     "name": "stdout",
     "output_type": "stream",
     "text": [
      "52.9 ms ± 845 μs per loop (mean ± std. dev. of 7 runs, 10 loops each)\n"
     ]
    }
   ],
   "source": [
    "%%timeit\n",
    "raw_scan[:200, 0, :, :]"
   ]
  },
  {
   "cell_type": "code",
   "execution_count": 10,
   "id": "af1d6d42-f6df-443b-ab7c-3075a984f19a",
   "metadata": {
    "execution": {
     "iopub.execute_input": "2025-06-17T20:41:10.711365Z",
     "iopub.status.busy": "2025-06-17T20:41:10.711261Z",
     "iopub.status.idle": "2025-06-17T20:41:16.156636Z",
     "shell.execute_reply": "2025-06-17T20:41:16.155947Z",
     "shell.execute_reply.started": "2025-06-17T20:41:10.711356Z"
    }
   },
   "outputs": [
    {
     "name": "stdout",
     "output_type": "stream",
     "text": [
      "67 ms ± 1.55 ms per loop (mean ± std. dev. of 7 runs, 10 loops each)\n"
     ]
    }
   ],
   "source": [
    "%%timeit\n",
    "raw_scan.fix_phase=False\n",
    "raw_scan[:200, 0, :, :]"
   ]
  },
  {
   "cell_type": "code",
   "execution_count": 11,
   "id": "b6015387-8674-47d7-8154-1f80247eff26",
   "metadata": {
    "execution": {
     "iopub.execute_input": "2025-06-17T20:41:16.157003Z",
     "iopub.status.busy": "2025-06-17T20:41:16.156898Z",
     "iopub.status.idle": "2025-06-17T20:41:22.370574Z",
     "shell.execute_reply": "2025-06-17T20:41:22.369798Z",
     "shell.execute_reply.started": "2025-06-17T20:41:16.156993Z"
    }
   },
   "outputs": [
    {
     "name": "stdout",
     "output_type": "stream",
     "text": [
      "76.4 ms ± 1.06 ms per loop (mean ± std. dev. of 7 runs, 10 loops each)\n"
     ]
    }
   ],
   "source": [
    "%%timeit\n",
    "raw_scan.fix_phase=False\n",
    "raw_scan[:2000, 0, :, :]"
   ]
  },
  {
   "cell_type": "code",
   "execution_count": 12,
   "id": "6f464913-0487-4bb0-b19b-d66a3ffb6d77",
   "metadata": {
    "execution": {
     "iopub.execute_input": "2025-06-17T20:41:42.690276Z",
     "iopub.status.busy": "2025-06-17T20:41:42.689990Z",
     "iopub.status.idle": "2025-06-17T20:41:52.214292Z",
     "shell.execute_reply": "2025-06-17T20:41:52.213693Z",
     "shell.execute_reply.started": "2025-06-17T20:41:42.690256Z"
    }
   },
   "outputs": [
    {
     "name": "stdout",
     "output_type": "stream",
     "text": [
      "11.7 ms ± 167 μs per loop (mean ± std. dev. of 7 runs, 100 loops each)\n"
     ]
    }
   ],
   "source": [
    "%%timeit\n",
    "raw_scan.fix_phase=False\n",
    "raw_scan[::5, 0, :, :]"
   ]
  },
  {
   "cell_type": "code",
   "execution_count": 13,
   "id": "92a66b92-e048-4de9-98f3-85f9495ac189",
   "metadata": {
    "execution": {
     "iopub.execute_input": "2025-06-17T20:41:52.214833Z",
     "iopub.status.busy": "2025-06-17T20:41:52.214726Z",
     "iopub.status.idle": "2025-06-17T20:42:01.759779Z",
     "shell.execute_reply": "2025-06-17T20:42:01.759254Z",
     "shell.execute_reply.started": "2025-06-17T20:41:52.214824Z"
    }
   },
   "outputs": [
    {
     "name": "stdout",
     "output_type": "stream",
     "text": [
      "11.7 ms ± 38 μs per loop (mean ± std. dev. of 7 runs, 100 loops each)\n"
     ]
    }
   ],
   "source": [
    "%%timeit\n",
    "raw_scan.fix_phase=False\n",
    "raw_scan.roi=0\n",
    "raw_scan[::5, 0, :, :]"
   ]
  },
  {
   "cell_type": "code",
   "execution_count": 14,
   "id": "2456900d-29fa-42ba-867e-3b295aed969a",
   "metadata": {
    "execution": {
     "iopub.execute_input": "2025-06-18T23:10:34.998361Z",
     "iopub.status.busy": "2025-06-18T23:10:34.997116Z",
     "iopub.status.idle": "2025-06-18T23:10:35.023081Z",
     "shell.execute_reply": "2025-06-18T23:10:35.022563Z",
     "shell.execute_reply.started": "2025-06-18T23:10:34.998307Z"
    }
   },
   "outputs": [
    {
     "ename": "AttributeError",
     "evalue": "'Scan_MBO' object has no attribute 'as_zarr'",
     "output_type": "error",
     "traceback": [
      "\u001b[31m---------------------------------------------------------------------------\u001b[39m",
      "\u001b[31mAttributeError\u001b[39m                            Traceback (most recent call last)",
      "\u001b[36mCell\u001b[39m\u001b[36m \u001b[39m\u001b[32mIn[14]\u001b[39m\u001b[32m, line 1\u001b[39m\n\u001b[32m----> \u001b[39m\u001b[32m1\u001b[39m zstore = \u001b[43mraw_scan\u001b[49m\u001b[43m.\u001b[49m\u001b[43mas_zarr\u001b[49m()\n",
      "\u001b[31mAttributeError\u001b[39m: 'Scan_MBO' object has no attribute 'as_zarr'"
     ]
    }
   ],
   "source": [
    "zstore = raw_scan.as_zarr()"
   ]
  },
  {
   "cell_type": "markdown",
   "id": "4f64f2d1-1f87-4714-970d-66abc398db50",
   "metadata": {},
   "source": [
    "## Raw vs Kerchunked"
   ]
  },
  {
   "cell_type": "code",
   "execution_count": 15,
   "id": "5703f0ed-9ef5-466c-8b1e-606dec260a53",
   "metadata": {
    "execution": {
     "iopub.execute_input": "2025-06-18T23:40:04.862898Z",
     "iopub.status.busy": "2025-06-18T23:40:04.862392Z",
     "iopub.status.idle": "2025-06-18T23:40:04.867548Z",
     "shell.execute_reply": "2025-06-18T23:40:04.866495Z",
     "shell.execute_reply.started": "2025-06-18T23:40:04.862867Z"
    }
   },
   "outputs": [],
   "source": [
    "import tifffile"
   ]
  },
  {
   "cell_type": "code",
   "execution_count": 17,
   "id": "8a8662e1-50c8-4f1c-a8d9-71c73a0ec2d4",
   "metadata": {
    "execution": {
     "iopub.execute_input": "2025-06-18T23:41:09.251311Z",
     "iopub.status.busy": "2025-06-18T23:41:09.250720Z",
     "iopub.status.idle": "2025-06-18T23:41:09.258802Z",
     "shell.execute_reply": "2025-06-18T23:41:09.257919Z",
     "shell.execute_reply.started": "2025-06-18T23:41:09.251270Z"
    }
   },
   "outputs": [
    {
     "data": {
      "text/plain": [
       "[PosixPath('/home/flynn/lbm_data/raw/mk301_03_01_2025_2roi_17p07hz_224x448px_2umpx_180mw_green_00002.tif'),\n",
       " PosixPath('/home/flynn/lbm_data/raw/mk301_03_01_2025_2roi_17p07hz_224x448px_2umpx_180mw_green_00001.tif')]"
      ]
     },
     "execution_count": 17,
     "metadata": {},
     "output_type": "execute_result"
    }
   ],
   "source": [
    "files = [x for x in Path(\"/home/flynn/lbm_data/raw/\").glob(\"*.tif*\")]\n",
    "files"
   ]
  },
  {
   "cell_type": "code",
   "execution_count": 23,
   "id": "7027cb4e-0cac-47f0-90a8-d1c149a5db3e",
   "metadata": {
    "execution": {
     "iopub.execute_input": "2025-06-18T23:42:50.876968Z",
     "iopub.status.busy": "2025-06-18T23:42:50.876537Z",
     "iopub.status.idle": "2025-06-18T23:42:53.173076Z",
     "shell.execute_reply": "2025-06-18T23:42:53.172830Z",
     "shell.execute_reply.started": "2025-06-18T23:42:50.876930Z"
    }
   },
   "outputs": [
    {
     "data": {
      "text/plain": [
       "(220, 14, 912, 224)"
      ]
     },
     "execution_count": 23,
     "metadata": {},
     "output_type": "execute_result"
    }
   ],
   "source": [
    "data = np.concat([tifffile.imread(files[i]) for i in range(len(files))], axis=0)\n",
    "data.shape"
   ]
  },
  {
   "cell_type": "code",
   "execution_count": 27,
   "id": "342580f9-500b-4caf-a456-d4879e12ea91",
   "metadata": {
    "execution": {
     "iopub.execute_input": "2025-06-19T17:39:24.192612Z",
     "iopub.status.busy": "2025-06-19T17:39:24.192267Z",
     "iopub.status.idle": "2025-06-19T17:39:24.244129Z",
     "shell.execute_reply": "2025-06-19T17:39:24.243625Z",
     "shell.execute_reply.started": "2025-06-19T17:39:24.192585Z"
    }
   },
   "outputs": [
    {
     "name": "stdout",
     "output_type": "stream",
     "text": [
      "The autoreload extension is already loaded. To reload it, use:\n",
      "  %reload_ext autoreload\n"
     ]
    }
   ],
   "source": [
    "# /// script\n",
    "# requires-python = \">=3.13\"\n",
    "# dependencies = [\n",
    "#     \"numpy\",\n",
    "#     \"mbo_utilities\",\n",
    "#     \"fastplotlib\",\n",
    "# ]\n",
    "#\n",
    "# [tool.uv.sources]\n",
    "# mbo_utilities = { git = \"https://github.com/MillerBrainObservatory/mbo_utilities\", branch = \"dev\" }\n",
    "\n",
    "%load_ext autoreload\n",
    "%autoreload 2\n",
    "import time\n",
    "from functools import partial\n",
    "from typing import Literal\n",
    "\n",
    "import tifffile\n",
    "from pathlib import Path\n",
    "import tifffile as tiff\n",
    "import numpy as np\n",
    "\n",
    "import fastplotlib as fpl\n",
    "from fastplotlib.ui import EdgeWindow\n",
    "from fastplotlib.widgets import ImageWidget\n",
    "from scipy.ndimage import fourier_shift\n",
    "\n",
    "from mbo_utilities.lazy_array import imread, imwrite\n",
    "import mbo_utilities as mbo\n",
    "from mbo_utilities import is_raw_scanimage\n",
    "from mbo_utilities.graphics._imgui import ndim_to_frame\n",
    "from mbo_utilities.metadata import has_mbo_metadata\n",
    "\n",
    "from imgui_bundle import imgui"
   ]
  },
  {
   "cell_type": "code",
   "execution_count": 28,
   "id": "182bdcc5-33b4-46c0-bb77-627d79784e5e",
   "metadata": {
    "execution": {
     "iopub.execute_input": "2025-06-19T17:39:24.437196Z",
     "iopub.status.busy": "2025-06-19T17:39:24.436718Z",
     "iopub.status.idle": "2025-06-19T17:39:24.643484Z",
     "shell.execute_reply": "2025-06-19T17:39:24.643057Z",
     "shell.execute_reply.started": "2025-06-19T17:39:24.437161Z"
    }
   },
   "outputs": [
    {
     "name": "stderr",
     "output_type": "stream",
     "text": [
      "Initializing MBO Scan with parameters:\n",
      "roi: None, fix_phase: False, phasecorr_method: frame, border: 3, upsample: 4, max_offset: 3\n"
     ]
    },
    {
     "name": "stdout",
     "output_type": "stream",
     "text": [
      "Generating combined kerchunk reference for 2 files…\n",
      "Combined kerchunk reference written to /home/flynn/lbm_data/raw/combined_refs.json\n",
      "Raw tiff fully read.\n"
     ]
    }
   ],
   "source": [
    "def find_si_rois(file):\n",
    "    \"\"\"\n",
    "    Find the ROIs in the current ScanImage session.\n",
    "\n",
    "    Returns\n",
    "    -------\n",
    "    list\n",
    "        List of ROI names.\n",
    "    \"\"\"\n",
    "    with tifffile.TiffFile(file, mode=\"r\") as _tf:\n",
    "        if is_raw_scanimage(file):\n",
    "            si_metadata = _tf.scanimage_metadata\n",
    "        if has_mbo_metadata(file):\n",
    "            si_metadata = _tf.shaped_metadata[0][\"si\"]\n",
    "        rois = si_metadata[\"RoiGroups\"][\"imagingRoiGroup\"][\"rois\"]\n",
    "    return rois\n",
    "\n",
    "\n",
    "def write_u16(infile: str | Path, outfile: str | Path):\n",
    "    img = tiff.imread(infile).astype(np.int32)\n",
    "    off  = img.min()\n",
    "    rng  = img.max() - off\n",
    "    u16  = (img - off).astype(np.uint16)\n",
    "\n",
    "    tiff.imwrite(\n",
    "        outfile,\n",
    "        u16,\n",
    "        photometric=\"minisblack\",\n",
    "        bitspersample=16,\n",
    "        extratags=[\n",
    "            (340, \"H\", 1, (0,),   False),\n",
    "            (341, \"H\", 1, (rng if rng < 65536 else 65535,), False),\n",
    "            (65535, \"d\", 2, (float(off), float(rng)), False)\n",
    "        ],\n",
    "    )\n",
    "\n",
    "def timeit(func):\n",
    "    \"\"\"\n",
    "    Decorator to time a function.\n",
    "    \"\"\"\n",
    "    def wrapper(*args, **kwargs):\n",
    "        start = time.time()\n",
    "        result = func(*args, **kwargs)\n",
    "        end = time.time()\n",
    "        print(f\"Function {func.__name__} took {end - start:.4f} seconds\")\n",
    "        return result\n",
    "    return wrapper\n",
    "\n",
    "import matplotlib.pyplot as plt\n",
    "Path(\"/tmp/01\").mkdir(exist_ok=True,)\n",
    "\n",
    "data = imread(\n",
    "    r\"/home/flynn/lbm_data/raw\"\n",
    ")"
   ]
  },
  {
   "cell_type": "code",
   "execution_count": 29,
   "id": "bbc669a5-56cb-4218-8a9e-10eb0c439920",
   "metadata": {
    "execution": {
     "iopub.execute_input": "2025-06-19T17:39:25.723309Z",
     "iopub.status.busy": "2025-06-19T17:39:25.722917Z",
     "iopub.status.idle": "2025-06-19T17:39:25.743746Z",
     "shell.execute_reply": "2025-06-19T17:39:25.743316Z",
     "shell.execute_reply.started": "2025-06-19T17:39:25.723280Z"
    }
   },
   "outputs": [
    {
     "data": {
      "text/plain": [
       "([slice(0, 224, None), slice(224, 448, None)],\n",
       " [slice(0, 448, None), slice(0, 448, None)],\n",
       " [slice(0, 224, None), slice(0, 224, None)],\n",
       " [slice(0, 448, None), slice(464, 912, None)])"
      ]
     },
     "execution_count": 29,
     "metadata": {},
     "output_type": "execute_result"
    }
   ],
   "source": [
    "data.output_xslices, data.output_yslices, data.xslices, data.yslices"
   ]
  },
  {
   "cell_type": "code",
   "execution_count": 35,
   "id": "b1bd1f2b-bfd3-48dd-9fde-148af37af161",
   "metadata": {
    "execution": {
     "iopub.execute_input": "2025-06-19T17:44:08.412959Z",
     "iopub.status.busy": "2025-06-19T17:44:08.412539Z",
     "iopub.status.idle": "2025-06-19T17:44:08.477960Z",
     "shell.execute_reply": "2025-06-19T17:44:08.477074Z",
     "shell.execute_reply.started": "2025-06-19T17:44:08.412926Z"
    }
   },
   "outputs": [
    {
     "data": {
      "text/plain": [
       "(slice(0, 224, None), slice(224, 448, None))"
      ]
     },
     "execution_count": 35,
     "metadata": {},
     "output_type": "execute_result"
    }
   ],
   "source": [
    "data.output_xslices[0], data.output_xslices[1]"
   ]
  },
  {
   "cell_type": "code",
   "execution_count": 45,
   "id": "d39c7aa0-4c16-496c-b902-5936734e62cc",
   "metadata": {
    "execution": {
     "iopub.execute_input": "2025-06-19T18:05:26.645479Z",
     "iopub.status.busy": "2025-06-19T18:05:26.645290Z",
     "iopub.status.idle": "2025-06-19T18:05:26.658843Z",
     "shell.execute_reply": "2025-06-19T18:05:26.658312Z",
     "shell.execute_reply.started": "2025-06-19T18:05:26.645464Z"
    }
   },
   "outputs": [],
   "source": [
    "data.fix_phase = True"
   ]
  },
  {
   "cell_type": "code",
   "execution_count": 55,
   "id": "0e32b019-a372-4bd5-ad49-be97166d0d12",
   "metadata": {
    "execution": {
     "iopub.execute_input": "2025-06-19T18:10:04.314984Z",
     "iopub.status.busy": "2025-06-19T18:10:04.314477Z",
     "iopub.status.idle": "2025-06-19T18:10:06.922997Z",
     "shell.execute_reply": "2025-06-19T18:10:06.922632Z",
     "shell.execute_reply.started": "2025-06-19T18:10:04.314953Z"
    }
   },
   "outputs": [
    {
     "data": {
      "application/vnd.jupyter.widget-view+json": {
       "model_id": "47e6b952aeb246cf8e3d129f646348b1",
       "version_major": 2,
       "version_minor": 0
      },
      "text/plain": [
       "RFBOutputContext()"
      ]
     },
     "metadata": {},
     "output_type": "display_data"
    },
    {
     "data": {
      "application/vnd.jupyter.widget-view+json": {
       "model_id": "54e6335875c84d3da4fe598ca0dc891f",
       "version_major": 2,
       "version_minor": 0
      },
      "text/html": [
       "<div class='snapshot-54e6335875c84d3da4fe598ca0dc891f' style='position:relative;'><img src='data:image/png;base64,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' style='width:550.0px;height:550.0px;' /><div style='position: absolute; top:0; left:0; padding:1px 3px; background: #777; color:#fff; font-size: 90%; font-family:sans-serif; '>snapshot</div></div>"
      ],
      "text/plain": [
       "JupyterRenderCanvas(css_height='550.0px', css_width='550.0px')"
      ]
     },
     "execution_count": 55,
     "metadata": {},
     "output_type": "execute_result"
    }
   ],
   "source": [
    "iw = fpl.ImageWidget(data, figure_kwargs={\"size\": (550, 550)})\n",
    "iw.show()"
   ]
  },
  {
   "cell_type": "code",
   "execution_count": 26,
   "id": "17492ef7-b55f-4297-b5b7-0433edb866ea",
   "metadata": {
    "execution": {
     "iopub.execute_input": "2025-06-19T17:17:41.998206Z",
     "iopub.status.busy": "2025-06-19T17:17:41.997859Z",
     "iopub.status.idle": "2025-06-19T17:17:42.114400Z",
     "shell.execute_reply": "2025-06-19T17:17:42.113666Z",
     "shell.execute_reply.started": "2025-06-19T17:17:41.998175Z"
    }
   },
   "outputs": [
    {
     "ename": "TypeError",
     "evalue": "`data` must be an array-like type or a list of array-like.You have passed the following type <class 'mbo_utilities.file_io.ZarrScanView'>",
     "output_type": "error",
     "traceback": [
      "\u001b[31m---------------------------------------------------------------------------\u001b[39m",
      "\u001b[31mTypeError\u001b[39m                                 Traceback (most recent call last)",
      "\u001b[36mCell\u001b[39m\u001b[36m \u001b[39m\u001b[32mIn[26]\u001b[39m\u001b[32m, line 9\u001b[39m\n\u001b[32m      1\u001b[39m zarray = mbo.file_io.ZarrScanView(\n\u001b[32m      2\u001b[39m     data.data.as_zarr(),\n\u001b[32m      3\u001b[39m     ys=data.yslices,\n\u001b[32m   (...)\u001b[39m\u001b[32m      7\u001b[39m     roi=\u001b[38;5;28;01mNone\u001b[39;00m,\n\u001b[32m      8\u001b[39m )\n\u001b[32m----> \u001b[39m\u001b[32m9\u001b[39m iw = \u001b[43mfpl\u001b[49m\u001b[43m.\u001b[49m\u001b[43mImageWidget\u001b[49m\u001b[43m(\u001b[49m\u001b[43mzarray\u001b[49m\u001b[43m,\u001b[49m\u001b[43m \u001b[49m\u001b[43mfigure_kwargs\u001b[49m\u001b[43m=\u001b[49m\u001b[43m{\u001b[49m\u001b[33;43m\"\u001b[39;49m\u001b[33;43msize\u001b[39;49m\u001b[33;43m\"\u001b[39;49m\u001b[43m:\u001b[49m\u001b[43m \u001b[49m\u001b[43m(\u001b[49m\u001b[32;43m1000\u001b[39;49m\u001b[43m,\u001b[49m\u001b[43m \u001b[49m\u001b[32;43m1000\u001b[39;49m\u001b[43m)\u001b[49m\u001b[43m}\u001b[49m\u001b[43m)\u001b[49m\n\u001b[32m     10\u001b[39m iw.show()\n",
      "\u001b[36mFile \u001b[39m\u001b[32m~/repos/work/mbo_utilities/.venv/lib/python3.12/site-packages/fastplotlib/widgets/image_widget/_widget.py:448\u001b[39m, in \u001b[36mImageWidget.__init__\u001b[39m\u001b[34m(self, data, window_funcs, frame_apply, figure_shape, names, figure_kwargs, histogram_widget, rgb, cmap, graphic_kwargs)\u001b[39m\n\u001b[32m    441\u001b[39m         \u001b[38;5;28;01mraise\u001b[39;00m \u001b[38;5;167;01mTypeError\u001b[39;00m(\n\u001b[32m    442\u001b[39m             \u001b[33mf\u001b[39m\u001b[33m\"\u001b[39m\u001b[33mIf passing a list to `data` all elements must be an \u001b[39m\u001b[33m\"\u001b[39m\n\u001b[32m    443\u001b[39m             \u001b[33mf\u001b[39m\u001b[33m\"\u001b[39m\u001b[33marray-like type representing an n-dimensional image. \u001b[39m\u001b[33m\"\u001b[39m\n\u001b[32m    444\u001b[39m             \u001b[33mf\u001b[39m\u001b[33m\"\u001b[39m\u001b[33mYou have passed the following types:\u001b[39m\u001b[38;5;130;01m\\n\u001b[39;00m\u001b[33m\"\u001b[39m\n\u001b[32m    445\u001b[39m             \u001b[33mf\u001b[39m\u001b[33m\"\u001b[39m\u001b[38;5;132;01m{\u001b[39;00m[\u001b[38;5;28mtype\u001b[39m(a)\u001b[38;5;250m \u001b[39m\u001b[38;5;28;01mfor\u001b[39;00m\u001b[38;5;250m \u001b[39ma\u001b[38;5;250m \u001b[39m\u001b[38;5;129;01min\u001b[39;00m\u001b[38;5;250m \u001b[39mdata]\u001b[38;5;132;01m}\u001b[39;00m\u001b[33m\"\u001b[39m\n\u001b[32m    446\u001b[39m         )\n\u001b[32m    447\u001b[39m \u001b[38;5;28;01melse\u001b[39;00m:\n\u001b[32m--> \u001b[39m\u001b[32m448\u001b[39m     \u001b[38;5;28;01mraise\u001b[39;00m \u001b[38;5;167;01mTypeError\u001b[39;00m(\n\u001b[32m    449\u001b[39m         \u001b[33mf\u001b[39m\u001b[33m\"\u001b[39m\u001b[33m`data` must be an array-like type or a list of array-like.\u001b[39m\u001b[33m\"\u001b[39m\n\u001b[32m    450\u001b[39m         \u001b[33mf\u001b[39m\u001b[33m\"\u001b[39m\u001b[33mYou have passed the following type \u001b[39m\u001b[38;5;132;01m{\u001b[39;00m\u001b[38;5;28mtype\u001b[39m(data)\u001b[38;5;132;01m}\u001b[39;00m\u001b[33m\"\u001b[39m\n\u001b[32m    451\u001b[39m     )\n\u001b[32m    453\u001b[39m \u001b[38;5;66;03m# Sliders are made for all dimensions except the image dimensions\u001b[39;00m\n\u001b[32m    454\u001b[39m \u001b[38;5;28mself\u001b[39m._slider_dims = \u001b[38;5;28mlist\u001b[39m()\n",
      "\u001b[31mTypeError\u001b[39m: `data` must be an array-like type or a list of array-like.You have passed the following type <class 'mbo_utilities.file_io.ZarrScanView'>"
     ]
    }
   ],
   "source": [
    "zarray = mbo.file_io.ZarrScanView(\n",
    "    data.data.as_zarr(),\n",
    "    ys=data.yslices,\n",
    "    xs=data.xslices,\n",
    "    oys=data.output_yslices,\n",
    "    oxs=data.output_xslices,\n",
    "    roi=None,\n",
    ")\n"
   ]
  },
  {
   "cell_type": "code",
   "execution_count": 5,
   "id": "8630abc2-49cd-47bc-8087-ad9b33b6c6bb",
   "metadata": {
    "execution": {
     "iopub.execute_input": "2025-06-19T16:28:05.468606Z",
     "iopub.status.busy": "2025-06-19T16:28:05.468399Z",
     "iopub.status.idle": "2025-06-19T16:28:05.472220Z",
     "shell.execute_reply": "2025-06-19T16:28:05.471589Z",
     "shell.execute_reply.started": "2025-06-19T16:28:05.468590Z"
    }
   },
   "outputs": [],
   "source": [
    "iw.close()"
   ]
  },
  {
   "cell_type": "code",
   "execution_count": null,
   "id": "3210bf1c-03d4-416e-9d12-8fce089d8164",
   "metadata": {},
   "outputs": [],
   "source": [
    "zarray = mbo.file_io.ZarrScanView(\n",
    "    data.data.as_zarr(),\n",
    "    yslices=data.yslices,\n",
    "    xslices=data.xslices,\n",
    "    roi=0,\n",
    ")"
   ]
  },
  {
   "cell_type": "code",
   "execution_count": 15,
   "id": "1d0ec8cf-fca6-4474-8f86-867a054383e1",
   "metadata": {
    "execution": {
     "iopub.execute_input": "2025-06-19T16:12:41.978288Z",
     "iopub.status.busy": "2025-06-19T16:12:41.977548Z",
     "iopub.status.idle": "2025-06-19T16:12:41.990433Z",
     "shell.execute_reply": "2025-06-19T16:12:41.989323Z",
     "shell.execute_reply.started": "2025-06-19T16:12:41.978179Z"
    }
   },
   "outputs": [
    {
     "name": "stdout",
     "output_type": "stream",
     "text": [
      "self has no roi\n"
     ]
    },
    {
     "data": {
      "text/plain": [
       "((238, 14, 912, 224), (1, 1, 896, 224))"
      ]
     },
     "execution_count": 15,
     "metadata": {},
     "output_type": "execute_result"
    }
   ],
   "source": [
    "zarray.shape, zarray[0, 0, ...].shape"
   ]
  },
  {
   "cell_type": "code",
   "execution_count": null,
   "id": "7444795d-da0c-4c11-857e-b2554208834c",
   "metadata": {},
   "outputs": [],
   "source": [
    "files = [x for x in Path(\"/tmp/01/fsspec\").glob(\"*.tif*\")]\n",
    "check = tifffile.imread(files[0])\n",
    "fpl.ImageWidget(check,\n",
    "                histogram_widget=True,\n",
    "                figure_kwargs={\"size\": (800, 1000),},\n",
    "                graphic_kwargs={\"vmin\": check.min(), \"vmax\": check.max()},\n",
    "                window_funcs={\"t\": (np.mean, 0)},\n",
    "               ).show()"
   ]
  }
 ],
 "metadata": {
  "kernelspec": {
   "display_name": "Python 3 (ipykernel)",
   "language": "python",
   "name": "python3"
  },
  "language_info": {
   "codemirror_mode": {
    "name": "ipython",
    "version": 3
   },
   "file_extension": ".py",
   "mimetype": "text/x-python",
   "name": "python",
   "nbconvert_exporter": "python",
   "pygments_lexer": "ipython3",
   "version": "3.12.10"
  }
 },
 "nbformat": 4,
 "nbformat_minor": 5
}
