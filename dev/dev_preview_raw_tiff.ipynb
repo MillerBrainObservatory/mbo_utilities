{
 "cells": [
  {
   "cell_type": "code",
   "execution_count": 1,
   "id": "d468b8e5-b110-4d96-9e61-0bd5a5949f09",
   "metadata": {
    "execution": {
     "iopub.execute_input": "2025-06-23T18:13:42.495972Z",
     "iopub.status.busy": "2025-06-23T18:13:42.495637Z",
     "iopub.status.idle": "2025-06-23T18:13:45.491630Z",
     "shell.execute_reply": "2025-06-23T18:13:45.490154Z",
     "shell.execute_reply.started": "2025-06-23T18:13:42.495943Z"
    }
   },
   "outputs": [
    {
     "data": {
      "application/vnd.jupyter.widget-view+json": {
       "model_id": "3bded7537bec4d8996aca8623b4728b0",
       "version_major": 2,
       "version_minor": 0
      },
      "text/plain": [
       "Image(value=b'\\x89PNG\\r\\n\\x1a\\n\\x00\\x00\\x00\\rIHDR\\x00\\x00\\x01,\\x00\\x00\\x007\\x08\\x06\\x00\\x00\\x00\\xb6\\x1bw\\x99\\x…"
      ]
     },
     "metadata": {},
     "output_type": "display_data"
    },
    {
     "data": {
      "text/html": [
       "<b>Available devices:</b><table><tr><th>Valid</th><th>Device</th><th>Type</th><th>Backend</th><th>Driver</th></tr><tr title=\"This adapter can be used with fastplotlib\"><td>✅ (default) </td><td>Intel(R) Graphics (RPL-P)</td><td>IntegratedGPU</td><td>Vulkan</td><td>Mesa 24.0.3-1pop1~1711635559~22.04~7a9f319</td></tr><tr title=\"CPU rendering support is limited and mainly for testing purposes\"><td>❗ limited</td><td>llvmpipe (LLVM 15.0.7, 256 bits)</td><td>CPU</td><td>Vulkan</td><td>Mesa 24.0.3-1pop1~1711635559~22.04~7a9f319 (LLVM 15.0.7)</td></tr><tr title=\"This adapter cannot be used with fastplotlib\"><td>❌</td><td>Mesa Intel(R) Graphics (RPL-P)</td><td>IntegratedGPU</td><td>OpenGL</td><td>4.6 (Core Profile) Mesa 24.2.8-1~bpo12+1pop1~1744225826~22.04~b077665</td></tr></table>"
      ],
      "text/plain": [
       "<IPython.core.display.HTML object>"
      ]
     },
     "metadata": {},
     "output_type": "display_data"
    },
    {
     "name": "stdout",
     "output_type": "stream",
     "text": [
      "Sourcing .zshenv...\n",
      "\u001b[2mUsing Python 3.12.10 environment at: /home/flynn/repos/work/mbo_utilities/.venv\u001b[0m\n",
      "\u001b[2K\u001b[2mResolved \u001b[1m92 packages\u001b[0m \u001b[2min 220ms\u001b[0m\u001b[0m                                        \u001b[0m\n",
      "\u001b[2K\u001b[2mInstalled \u001b[1m1 package\u001b[0m \u001b[2min 5ms\u001b[0m\u001b[0m.4                                \u001b[0m\n",
      " \u001b[32m+\u001b[39m \u001b[1mjupyterlab-vim\u001b[0m\u001b[2m==4.1.4\u001b[0m\n"
     ]
    }
   ],
   "source": [
    "import mbo_utilities.lazy_array\n",
    "!uv pip install jupyterlab-vim"
   ]
  },
  {
   "cell_type": "code",
   "execution_count": 10,
   "id": "2bb9060b19d1b9b",
   "metadata": {
    "execution": {
     "iopub.execute_input": "2025-06-23T18:15:46.440196Z",
     "iopub.status.busy": "2025-06-23T18:15:46.439742Z",
     "iopub.status.idle": "2025-06-23T18:15:46.459120Z",
     "shell.execute_reply": "2025-06-23T18:15:46.458605Z",
     "shell.execute_reply.started": "2025-06-23T18:15:46.440167Z"
    }
   },
   "outputs": [
    {
     "name": "stdout",
     "output_type": "stream",
     "text": [
      "The autoreload extension is already loaded. To reload it, use:\n",
      "  %reload_ext autoreload\n"
     ]
    }
   ],
   "source": [
    "%load_ext autoreload\n",
    "%autoreload 2\n",
    "\n",
    "import mbo_utilities as mbo\n",
    "import fastplotlib as fpl\n",
    "import tifffile\n",
    "import numpy as np\n",
    "from pathlib import Path"
   ]
  },
  {
   "cell_type": "code",
   "execution_count": 12,
   "id": "a06a8ef49dddfd45",
   "metadata": {
    "execution": {
     "iopub.execute_input": "2025-06-23T18:15:54.722355Z",
     "iopub.status.busy": "2025-06-23T18:15:54.722127Z",
     "iopub.status.idle": "2025-06-23T18:15:54.863750Z",
     "shell.execute_reply": "2025-06-23T18:15:54.863291Z",
     "shell.execute_reply.started": "2025-06-23T18:15:54.722342Z"
    }
   },
   "outputs": [
    {
     "name": "stderr",
     "output_type": "stream",
     "text": [
      "Initializing MBO Scan with parameters:\n",
      "roi: None, fix_phase: True, phasecorr_method: frame, border: 3, upsample: 5, max_offset: 4\n"
     ]
    },
    {
     "name": "stdout",
     "output_type": "stream",
     "text": [
      "Generating combined kerchunk reference for 2 files…\n",
      "Combined kerchunk reference written to /home/flynn/lbm_data/raw/combined_refs.json\n",
      "Raw tiff fully read.\n"
     ]
    }
   ],
   "source": [
    "def find_si_rois(file):\n",
    "    \"\"\"\n",
    "    Find the ROIs in the current ScanImage session.\n",
    "\n",
    "    Returns\n",
    "    -------\n",
    "    list\n",
    "        List of ROI names.\n",
    "    \"\"\"\n",
    "    with tifffile.TiffFile(file, mode=\"r\") as _tf:\n",
    "        if is_raw_scanimage(file):\n",
    "            si_metadata = _tf.scanimage_metadata\n",
    "        if has_mbo_metadata(file):\n",
    "            si_metadata = _tf.shaped_metadata[0][\"si\"]\n",
    "        rois = si_metadata[\"RoiGroups\"][\"imagingRoiGroup\"][\"rois\"]\n",
    "    return rois\n",
    "\n",
    "import matplotlib.pyplot as plt\n",
    "Path(\"/tmp/01\").mkdir(exist_ok=True,)\n",
    "\n",
    "data = mbo.imread(\n",
    "    r\"/home/flynn/lbm_data/raw\"\n",
    ")"
   ]
  },
  {
   "cell_type": "code",
   "execution_count": 19,
   "id": "0c541b7a-546f-4e2a-bb3f-8425a1c223fa",
   "metadata": {
    "execution": {
     "iopub.execute_input": "2025-06-23T18:21:19.350829Z",
     "iopub.status.busy": "2025-06-23T18:21:19.350533Z",
     "iopub.status.idle": "2025-06-23T18:21:19.361179Z",
     "shell.execute_reply": "2025-06-23T18:21:19.360859Z",
     "shell.execute_reply.started": "2025-06-23T18:21:19.350812Z"
    }
   },
   "outputs": [],
   "source": [
    "data.roi = 2\n",
    "data.fix_phase = False"
   ]
  },
  {
   "cell_type": "code",
   "execution_count": null,
   "id": "c6506b89-5416-49ca-a353-026dfe9baa78",
   "metadata": {},
   "outputs": [],
   "source": [
    "iw = fpl.ImageWidget(data)\n",
    "iw.show()"
   ]
  },
  {
   "cell_type": "code",
   "execution_count": 21,
   "id": "56f7d624-9da8-4f14-bef2-3dea7bcdb14b",
   "metadata": {
    "execution": {
     "iopub.execute_input": "2025-06-23T18:21:58.347061Z",
     "iopub.status.busy": "2025-06-23T18:21:58.346841Z",
     "iopub.status.idle": "2025-06-23T18:21:58.358305Z",
     "shell.execute_reply": "2025-06-23T18:21:58.357769Z",
     "shell.execute_reply.started": "2025-06-23T18:21:58.347041Z"
    }
   },
   "outputs": [],
   "source": [
    "iw.close()"
   ]
  },
  {
   "cell_type": "code",
   "execution_count": 23,
   "id": "9f935a08-76f3-4a80-bf9f-aa8e5eb12428",
   "metadata": {
    "execution": {
     "iopub.execute_input": "2025-06-23T18:22:41.336351Z",
     "iopub.status.busy": "2025-06-23T18:22:41.335969Z",
     "iopub.status.idle": "2025-06-23T18:22:41.617917Z",
     "shell.execute_reply": "2025-06-23T18:22:41.617554Z",
     "shell.execute_reply.started": "2025-06-23T18:22:41.336328Z"
    }
   },
   "outputs": [
    {
     "name": "stderr",
     "output_type": "stream",
     "text": [
      "Final shape: (238, 224, 448) (nt, height, width)\n",
      "Total chunks to save: 3 (target chunk size: 20.00 MB)\n"
     ]
    },
    {
     "name": "stdout",
     "output_type": "stream",
     "text": [
      "2\n"
     ]
    },
    {
     "data": {
      "application/vnd.jupyter.widget-view+json": {
       "model_id": "d46bf1cd53c24c0cb43d118823dc4819",
       "version_major": 2,
       "version_minor": 0
      },
      "text/plain": [
       "Saving plane :   0%|          | 0/3 [00:00<?, ?it/s]"
      ]
     },
     "metadata": {},
     "output_type": "display_data"
    }
   ],
   "source": [
    "mbo.imwrite(data, \"/home/flynn/lbm_data/temp\", planes=[10])"
   ]
  },
  {
   "cell_type": "code",
   "execution_count": 25,
   "id": "55823f98-b0cb-4230-be6f-fbb853fe0b07",
   "metadata": {
    "execution": {
     "iopub.execute_input": "2025-06-23T18:23:32.957187Z",
     "iopub.status.busy": "2025-06-23T18:23:32.956762Z",
     "iopub.status.idle": "2025-06-23T18:23:32.989763Z",
     "shell.execute_reply": "2025-06-23T18:23:32.989308Z",
     "shell.execute_reply.started": "2025-06-23T18:23:32.957156Z"
    }
   },
   "outputs": [],
   "source": [
    "corr = tifffile.imread(\"/home/flynn/lbm_data/temp/roi2/plane10.tif\")"
   ]
  },
  {
   "cell_type": "code",
   "execution_count": 26,
   "id": "6d14538e-daae-44e0-a693-a857d83aa91d",
   "metadata": {
    "execution": {
     "iopub.execute_input": "2025-06-23T18:23:50.215804Z",
     "iopub.status.busy": "2025-06-23T18:23:50.215252Z",
     "iopub.status.idle": "2025-06-23T18:23:50.379857Z",
     "shell.execute_reply": "2025-06-23T18:23:50.379550Z",
     "shell.execute_reply.started": "2025-06-23T18:23:50.215770Z"
    }
   },
   "outputs": [
    {
     "data": {
      "application/vnd.jupyter.widget-view+json": {
       "model_id": "d244d6beff9946bd8a56508686b614e9",
       "version_major": 2,
       "version_minor": 0
      },
      "text/plain": [
       "RFBOutputContext()"
      ]
     },
     "metadata": {},
     "output_type": "display_data"
    },
    {
     "data": {
      "application/vnd.jupyter.widget-view+json": {
       "model_id": "7469effdfbc243f390cd7d872520f471",
       "version_major": 2,
       "version_minor": 0
      },
      "text/html": [
       "<div class='snapshot-7469effdfbc243f390cd7d872520f471' style='position:relative;'><img src='data:image/png;base64,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' style='width:500.0px;height:300.0px;' /><div style='position: absolute; top:0; left:0; padding:1px 3px; background: #777; color:#fff; font-size: 90%; font-family:sans-serif; '>snapshot</div></div>"
      ],
      "text/plain": [
       "JupyterRenderCanvas(css_height='300.0px', css_width='500.0px')"
      ]
     },
     "execution_count": 26,
     "metadata": {},
     "output_type": "execute_result"
    }
   ],
   "source": [
    "iw = fpl.ImageWidget(corr)\n",
    "iw.show()"
   ]
  },
  {
   "cell_type": "code",
   "execution_count": 13,
   "id": "e43ed745ad57d1e3",
   "metadata": {
    "execution": {
     "iopub.execute_input": "2025-06-23T18:15:57.316845Z",
     "iopub.status.busy": "2025-06-23T18:15:57.316631Z",
     "iopub.status.idle": "2025-06-23T18:15:57.327811Z",
     "shell.execute_reply": "2025-06-23T18:15:57.327243Z",
     "shell.execute_reply.started": "2025-06-23T18:15:57.316828Z"
    }
   },
   "outputs": [
    {
     "data": {
      "text/plain": [
       "([slice(0, 224, None), slice(224, 448, None)],\n",
       " [slice(0, 448, None), slice(0, 448, None)],\n",
       " [slice(0, 224, None), slice(0, 224, None)],\n",
       " [slice(0, 448, None), slice(464, 912, None)])"
      ]
     },
     "execution_count": 13,
     "metadata": {},
     "output_type": "execute_result"
    }
   ],
   "source": [
    "data.output_xslices, data.output_yslices, data.xslices, data.yslices"
   ]
  },
  {
   "cell_type": "code",
   "execution_count": 14,
   "id": "b97f11407909b72e",
   "metadata": {
    "execution": {
     "iopub.execute_input": "2025-06-23T18:16:00.576672Z",
     "iopub.status.busy": "2025-06-23T18:16:00.576119Z",
     "iopub.status.idle": "2025-06-23T18:16:00.592793Z",
     "shell.execute_reply": "2025-06-23T18:16:00.592370Z",
     "shell.execute_reply.started": "2025-06-23T18:16:00.576625Z"
    }
   },
   "outputs": [
    {
     "data": {
      "text/plain": [
       "(slice(0, 224, None), slice(224, 448, None))"
      ]
     },
     "execution_count": 14,
     "metadata": {},
     "output_type": "execute_result"
    }
   ],
   "source": [
    "data.output_xslices[0], data.output_xslices[1]"
   ]
  },
  {
   "cell_type": "code",
   "execution_count": null,
   "id": "f7db446201862394",
   "metadata": {},
   "outputs": [],
   "source": [
    "iw = fpl.ImageWidget(data, figure_kwargs={\"size\": (550, 550)})\n",
    "iw.show()"
   ]
  }
 ],
 "metadata": {
  "kernelspec": {
   "display_name": "Python 3 (ipykernel)",
   "language": "python",
   "name": "python3"
  },
  "language_info": {
   "codemirror_mode": {
    "name": "ipython",
    "version": 3
   },
   "file_extension": ".py",
   "mimetype": "text/x-python",
   "name": "python",
   "nbconvert_exporter": "python",
   "pygments_lexer": "ipython3",
   "version": "3.12.10"
  }
 },
 "nbformat": 4,
 "nbformat_minor": 5
}
