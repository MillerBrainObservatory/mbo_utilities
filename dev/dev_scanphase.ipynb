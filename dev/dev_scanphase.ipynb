{
 "cells": [
  {
   "cell_type": "code",
   "execution_count": 1,
   "id": "b02430de-edcb-4316-a825-aa3497a3255e",
   "metadata": {
    "execution": {
     "iopub.execute_input": "2025-06-17T11:15:11.265478Z",
     "iopub.status.busy": "2025-06-17T11:15:11.265478Z",
     "iopub.status.idle": "2025-06-17T11:15:16.562336Z",
     "shell.execute_reply": "2025-06-17T11:15:16.562336Z",
     "shell.execute_reply.started": "2025-06-17T11:15:11.265478Z"
    }
   },
   "outputs": [
    {
     "data": {
      "application/vnd.jupyter.widget-view+json": {
       "model_id": "128f1d740e1040d6b4c995f7706e4711",
       "version_major": 2,
       "version_minor": 0
      },
      "text/plain": [
       "Image(value=b'version https://git-lfs.github.com/spec/...', height='55', width='300')"
      ]
     },
     "metadata": {},
     "output_type": "display_data"
    },
    {
     "data": {
      "text/html": [
       "<b>Available devices:</b><table><tr><th>Valid</th><th>Device</th><th>Type</th><th>Backend</th><th>Driver</th></tr><tr title=\"This adapter can be used with fastplotlib\"><td>✅ (default) </td><td>NVIDIA RTX A4000</td><td>DiscreteGPU</td><td>Vulkan</td><td>560.94</td></tr><tr title=\"This adapter can be used with fastplotlib\"><td>✅</td><td>NVIDIA RTX A4000</td><td>DiscreteGPU</td><td>D3D12</td><td></td></tr><tr title=\"This adapter can be used with fastplotlib\"><td>✅</td><td>NVIDIA RTX A4000</td><td>DiscreteGPU</td><td>D3D12</td><td></td></tr><tr title=\"CPU rendering support is limited and mainly for testing purposes\"><td>❗ limited</td><td>Microsoft Basic Render Driver</td><td>CPU</td><td>D3D12</td><td></td></tr><tr title=\"This adapter cannot be used with fastplotlib\"><td>❌</td><td>NVIDIA RTX A4000/PCIe/SSE2</td><td>Unknown</td><td>OpenGL</td><td>4.6.0 NVIDIA 560.94</td></tr></table>"
      ],
      "text/plain": [
       "<IPython.core.display.HTML object>"
      ]
     },
     "metadata": {},
     "output_type": "display_data"
    }
   ],
   "source": [
    "%load_ext autoreload\n",
    "%autoreload 2\n",
    "from pathlib import Path\n",
    "import mbo_utilities as mbo\n",
    "import tifffile"
   ]
  },
  {
   "cell_type": "code",
   "execution_count": 2,
   "id": "98d6e59d-ef2b-4535-a702-e829fd447996",
   "metadata": {
    "execution": {
     "iopub.execute_input": "2025-06-17T01:30:01.019982Z",
     "iopub.status.busy": "2025-06-17T01:30:01.019982Z",
     "iopub.status.idle": "2025-06-17T01:30:01.224670Z",
     "shell.execute_reply": "2025-06-17T01:30:01.224670Z",
     "shell.execute_reply.started": "2025-06-17T01:30:01.019982Z"
    }
   },
   "outputs": [
    {
     "data": {
      "text/plain": [
       "(64594, 448, 448)"
      ]
     },
     "execution_count": 2,
     "metadata": {},
     "output_type": "execute_result"
    }
   ],
   "source": [
    "# original implementation in v1.0.0\n",
    "v1_files = mbo.get_files(r\"D:\\W2_DATA\\kbarber\\2025_03_01\\mk301\\assembled\", \"07\")\n",
    "v1_data = tifffile.memmap(v1_files[0])\n",
    "v1_data.shape"
   ]
  },
  {
   "cell_type": "code",
   "execution_count": 3,
   "id": "f76e06c8-3db5-4c5e-a9b6-d80bb617051e",
   "metadata": {
    "execution": {
     "iopub.execute_input": "2025-05-21T01:52:31.927568Z",
     "iopub.status.busy": "2025-05-21T01:52:31.927568Z",
     "iopub.status.idle": "2025-05-21T01:52:32.051339Z",
     "shell.execute_reply": "2025-05-21T01:52:32.050772Z",
     "shell.execute_reply.started": "2025-05-21T01:52:31.927568Z"
    }
   },
   "outputs": [
    {
     "data": {
      "text/plain": [
       "(2135, 448, 224)"
      ]
     },
     "execution_count": 3,
     "metadata": {},
     "output_type": "execute_result"
    }
   ],
   "source": [
    "# original implementation in v1.0.0\n",
    "v2_files = mbo.get_files(r\"D:\\demo\\masknmf\\assembled\\roi_1\", \"07\")\n",
    "v2_data = tifffile.memmap(v2_files[0])\n",
    "v2_data.shape"
   ]
  },
  {
   "cell_type": "code",
   "execution_count": 2,
   "id": "91e6e19b-73b0-488e-b404-a7a4bd7bace0",
   "metadata": {
    "execution": {
     "iopub.execute_input": "2025-06-17T04:20:05.970474Z",
     "iopub.status.busy": "2025-06-17T04:20:05.970474Z",
     "iopub.status.idle": "2025-06-17T04:20:06.676274Z",
     "shell.execute_reply": "2025-06-17T04:20:06.676274Z",
     "shell.execute_reply.started": "2025-06-17T04:20:05.970474Z"
    }
   },
   "outputs": [
    {
     "name": "stderr",
     "output_type": "stream",
     "text": [
      "Initializing MBO Scan with parameters:\n",
      "roi: None, fix_phase: True, phasecorr_method: frame, border: 3, upsample: 1, max_offset: 4\n"
     ]
    },
    {
     "name": "stdout",
     "output_type": "stream",
     "text": [
      "Raw tiff fully read.\n"
     ]
    }
   ],
   "source": [
    "scan = mbo.read_scan(r\"D:\\W2_DATA\\kbarber\\2025_03_01\\mk301\\green\",)"
   ]
  },
  {
   "cell_type": "code",
   "execution_count": 5,
   "id": "518c5f5f-781c-429b-a8f5-a1ac8a6b819e",
   "metadata": {
    "execution": {
     "iopub.execute_input": "2025-06-17T01:34:14.906289Z",
     "iopub.status.busy": "2025-06-17T01:34:14.906289Z",
     "iopub.status.idle": "2025-06-17T01:34:35.615985Z",
     "shell.execute_reply": "2025-06-17T01:34:35.615985Z",
     "shell.execute_reply.started": "2025-06-17T01:34:14.906289Z"
    }
   },
   "outputs": [
    {
     "name": "stdout",
     "output_type": "stream",
     "text": [
      "2.57 s ± 10.8 ms per loop (mean ± std. dev. of 7 runs, 1 loop each)\n"
     ]
    }
   ],
   "source": [
    "%%timeit\n",
    "scan[:200, 0, :, :]"
   ]
  },
  {
   "cell_type": "code",
   "execution_count": 5,
   "id": "6357dfd0-eae6-48f5-bd1e-1974c36a7559",
   "metadata": {
    "execution": {
     "iopub.execute_input": "2025-06-17T04:20:56.390719Z",
     "iopub.status.busy": "2025-06-17T04:20:56.390719Z",
     "iopub.status.idle": "2025-06-17T04:21:08.057665Z",
     "shell.execute_reply": "2025-06-17T04:21:08.057665Z",
     "shell.execute_reply.started": "2025-06-17T04:20:56.390719Z"
    }
   },
   "outputs": [],
   "source": [
    "import timeit\n",
    "\n",
    "index_cases = {\n",
    "    \"Single frame (0,0,:,:)\"             : \"scan[0, 0, :, :]\",\n",
    "    \"Batch 5 frames, same Z (20:25,0,:,:)\": \"scan[20:25, 0, :, :]\",\n",
    "     \"All Z for frame 20 (20,:,:,:)\"      : \"scan[20, :, :, :]\",\n",
    "     \"Single Z stack (slice) (20:25,:,:,:)\": \"scan[20:25, :, :, :]\",\n",
    "     \"200 frame Z stack (slice) (20:25,:,:,:)\": \"scan[20:25, :, :, :]\",\n",
    "}\n",
    "\n",
    "timing_results = {}\n",
    "\n",
    "for label, stmt in index_cases.items():\n",
    "    t = timeit.timeit(stmt, globals=globals(), number=10)\n",
    "    avg_time = t / 10\n",
    "    fps = 1 / avg_time if avg_time > 0 else float('inf')\n",
    "    timing_results[label] = {\"Avg Time (s)\": avg_time, \"Est. FPS\": fps}\n",
    "\n",
    "df = pd.DataFrame.from_dict(timing_results, orient=\"index\")"
   ]
  },
  {
   "cell_type": "code",
   "execution_count": 9,
   "id": "5d08812a-95e6-42bd-a635-bbdc25997f7f",
   "metadata": {
    "execution": {
     "iopub.execute_input": "2025-06-17T11:14:56.780993Z",
     "iopub.status.busy": "2025-06-17T11:14:56.780993Z",
     "iopub.status.idle": "2025-06-17T11:14:56.914720Z",
     "shell.execute_reply": "2025-06-17T11:14:56.914720Z",
     "shell.execute_reply.started": "2025-06-17T11:14:56.780993Z"
    }
   },
   "outputs": [
    {
     "name": "stderr",
     "output_type": "stream",
     "text": [
      "[autoreload of mbo_utilities.graphics.imgui failed: Traceback (most recent call last):\n",
      "  File \"C:\\Users\\RBO\\repos\\mbo_utilities\\.venv\\Lib\\site-packages\\IPython\\extensions\\autoreload.py\", line 280, in check\n",
      "    elif self.deduper_reloader.maybe_reload_module(m):\n",
      "         ^^^^^^^^^^^^^^^^^^^^^^^^^^^^^^^^^^^^^^^^^^^^\n",
      "  File \"C:\\Users\\RBO\\repos\\mbo_utilities\\.venv\\Lib\\site-packages\\IPython\\extensions\\deduperreload\\deduperreload.py\", line 533, in maybe_reload_module\n",
      "    new_source_code = f.read()\n",
      "                      ^^^^^^^^\n",
      "  File \"C:\\Users\\RBO\\AppData\\Roaming\\uv\\python\\cpython-3.11.12-windows-x86_64-none\\Lib\\encodings\\cp1252.py\", line 23, in decode\n",
      "    return codecs.charmap_decode(input,self.errors,decoding_table)[0]\n",
      "           ^^^^^^^^^^^^^^^^^^^^^^^^^^^^^^^^^^^^^^^^^^^^^^^^^^^^^^^\n",
      "UnicodeDecodeError: 'charmap' codec can't decode byte 0x9d in position 34105: character maps to <undefined>\n",
      "]\n"
     ]
    },
    {
     "data": {
      "text/html": [
       "<div>\n",
       "<style scoped>\n",
       "    .dataframe tbody tr th:only-of-type {\n",
       "        vertical-align: middle;\n",
       "    }\n",
       "\n",
       "    .dataframe tbody tr th {\n",
       "        vertical-align: top;\n",
       "    }\n",
       "\n",
       "    .dataframe thead th {\n",
       "        text-align: right;\n",
       "    }\n",
       "</style>\n",
       "<table border=\"1\" class=\"dataframe\">\n",
       "  <thead>\n",
       "    <tr style=\"text-align: right;\">\n",
       "      <th></th>\n",
       "      <th>Avg Time (s)</th>\n",
       "      <th>Est. FPS</th>\n",
       "    </tr>\n",
       "  </thead>\n",
       "  <tbody>\n",
       "    <tr>\n",
       "      <th>Single frame (0,0,:,:)</th>\n",
       "      <td>0.012702</td>\n",
       "      <td>78.725032</td>\n",
       "    </tr>\n",
       "    <tr>\n",
       "      <th>Batch 5 frames, same Z (20:25,0,:,:)</th>\n",
       "      <td>0.065995</td>\n",
       "      <td>15.152654</td>\n",
       "    </tr>\n",
       "    <tr>\n",
       "      <th>All Z for frame 20 (20,:,:,:)</th>\n",
       "      <td>0.176351</td>\n",
       "      <td>5.670518</td>\n",
       "    </tr>\n",
       "    <tr>\n",
       "      <th>Single Z stack (slice) (20:25,:,:,:)</th>\n",
       "      <td>0.900657</td>\n",
       "      <td>1.110301</td>\n",
       "    </tr>\n",
       "  </tbody>\n",
       "</table>\n",
       "</div>"
      ],
      "text/plain": [
       "                                      Avg Time (s)   Est. FPS\n",
       "Single frame (0,0,:,:)                    0.012702  78.725032\n",
       "Batch 5 frames, same Z (20:25,0,:,:)      0.065995  15.152654\n",
       "All Z for frame 20 (20,:,:,:)             0.176351   5.670518\n",
       "Single Z stack (slice) (20:25,:,:,:)      0.900657   1.110301"
      ]
     },
     "execution_count": 9,
     "metadata": {},
     "output_type": "execute_result"
    }
   ],
   "source": [
    "df"
   ]
  },
  {
   "cell_type": "code",
   "execution_count": null,
   "id": "dac1a619-5f1d-40df-9e58-9d997f7fbdc8",
   "metadata": {},
   "outputs": [],
   "source": []
  }
 ],
 "metadata": {
  "kernelspec": {
   "display_name": "Python 3 (ipykernel)",
   "language": "python",
   "name": "python3"
  },
  "language_info": {
   "codemirror_mode": {
    "name": "ipython",
    "version": 3
   },
   "file_extension": ".py",
   "mimetype": "text/x-python",
   "name": "python",
   "nbconvert_exporter": "python",
   "pygments_lexer": "ipython3",
   "version": "3.11.12"
  }
 },
 "nbformat": 4,
 "nbformat_minor": 5
}
