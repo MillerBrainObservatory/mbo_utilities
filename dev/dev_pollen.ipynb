{
 "cells": [
  {
   "cell_type": "code",
   "execution_count": 1,
   "id": "be2c8251-0eb8-43f7-9967-cdfd78195fa0",
   "metadata": {
    "execution": {
     "iopub.execute_input": "2025-07-11T19:02:05.488984Z",
     "iopub.status.busy": "2025-07-11T19:02:05.488984Z",
     "iopub.status.idle": "2025-07-11T19:02:05.558179Z",
     "shell.execute_reply": "2025-07-11T19:02:05.558179Z",
     "shell.execute_reply.started": "2025-07-11T19:02:05.488984Z"
    }
   },
   "outputs": [
    {
     "name": "stderr",
     "output_type": "stream",
     "text": [
      "\u001b[2mUsing Python 3.12.4 environment at: C:\\Users\\RBO\\repos\\mbo_utilities\\.venv\u001b[0m\n",
      "\u001b[2mAudited \u001b[1m1 package\u001b[0m \u001b[2min 14ms\u001b[0m\u001b[0m\n"
     ]
    }
   ],
   "source": [
    "!uv pip install jupyterlab-vim"
   ]
  },
  {
   "cell_type": "code",
   "execution_count": 1,
   "id": "b541edbf-42e0-485e-bd9f-ac3ae8bfc43d",
   "metadata": {
    "execution": {
     "iopub.execute_input": "2025-07-29T14:54:01.331132Z",
     "iopub.status.busy": "2025-07-29T14:54:01.331132Z",
     "iopub.status.idle": "2025-07-29T14:54:07.239093Z",
     "shell.execute_reply": "2025-07-29T14:54:07.239093Z",
     "shell.execute_reply.started": "2025-07-29T14:54:01.331132Z"
    }
   },
   "outputs": [
    {
     "data": {
      "application/vnd.jupyter.widget-view+json": {
       "model_id": "c4dd8d0faf4345fca69cbb7f4e6088ca",
       "version_major": 2,
       "version_minor": 0
      },
      "text/plain": [
       "Image(value=b'version https://git-lfs.github.com/spec/...', height='55', width='300')"
      ]
     },
     "metadata": {},
     "output_type": "display_data"
    },
    {
     "data": {
      "text/html": [
       "<b>Available devices:</b><table><tr><th>Valid</th><th>Device</th><th>Type</th><th>Backend</th><th>Driver</th></tr><tr title=\"This adapter can be used with fastplotlib\"><td>✅ (default) </td><td>NVIDIA RTX A4000</td><td>DiscreteGPU</td><td>Vulkan</td><td>560.94</td></tr><tr title=\"This adapter can be used with fastplotlib\"><td>✅</td><td>NVIDIA RTX A4000</td><td>DiscreteGPU</td><td>D3D12</td><td></td></tr><tr title=\"This adapter can be used with fastplotlib\"><td>✅</td><td>NVIDIA RTX A4000</td><td>DiscreteGPU</td><td>D3D12</td><td></td></tr><tr title=\"CPU rendering support is limited and mainly for testing purposes\"><td>❗ limited</td><td>Microsoft Basic Render Driver</td><td>CPU</td><td>D3D12</td><td></td></tr><tr title=\"This adapter cannot be used with fastplotlib\"><td>❌</td><td>NVIDIA RTX A4000/PCIe/SSE2</td><td>Unknown</td><td>OpenGL</td><td>4.6.0 NVIDIA 560.94</td></tr></table>"
      ],
      "text/plain": [
       "<IPython.core.display.HTML object>"
      ]
     },
     "metadata": {},
     "output_type": "display_data"
    }
   ],
   "source": [
    "import mbo_utilities as mbo\n",
    "import fastplotlib as fpl\n",
    "import tifffile\n",
    "import numpy as np\n",
    "from pathlib import Path"
   ]
  },
  {
   "cell_type": "code",
   "execution_count": 2,
   "id": "ed0454e3-f1c2-4408-a28a-98e25474e1d4",
   "metadata": {
    "execution": {
     "iopub.execute_input": "2025-07-29T14:54:07.240092Z",
     "iopub.status.busy": "2025-07-29T14:54:07.240092Z",
     "iopub.status.idle": "2025-07-29T14:54:07.244005Z",
     "shell.execute_reply": "2025-07-29T14:54:07.244005Z",
     "shell.execute_reply.started": "2025-07-29T14:54:07.240092Z"
    }
   },
   "outputs": [
    {
     "data": {
      "text/plain": [
       "[WindowsPath('D:/W2_DATA/foconnell/2025-07-10_Pollen/Zplane14_pollen_2mROIs_224px-USampleON_1ms-1ms_ScanPhase_neg0p9015us_00001.tif'),\n",
       " WindowsPath('D:/W2_DATA/foconnell/2025-07-10_Pollen/Zplane1_pollen_2xZoom_224px-USampleON_1ms-1ms_ScanPhase_neg0p937us_00001.tif'),\n",
       " WindowsPath('D:/W2_DATA/foconnell/2025-07-10_Pollen/Zplane1_pollen_3xZoom_224px-USampleON_1ms-1ms_ScanPhase_neg0p8777us_00001.tif')]"
      ]
     },
     "execution_count": 2,
     "metadata": {},
     "output_type": "execute_result"
    }
   ],
   "source": [
    "path = Path(r\"D:\\W2_DATA\\foconnell\\2025-07-10_Pollen\")\n",
    "files = list(path.glob(\"*.tif*\"))\n",
    "sorted(files)"
   ]
  },
  {
   "cell_type": "code",
   "execution_count": 3,
   "id": "6699fdb5-31d7-4c72-a140-9e44102c71a5",
   "metadata": {
    "execution": {
     "iopub.execute_input": "2025-07-29T14:54:19.951736Z",
     "iopub.status.busy": "2025-07-29T14:54:19.951736Z",
     "iopub.status.idle": "2025-07-29T14:54:29.629671Z",
     "shell.execute_reply": "2025-07-29T14:54:29.629671Z",
     "shell.execute_reply.started": "2025-07-29T14:54:19.951736Z"
    }
   },
   "outputs": [
    {
     "name": "stderr",
     "output_type": "stream",
     "text": [
      "Initializing MBO Scan with parameters:\n",
      "roi: None, fix_phase: True, phasecorr_method: frame, border: 3, upsample: 5, max_offset: 4\n"
     ]
    },
    {
     "name": "stdout",
     "output_type": "stream",
     "text": [
      "Scanning depth 0, ROI 0 \n",
      "Scanning depth 0, ROI 1 \n",
      "Raw tiff fully read.\n",
      "Scanning depth 0, ROI 0 \n",
      "Scanning depth 0, ROI 1 \n"
     ]
    }
   ],
   "source": [
    "x = mbo.imread(files[0])"
   ]
  },
  {
   "cell_type": "code",
   "execution_count": 6,
   "id": "3c69e9f5-3a51-4271-b5f6-0699bc843e13",
   "metadata": {
    "execution": {
     "iopub.execute_input": "2025-07-14T15:55:14.848746Z",
     "iopub.status.busy": "2025-07-14T15:55:14.848746Z",
     "iopub.status.idle": "2025-07-14T15:55:14.858406Z",
     "shell.execute_reply": "2025-07-14T15:55:14.858365Z",
     "shell.execute_reply.started": "2025-07-14T15:55:14.848746Z"
    }
   },
   "outputs": [
    {
     "data": {
      "text/plain": [
       "[slice(0, 224, None)]"
      ]
     },
     "execution_count": 6,
     "metadata": {},
     "output_type": "execute_result"
    }
   ],
   "source": [
    "x.output_xslices"
   ]
  },
  {
   "cell_type": "code",
   "execution_count": null,
   "id": "bcef68c2-073d-446c-8c8a-ab268a1ccc3e",
   "metadata": {},
   "outputs": [],
   "source": [
    "x.metadata"
   ]
  },
  {
   "cell_type": "code",
   "execution_count": 4,
   "id": "2cdd59b8-f8cc-46e7-b752-1e16965a9934",
   "metadata": {
    "execution": {
     "iopub.execute_input": "2025-07-29T14:54:29.630672Z",
     "iopub.status.busy": "2025-07-29T14:54:29.630672Z",
     "iopub.status.idle": "2025-07-29T14:54:49.524184Z",
     "shell.execute_reply": "2025-07-29T14:54:49.524184Z",
     "shell.execute_reply.started": "2025-07-29T14:54:29.630672Z"
    }
   },
   "outputs": [],
   "source": [
    "data = tifffile.imread(files[0])[:, -1, :, :]"
   ]
  },
  {
   "cell_type": "code",
   "execution_count": 15,
   "id": "239ff491-b745-4911-be8f-eb4191536638",
   "metadata": {
    "execution": {
     "iopub.execute_input": "2025-07-14T15:59:53.989369Z",
     "iopub.status.busy": "2025-07-14T15:59:53.989369Z",
     "iopub.status.idle": "2025-07-14T15:59:53.998268Z",
     "shell.execute_reply": "2025-07-14T15:59:53.998268Z",
     "shell.execute_reply.started": "2025-07-14T15:59:53.989369Z"
    }
   },
   "outputs": [
    {
     "data": {
      "text/plain": [
       "np.float64(35.00547409057617)"
      ]
     },
     "execution_count": 15,
     "metadata": {},
     "output_type": "execute_result"
    }
   ],
   "source": [
    "gb_size = (np.prod(data.shape) * 2) / (1024 ** 3) \n",
    "gb_size * 14"
   ]
  },
  {
   "cell_type": "code",
   "execution_count": 9,
   "id": "d695e81f-dd79-413a-bfde-c08e6a2263d2",
   "metadata": {
    "execution": {
     "iopub.execute_input": "2025-07-14T15:56:35.946992Z",
     "iopub.status.busy": "2025-07-14T15:56:35.946992Z",
     "iopub.status.idle": "2025-07-14T15:56:35.952145Z",
     "shell.execute_reply": "2025-07-14T15:56:35.952108Z",
     "shell.execute_reply.started": "2025-07-14T15:56:35.946992Z"
    }
   },
   "outputs": [
    {
     "data": {
      "text/plain": [
       "dtype('int16')"
      ]
     },
     "execution_count": 9,
     "metadata": {},
     "output_type": "execute_result"
    }
   ],
   "source": [
    "data.dtype"
   ]
  },
  {
   "cell_type": "code",
   "execution_count": 9,
   "id": "a041ca95-83ea-418d-932b-6b6cf9a94497",
   "metadata": {
    "execution": {
     "iopub.execute_input": "2025-07-11T19:09:18.764620Z",
     "iopub.status.busy": "2025-07-11T19:09:18.764620Z",
     "iopub.status.idle": "2025-07-11T19:09:18.768620Z",
     "shell.execute_reply": "2025-07-11T19:09:18.768620Z",
     "shell.execute_reply.started": "2025-07-11T19:09:18.764620Z"
    }
   },
   "outputs": [
    {
     "data": {
      "text/plain": [
       "((6600, 14, 908, 224), (6600, 14, 912, 224))"
      ]
     },
     "execution_count": 9,
     "metadata": {},
     "output_type": "execute_result"
    }
   ],
   "source": [
    "data.shape, data2.shape"
   ]
  },
  {
   "cell_type": "code",
   "execution_count": 14,
   "id": "70ecbeb2-cd13-4069-955e-4ae7cf758142",
   "metadata": {
    "execution": {
     "iopub.execute_input": "2025-07-14T15:54:02.940330Z",
     "iopub.status.busy": "2025-07-14T15:54:02.939329Z",
     "iopub.status.idle": "2025-07-14T15:54:03.387784Z",
     "shell.execute_reply": "2025-07-14T15:54:03.387784Z",
     "shell.execute_reply.started": "2025-07-14T15:54:02.939329Z"
    }
   },
   "outputs": [
    {
     "data": {
      "application/vnd.jupyter.widget-view+json": {
       "model_id": "a45558a8e2104f089a221b5ee2b86f2a",
       "version_major": 2,
       "version_minor": 0
      },
      "text/plain": [
       "RFBOutputContext()"
      ]
     },
     "metadata": {},
     "output_type": "display_data"
    },
    {
     "name": "stderr",
     "output_type": "stream",
     "text": [
      "Draw error\n",
      "Traceback (most recent call last):\n",
      "  File \"C:\\Users\\RBO\\repos\\mbo_utilities\\.venv\\Lib\\site-packages\\rendercanvas\\_coreutils.py\", line 41, in log_exception\n",
      "    yield\n",
      "  File \"C:\\Users\\RBO\\repos\\mbo_utilities\\.venv\\Lib\\site-packages\\rendercanvas\\base.py\", line 456, in _draw_frame_and_present\n",
      "    self._draw_frame()\n",
      "  File \"C:\\Users\\RBO\\repos\\mbo_utilities\\.venv\\Lib\\site-packages\\fastplotlib\\layouts\\_imgui_figure.py\", line 120, in _render\n",
      "    super()._render(draw)\n",
      "  File \"C:\\Users\\RBO\\repos\\mbo_utilities\\.venv\\Lib\\site-packages\\fastplotlib\\layouts\\_figure.py\", line 566, in _render\n",
      "    subplot._render()\n",
      "  File \"C:\\Users\\RBO\\repos\\mbo_utilities\\.venv\\Lib\\site-packages\\fastplotlib\\layouts\\_subplot.py\", line 151, in _render\n",
      "    super()._render()\n",
      "  File \"C:\\Users\\RBO\\repos\\mbo_utilities\\.venv\\Lib\\site-packages\\fastplotlib\\layouts\\_plot_area.py\", line 315, in _render\n",
      "    self.viewport.render(self.scene, self.camera)\n",
      "  File \"C:\\Users\\RBO\\repos\\mbo_utilities\\.venv\\Lib\\site-packages\\pygfx\\utils\\viewport.py\", line 78, in render\n",
      "    self.renderer.render(scene, camera, rect=self.rect, flush=flush)\n",
      "  File \"C:\\Users\\RBO\\repos\\mbo_utilities\\.venv\\Lib\\site-packages\\pygfx\\renderers\\wgpu\\engine\\renderer.py\", line 572, in render\n",
      "    container_group = get_pipeline_container_group(wobject, renderstate)\n",
      "                      ^^^^^^^^^^^^^^^^^^^^^^^^^^^^^^^^^^^^^^^^^^^^^^^^^^\n",
      "  File \"C:\\Users\\RBO\\repos\\mbo_utilities\\.venv\\Lib\\site-packages\\pygfx\\renderers\\wgpu\\engine\\pipeline.py\", line 192, in get_pipeline_container_group\n",
      "    pipeline_container_group.update(wobject, renderstate)\n",
      "  File \"C:\\Users\\RBO\\repos\\mbo_utilities\\.venv\\Lib\\site-packages\\pygfx\\renderers\\wgpu\\engine\\pipeline.py\", line 272, in update\n",
      "    container.update(wobject, renderstate, changed, tracker)\n",
      "  File \"C:\\Users\\RBO\\repos\\mbo_utilities\\.venv\\Lib\\site-packages\\pygfx\\renderers\\wgpu\\engine\\pipeline.py\", line 343, in update\n",
      "    raise err\n",
      "  File \"C:\\Users\\RBO\\repos\\mbo_utilities\\.venv\\Lib\\site-packages\\pygfx\\renderers\\wgpu\\engine\\pipeline.py\", line 340, in update\n",
      "    self.update_wgpu_data(renderstate, changed)\n",
      "  File \"C:\\Users\\RBO\\repos\\mbo_utilities\\.venv\\Lib\\site-packages\\pygfx\\renderers\\wgpu\\engine\\pipeline.py\", line 408, in update_wgpu_data\n",
      "    self.wgpu_shaders[pass_index] = self._get_shader(\n",
      "                                    ^^^^^^^^^^^^^^^^^\n",
      "  File \"C:\\Users\\RBO\\repos\\mbo_utilities\\.venv\\Lib\\site-packages\\pygfx\\renderers\\wgpu\\engine\\pipeline.py\", line 607, in _get_shader\n",
      "    shader_kwargs[\"write_pick\"] &= self.wobject_info[\"pick_write\"]\n",
      "           ^^^^^^^^^^^^^^^^^^^^^^^^^^^^^^^^^^^^^^^^^^^^^^^^^^^^^^^^\n",
      "  File \"C:\\Users\\RBO\\repos\\mbo_utilities\\.venv\\Lib\\site-packages\\pygfx\\renderers\\wgpu\\engine\\pipeline.py\", line 84, in get_cached_shader_module\n",
      "    result = device.create_shader_module(code=wgsl)\n",
      "             ^^^^^^^^^^^^^^^^^^^^^^^^^^^^^^^^^^^^^^\n",
      "  File \"C:\\Users\\RBO\\repos\\mbo_utilities\\.venv\\Lib\\site-packages\\wgpu\\backends\\wgpu_native\\_api.py\", line 1827, in create_shader_module\n",
      "    id = libf.wgpuDeviceCreateShaderModule(self._internal, struct)\n",
      "         ^^^^^^^^^^^^^^^^^^^^^^^^^^^^^^^^^^^^^^^^^^^^^^^^^^^^^^^^^\n",
      "  File \"C:\\Users\\RBO\\repos\\mbo_utilities\\.venv\\Lib\\site-packages\\wgpu\\backends\\wgpu_native\\_helpers.py\", line 457, in proxy_func\n",
      "    raise wgpu_error\n",
      "  File \"C:\\Users\\RBO\\repos\\mbo_utilities\\.venv\\Lib\\site-packages\\wgpu\\backends\\wgpu_native\\_api.py\", line 1827, in create_shader_module\n",
      "    id = libf.wgpuDeviceCreateShaderModule(self._internal, struct)\n",
      "         ^^^^^^^^^^^^^^^^^^^^^^^^^^^^^^^^^^^^^^^^^^^^^^^^^^^^^^^^^\n",
      "wgpu._classes.GPUValidationError: Validation Error\n",
      "\n",
      "Caused by:\n",
      "  In wgpuDeviceCreateShaderModule\n",
      "\n",
      "Shader '' parsing error: no definition in scope for identifier: `u_colormap`\n",
      "    ┌─ wgsl:216:27\n",
      "    │\n",
      "216 │             let map_uv = (u_colormap.transform * vec3<f32>(texcoord, 1.0, 1.0)).x;\n",
      "    │                           ^^^^^^^^^^ unknown identifier\n",
      "\n",
      "\n",
      "      no definition in scope for identifier: `u_colormap`\n"
     ]
    },
    {
     "data": {
      "application/vnd.jupyter.widget-view+json": {
       "model_id": "f75f54c2d6c44eeea3a924ef470d27fc",
       "version_major": 2,
       "version_minor": 0
      },
      "text/html": [
       "<div class='snapshot-f75f54c2d6c44eeea3a924ef470d27fc' style='position:relative;'><img src='data:image/png;base64,iVBORw0KGgoAAAANSUhEUgAAAAEAAAABCAIAAACQd1PeAAAADElEQVR42mOor68HAAL+AX6E2KOJAAAAAElFTkSuQmCC' style='width:500.0px;height:300.0px;' /><div style='position: absolute; top:0; left:0; padding:1px 3px; background: #777; color:#fff; font-size: 90%; font-family:sans-serif; '>snapshot</div></div>"
      ],
      "text/plain": [
       "JupyterRenderCanvas(css_height='300.0px', css_width='500.0px')"
      ]
     },
     "execution_count": 14,
     "metadata": {},
     "output_type": "execute_result"
    }
   ],
   "source": [
    "iw = fpl.ImageWidget(data)\n",
    "iw.show()"
   ]
  },
  {
   "cell_type": "code",
   "execution_count": null,
   "id": "c75ce1a8-5360-4018-9bba-3fe5a27a302b",
   "metadata": {},
   "outputs": [],
   "source": []
  }
 ],
 "metadata": {
  "kernelspec": {
   "display_name": "Python 3 (ipykernel)",
   "language": "python",
   "name": "python3"
  },
  "language_info": {
   "codemirror_mode": {
    "name": "ipython",
    "version": 3
   },
   "file_extension": ".py",
   "mimetype": "text/x-python",
   "name": "python",
   "nbconvert_exporter": "python",
   "pygments_lexer": "ipython3",
   "version": "3.12.4"
  }
 },
 "nbformat": 4,
 "nbformat_minor": 5
}
