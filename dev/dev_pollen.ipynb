{
 "cells": [
  {
   "cell_type": "code",
   "execution_count": 1,
   "id": "be2c8251-0eb8-43f7-9967-cdfd78195fa0",
   "metadata": {
    "execution": {
     "iopub.execute_input": "2025-07-11T19:02:05.488984Z",
     "iopub.status.busy": "2025-07-11T19:02:05.488984Z",
     "iopub.status.idle": "2025-07-11T19:02:05.558179Z",
     "shell.execute_reply": "2025-07-11T19:02:05.558179Z",
     "shell.execute_reply.started": "2025-07-11T19:02:05.488984Z"
    }
   },
   "outputs": [
    {
     "name": "stderr",
     "output_type": "stream",
     "text": [
      "\u001b[2mUsing Python 3.12.4 environment at: C:\\Users\\RBO\\repos\\mbo_utilities\\.venv\u001b[0m\n",
      "\u001b[2mAudited \u001b[1m1 package\u001b[0m \u001b[2min 14ms\u001b[0m\u001b[0m\n"
     ]
    }
   ],
   "source": [
    "!uv pip install jupyterlab-vim"
   ]
  },
  {
   "cell_type": "code",
   "execution_count": 2,
   "id": "b541edbf-42e0-485e-bd9f-ac3ae8bfc43d",
   "metadata": {
    "execution": {
     "iopub.execute_input": "2025-07-11T19:02:30.384874Z",
     "iopub.status.busy": "2025-07-11T19:02:30.384874Z",
     "iopub.status.idle": "2025-07-11T19:02:38.551915Z",
     "shell.execute_reply": "2025-07-11T19:02:38.551915Z",
     "shell.execute_reply.started": "2025-07-11T19:02:30.384874Z"
    }
   },
   "outputs": [
    {
     "data": {
      "application/vnd.jupyter.widget-view+json": {
       "model_id": "db077cbfff96462c92269a9147e5db0c",
       "version_major": 2,
       "version_minor": 0
      },
      "text/plain": [
       "Image(value=b'\\x89PNG\\r\\n\\x1a\\n\\x00\\x00\\x00\\rIHDR\\x00\\x00\\x01,\\x00\\x00\\x007\\x08\\x06\\x00\\x00\\x00\\xb6\\x1bw\\x99\\x…"
      ]
     },
     "metadata": {},
     "output_type": "display_data"
    },
    {
     "data": {
      "text/html": [
       "<b>Available devices:</b><table><tr><th>Valid</th><th>Device</th><th>Type</th><th>Backend</th><th>Driver</th></tr><tr title=\"This adapter can be used with fastplotlib\"><td>✅ (default) </td><td>NVIDIA RTX A4000</td><td>DiscreteGPU</td><td>Vulkan</td><td>560.94</td></tr><tr title=\"This adapter can be used with fastplotlib\"><td>✅</td><td>NVIDIA RTX A4000</td><td>DiscreteGPU</td><td>D3D12</td><td></td></tr><tr title=\"This adapter can be used with fastplotlib\"><td>✅</td><td>NVIDIA RTX A4000</td><td>DiscreteGPU</td><td>D3D12</td><td></td></tr><tr title=\"CPU rendering support is limited and mainly for testing purposes\"><td>❗ limited</td><td>Microsoft Basic Render Driver</td><td>CPU</td><td>D3D12</td><td></td></tr><tr title=\"This adapter cannot be used with fastplotlib\"><td>❌</td><td>NVIDIA RTX A4000/PCIe/SSE2</td><td>Unknown</td><td>OpenGL</td><td>4.6.0 NVIDIA 560.94</td></tr></table>"
      ],
      "text/plain": [
       "<IPython.core.display.HTML object>"
      ]
     },
     "metadata": {},
     "output_type": "display_data"
    }
   ],
   "source": [
    "import mbo_utilities as mbo\n",
    "import fastplotlib as fpl\n",
    "import tifffile\n",
    "import numpy as np\n",
    "from pathlib import Path"
   ]
  },
  {
   "cell_type": "code",
   "execution_count": 49,
   "id": "ed0454e3-f1c2-4408-a28a-98e25474e1d4",
   "metadata": {
    "execution": {
     "iopub.execute_input": "2025-07-11T21:38:49.993524Z",
     "iopub.status.busy": "2025-07-11T21:38:49.993524Z",
     "iopub.status.idle": "2025-07-11T21:38:49.999311Z",
     "shell.execute_reply": "2025-07-11T21:38:49.999311Z",
     "shell.execute_reply.started": "2025-07-11T21:38:49.993524Z"
    }
   },
   "outputs": [
    {
     "data": {
      "text/plain": [
       "[WindowsPath('D:/W2_DATA/foconnell/2025-07-10_Pollen/Zplane14_pollen_2mROIs_224px-USampleON_1ms-1ms_ScanPhase_neg0p9015us_00001.tif'),\n",
       " WindowsPath('D:/W2_DATA/foconnell/2025-07-10_Pollen/Zplane1_pollen_2mROIs_224px-USampleON_1ms-1ms_ScanPhase_neg0p9015us_00001.tif'),\n",
       " WindowsPath('D:/W2_DATA/foconnell/2025-07-10_Pollen/Zplane1_pollen_2xZoom_224px-USampleON_1ms-1ms_ScanPhase_neg0p937us_00001.tif'),\n",
       " WindowsPath('D:/W2_DATA/foconnell/2025-07-10_Pollen/Zplane1_pollen_3xZoom_224px-USampleON_1ms-1ms_ScanPhase_neg0p8777us_00001.tif'),\n",
       " WindowsPath('D:/W2_DATA/foconnell/2025-07-10_Pollen/Zplane7_pollen_2mROIs_224px-USampleON_1ms-1ms_ScanPhase_neg1p008us_00001.tif')]"
      ]
     },
     "execution_count": 49,
     "metadata": {},
     "output_type": "execute_result"
    }
   ],
   "source": [
    "path = Path(r\"D:\\W2_DATA\\foconnell\\2025-07-10_Pollen\")\n",
    "files = list(path.glob(\"*.tif*\"))\n",
    "sorted(files)"
   ]
  },
  {
   "cell_type": "code",
   "execution_count": 54,
   "id": "2cdd59b8-f8cc-46e7-b752-1e16965a9934",
   "metadata": {
    "execution": {
     "iopub.execute_input": "2025-07-11T21:40:32.678986Z",
     "iopub.status.busy": "2025-07-11T21:40:32.677986Z",
     "iopub.status.idle": "2025-07-11T21:40:38.083784Z",
     "shell.execute_reply": "2025-07-11T21:40:38.083784Z",
     "shell.execute_reply.started": "2025-07-11T21:40:32.678986Z"
    }
   },
   "outputs": [
    {
     "ename": "ValueError",
     "evalue": "image data are not memory-mappable",
     "output_type": "error",
     "traceback": [
      "\u001b[31m---------------------------------------------------------------------------\u001b[39m",
      "\u001b[31mValueError\u001b[39m                                Traceback (most recent call last)",
      "\u001b[32m~\\AppData\\Local\\Temp\\ipykernel_9144\\3989998241.py\u001b[39m in \u001b[36m?\u001b[39m\u001b[34m()\u001b[39m\n\u001b[32m----> \u001b[39m\u001b[32m1\u001b[39m tfile = tifffile.memmap(files[\u001b[32m0\u001b[39m])\n\u001b[32m      2\u001b[39m \u001b[38;5;66;03m# data = tfile.asarray()[:, -1, :, :]\u001b[39;00m\n",
      "\u001b[32m~\\repos\\mbo_utilities\\.venv\\Lib\\site-packages\\tifffile\\tifffile.py\u001b[39m in \u001b[36m?\u001b[39m\u001b[34m(filename, shape, dtype, page, series, level, mode, **kwargs)\u001b[39m\n\u001b[32m   1530\u001b[39m         \u001b[38;5;28;01mwith\u001b[39;00m TiffFile(filename, **kwargs) \u001b[38;5;28;01mas\u001b[39;00m tif:\n\u001b[32m   1531\u001b[39m             \u001b[38;5;28;01mif\u001b[39;00m page \u001b[38;5;28;01mis\u001b[39;00m \u001b[38;5;28;01mNone\u001b[39;00m:\n\u001b[32m   1532\u001b[39m                 tiffseries = tif.series[series].levels[level]\n\u001b[32m   1533\u001b[39m                 \u001b[38;5;28;01mif\u001b[39;00m tiffseries.dataoffset \u001b[38;5;28;01mis\u001b[39;00m \u001b[38;5;28;01mNone\u001b[39;00m:\n\u001b[32m-> \u001b[39m\u001b[32m1534\u001b[39m                     \u001b[38;5;28;01mraise\u001b[39;00m ValueError(\u001b[33m'image data are not memory-mappable'\u001b[39m)\n\u001b[32m   1535\u001b[39m                 shape = tiffseries.shape\n\u001b[32m   1536\u001b[39m                 dtype = tiffseries.dtype\n\u001b[32m   1537\u001b[39m                 offset = tiffseries.dataoffset\n",
      "\u001b[31mValueError\u001b[39m: image data are not memory-mappable"
     ]
    }
   ],
   "source": [
    "tfile = tifffile.memmap(files[0])\n",
    "data = tfile.asarray(key=)[:, -1, :, :]"
   ]
  },
  {
   "cell_type": "code",
   "execution_count": 47,
   "id": "9a86087d-551d-462d-9ff8-07746e58e696",
   "metadata": {
    "execution": {
     "iopub.execute_input": "2025-07-11T20:45:19.086865Z",
     "iopub.status.busy": "2025-07-11T20:45:19.086865Z",
     "iopub.status.idle": "2025-07-11T20:45:19.313436Z",
     "shell.execute_reply": "2025-07-11T20:45:19.313436Z",
     "shell.execute_reply.started": "2025-07-11T20:45:19.086865Z"
    }
   },
   "outputs": [
    {
     "data": {
      "application/vnd.jupyter.widget-view+json": {
       "model_id": "0dfef868dc9444c9998bc50942b43274",
       "version_major": 2,
       "version_minor": 0
      },
      "text/plain": [
       "RFBOutputContext()"
      ]
     },
     "metadata": {},
     "output_type": "display_data"
    },
    {
     "data": {
      "application/vnd.jupyter.widget-view+json": {
       "model_id": "4fdac91f17ff41db87ad2f37112ee283",
       "version_major": 2,
       "version_minor": 0
      },
      "text/html": [
       "<div class='snapshot-4fdac91f17ff41db87ad2f37112ee283' style='position:relative;'><img src='data:image/png;base64,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' style='width:500.0px;height:300.0px;' /><div style='position: absolute; top:0; left:0; padding:1px 3px; background: #777; color:#fff; font-size: 90%; font-family:sans-serif; '>snapshot</div></div>"
      ],
      "text/plain": [
       "JupyterRenderCanvas(css_height='300.0px', css_width='500.0px')"
      ]
     },
     "execution_count": 47,
     "metadata": {},
     "output_type": "execute_result"
    }
   ],
   "source": [
    "fpl.ImageWidget(data).show()"
   ]
  },
  {
   "cell_type": "code",
   "execution_count": 9,
   "id": "a041ca95-83ea-418d-932b-6b6cf9a94497",
   "metadata": {
    "execution": {
     "iopub.execute_input": "2025-07-11T19:09:18.764620Z",
     "iopub.status.busy": "2025-07-11T19:09:18.764620Z",
     "iopub.status.idle": "2025-07-11T19:09:18.768620Z",
     "shell.execute_reply": "2025-07-11T19:09:18.768620Z",
     "shell.execute_reply.started": "2025-07-11T19:09:18.764620Z"
    }
   },
   "outputs": [
    {
     "data": {
      "text/plain": [
       "((6600, 14, 908, 224), (6600, 14, 912, 224))"
      ]
     },
     "execution_count": 9,
     "metadata": {},
     "output_type": "execute_result"
    }
   ],
   "source": [
    "data.shape, data2.shape"
   ]
  }
 ],
 "metadata": {
  "kernelspec": {
   "display_name": "Python 3 (ipykernel)",
   "language": "python",
   "name": "python3"
  },
  "language_info": {
   "codemirror_mode": {
    "name": "ipython",
    "version": 3
   },
   "file_extension": ".py",
   "mimetype": "text/x-python",
   "name": "python",
   "nbconvert_exporter": "python",
   "pygments_lexer": "ipython3",
   "version": "3.12.4"
  }
 },
 "nbformat": 4,
 "nbformat_minor": 5
}
