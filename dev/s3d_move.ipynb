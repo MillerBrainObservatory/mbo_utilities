{
 "cells": [
  {
   "cell_type": "code",
   "execution_count": 1,
   "id": "ddbe9297",
   "metadata": {},
   "outputs": [],
   "source": [
    "from pathlib import Path\n",
    "import numpy as np\n",
    "import sys\n",
    "import time\n",
    "import warnings\n",
    "\n",
    "warnings.simplefilter(action=\"ignore\")"
   ]
  },
  {
   "cell_type": "code",
   "execution_count": 2,
   "id": "9ae8b427",
   "metadata": {},
   "outputs": [],
   "source": [
    "# __file__ = Path().cwd()\n",
    "# repo_root = Path(__file__).resolve().parents[1] / \"suite3d\"\n",
    "# print(repo_root)\n",
    "# sys.path.insert(0, str(repo_root))"
   ]
  },
  {
   "cell_type": "code",
   "execution_count": 3,
   "id": "9e37b20e",
   "metadata": {},
   "outputs": [
    {
     "name": "stdout",
     "output_type": "stream",
     "text": [
      "Importing suite3d.job took 16.25 seconds\n"
     ]
    }
   ],
   "source": [
    "start = time.time()\n",
    "from suite3d.job import Job\n",
    "\n",
    "end = time.time()\n",
    "print(f\"Importing suite3d.job took {end - start:.2f} seconds\")"
   ]
  },
  {
   "cell_type": "code",
   "execution_count": null,
   "id": "ca2b0d7a",
   "metadata": {},
   "outputs": [
    {
     "name": "stdout",
     "output_type": "stream",
     "text": [
      "Loading job directory for move in D:\\W2_DATA\\kbarber\\07_27_2025\\mk355\\suite3d_plane_alignment\n",
      "Launching initial pass\n",
      "Saving summary to D:\\W2_DATA\\kbarber\\07_27_2025\\mk355\\suite3d_plane_alignment\\s3d-move\\summary\\summary.npy\n",
      "    Loaded file into shared memory in 0.95 sec\n",
      "    Workers completed in 2.37 sec\n",
      "    Total time: 3.33 sec\n",
      "Initialization pass took 55.02 seconds\n"
     ]
    },
    {
     "data": {
      "image/png": "[encoded data removed]",
      "text/plain": [
       "<Figure size 1000x400 with 2 Axes>"
      ]
     },
     "metadata": {},
     "output_type": "display_data"
    }
   ],
   "source": [
    "from tqdm import tqdm\n",
    "from time import sleep\n",
    "import psutil\n",
    "\n",
    "running = True\n",
    "\n",
    "with (\n",
    "    tqdm(total=100, desc=\"cpu%\", position=1) as cpubar,\n",
    "    tqdm(total=100, desc=\"ram%\", position=0) as rambar,\n",
    "):\n",
    "    while running:\n",
    "        fpath = Path(r\"D:\\W2_DATA\\kbarber\\07_27_2025\\mk355\\green\")\n",
    "        job_path = fpath.parent.joinpath(\"suite3d_plane_alignment\")\n",
    "\n",
    "        # Set the mandatory parameters\n",
    "        params = {\n",
    "            # volume rate\n",
    "            \"fs\": 17,\n",
    "            \"planes\": np.arange(14),\n",
    "            \"n_ch_tif\": 14,\n",
    "            \"tau\": 0.7,\n",
    "            \"lbm\": True,\n",
    "            \"fuse_strips\": True,\n",
    "            \"subtract_crosstalk\": False,\n",
    "            \"init_n_frames\": 500,\n",
    "            \"n_init_files\": 1,\n",
    "            \"n_proc_corr\": 15,\n",
    "            \"max_rigid_shift_pix\": 150,\n",
    "            \"3d_reg\": True,\n",
    "            \"gpu_reg\": True,\n",
    "            \"block_size\": [64, 64],\n",
    "        }\n",
    "\n",
    "        tifs = list(fpath.glob(\"*.tif*\"))\n",
    "        job = Job(\n",
    "            str(job_path),\n",
    "            \"move\",\n",
    "            create=True,\n",
    "            overwrite=True,\n",
    "            verbosity=0,\n",
    "            tifs=tifs,\n",
    "            params=params,\n",
    "        )\n",
    "\n",
    "        start = time.time()\n",
    "        job.run_init_pass()\n",
    "        end = time.time()\n",
    "        print(f\"Initialization pass took {end - start:.2f} seconds\")\n",
    "        rambar.n = psutil.virtual_memory().percent\n",
    "        cpubar.n = psutil.cpu_percent()\n",
    "        rambar.refresh()\n",
    "        cpubar.refresh()\n",
    "        sleep(0.5)"
   ]
  },
  {
   "cell_type": "code",
   "execution_count": 5,
   "id": "b1e29b0e",
   "metadata": {},
   "outputs": [],
   "source": [
    "summary = np.load(\n",
    "    r\"D:\\W2_DATA\\kbarber\\07_27_2025\\mk355\\suite3d_plane_alignment\\s3d-move\\summary\\summary.npy\",\n",
    "    allow_pickle=True,\n",
    ").item()\n",
    "shifts = summary[\"plane_shifts\"]  # shape (n_planes, 2) [dy, dx]"
   ]
  },
  {
   "cell_type": "code",
   "execution_count": 6,
   "id": "9023bc78",
   "metadata": {},
   "outputs": [
    {
     "data": {
      "text/plain": [
       "array([[ 0,  0],\n",
       "       [ 8, -1],\n",
       "       [16, -2],\n",
       "       [24, -3],\n",
       "       [32, -3],\n",
       "       [40, -3],\n",
       "       [47, -4],\n",
       "       [54, -5],\n",
       "       [61, -6],\n",
       "       [68, -7],\n",
       "       [75, -7],\n",
       "       [82, -7],\n",
       "       [89, -7],\n",
       "       [96, -7]])"
      ]
     },
     "execution_count": 6,
     "metadata": {},
     "output_type": "execute_result"
    }
   ],
   "source": [
    "shifts"
   ]
  },
  {
   "cell_type": "code",
   "execution_count": 8,
   "id": "62751b80",
   "metadata": {},
   "outputs": [
    {
     "name": "stderr",
     "output_type": "stream",
     "text": [
      "\u001b[2mUsing Python 3.12.9 environment at: C:\\Users\\RBO\\repos\\mbo_utilities\\.venv\u001b[0m\n",
      "\u001b[2mResolved \u001b[1m1 package\u001b[0m \u001b[2min 1.02s\u001b[0m\u001b[0m\n",
      "   \u001b[36m\u001b[1mBuilding\u001b[0m\u001b[39m nvidia-ml-py3\u001b[2m==7.352.0\u001b[0m\n",
      "      \u001b[32m\u001b[1mBuilt\u001b[0m\u001b[39m nvidia-ml-py3\u001b[2m==7.352.0\u001b[0m\n",
      "\u001b[2mPrepared \u001b[1m1 package\u001b[0m \u001b[2min 1.75s\u001b[0m\u001b[0m\n",
      "\u001b[2mInstalled \u001b[1m1 package\u001b[0m \u001b[2min 3ms\u001b[0m\u001b[0m\n",
      " \u001b[32m+\u001b[39m \u001b[1mnvidia-ml-py3\u001b[0m\u001b[2m==7.352.0\u001b[0m\n"
     ]
    }
   ],
   "source": [
    "!uv pip install nvidia-ml-py3"
   ]
  },
  {
   "cell_type": "code",
   "execution_count": 15,
   "id": "c9896d84",
   "metadata": {},
   "outputs": [
    {
     "name": "stderr",
     "output_type": "stream",
     "text": [
      "\n",
      "GPU %:   0%|          | 0/100 [00:00<?, ?it/s]"
     ]
    },
    {
     "name": "stdout",
     "output_type": "stream",
     "text": [
      "    Loaded file into shared memory in 0.88 sec\n",
      "    Workers completed in 2.03 sec\n",
      "    Total time: 2.92 sec\n"
     ]
    },
    {
     "name": "stderr",
     "output_type": "stream",
     "text": [
      "\n",
      "GPU %:   7%|▋         | 7/100 [00:35<07:54,  5.11s/it]\n",
      "RAM %:  32%|███▏      | 31.5/100 [00:35<01:17,  1.13s/it]\n",
      "CPU %:  12%|█▏        | 12.4/100 [00:35<04:12,  2.88s/it]\n"
     ]
    },
    {
     "data": {
      "image/png": "[encoded data removed]",
      "text/plain": [
       "<Figure size 1000x400 with 2 Axes>"
      ]
     },
     "metadata": {},
     "output_type": "display_data"
    }
   ],
   "source": [
    "from pathlib import Path\n",
    "import numpy as np\n",
    "import time\n",
    "import subprocess\n",
    "import psutil\n",
    "from tqdm import tqdm\n",
    "from suite3d.job import Job\n",
    "\n",
    "\n",
    "def get_gpu_usage():\n",
    "    \"\"\"\n",
    "    Returns (gpu_util %, mem_util %) using nvidia-smi.\n",
    "    \"\"\"\n",
    "    try:\n",
    "        result = subprocess.check_output(\n",
    "            [\n",
    "                \"nvidia-smi\",\n",
    "                \"--query-gpu=utilization.gpu,memory.used,memory.total\",\n",
    "                \"--format=csv,noheader,nounits\",\n",
    "            ],\n",
    "            encoding=\"utf-8\",\n",
    "        )\n",
    "        util, mem_used, mem_total = map(int, result.strip().split(\",\"))\n",
    "        mem_util = int(mem_used * 100 / mem_total)\n",
    "        return util, mem_util\n",
    "    except Exception:\n",
    "        return 0, 0\n",
    "\n",
    "\n",
    "fpath = Path(r\"D:\\W2_DATA\\kbarber\\07_27_2025\\mk355\\green\")\n",
    "job_path = fpath.parent.joinpath(\"suite3d_plane_alignment\")\n",
    "\n",
    "params = {\n",
    "    \"fs\": 17,\n",
    "    \"planes\": np.arange(14),\n",
    "    \"n_ch_tif\": 14,\n",
    "    \"tau\": 0.7,\n",
    "    \"lbm\": True,\n",
    "    \"fuse_strips\": True,\n",
    "    \"subtract_crosstalk\": False,\n",
    "    \"init_n_frames\": 500,\n",
    "    \"n_init_files\": 1,\n",
    "    \"n_proc_corr\": 15,\n",
    "    \"max_rigid_shift_pix\": 150,\n",
    "    \"3d_reg\": True,\n",
    "    \"gpu_reg\": True,\n",
    "    \"block_size\": [64, 64],\n",
    "}\n",
    "\n",
    "tifs = list(fpath.glob(\"*.tif*\"))\n",
    "job = Job(\n",
    "    str(job_path),\n",
    "    \"move2\",\n",
    "    create=True,\n",
    "    overwrite=True,\n",
    "    verbosity=-1,\n",
    "    tifs=tifs,\n",
    "    params=params,\n",
    ")\n",
    "\n",
    "with (\n",
    "    tqdm(total=100, desc=\"CPU %\", position=2) as cpubar,\n",
    "    tqdm(total=100, desc=\"RAM %\", position=1) as rambar,\n",
    "    tqdm(total=100, desc=\"GPU %\", position=0) as gpubar,\n",
    "):\n",
    "    job.run_init_pass()  # replace with job.run() for full pipeline\n",
    "\n",
    "    # Update bars one last time\n",
    "    rambar.n = psutil.virtual_memory().percent\n",
    "    cpubar.n = psutil.cpu_percent()\n",
    "    gpu_util, mem_util = get_gpu_usage()\n",
    "    gpubar.n = gpu_util\n",
    "    rambar.refresh()\n",
    "    cpubar.refresh()\n",
    "    gpubar.refresh()"
   ]
  },
  {
   "cell_type": "code",
   "execution_count": 14,
   "id": "b4d841e5",
   "metadata": {},
   "outputs": [
    {
     "data": {
      "text/plain": [
       "array([[ 0,  0],\n",
       "       [ 8, -1],\n",
       "       [16, -2],\n",
       "       [24, -3],\n",
       "       [32, -3],\n",
       "       [40, -3],\n",
       "       [47, -4],\n",
       "       [54, -5],\n",
       "       [61, -6],\n",
       "       [68, -7],\n",
       "       [75, -7],\n",
       "       [82, -7],\n",
       "       [89, -7],\n",
       "       [96, -7]])"
      ]
     },
     "execution_count": 14,
     "metadata": {},
     "output_type": "execute_result"
    }
   ],
   "source": [
    "summary = np.load(\n",
    "    r\"D:\\W2_DATA\\kbarber\\07_27_2025\\mk355\\suite3d_plane_alignment\\s3d-move2\\summary\\summary.npy\",\n",
    "    allow_pickle=True,\n",
    ").item()\n",
    "shifts = summary[\"plane_shifts\"]  # shape (n_planes, 2) [dy, dx]\n",
    "shifts"
   ]
  },
  {
   "cell_type": "code",
   "execution_count": null,
   "id": "08e2887f",
   "metadata": {},
   "outputs": [],
   "source": []
  }
 ],
 "metadata": {
  "kernelspec": {
   "display_name": "mbo_utilities",
   "language": "python",
   "name": "python3"
  },
  "language_info": {
   "codemirror_mode": {
    "name": "ipython",
    "version": 3
   },
   "file_extension": ".py",
   "mimetype": "text/x-python",
   "name": "python",
   "nbconvert_exporter": "python",
   "pygments_lexer": "ipython3",
   "version": "3.12.9"
  }
 },
 "nbformat": 4,
 "nbformat_minor": 5
}
