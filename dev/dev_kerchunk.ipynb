{
 "cells": [
  {
   "cell_type": "code",
   "execution_count": 28,
   "id": "3763990c-c1f0-45ba-835f-14f4274c0b9e",
   "metadata": {
    "execution": {
     "iopub.execute_input": "2025-06-17T18:50:47.199213Z",
     "iopub.status.busy": "2025-06-17T18:50:47.198860Z",
     "iopub.status.idle": "2025-06-17T18:50:47.205048Z",
     "shell.execute_reply": "2025-06-17T18:50:47.203724Z",
     "shell.execute_reply.started": "2025-06-17T18:50:47.199187Z"
    }
   },
   "outputs": [],
   "source": [
    "import io\n",
    "import json\n",
    "import pathlib\n",
    "import tempfile\n",
    "import shutil\n",
    "\n",
    "import numpy as np\n",
    "import tifffile\n",
    "import zarr\n",
    "from fsspec.implementations.reference import ReferenceFileSystem\n",
    "from skimage import data as skdata\n",
    "import fastplotlib as fpl\n",
    "from tifffile import TiffFile"
   ]
  },
  {
   "cell_type": "code",
   "execution_count": 31,
   "id": "41eff32a-2372-47b1-bd18-4f6deccbf096",
   "metadata": {
    "execution": {
     "iopub.execute_input": "2025-06-17T18:52:26.395633Z",
     "iopub.status.busy": "2025-06-17T18:52:26.394772Z",
     "iopub.status.idle": "2025-06-17T18:52:26.410014Z",
     "shell.execute_reply": "2025-06-17T18:52:26.409390Z",
     "shell.execute_reply.started": "2025-06-17T18:52:26.395584Z"
    }
   },
   "outputs": [],
   "source": [
    "def dump_kerchunk_reference(tif_path: pathlib.Path) -> dict:\n",
    "    with tifffile.TiffFile(str(tif_path)) as tif, io.StringIO() as f:\n",
    "        store = tif.aszarr()\n",
    "        store.write_fsspec(f, url=tif_path.resolve().as_uri())\n",
    "        return json.loads(f.getvalue())\n",
    "\n",
    "def create_combined_kerchunk_reference(tif_files: list[pathlib.Path], base_dir: pathlib.Path) -> dict:\n",
    "    assert len(tif_files) > 1, \"Need at least two TIFF files to combine.\"\n",
    "    combined_refs: dict[str, str] = {}\n",
    "    per_file_refs = []\n",
    "    total_shape = None\n",
    "    total_chunks = None\n",
    "    zarr_meta = {}\n",
    "    for tif_path in tif_files:\n",
    "        inner_refs = dump_kerchunk_reference(tif_path)\n",
    "        # inner_refs = dump_kerchunk_reference(tif_path, base_dir)\n",
    "        zarr_meta = json.loads(inner_refs.pop(\".zarray\"))\n",
    "        inner_refs.pop(\".zattrs\", None)\n",
    "\n",
    "        shape = zarr_meta[\"shape\"]\n",
    "        chunks = zarr_meta[\"chunks\"]\n",
    "\n",
    "        if total_shape is None:\n",
    "            total_shape = shape.copy()\n",
    "            total_chunks = chunks\n",
    "        else:\n",
    "            assert shape[1:] == total_shape[1:], f\"Shape mismatch in {tif_path}\"\n",
    "            assert chunks == total_chunks, f\"Chunk mismatch in {tif_path}\"\n",
    "            total_shape[0] += shape[0]  # accumulate along axis 0\n",
    "\n",
    "        per_file_refs.append((inner_refs, shape))\n",
    "\n",
    "    combined_zarr_meta = {\n",
    "        \"shape\": total_shape,\n",
    "        \"chunks\": total_chunks,\n",
    "        \"dtype\": zarr_meta[\"dtype\"],\n",
    "        \"compressor\": zarr_meta[\"compressor\"],\n",
    "        \"filters\": zarr_meta.get(\"filters\", None),\n",
    "        \"order\": zarr_meta[\"order\"],\n",
    "        \"zarr_format\": zarr_meta[\"zarr_format\"],\n",
    "        \"fill_value\": zarr_meta.get(\"fill_value\", 0),\n",
    "    }\n",
    "\n",
    "    combined_refs[\".zarray\"] = json.dumps(combined_zarr_meta)\n",
    "    combined_refs[\".zattrs\"] = json.dumps(\n",
    "        {\"_ARRAY_DIMENSIONS\": [\"T\", \"C\", \"Y\", \"X\"][:len(total_shape)]}\n",
    "    )\n",
    "\n",
    "    axis0_offset = 0\n",
    "    for inner_refs, shape in per_file_refs:\n",
    "        chunksize0 = total_chunks[0]\n",
    "        for key, val in inner_refs.items():\n",
    "            idx = list(map(int, key.strip(\"/\").split(\".\")))\n",
    "            idx[0] += axis0_offset // chunksize0\n",
    "            new_key = \".\".join(map(str, idx))\n",
    "            combined_refs[new_key] = val\n",
    "        axis0_offset += shape[0]\n",
    "\n",
    "    return combined_refs\n",
    "\n",
    "def main_mbo():\n",
    "\n",
    "    tmp_dir = pathlib.Path(\"./output\").resolve()\n",
    "    tmp_dir.mkdir(exist_ok=True)\n",
    "\n",
    "    files = [x for x in pathlib.Path(\"/home/flynn/lbm_data/raw\").glob(\"*.tif\")]\n",
    "    print(\"Generating combined kerchunk reference…\")\n",
    "    combined_refs = create_combined_kerchunk_reference(\n",
    "        tif_files=files, base_dir=tmp_dir\n",
    "    )\n",
    "\n",
    "    combined_json_path = tmp_dir / \"combined_refs.json\"\n",
    "    with open(combined_json_path, \"w\") as f:\n",
    "        json.dump(combined_refs, f)\n",
    "    print(f\"Combined kerchunk reference written to {combined_json_path}\")\n",
    "    # store = zarr.storage.FsspecStore(ReferenceFileSystem(combined_refs, asynchronous=False))\n",
    "    return combined_json_path"
   ]
  },
  {
   "cell_type": "code",
   "execution_count": 32,
   "id": "27c5a6ce-8ccf-4203-9f72-cbc269c9d7ae",
   "metadata": {
    "execution": {
     "iopub.execute_input": "2025-06-17T18:52:27.103309Z",
     "iopub.status.busy": "2025-06-17T18:52:27.103081Z",
     "iopub.status.idle": "2025-06-17T18:52:27.485071Z",
     "shell.execute_reply": "2025-06-17T18:52:27.484352Z",
     "shell.execute_reply.started": "2025-06-17T18:52:27.103296Z"
    }
   },
   "outputs": [
    {
     "name": "stdout",
     "output_type": "stream",
     "text": [
      "Generating combined kerchunk reference…\n",
      "Combined kerchunk reference written to /home/flynn/repos/work/mbo_utilities/demos/output/combined_refs.json\n"
     ]
    },
    {
     "name": "stderr",
     "output_type": "stream",
     "text": [
      "/tmp/ipykernel_3569922/1289375863.py:7: UserWarning: fs (<fsspec.implementations.reference.ReferenceFileSystem object at 0x768111501310>) was not created with `asynchronous=True`, this may lead to surprising behavior\n",
      "  store = zarr.storage.FsspecStore(fs)\n"
     ]
    },
    {
     "data": {
      "application/vnd.jupyter.widget-view+json": {
       "model_id": "d9548355c96145ac8a84693ff5a75fc8",
       "version_major": 2,
       "version_minor": 0
      },
      "text/plain": [
       "RFBOutputContext()"
      ]
     },
     "metadata": {},
     "output_type": "display_data"
    },
    {
     "ename": "ReferenceNotReachable",
     "evalue": "Reference \"0.0.0.0\" failed to fetch target file:///home/flynn/lbm_data/raw/mk301_03_01_2025_2roi_17p07hz_224x448px_2umpx_180mw_green_00002.tif/mk301_03_01_2025_2roi_17p07hz_224x448px_2umpx_180mw_green_00002.tif",
     "output_type": "error",
     "traceback": [
      "\u001b[31m---------------------------------------------------------------------------\u001b[39m",
      "\u001b[31mNotADirectoryError\u001b[39m                        Traceback (most recent call last)",
      "\u001b[36mFile \u001b[39m\u001b[32m~/repos/work/mbo_utilities/.venv/lib/python3.12/site-packages/fsspec/implementations/reference.py:825\u001b[39m, in \u001b[36mReferenceFileSystem._cat_file\u001b[39m\u001b[34m(self, path, start, end, **kwargs)\u001b[39m\n\u001b[32m    824\u001b[39m \u001b[38;5;28;01mtry\u001b[39;00m:\n\u001b[32m--> \u001b[39m\u001b[32m825\u001b[39m     \u001b[38;5;28;01mreturn\u001b[39;00m \u001b[38;5;28;01mawait\u001b[39;00m \u001b[38;5;28mself\u001b[39m.fss[protocol]._cat_file(\n\u001b[32m    826\u001b[39m         part_or_url, start=start0, end=end0\n\u001b[32m    827\u001b[39m     )\n\u001b[32m    828\u001b[39m \u001b[38;5;28;01mexcept\u001b[39;00m \u001b[38;5;167;01mException\u001b[39;00m \u001b[38;5;28;01mas\u001b[39;00m e:\n",
      "\u001b[36mFile \u001b[39m\u001b[32m~/repos/work/mbo_utilities/.venv/lib/python3.12/site-packages/fsspec/implementations/asyn_wrapper.py:28\u001b[39m, in \u001b[36masync_wrapper.<locals>.wrapper\u001b[39m\u001b[34m(*args, **kwargs)\u001b[39m\n\u001b[32m     26\u001b[39m \u001b[38;5;129m@functools\u001b[39m.wraps(func)\n\u001b[32m     27\u001b[39m \u001b[38;5;28;01masync\u001b[39;00m \u001b[38;5;28;01mdef\u001b[39;00m\u001b[38;5;250m \u001b[39m\u001b[34mwrapper\u001b[39m(*args, **kwargs):\n\u001b[32m---> \u001b[39m\u001b[32m28\u001b[39m     \u001b[38;5;28;01mreturn\u001b[39;00m \u001b[38;5;28;01mawait\u001b[39;00m asyncio.to_thread(func, *args, **kwargs)\n",
      "\u001b[36mFile \u001b[39m\u001b[32m~/.local/share/uv/python/cpython-3.12.10-linux-x86_64-gnu/lib/python3.12/asyncio/threads.py:25\u001b[39m, in \u001b[36mto_thread\u001b[39m\u001b[34m(func, *args, **kwargs)\u001b[39m\n\u001b[32m     24\u001b[39m func_call = functools.partial(ctx.run, func, *args, **kwargs)\n\u001b[32m---> \u001b[39m\u001b[32m25\u001b[39m \u001b[38;5;28;01mreturn\u001b[39;00m \u001b[38;5;28;01mawait\u001b[39;00m loop.run_in_executor(\u001b[38;5;28;01mNone\u001b[39;00m, func_call)\n",
      "\u001b[36mFile \u001b[39m\u001b[32m~/.local/share/uv/python/cpython-3.12.10-linux-x86_64-gnu/lib/python3.12/concurrent/futures/thread.py:59\u001b[39m, in \u001b[36m_WorkItem.run\u001b[39m\u001b[34m(self)\u001b[39m\n\u001b[32m     58\u001b[39m \u001b[38;5;28;01mtry\u001b[39;00m:\n\u001b[32m---> \u001b[39m\u001b[32m59\u001b[39m     result = \u001b[38;5;28;43mself\u001b[39;49m\u001b[43m.\u001b[49m\u001b[43mfn\u001b[49m\u001b[43m(\u001b[49m\u001b[43m*\u001b[49m\u001b[38;5;28;43mself\u001b[39;49m\u001b[43m.\u001b[49m\u001b[43margs\u001b[49m\u001b[43m,\u001b[49m\u001b[43m \u001b[49m\u001b[43m*\u001b[49m\u001b[43m*\u001b[49m\u001b[38;5;28;43mself\u001b[39;49m\u001b[43m.\u001b[49m\u001b[43mkwargs\u001b[49m\u001b[43m)\u001b[49m\n\u001b[32m     60\u001b[39m \u001b[38;5;28;01mexcept\u001b[39;00m \u001b[38;5;167;01mBaseException\u001b[39;00m \u001b[38;5;28;01mas\u001b[39;00m exc:\n",
      "\u001b[36mFile \u001b[39m\u001b[32m~/repos/work/mbo_utilities/.venv/lib/python3.12/site-packages/fsspec/spec.py:797\u001b[39m, in \u001b[36mAbstractFileSystem.cat_file\u001b[39m\u001b[34m(self, path, start, end, **kwargs)\u001b[39m\n\u001b[32m    796\u001b[39m \u001b[38;5;66;03m# explicitly set buffering off?\u001b[39;00m\n\u001b[32m--> \u001b[39m\u001b[32m797\u001b[39m \u001b[38;5;28;01mwith\u001b[39;00m \u001b[38;5;28;43mself\u001b[39;49m\u001b[43m.\u001b[49m\u001b[43mopen\u001b[49m\u001b[43m(\u001b[49m\u001b[43mpath\u001b[49m\u001b[43m,\u001b[49m\u001b[43m \u001b[49m\u001b[33;43m\"\u001b[39;49m\u001b[33;43mrb\u001b[39;49m\u001b[33;43m\"\u001b[39;49m\u001b[43m,\u001b[49m\u001b[43m \u001b[49m\u001b[43m*\u001b[49m\u001b[43m*\u001b[49m\u001b[43mkwargs\u001b[49m\u001b[43m)\u001b[49m \u001b[38;5;28;01mas\u001b[39;00m f:\n\u001b[32m    798\u001b[39m     \u001b[38;5;28;01mif\u001b[39;00m start \u001b[38;5;129;01mis\u001b[39;00m \u001b[38;5;129;01mnot\u001b[39;00m \u001b[38;5;28;01mNone\u001b[39;00m:\n",
      "\u001b[36mFile \u001b[39m\u001b[32m~/repos/work/mbo_utilities/.venv/lib/python3.12/site-packages/fsspec/spec.py:1338\u001b[39m, in \u001b[36mAbstractFileSystem.open\u001b[39m\u001b[34m(self, path, mode, block_size, cache_options, compression, **kwargs)\u001b[39m\n\u001b[32m   1337\u001b[39m ac = kwargs.pop(\u001b[33m\"\u001b[39m\u001b[33mautocommit\u001b[39m\u001b[33m\"\u001b[39m, \u001b[38;5;129;01mnot\u001b[39;00m \u001b[38;5;28mself\u001b[39m._intrans)\n\u001b[32m-> \u001b[39m\u001b[32m1338\u001b[39m f = \u001b[38;5;28;43mself\u001b[39;49m\u001b[43m.\u001b[49m\u001b[43m_open\u001b[49m\u001b[43m(\u001b[49m\n\u001b[32m   1339\u001b[39m \u001b[43m    \u001b[49m\u001b[43mpath\u001b[49m\u001b[43m,\u001b[49m\n\u001b[32m   1340\u001b[39m \u001b[43m    \u001b[49m\u001b[43mmode\u001b[49m\u001b[43m=\u001b[49m\u001b[43mmode\u001b[49m\u001b[43m,\u001b[49m\n\u001b[32m   1341\u001b[39m \u001b[43m    \u001b[49m\u001b[43mblock_size\u001b[49m\u001b[43m=\u001b[49m\u001b[43mblock_size\u001b[49m\u001b[43m,\u001b[49m\n\u001b[32m   1342\u001b[39m \u001b[43m    \u001b[49m\u001b[43mautocommit\u001b[49m\u001b[43m=\u001b[49m\u001b[43mac\u001b[49m\u001b[43m,\u001b[49m\n\u001b[32m   1343\u001b[39m \u001b[43m    \u001b[49m\u001b[43mcache_options\u001b[49m\u001b[43m=\u001b[49m\u001b[43mcache_options\u001b[49m\u001b[43m,\u001b[49m\n\u001b[32m   1344\u001b[39m \u001b[43m    \u001b[49m\u001b[43m*\u001b[49m\u001b[43m*\u001b[49m\u001b[43mkwargs\u001b[49m\u001b[43m,\u001b[49m\n\u001b[32m   1345\u001b[39m \u001b[43m\u001b[49m\u001b[43m)\u001b[49m\n\u001b[32m   1346\u001b[39m \u001b[38;5;28;01mif\u001b[39;00m compression \u001b[38;5;129;01mis\u001b[39;00m \u001b[38;5;129;01mnot\u001b[39;00m \u001b[38;5;28;01mNone\u001b[39;00m:\n",
      "\u001b[36mFile \u001b[39m\u001b[32m~/repos/work/mbo_utilities/.venv/lib/python3.12/site-packages/fsspec/implementations/local.py:206\u001b[39m, in \u001b[36mLocalFileSystem._open\u001b[39m\u001b[34m(self, path, mode, block_size, **kwargs)\u001b[39m\n\u001b[32m    205\u001b[39m     \u001b[38;5;28mself\u001b[39m.makedirs(\u001b[38;5;28mself\u001b[39m._parent(path), exist_ok=\u001b[38;5;28;01mTrue\u001b[39;00m)\n\u001b[32m--> \u001b[39m\u001b[32m206\u001b[39m \u001b[38;5;28;01mreturn\u001b[39;00m \u001b[43mLocalFileOpener\u001b[49m\u001b[43m(\u001b[49m\u001b[43mpath\u001b[49m\u001b[43m,\u001b[49m\u001b[43m \u001b[49m\u001b[43mmode\u001b[49m\u001b[43m,\u001b[49m\u001b[43m \u001b[49m\u001b[43mfs\u001b[49m\u001b[43m=\u001b[49m\u001b[38;5;28;43mself\u001b[39;49m\u001b[43m,\u001b[49m\u001b[43m \u001b[49m\u001b[43m*\u001b[49m\u001b[43m*\u001b[49m\u001b[43mkwargs\u001b[49m\u001b[43m)\u001b[49m\n",
      "\u001b[36mFile \u001b[39m\u001b[32m~/repos/work/mbo_utilities/.venv/lib/python3.12/site-packages/fsspec/implementations/local.py:383\u001b[39m, in \u001b[36mLocalFileOpener.__init__\u001b[39m\u001b[34m(self, path, mode, autocommit, fs, compression, **kwargs)\u001b[39m\n\u001b[32m    382\u001b[39m \u001b[38;5;28mself\u001b[39m.blocksize = io.DEFAULT_BUFFER_SIZE\n\u001b[32m--> \u001b[39m\u001b[32m383\u001b[39m \u001b[38;5;28;43mself\u001b[39;49m\u001b[43m.\u001b[49m\u001b[43m_open\u001b[49m\u001b[43m(\u001b[49m\u001b[43m)\u001b[49m\n",
      "\u001b[36mFile \u001b[39m\u001b[32m~/repos/work/mbo_utilities/.venv/lib/python3.12/site-packages/fsspec/implementations/local.py:388\u001b[39m, in \u001b[36mLocalFileOpener._open\u001b[39m\u001b[34m(self)\u001b[39m\n\u001b[32m    387\u001b[39m \u001b[38;5;28;01mif\u001b[39;00m \u001b[38;5;28mself\u001b[39m.autocommit \u001b[38;5;129;01mor\u001b[39;00m \u001b[33m\"\u001b[39m\u001b[33mw\u001b[39m\u001b[33m\"\u001b[39m \u001b[38;5;129;01mnot\u001b[39;00m \u001b[38;5;129;01min\u001b[39;00m \u001b[38;5;28mself\u001b[39m.mode:\n\u001b[32m--> \u001b[39m\u001b[32m388\u001b[39m     \u001b[38;5;28mself\u001b[39m.f = \u001b[38;5;28;43mopen\u001b[39;49m\u001b[43m(\u001b[49m\u001b[38;5;28;43mself\u001b[39;49m\u001b[43m.\u001b[49m\u001b[43mpath\u001b[49m\u001b[43m,\u001b[49m\u001b[43m \u001b[49m\u001b[43mmode\u001b[49m\u001b[43m=\u001b[49m\u001b[38;5;28;43mself\u001b[39;49m\u001b[43m.\u001b[49m\u001b[43mmode\u001b[49m\u001b[43m)\u001b[49m\n\u001b[32m    389\u001b[39m     \u001b[38;5;28;01mif\u001b[39;00m \u001b[38;5;28mself\u001b[39m.compression:\n",
      "\u001b[31mNotADirectoryError\u001b[39m: [Errno 20] Not a directory: '/home/flynn/lbm_data/raw/mk301_03_01_2025_2roi_17p07hz_224x448px_2umpx_180mw_green_00002.tif/mk301_03_01_2025_2roi_17p07hz_224x448px_2umpx_180mw_green_00002.tif'",
      "\nThe above exception was the direct cause of the following exception:\n",
      "\u001b[31mReferenceNotReachable\u001b[39m                     Traceback (most recent call last)",
      "\u001b[36mCell\u001b[39m\u001b[36m \u001b[39m\u001b[32mIn[32]\u001b[39m\u001b[32m, line 9\u001b[39m\n\u001b[32m      7\u001b[39m store = zarr.storage.FsspecStore(fs)\n\u001b[32m      8\u001b[39m z_arr = zarr.open(store)\n\u001b[32m----> \u001b[39m\u001b[32m9\u001b[39m iw = \u001b[43mfpl\u001b[49m\u001b[43m.\u001b[49m\u001b[43mImageWidget\u001b[49m\u001b[43m(\u001b[49m\u001b[43mz_arr\u001b[49m\u001b[43m)\u001b[49m\n\u001b[32m     10\u001b[39m iw.show()\n",
      "\u001b[36mFile \u001b[39m\u001b[32m~/repos/work/mbo_utilities/.venv/lib/python3.12/site-packages/fastplotlib/widgets/image_widget/_widget.py:532\u001b[39m, in \u001b[36mImageWidget.__init__\u001b[39m\u001b[34m(self, data, window_funcs, frame_apply, figure_shape, names, figure_kwargs, histogram_widget, rgb, cmap, graphic_kwargs)\u001b[39m\n\u001b[32m    529\u001b[39m \u001b[38;5;28mself\u001b[39m._histogram_widget = histogram_widget\n\u001b[32m    530\u001b[39m \u001b[38;5;28;01mfor\u001b[39;00m data_ix, (d, subplot) \u001b[38;5;129;01min\u001b[39;00m \u001b[38;5;28menumerate\u001b[39m(\u001b[38;5;28mzip\u001b[39m(\u001b[38;5;28mself\u001b[39m.data, \u001b[38;5;28mself\u001b[39m.figure)):\n\u001b[32m--> \u001b[39m\u001b[32m532\u001b[39m     frame = \u001b[38;5;28;43mself\u001b[39;49m\u001b[43m.\u001b[49m\u001b[43m_process_indices\u001b[49m\u001b[43m(\u001b[49m\u001b[43md\u001b[49m\u001b[43m,\u001b[49m\u001b[43m \u001b[49m\u001b[43mslice_indices\u001b[49m\u001b[43m=\u001b[49m\u001b[38;5;28;43mself\u001b[39;49m\u001b[43m.\u001b[49m\u001b[43m_current_index\u001b[49m\u001b[43m)\u001b[49m\n\u001b[32m    533\u001b[39m     frame = \u001b[38;5;28mself\u001b[39m._process_frame_apply(frame, data_ix)\n\u001b[32m    535\u001b[39m     \u001b[38;5;28;01mif\u001b[39;00m (vmin_specified \u001b[38;5;129;01mis\u001b[39;00m \u001b[38;5;28;01mNone\u001b[39;00m) \u001b[38;5;129;01mor\u001b[39;00m (vmax_specified \u001b[38;5;129;01mis\u001b[39;00m \u001b[38;5;28;01mNone\u001b[39;00m):\n\u001b[32m    536\u001b[39m         \u001b[38;5;66;03m# if either vmin or vmax are not specified, calculate an estimate by subsampling\u001b[39;00m\n",
      "\u001b[36mFile \u001b[39m\u001b[32m~/repos/work/mbo_utilities/.venv/lib/python3.12/site-packages/fastplotlib/widgets/image_widget/_widget.py:720\u001b[39m, in \u001b[36mImageWidget._process_indices\u001b[39m\u001b[34m(self, array, slice_indices)\u001b[39m\n\u001b[32m    717\u001b[39m     indexer[axis] = indices_dim\n\u001b[32m    719\u001b[39m \u001b[38;5;66;03m# apply basic slicing first\u001b[39;00m\n\u001b[32m--> \u001b[39m\u001b[32m720\u001b[39m arr_window = \u001b[43marray\u001b[49m\u001b[43m[\u001b[49m\u001b[38;5;28;43mtuple\u001b[39;49m\u001b[43m(\u001b[49m\u001b[43mindexer\u001b[49m\u001b[43m)\u001b[49m\u001b[43m]\u001b[49m\n\u001b[32m    722\u001b[39m \u001b[38;5;66;03m# apply window functions to the resulting sub-array\u001b[39;00m\n\u001b[32m    723\u001b[39m \u001b[38;5;28;01mif\u001b[39;00m \u001b[38;5;28mself\u001b[39m.window_funcs:\n",
      "\u001b[36mFile \u001b[39m\u001b[32m~/repos/work/mbo_utilities/.venv/lib/python3.12/site-packages/zarr/core/array.py:2441\u001b[39m, in \u001b[36mArray.__getitem__\u001b[39m\u001b[34m(self, selection)\u001b[39m\n\u001b[32m   2439\u001b[39m     \u001b[38;5;28;01mreturn\u001b[39;00m \u001b[38;5;28mself\u001b[39m.vindex[cast(CoordinateSelection | MaskSelection, selection)]\n\u001b[32m   2440\u001b[39m \u001b[38;5;28;01melif\u001b[39;00m is_pure_orthogonal_indexing(pure_selection, \u001b[38;5;28mself\u001b[39m.ndim):\n\u001b[32m-> \u001b[39m\u001b[32m2441\u001b[39m     \u001b[38;5;28;01mreturn\u001b[39;00m \u001b[38;5;28;43mself\u001b[39;49m\u001b[43m.\u001b[49m\u001b[43mget_orthogonal_selection\u001b[49m\u001b[43m(\u001b[49m\u001b[43mpure_selection\u001b[49m\u001b[43m,\u001b[49m\u001b[43m \u001b[49m\u001b[43mfields\u001b[49m\u001b[43m=\u001b[49m\u001b[43mfields\u001b[49m\u001b[43m)\u001b[49m\n\u001b[32m   2442\u001b[39m \u001b[38;5;28;01melse\u001b[39;00m:\n\u001b[32m   2443\u001b[39m     \u001b[38;5;28;01mreturn\u001b[39;00m \u001b[38;5;28mself\u001b[39m.get_basic_selection(cast(BasicSelection, pure_selection), fields=fields)\n",
      "\u001b[36mFile \u001b[39m\u001b[32m~/repos/work/mbo_utilities/.venv/lib/python3.12/site-packages/zarr/_compat.py:43\u001b[39m, in \u001b[36m_deprecate_positional_args.<locals>._inner_deprecate_positional_args.<locals>.inner_f\u001b[39m\u001b[34m(*args, **kwargs)\u001b[39m\n\u001b[32m     41\u001b[39m extra_args = \u001b[38;5;28mlen\u001b[39m(args) - \u001b[38;5;28mlen\u001b[39m(all_args)\n\u001b[32m     42\u001b[39m \u001b[38;5;28;01mif\u001b[39;00m extra_args <= \u001b[32m0\u001b[39m:\n\u001b[32m---> \u001b[39m\u001b[32m43\u001b[39m     \u001b[38;5;28;01mreturn\u001b[39;00m \u001b[43mf\u001b[49m\u001b[43m(\u001b[49m\u001b[43m*\u001b[49m\u001b[43margs\u001b[49m\u001b[43m,\u001b[49m\u001b[43m \u001b[49m\u001b[43m*\u001b[49m\u001b[43m*\u001b[49m\u001b[43mkwargs\u001b[49m\u001b[43m)\u001b[49m\n\u001b[32m     45\u001b[39m \u001b[38;5;66;03m# extra_args > 0\u001b[39;00m\n\u001b[32m     46\u001b[39m args_msg = [\n\u001b[32m     47\u001b[39m     \u001b[33mf\u001b[39m\u001b[33m\"\u001b[39m\u001b[38;5;132;01m{\u001b[39;00mname\u001b[38;5;132;01m}\u001b[39;00m\u001b[33m=\u001b[39m\u001b[38;5;132;01m{\u001b[39;00marg\u001b[38;5;132;01m}\u001b[39;00m\u001b[33m\"\u001b[39m\n\u001b[32m     48\u001b[39m     \u001b[38;5;28;01mfor\u001b[39;00m name, arg \u001b[38;5;129;01min\u001b[39;00m \u001b[38;5;28mzip\u001b[39m(kwonly_args[:extra_args], args[-extra_args:], strict=\u001b[38;5;28;01mFalse\u001b[39;00m)\n\u001b[32m     49\u001b[39m ]\n",
      "\u001b[36mFile \u001b[39m\u001b[32m~/repos/work/mbo_utilities/.venv/lib/python3.12/site-packages/zarr/core/array.py:2883\u001b[39m, in \u001b[36mArray.get_orthogonal_selection\u001b[39m\u001b[34m(self, selection, out, fields, prototype)\u001b[39m\n\u001b[32m   2881\u001b[39m     prototype = default_buffer_prototype()\n\u001b[32m   2882\u001b[39m indexer = OrthogonalIndexer(selection, \u001b[38;5;28mself\u001b[39m.shape, \u001b[38;5;28mself\u001b[39m.metadata.chunk_grid)\n\u001b[32m-> \u001b[39m\u001b[32m2883\u001b[39m \u001b[38;5;28;01mreturn\u001b[39;00m \u001b[43msync\u001b[49m\u001b[43m(\u001b[49m\n\u001b[32m   2884\u001b[39m \u001b[43m    \u001b[49m\u001b[38;5;28;43mself\u001b[39;49m\u001b[43m.\u001b[49m\u001b[43m_async_array\u001b[49m\u001b[43m.\u001b[49m\u001b[43m_get_selection\u001b[49m\u001b[43m(\u001b[49m\n\u001b[32m   2885\u001b[39m \u001b[43m        \u001b[49m\u001b[43mindexer\u001b[49m\u001b[43m=\u001b[49m\u001b[43mindexer\u001b[49m\u001b[43m,\u001b[49m\u001b[43m \u001b[49m\u001b[43mout\u001b[49m\u001b[43m=\u001b[49m\u001b[43mout\u001b[49m\u001b[43m,\u001b[49m\u001b[43m \u001b[49m\u001b[43mfields\u001b[49m\u001b[43m=\u001b[49m\u001b[43mfields\u001b[49m\u001b[43m,\u001b[49m\u001b[43m \u001b[49m\u001b[43mprototype\u001b[49m\u001b[43m=\u001b[49m\u001b[43mprototype\u001b[49m\n\u001b[32m   2886\u001b[39m \u001b[43m    \u001b[49m\u001b[43m)\u001b[49m\n\u001b[32m   2887\u001b[39m \u001b[43m\u001b[49m\u001b[43m)\u001b[49m\n",
      "\u001b[36mFile \u001b[39m\u001b[32m~/repos/work/mbo_utilities/.venv/lib/python3.12/site-packages/zarr/core/sync.py:163\u001b[39m, in \u001b[36msync\u001b[39m\u001b[34m(coro, loop, timeout)\u001b[39m\n\u001b[32m    160\u001b[39m return_result = \u001b[38;5;28mnext\u001b[39m(\u001b[38;5;28miter\u001b[39m(finished)).result()\n\u001b[32m    162\u001b[39m \u001b[38;5;28;01mif\u001b[39;00m \u001b[38;5;28misinstance\u001b[39m(return_result, \u001b[38;5;167;01mBaseException\u001b[39;00m):\n\u001b[32m--> \u001b[39m\u001b[32m163\u001b[39m     \u001b[38;5;28;01mraise\u001b[39;00m return_result\n\u001b[32m    164\u001b[39m \u001b[38;5;28;01melse\u001b[39;00m:\n\u001b[32m    165\u001b[39m     \u001b[38;5;28;01mreturn\u001b[39;00m return_result\n",
      "\u001b[36mFile \u001b[39m\u001b[32m~/repos/work/mbo_utilities/.venv/lib/python3.12/site-packages/zarr/core/sync.py:119\u001b[39m, in \u001b[36m_runner\u001b[39m\u001b[34m(coro)\u001b[39m\n\u001b[32m    114\u001b[39m \u001b[38;5;250m\u001b[39m\u001b[33;03m\"\"\"\u001b[39;00m\n\u001b[32m    115\u001b[39m \u001b[33;03mAwait a coroutine and return the result of running it. If awaiting the coroutine raises an\u001b[39;00m\n\u001b[32m    116\u001b[39m \u001b[33;03mexception, the exception will be returned.\u001b[39;00m\n\u001b[32m    117\u001b[39m \u001b[33;03m\"\"\"\u001b[39;00m\n\u001b[32m    118\u001b[39m \u001b[38;5;28;01mtry\u001b[39;00m:\n\u001b[32m--> \u001b[39m\u001b[32m119\u001b[39m     \u001b[38;5;28;01mreturn\u001b[39;00m \u001b[38;5;28;01mawait\u001b[39;00m coro\n\u001b[32m    120\u001b[39m \u001b[38;5;28;01mexcept\u001b[39;00m \u001b[38;5;167;01mException\u001b[39;00m \u001b[38;5;28;01mas\u001b[39;00m ex:\n\u001b[32m    121\u001b[39m     \u001b[38;5;28;01mreturn\u001b[39;00m ex\n",
      "\u001b[36mFile \u001b[39m\u001b[32m~/repos/work/mbo_utilities/.venv/lib/python3.12/site-packages/zarr/core/array.py:1298\u001b[39m, in \u001b[36mAsyncArray._get_selection\u001b[39m\u001b[34m(self, indexer, prototype, out, fields)\u001b[39m\n\u001b[32m   1295\u001b[39m         _config = replace(_config, order=\u001b[38;5;28mself\u001b[39m.order)\n\u001b[32m   1297\u001b[39m     \u001b[38;5;66;03m# reading chunks and decoding them\u001b[39;00m\n\u001b[32m-> \u001b[39m\u001b[32m1298\u001b[39m     \u001b[38;5;28;01mawait\u001b[39;00m \u001b[38;5;28mself\u001b[39m.codec_pipeline.read(\n\u001b[32m   1299\u001b[39m         [\n\u001b[32m   1300\u001b[39m             (\n\u001b[32m   1301\u001b[39m                 \u001b[38;5;28mself\u001b[39m.store_path / \u001b[38;5;28mself\u001b[39m.metadata.encode_chunk_key(chunk_coords),\n\u001b[32m   1302\u001b[39m                 \u001b[38;5;28mself\u001b[39m.metadata.get_chunk_spec(chunk_coords, _config, prototype=prototype),\n\u001b[32m   1303\u001b[39m                 chunk_selection,\n\u001b[32m   1304\u001b[39m                 out_selection,\n\u001b[32m   1305\u001b[39m                 is_complete_chunk,\n\u001b[32m   1306\u001b[39m             )\n\u001b[32m   1307\u001b[39m             \u001b[38;5;28;01mfor\u001b[39;00m chunk_coords, chunk_selection, out_selection, is_complete_chunk \u001b[38;5;129;01min\u001b[39;00m indexer\n\u001b[32m   1308\u001b[39m         ],\n\u001b[32m   1309\u001b[39m         out_buffer,\n\u001b[32m   1310\u001b[39m         drop_axes=indexer.drop_axes,\n\u001b[32m   1311\u001b[39m     )\n\u001b[32m   1312\u001b[39m \u001b[38;5;28;01mif\u001b[39;00m \u001b[38;5;28misinstance\u001b[39m(indexer, BasicIndexer) \u001b[38;5;129;01mand\u001b[39;00m indexer.shape == ():\n\u001b[32m   1313\u001b[39m     \u001b[38;5;28;01mreturn\u001b[39;00m out_buffer.as_scalar()\n",
      "\u001b[36mFile \u001b[39m\u001b[32m~/repos/work/mbo_utilities/.venv/lib/python3.12/site-packages/zarr/core/codec_pipeline.py:464\u001b[39m, in \u001b[36mBatchedCodecPipeline.read\u001b[39m\u001b[34m(self, batch_info, out, drop_axes)\u001b[39m\n\u001b[32m    458\u001b[39m \u001b[38;5;28;01masync\u001b[39;00m \u001b[38;5;28;01mdef\u001b[39;00m\u001b[38;5;250m \u001b[39m\u001b[34mread\u001b[39m(\n\u001b[32m    459\u001b[39m     \u001b[38;5;28mself\u001b[39m,\n\u001b[32m    460\u001b[39m     batch_info: Iterable[\u001b[38;5;28mtuple\u001b[39m[ByteGetter, ArraySpec, SelectorTuple, SelectorTuple, \u001b[38;5;28mbool\u001b[39m]],\n\u001b[32m    461\u001b[39m     out: NDBuffer,\n\u001b[32m    462\u001b[39m     drop_axes: \u001b[38;5;28mtuple\u001b[39m[\u001b[38;5;28mint\u001b[39m, ...] = (),\n\u001b[32m    463\u001b[39m ) -> \u001b[38;5;28;01mNone\u001b[39;00m:\n\u001b[32m--> \u001b[39m\u001b[32m464\u001b[39m     \u001b[38;5;28;01mawait\u001b[39;00m concurrent_map(\n\u001b[32m    465\u001b[39m         [\n\u001b[32m    466\u001b[39m             (single_batch_info, out, drop_axes)\n\u001b[32m    467\u001b[39m             \u001b[38;5;28;01mfor\u001b[39;00m single_batch_info \u001b[38;5;129;01min\u001b[39;00m batched(batch_info, \u001b[38;5;28mself\u001b[39m.batch_size)\n\u001b[32m    468\u001b[39m         ],\n\u001b[32m    469\u001b[39m         \u001b[38;5;28mself\u001b[39m.read_batch,\n\u001b[32m    470\u001b[39m         config.get(\u001b[33m\"\u001b[39m\u001b[33masync.concurrency\u001b[39m\u001b[33m\"\u001b[39m),\n\u001b[32m    471\u001b[39m     )\n",
      "\u001b[36mFile \u001b[39m\u001b[32m~/repos/work/mbo_utilities/.venv/lib/python3.12/site-packages/zarr/core/common.py:69\u001b[39m, in \u001b[36mconcurrent_map\u001b[39m\u001b[34m(items, func, limit)\u001b[39m\n\u001b[32m     66\u001b[39m     \u001b[38;5;28;01masync\u001b[39;00m \u001b[38;5;28;01mwith\u001b[39;00m sem:\n\u001b[32m     67\u001b[39m         \u001b[38;5;28;01mreturn\u001b[39;00m \u001b[38;5;28;01mawait\u001b[39;00m func(*item)\n\u001b[32m---> \u001b[39m\u001b[32m69\u001b[39m \u001b[38;5;28;01mreturn\u001b[39;00m \u001b[38;5;28;01mawait\u001b[39;00m asyncio.gather(*[asyncio.ensure_future(run(item)) \u001b[38;5;28;01mfor\u001b[39;00m item \u001b[38;5;129;01min\u001b[39;00m items])\n",
      "\u001b[36mFile \u001b[39m\u001b[32m~/repos/work/mbo_utilities/.venv/lib/python3.12/site-packages/zarr/core/common.py:67\u001b[39m, in \u001b[36mconcurrent_map.<locals>.run\u001b[39m\u001b[34m(item)\u001b[39m\n\u001b[32m     65\u001b[39m \u001b[38;5;28;01masync\u001b[39;00m \u001b[38;5;28;01mdef\u001b[39;00m\u001b[38;5;250m \u001b[39m\u001b[34mrun\u001b[39m(item: \u001b[38;5;28mtuple\u001b[39m[Any]) -> V:\n\u001b[32m     66\u001b[39m     \u001b[38;5;28;01masync\u001b[39;00m \u001b[38;5;28;01mwith\u001b[39;00m sem:\n\u001b[32m---> \u001b[39m\u001b[32m67\u001b[39m         \u001b[38;5;28;01mreturn\u001b[39;00m \u001b[38;5;28;01mawait\u001b[39;00m func(*item)\n",
      "\u001b[36mFile \u001b[39m\u001b[32m~/repos/work/mbo_utilities/.venv/lib/python3.12/site-packages/zarr/core/codec_pipeline.py:265\u001b[39m, in \u001b[36mBatchedCodecPipeline.read_batch\u001b[39m\u001b[34m(self, batch_info, out, drop_axes)\u001b[39m\n\u001b[32m    263\u001b[39m             out[out_selection] = fill_value_or_default(chunk_spec)\n\u001b[32m    264\u001b[39m \u001b[38;5;28;01melse\u001b[39;00m:\n\u001b[32m--> \u001b[39m\u001b[32m265\u001b[39m     chunk_bytes_batch = \u001b[38;5;28;01mawait\u001b[39;00m concurrent_map(\n\u001b[32m    266\u001b[39m         [(byte_getter, array_spec.prototype) \u001b[38;5;28;01mfor\u001b[39;00m byte_getter, array_spec, *_ \u001b[38;5;129;01min\u001b[39;00m batch_info],\n\u001b[32m    267\u001b[39m         \u001b[38;5;28;01mlambda\u001b[39;00m byte_getter, prototype: byte_getter.get(prototype),\n\u001b[32m    268\u001b[39m         config.get(\u001b[33m\"\u001b[39m\u001b[33masync.concurrency\u001b[39m\u001b[33m\"\u001b[39m),\n\u001b[32m    269\u001b[39m     )\n\u001b[32m    270\u001b[39m     chunk_array_batch = \u001b[38;5;28;01mawait\u001b[39;00m \u001b[38;5;28mself\u001b[39m.decode_batch(\n\u001b[32m    271\u001b[39m         [\n\u001b[32m    272\u001b[39m             (chunk_bytes, chunk_spec)\n\u001b[32m   (...)\u001b[39m\u001b[32m    276\u001b[39m         ],\n\u001b[32m    277\u001b[39m     )\n\u001b[32m    278\u001b[39m     \u001b[38;5;28;01mfor\u001b[39;00m chunk_array, (_, chunk_spec, chunk_selection, out_selection, _) \u001b[38;5;129;01min\u001b[39;00m \u001b[38;5;28mzip\u001b[39m(\n\u001b[32m    279\u001b[39m         chunk_array_batch, batch_info, strict=\u001b[38;5;28;01mFalse\u001b[39;00m\n\u001b[32m    280\u001b[39m     ):\n",
      "\u001b[36mFile \u001b[39m\u001b[32m~/repos/work/mbo_utilities/.venv/lib/python3.12/site-packages/zarr/core/common.py:69\u001b[39m, in \u001b[36mconcurrent_map\u001b[39m\u001b[34m(items, func, limit)\u001b[39m\n\u001b[32m     66\u001b[39m     \u001b[38;5;28;01masync\u001b[39;00m \u001b[38;5;28;01mwith\u001b[39;00m sem:\n\u001b[32m     67\u001b[39m         \u001b[38;5;28;01mreturn\u001b[39;00m \u001b[38;5;28;01mawait\u001b[39;00m func(*item)\n\u001b[32m---> \u001b[39m\u001b[32m69\u001b[39m \u001b[38;5;28;01mreturn\u001b[39;00m \u001b[38;5;28;01mawait\u001b[39;00m asyncio.gather(*[asyncio.ensure_future(run(item)) \u001b[38;5;28;01mfor\u001b[39;00m item \u001b[38;5;129;01min\u001b[39;00m items])\n",
      "\u001b[36mFile \u001b[39m\u001b[32m~/repos/work/mbo_utilities/.venv/lib/python3.12/site-packages/zarr/core/common.py:67\u001b[39m, in \u001b[36mconcurrent_map.<locals>.run\u001b[39m\u001b[34m(item)\u001b[39m\n\u001b[32m     65\u001b[39m \u001b[38;5;28;01masync\u001b[39;00m \u001b[38;5;28;01mdef\u001b[39;00m\u001b[38;5;250m \u001b[39m\u001b[34mrun\u001b[39m(item: \u001b[38;5;28mtuple\u001b[39m[Any]) -> V:\n\u001b[32m     66\u001b[39m     \u001b[38;5;28;01masync\u001b[39;00m \u001b[38;5;28;01mwith\u001b[39;00m sem:\n\u001b[32m---> \u001b[39m\u001b[32m67\u001b[39m         \u001b[38;5;28;01mreturn\u001b[39;00m \u001b[38;5;28;01mawait\u001b[39;00m func(*item)\n",
      "\u001b[36mFile \u001b[39m\u001b[32m~/repos/work/mbo_utilities/.venv/lib/python3.12/site-packages/zarr/storage/_common.py:124\u001b[39m, in \u001b[36mStorePath.get\u001b[39m\u001b[34m(self, prototype, byte_range)\u001b[39m\n\u001b[32m    122\u001b[39m \u001b[38;5;28;01mif\u001b[39;00m prototype \u001b[38;5;129;01mis\u001b[39;00m \u001b[38;5;28;01mNone\u001b[39;00m:\n\u001b[32m    123\u001b[39m     prototype = default_buffer_prototype()\n\u001b[32m--> \u001b[39m\u001b[32m124\u001b[39m \u001b[38;5;28;01mreturn\u001b[39;00m \u001b[38;5;28;01mawait\u001b[39;00m \u001b[38;5;28mself\u001b[39m.store.get(\u001b[38;5;28mself\u001b[39m.path, prototype=prototype, byte_range=byte_range)\n",
      "\u001b[36mFile \u001b[39m\u001b[32m~/repos/work/mbo_utilities/.venv/lib/python3.12/site-packages/zarr/storage/_fsspec.py:230\u001b[39m, in \u001b[36mFsspecStore.get\u001b[39m\u001b[34m(self, key, prototype, byte_range)\u001b[39m\n\u001b[32m    228\u001b[39m \u001b[38;5;28;01mtry\u001b[39;00m:\n\u001b[32m    229\u001b[39m     \u001b[38;5;28;01mif\u001b[39;00m byte_range \u001b[38;5;129;01mis\u001b[39;00m \u001b[38;5;28;01mNone\u001b[39;00m:\n\u001b[32m--> \u001b[39m\u001b[32m230\u001b[39m         value = prototype.buffer.from_bytes(\u001b[38;5;28;01mawait\u001b[39;00m \u001b[38;5;28mself\u001b[39m.fs._cat_file(path))\n\u001b[32m    231\u001b[39m     \u001b[38;5;28;01melif\u001b[39;00m \u001b[38;5;28misinstance\u001b[39m(byte_range, RangeByteRequest):\n\u001b[32m    232\u001b[39m         value = prototype.buffer.from_bytes(\n\u001b[32m    233\u001b[39m             \u001b[38;5;28;01mawait\u001b[39;00m \u001b[38;5;28mself\u001b[39m.fs._cat_file(\n\u001b[32m    234\u001b[39m                 path,\n\u001b[32m   (...)\u001b[39m\u001b[32m    237\u001b[39m             )\n\u001b[32m    238\u001b[39m         )\n",
      "\u001b[36mFile \u001b[39m\u001b[32m~/repos/work/mbo_utilities/.venv/lib/python3.12/site-packages/fsspec/implementations/reference.py:829\u001b[39m, in \u001b[36mReferenceFileSystem._cat_file\u001b[39m\u001b[34m(self, path, start, end, **kwargs)\u001b[39m\n\u001b[32m    825\u001b[39m     \u001b[38;5;28;01mreturn\u001b[39;00m \u001b[38;5;28;01mawait\u001b[39;00m \u001b[38;5;28mself\u001b[39m.fss[protocol]._cat_file(\n\u001b[32m    826\u001b[39m         part_or_url, start=start0, end=end0\n\u001b[32m    827\u001b[39m     )\n\u001b[32m    828\u001b[39m \u001b[38;5;28;01mexcept\u001b[39;00m \u001b[38;5;167;01mException\u001b[39;00m \u001b[38;5;28;01mas\u001b[39;00m e:\n\u001b[32m--> \u001b[39m\u001b[32m829\u001b[39m     \u001b[38;5;28;01mraise\u001b[39;00m ReferenceNotReachable(path, part_or_url) \u001b[38;5;28;01mfrom\u001b[39;00m\u001b[38;5;250m \u001b[39m\u001b[34;01me\u001b[39;00m\n",
      "\u001b[31mReferenceNotReachable\u001b[39m: Reference \"0.0.0.0\" failed to fetch target file:///home/flynn/lbm_data/raw/mk301_03_01_2025_2roi_17p07hz_224x448px_2umpx_180mw_green_00002.tif/mk301_03_01_2025_2roi_17p07hz_224x448px_2umpx_180mw_green_00002.tif"
     ]
    }
   ],
   "source": [
    "json_path = main_mbo()\n",
    "\n",
    "with open(json_path) as f:\n",
    "    refs = json.load(f)\n",
    "\n",
    "fs = ReferenceFileSystem(refs)\n",
    "store = zarr.storage.FsspecStore(fs)\n",
    "z_arr = zarr.open(store)\n",
    "iw = fpl.ImageWidget(z_arr)\n",
    "iw.show()"
   ]
  },
  {
   "cell_type": "code",
   "execution_count": 37,
   "id": "ee82b171-6b29-42d6-9ca7-dd0d2d88967f",
   "metadata": {
    "execution": {
     "iopub.execute_input": "2025-06-17T18:56:32.469578Z",
     "iopub.status.busy": "2025-06-17T18:56:32.468326Z",
     "iopub.status.idle": "2025-06-17T18:56:32.482457Z",
     "shell.execute_reply": "2025-06-17T18:56:32.481845Z",
     "shell.execute_reply.started": "2025-06-17T18:56:32.469537Z"
    }
   },
   "outputs": [],
   "source": [
    "#!/usr/bin/env python3\n",
    "\n",
    "import io\n",
    "import json\n",
    "import pathlib\n",
    "import tempfile\n",
    "import shutil\n",
    "\n",
    "import numpy as np\n",
    "import tifffile\n",
    "import zarr\n",
    "from fsspec.implementations.reference import ReferenceFileSystem\n",
    "from skimage import data as skdata\n",
    "import fastplotlib as fpl\n",
    "from tifffile import TiffFile\n",
    "\n",
    "\n",
    "def dump_kerchunk_reference(tif_path: pathlib.Path, base_dir: pathlib.Path) -> dict:\n",
    "    \"\"\"\n",
    "    Create a kerchunk reference for a single TIFF file.\n",
    "\n",
    "    Parameters\n",
    "    ----------\n",
    "    tif_path : pathlib.Path\n",
    "        Path to the TIFF file on disk.\n",
    "    base_dir : pathlib.Path\n",
    "        Directory representing the “root” URI for the reference.\n",
    "\n",
    "    Returns\n",
    "    -------\n",
    "    refs : dict\n",
    "        A kerchunk reference dict (in JSON form) for this single TIFF.\n",
    "    \"\"\"\n",
    "    with tifffile.TiffFile(str(tif_path.expanduser().resolve())) as tif:\n",
    "        # Generate an “aszarr” (Kerchunk) store and write it into a StringIO buffer\n",
    "        with io.StringIO() as f:\n",
    "            store = tif.aszarr()\n",
    "            store.write_fsspec(f, url=base_dir.as_uri())\n",
    "            refs = json.loads(f.getvalue())\n",
    "    return refs\n",
    "\n",
    "def create_combined_kerchunk_reference(tif_files: list[pathlib.Path], base_dir: pathlib.Path) -> dict:\n",
    "    assert len(tif_files) > 1, \"Need at least two TIFF files to combine.\"\n",
    "\n",
    "    combined_refs: dict[str, str] = {}\n",
    "    per_file_refs = []\n",
    "    total_shape = None\n",
    "    total_chunks = None\n",
    "    zarr_meta = {}\n",
    "    for tif_path in tif_files:\n",
    "        inner_refs = dump_kerchunk_reference(tif_path, base_dir)\n",
    "        zarr_meta = json.loads(inner_refs.pop(\".zarray\"))\n",
    "        inner_refs.pop(\".zattrs\", None)\n",
    "\n",
    "        shape = zarr_meta[\"shape\"]\n",
    "        chunks = zarr_meta[\"chunks\"]\n",
    "\n",
    "        if total_shape is None:\n",
    "            total_shape = shape.copy()\n",
    "            total_chunks = chunks\n",
    "        else:\n",
    "            assert shape[1:] == total_shape[1:], f\"Shape mismatch in {tif_path}\"\n",
    "            assert chunks == total_chunks, f\"Chunk mismatch in {tif_path}\"\n",
    "            total_shape[0] += shape[0]  # accumulate along axis 0\n",
    "\n",
    "        per_file_refs.append((inner_refs, shape))\n",
    "\n",
    "    combined_zarr_meta = {\n",
    "        \"shape\": total_shape,\n",
    "        \"chunks\": total_chunks,\n",
    "        \"dtype\": zarr_meta[\"dtype\"],\n",
    "        \"compressor\": zarr_meta[\"compressor\"],\n",
    "        \"filters\": zarr_meta.get(\"filters\", None),\n",
    "        \"order\": zarr_meta[\"order\"],\n",
    "        \"zarr_format\": zarr_meta[\"zarr_format\"],\n",
    "        \"fill_value\": zarr_meta.get(\"fill_value\", 0),\n",
    "    }\n",
    "\n",
    "    combined_refs[\".zarray\"] = json.dumps(combined_zarr_meta)\n",
    "    combined_refs[\".zattrs\"] = json.dumps(\n",
    "        {\"_ARRAY_DIMENSIONS\": [\"T\", \"C\", \"Y\", \"X\"][:len(total_shape)]}\n",
    "    )\n",
    "\n",
    "    axis0_offset = 0\n",
    "    for inner_refs, shape in per_file_refs:\n",
    "        chunksize0 = total_chunks[0]\n",
    "        for key, val in inner_refs.items():\n",
    "            idx = list(map(int, key.strip(\"/\").split(\".\")))\n",
    "            idx[0] += axis0_offset // chunksize0\n",
    "            new_key = \".\".join(map(str, idx))\n",
    "            combined_refs[new_key] = val\n",
    "        axis0_offset += shape[0]\n",
    "\n",
    "    return combined_refs\n",
    "\n",
    "def main_mbo():\n",
    "\n",
    "    tmp_dir = pathlib.Path(\"/home/flynn/lbm_data/raw\")\n",
    "    tmp_dir.mkdir(exist_ok=True)\n",
    "\n",
    "    files = [x for x in pathlib.Path(\"/home/flynn/lbm_data/raw\").glob(\"*.tif\")]\n",
    "    print(\"Generating combined kerchunk reference…\")\n",
    "    combined_refs = create_combined_kerchunk_reference(\n",
    "        tif_files=files, base_dir=tmp_dir\n",
    "    )\n",
    "\n",
    "    combined_json_path = tmp_dir / \"combined_refs.json\"\n",
    "    with open(combined_json_path, \"w\") as f:\n",
    "        json.dump(combined_refs, f)\n",
    "    print(f\"Combined kerchunk reference written to {combined_json_path}\")\n",
    "    # store = zarr.storage.FsspecStore(ReferenceFileSystem(combined_refs, asynchronous=False))\n",
    "    return combined_json_path"
   ]
  },
  {
   "cell_type": "code",
   "execution_count": 38,
   "id": "d1eec201-b3dc-40b9-befb-8ff812328cd9",
   "metadata": {
    "execution": {
     "iopub.execute_input": "2025-06-17T18:56:34.127092Z",
     "iopub.status.busy": "2025-06-17T18:56:34.126595Z",
     "iopub.status.idle": "2025-06-17T18:56:34.894766Z",
     "shell.execute_reply": "2025-06-17T18:56:34.894241Z",
     "shell.execute_reply.started": "2025-06-17T18:56:34.127063Z"
    }
   },
   "outputs": [
    {
     "name": "stdout",
     "output_type": "stream",
     "text": [
      "Generating combined kerchunk reference…\n",
      "Combined kerchunk reference written to /home/flynn/lbm_data/raw/combined_refs.json\n"
     ]
    },
    {
     "name": "stderr",
     "output_type": "stream",
     "text": [
      "/tmp/ipykernel_3569922/3812148974.py:2: UserWarning: fs (<fsspec.implementations.reference.ReferenceFileSystem object at 0x7681112ff590>) was not created with `asynchronous=True`, this may lead to surprising behavior\n",
      "  store = zarr.storage.FsspecStore(ReferenceFileSystem(str(json_path)))\n"
     ]
    },
    {
     "data": {
      "application/vnd.jupyter.widget-view+json": {
       "model_id": "9141c82c635b45d1941574068763a834",
       "version_major": 2,
       "version_minor": 0
      },
      "text/plain": [
       "RFBOutputContext()"
      ]
     },
     "metadata": {},
     "output_type": "display_data"
    },
    {
     "name": "stderr",
     "output_type": "stream",
     "text": [
      "/home/flynn/repos/work/mbo_utilities/.venv/lib/python3.12/site-packages/fastplotlib/graphics/features/_base.py:18: UserWarning: casting float64 array to float32\n",
      "  warn(f\"casting {array.dtype} array to float32\")\n"
     ]
    },
    {
     "data": {
      "application/vnd.jupyter.widget-view+json": {
       "model_id": "f7550de52d03457dacacb142f68b9a8b",
       "version_major": 2,
       "version_minor": 0
      },
      "text/html": [
       "<div class='snapshot-f7550de52d03457dacacb142f68b9a8b' style='position:relative;'><img src='data:image/png;base64,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' style='width:500.0px;height:300.0px;' /><div style='position: absolute; top:0; left:0; padding:1px 3px; background: #777; color:#fff; font-size: 90%; font-family:sans-serif; '>snapshot</div></div>"
      ],
      "text/plain": [
       "JupyterRenderCanvas(css_height='300.0px', css_width='500.0px')"
      ]
     },
     "execution_count": 38,
     "metadata": {},
     "output_type": "execute_result"
    }
   ],
   "source": [
    "json_path = main_mbo()\n",
    "store = zarr.storage.FsspecStore(ReferenceFileSystem(str(json_path)))\n",
    "z_arr = zarr.open(store)\n",
    "iw = fpl.ImageWidget(z_arr)\n",
    "iw.show()"
   ]
  },
  {
   "cell_type": "code",
   "execution_count": 36,
   "id": "5b518837-5b08-48c5-b282-c7a08da0d53e",
   "metadata": {
    "execution": {
     "iopub.execute_input": "2025-06-17T18:55:58.647165Z",
     "iopub.status.busy": "2025-06-17T18:55:58.646830Z",
     "iopub.status.idle": "2025-06-17T18:55:58.652849Z",
     "shell.execute_reply": "2025-06-17T18:55:58.652180Z",
     "shell.execute_reply.started": "2025-06-17T18:55:58.647140Z"
    }
   },
   "outputs": [
    {
     "data": {
      "text/plain": [
       "[]"
      ]
     },
     "execution_count": 36,
     "metadata": {},
     "output_type": "execute_result"
    }
   ],
   "source": [
    "from pathlib import Path\n",
    "files = [x for x in Path(r\"/home/flynn/lbm_data/raw/out\").glob(\"*.tif*\")]\n",
    "files"
   ]
  },
  {
   "cell_type": "code",
   "execution_count": null,
   "id": "e17bd42e-4c86-4837-9c0e-771339452e07",
   "metadata": {},
   "outputs": [],
   "source": []
  }
 ],
 "metadata": {
  "kernelspec": {
   "display_name": "Python 3 (ipykernel)",
   "language": "python",
   "name": "python3"
  },
  "language_info": {
   "codemirror_mode": {
    "name": "ipython",
    "version": 3
   },
   "file_extension": ".py",
   "mimetype": "text/x-python",
   "name": "python",
   "nbconvert_exporter": "python",
   "pygments_lexer": "ipython3",
   "version": "3.12.10"
  }
 },
 "nbformat": 4,
 "nbformat_minor": 5
}
