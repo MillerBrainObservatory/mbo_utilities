{
 "cells": [
  {
   "cell_type": "code",
   "execution_count": 1,
   "id": "99eed1bf-b9ba-4873-a6ec-7c7e69f17d27",
   "metadata": {
    "execution": {
     "iopub.execute_input": "2025-10-23T13:26:07.485531Z",
     "iopub.status.busy": "2025-10-23T13:26:07.485531Z",
     "iopub.status.idle": "2025-10-23T13:26:07.651026Z",
     "shell.execute_reply": "2025-10-23T13:26:07.651026Z",
     "shell.execute_reply.started": "2025-10-23T13:26:07.485531Z"
    }
   },
   "outputs": [
    {
     "name": "stderr",
     "output_type": "stream",
     "text": [
      "\u001b[2mUsing Python 3.12.9 environment at: C:\\Users\\RBO\\repos\\mbo_utilities\\.venv\u001b[0m\n",
      "\u001b[2mAudited \u001b[1m1 package\u001b[0m \u001b[2min 93ms\u001b[0m\u001b[0m\n"
     ]
    }
   ],
   "source": [
    "!uv pip install jupyterlab-vim"
   ]
  },
  {
   "cell_type": "code",
   "execution_count": 10,
   "id": "48ba21a4-dc74-4dee-b886-9bdcc33c94ad",
   "metadata": {
    "execution": {
     "iopub.execute_input": "2025-10-23T13:26:07.705501Z",
     "iopub.status.busy": "2025-10-23T13:26:07.705501Z",
     "iopub.status.idle": "2025-10-23T13:26:10.057411Z",
     "shell.execute_reply": "2025-10-23T13:26:10.057411Z",
     "shell.execute_reply.started": "2025-10-23T13:26:07.705501Z"
    }
   },
   "outputs": [],
   "source": [
    "import mbo_utilities as mbo\n",
    "import numpy as np\n",
    "import zarr"
   ]
  },
  {
   "cell_type": "code",
   "execution_count": 3,
   "id": "660eb9d3-408a-49c8-9fa7-e365ef80ec85",
   "metadata": {
    "execution": {
     "iopub.execute_input": "2025-10-23T13:26:13.177596Z",
     "iopub.status.busy": "2025-10-23T13:26:13.177596Z",
     "iopub.status.idle": "2025-10-23T13:26:13.630748Z",
     "shell.execute_reply": "2025-10-23T13:26:13.629181Z",
     "shell.execute_reply.started": "2025-10-23T13:26:13.177596Z"
    }
   },
   "outputs": [
    {
     "data": {
      "text/plain": [
       "(1574, 14, 550, 440)"
      ]
     },
     "execution_count": 3,
     "metadata": {},
     "output_type": "execute_result"
    }
   ],
   "source": [
    "data = mbo.imread(\n",
    "    r\"D://demo//raw\",\n",
    ")\n",
    "data.shape"
   ]
  },
  {
   "cell_type": "code",
   "execution_count": 4,
   "id": "788798ca-5263-4a8e-8ad4-c526b32f6126",
   "metadata": {
    "execution": {
     "iopub.execute_input": "2025-10-23T13:26:15.822115Z",
     "iopub.status.busy": "2025-10-23T13:26:15.822115Z",
     "iopub.status.idle": "2025-10-23T13:26:29.582984Z",
     "shell.execute_reply": "2025-10-23T13:26:29.582984Z",
     "shell.execute_reply.started": "2025-10-23T13:26:15.822115Z"
    },
    "scrolled": true
   },
   "outputs": [
    {
     "data": {
      "application/vnd.jupyter.widget-view+json": {
       "model_id": "2e2850ca35804924b460c7c25c75c227",
       "version_major": 2,
       "version_minor": 0
      },
      "text/plain": [
       "Saving plane01_stitched.zarr:   0%|          | 0/37 [00:00<?, ?it/s]"
      ]
     },
     "metadata": {},
     "output_type": "display_data"
    },
    {
     "data": {
      "application/vnd.jupyter.widget-view+json": {
       "model_id": "e7aa0663cc294e5f9dc549f3ffeb70a2",
       "version_major": 2,
       "version_minor": 0
      },
      "text/plain": [
       "Saving plane02_stitched.zarr:   0%|          | 0/37 [00:00<?, ?it/s]"
      ]
     },
     "metadata": {},
     "output_type": "display_data"
    },
    {
     "data": {
      "application/vnd.jupyter.widget-view+json": {
       "model_id": "1663c52e0e2c43aeaa3b5188ddb05d3a",
       "version_major": 2,
       "version_minor": 0
      },
      "text/plain": [
       "Saving plane03_stitched.zarr:   0%|          | 0/37 [00:00<?, ?it/s]"
      ]
     },
     "metadata": {},
     "output_type": "display_data"
    },
    {
     "name": "stdout",
     "output_type": "stream",
     "text": [
      "No sharding: 13.621733903884888\n"
     ]
    }
   ],
   "source": [
    "import time\n",
    "\n",
    "start = time.time()\n",
    "mbo.imwrite(data, \"./zarr\", ext=\".zarr\", planes=[1, 2, 3], sharded=False)\n",
    "end = time.time()\n",
    "print(f\"No sharding: {end - start}\")"
   ]
  },
  {
   "cell_type": "code",
   "execution_count": 5,
   "id": "4ec84fb1-86fa-459d-8e4e-929ea6a73b4f",
   "metadata": {
    "execution": {
     "iopub.execute_input": "2025-10-23T13:26:42.474374Z",
     "iopub.status.busy": "2025-10-23T13:26:42.474374Z",
     "iopub.status.idle": "2025-10-23T13:28:16.816079Z",
     "shell.execute_reply": "2025-10-23T13:28:16.815575Z",
     "shell.execute_reply.started": "2025-10-23T13:26:42.474374Z"
    },
    "scrolled": true
   },
   "outputs": [
    {
     "data": {
      "application/vnd.jupyter.widget-view+json": {
       "model_id": "0daeb2e2ec5c45eba0ea70aad88fe3e0",
       "version_major": 2,
       "version_minor": 0
      },
      "text/plain": [
       "Saving plane01_stitched.zarr:   0%|          | 0/37 [00:00<?, ?it/s]"
      ]
     },
     "metadata": {},
     "output_type": "display_data"
    },
    {
     "data": {
      "application/vnd.jupyter.widget-view+json": {
       "model_id": "dd088c887b2149539cd5a4860a802447",
       "version_major": 2,
       "version_minor": 0
      },
      "text/plain": [
       "Saving plane02_stitched.zarr:   0%|          | 0/37 [00:00<?, ?it/s]"
      ]
     },
     "metadata": {},
     "output_type": "display_data"
    },
    {
     "data": {
      "application/vnd.jupyter.widget-view+json": {
       "model_id": "5ea87ee2f8694d6daf4c73531b8a55b9",
       "version_major": 2,
       "version_minor": 0
      },
      "text/plain": [
       "Saving plane03_stitched.zarr:   0%|          | 0/37 [00:00<?, ?it/s]"
      ]
     },
     "metadata": {},
     "output_type": "display_data"
    },
    {
     "name": "stdout",
     "output_type": "stream",
     "text": [
      "Sharding: 94.21228432655334\n"
     ]
    }
   ],
   "source": [
    "start = time.time()\n",
    "mbo.imwrite(data, \"./zarr-sharded\", ext=\".zarr\", planes=[1, 2, 3], sharded=True)\n",
    "end = time.time()\n",
    "print(f\"Sharding: {end - start}\")"
   ]
  }
 ],
 "metadata": {
  "kernelspec": {
   "display_name": "Python 3 (ipykernel)",
   "language": "python",
   "name": "python3"
  },
  "language_info": {
   "codemirror_mode": {
    "name": "ipython",
    "version": 3
   },
   "file_extension": ".py",
   "mimetype": "text/x-python",
   "name": "python",
   "nbconvert_exporter": "python",
   "pygments_lexer": "ipython3",
   "version": "3.12.9"
  }
 },
 "nbformat": 4,
 "nbformat_minor": 5
}
