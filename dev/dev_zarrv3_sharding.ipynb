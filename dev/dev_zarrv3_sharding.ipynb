{
 "cells": [
  {
   "cell_type": "code",
   "execution_count": 1,
   "id": "99eed1bf-b9ba-4873-a6ec-7c7e69f17d27",
   "metadata": {
    "execution": {
     "iopub.execute_input": "2025-10-22T19:35:46.374726Z",
     "iopub.status.busy": "2025-10-22T19:35:46.374726Z",
     "iopub.status.idle": "2025-10-22T19:35:46.445040Z",
     "shell.execute_reply": "2025-10-22T19:35:46.445040Z",
     "shell.execute_reply.started": "2025-10-22T19:35:46.374726Z"
    }
   },
   "outputs": [
    {
     "name": "stderr",
     "output_type": "stream",
     "text": [
      "\u001b[2mUsing Python 3.12.9 environment at: C:\\Users\\RBO\\repos\\mbo_utilities\\.venv\u001b[0m\n",
      "\u001b[2mAudited \u001b[1m1 package\u001b[0m \u001b[2min 15ms\u001b[0m\u001b[0m\n"
     ]
    }
   ],
   "source": [
    "!uv pip install jupyterlab-vim"
   ]
  },
  {
   "cell_type": "code",
   "execution_count": 1,
   "id": "48ba21a4-dc74-4dee-b886-9bdcc33c94ad",
   "metadata": {
    "execution": {
     "iopub.execute_input": "2025-10-22T20:32:05.287004Z",
     "iopub.status.busy": "2025-10-22T20:32:05.287004Z",
     "iopub.status.idle": "2025-10-22T20:32:07.584449Z",
     "shell.execute_reply": "2025-10-22T20:32:07.584449Z",
     "shell.execute_reply.started": "2025-10-22T20:32:05.287004Z"
    }
   },
   "outputs": [
    {
     "data": {
      "application/vnd.jupyter.widget-view+json": {
       "model_id": "5bf12b1792894429bb71a7b4a6f7ee60",
       "version_major": 2,
       "version_minor": 0
      },
      "text/plain": [
       "Image(value=b'version https://git-lfs.github.com/spec/...', height='55', width='300')"
      ]
     },
     "metadata": {},
     "output_type": "display_data"
    },
    {
     "data": {
      "text/html": [
       "<b>Available devices:</b><table><tr><th>Valid</th><th>Device</th><th>Type</th><th>Backend</th><th>Driver</th></tr><tr title=\"This adapter can be used with fastplotlib\"><td>✅ (default) </td><td>NVIDIA RTX A4000</td><td>DiscreteGPU</td><td>Vulkan</td><td>553.09</td></tr><tr title=\"This adapter can be used with fastplotlib\"><td>✅</td><td>NVIDIA RTX A4000</td><td>DiscreteGPU</td><td>D3D12</td><td></td></tr><tr title=\"This adapter can be used with fastplotlib\"><td>✅</td><td>NVIDIA RTX A4000</td><td>DiscreteGPU</td><td>D3D12</td><td></td></tr><tr title=\"CPU rendering support is limited and mainly for testing purposes\"><td>❗ limited</td><td>Microsoft Basic Render Driver</td><td>CPU</td><td>D3D12</td><td></td></tr><tr title=\"This adapter cannot be used with fastplotlib\"><td>❌</td><td>NVIDIA RTX A4000/PCIe/SSE2</td><td>Unknown</td><td>OpenGL</td><td>4.6.0 NVIDIA 553.09</td></tr></table>"
      ],
      "text/plain": [
       "<IPython.core.display.HTML object>"
      ]
     },
     "metadata": {},
     "output_type": "display_data"
    }
   ],
   "source": [
    "%load_ext autoreload\n",
    "%autoreload 2\n",
    "import mbo_utilities as mbo\n",
    "import numpy as np\n",
    "import zarr"
   ]
  },
  {
   "cell_type": "code",
   "execution_count": 2,
   "id": "660eb9d3-408a-49c8-9fa7-e365ef80ec85",
   "metadata": {
    "execution": {
     "iopub.execute_input": "2025-10-22T20:32:07.584449Z",
     "iopub.status.busy": "2025-10-22T20:32:07.584449Z",
     "iopub.status.idle": "2025-10-22T20:32:07.780595Z",
     "shell.execute_reply": "2025-10-22T20:32:07.780595Z",
     "shell.execute_reply.started": "2025-10-22T20:32:07.584449Z"
    }
   },
   "outputs": [
    {
     "data": {
      "text/plain": [
       "(1574, 14, 550, 440)"
      ]
     },
     "execution_count": 2,
     "metadata": {},
     "output_type": "execute_result"
    }
   ],
   "source": [
    "data = mbo.imread(r\"D://demo//raw\",)\n",
    "data.shape"
   ]
  },
  {
   "cell_type": "code",
   "execution_count": 8,
   "id": "a5d89816-7c95-4272-af7d-eb78b8de6ce0",
   "metadata": {
    "execution": {
     "iopub.execute_input": "2025-10-22T20:45:28.729238Z",
     "iopub.status.busy": "2025-10-22T20:45:28.729238Z",
     "iopub.status.idle": "2025-10-22T20:46:44.028700Z",
     "shell.execute_reply": "2025-10-22T20:46:44.028700Z",
     "shell.execute_reply.started": "2025-10-22T20:45:28.729238Z"
    },
    "scrolled": true
   },
   "outputs": [
    {
     "data": {
      "application/vnd.jupyter.widget-view+json": {
       "model_id": "7af59e41513d43a48e6a00e0a993f8e1",
       "version_major": 2,
       "version_minor": 0
      },
      "text/plain": [
       "Saving plane01_stitched.zarr:   0%|          | 0/37 [00:00<?, ?it/s]"
      ]
     },
     "metadata": {},
     "output_type": "display_data"
    },
    {
     "data": {
      "application/vnd.jupyter.widget-view+json": {
       "model_id": "dad5a27d915044e2a93c72c478283478",
       "version_major": 2,
       "version_minor": 0
      },
      "text/plain": [
       "Saving plane02_stitched.zarr:   0%|          | 0/37 [00:00<?, ?it/s]"
      ]
     },
     "metadata": {},
     "output_type": "display_data"
    },
    {
     "data": {
      "application/vnd.jupyter.widget-view+json": {
       "model_id": "749ef3b281044ca9bd822159e45887d2",
       "version_major": 2,
       "version_minor": 0
      },
      "text/plain": [
       "Saving plane03_stitched.zarr:   0%|          | 0/37 [00:00<?, ?it/s]"
      ]
     },
     "metadata": {},
     "output_type": "display_data"
    },
    {
     "name": "stdout",
     "output_type": "stream",
     "text": [
      "No sharding: 8.166919469833374\n"
     ]
    },
    {
     "data": {
      "application/vnd.jupyter.widget-view+json": {
       "model_id": "ac1c87f1844c416092207ad88e6f0e67",
       "version_major": 2,
       "version_minor": 0
      },
      "text/plain": [
       "Saving plane01_stitched.zarr:   0%|          | 0/37 [00:00<?, ?it/s]"
      ]
     },
     "metadata": {},
     "output_type": "display_data"
    },
    {
     "data": {
      "application/vnd.jupyter.widget-view+json": {
       "model_id": "81866a4fcccc484ca1099be1cb8db246",
       "version_major": 2,
       "version_minor": 0
      },
      "text/plain": [
       "Saving plane02_stitched.zarr:   0%|          | 0/37 [00:00<?, ?it/s]"
      ]
     },
     "metadata": {},
     "output_type": "display_data"
    },
    {
     "data": {
      "application/vnd.jupyter.widget-view+json": {
       "model_id": "c77b41d332d4431aadf22839b7983967",
       "version_major": 2,
       "version_minor": 0
      },
      "text/plain": [
       "Saving plane03_stitched.zarr:   0%|          | 0/37 [00:00<?, ?it/s]"
      ]
     },
     "metadata": {},
     "output_type": "display_data"
    },
    {
     "name": "stdout",
     "output_type": "stream",
     "text": [
      "Sharding: 66.99366641044617\n"
     ]
    }
   ],
   "source": [
    "import time\n",
    "start = time.time()\n",
    "mbo.imwrite(data, \"./zarr\", ext=\".zarr\", planes=[1, 2, 3], sharded=False)\n",
    "end = time.time()\n",
    "print(f\"No sharding: {end - start}\")\n",
    "\n",
    "start = time.time()\n",
    "mbo.imwrite(data, \"./zarr-sharded\", ext=\".zarr\", planes=[1, 2, 3], sharded=True)\n",
    "end = time.time()\n",
    "print(f\"Sharding: {end - start}\")"
   ]
  }
 ],
 "metadata": {
  "kernelspec": {
   "display_name": "Python 3 (ipykernel)",
   "language": "python",
   "name": "python3"
  },
  "language_info": {
   "codemirror_mode": {
    "name": "ipython",
    "version": 3
   },
   "file_extension": ".py",
   "mimetype": "text/x-python",
   "name": "python",
   "nbconvert_exporter": "python",
   "pygments_lexer": "ipython3",
   "version": "3.12.9"
  }
 },
 "nbformat": 4,
 "nbformat_minor": 5
}
