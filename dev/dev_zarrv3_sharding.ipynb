{
 "cells": [
  {
   "cell_type": "code",
   "execution_count": 3,
   "id": "99eed1bf-b9ba-4873-a6ec-7c7e69f17d27",
   "metadata": {
    "execution": {
     "iopub.execute_input": "2025-10-22T19:15:47.040876Z",
     "iopub.status.busy": "2025-10-22T19:15:47.040381Z",
     "iopub.status.idle": "2025-10-22T19:15:47.335254Z",
     "shell.execute_reply": "2025-10-22T19:15:47.333134Z",
     "shell.execute_reply.started": "2025-10-22T19:15:47.040840Z"
    }
   },
   "outputs": [
    {
     "name": "stdout",
     "output_type": "stream",
     "text": [
      "Sourcing .zshenv...\n",
      "\u001b[2mUsing Python 3.12.9 environment at: /home/flynn/repos/work/mbo_utilities/.venv\u001b[0m\n",
      "\u001b[2K\u001b[2mResolved \u001b[1m93 packages\u001b[0m \u001b[2min 116ms\u001b[0m\u001b[0m                                        \u001b[0m\n",
      "\u001b[2K\u001b[2mInstalled \u001b[1m1 package\u001b[0m \u001b[2min 5ms\u001b[0m\u001b[0m.4                                \u001b[0m\n",
      " \u001b[32m+\u001b[39m \u001b[1mjupyterlab-vim\u001b[0m\u001b[2m==4.1.4\u001b[0m\n"
     ]
    }
   ],
   "source": [
    "!uv pip install jupyterlab-vim"
   ]
  },
  {
   "cell_type": "code",
   "execution_count": 1,
   "id": "48ba21a4-dc74-4dee-b886-9bdcc33c94ad",
   "metadata": {
    "execution": {
     "iopub.execute_input": "2025-10-22T19:13:12.423095Z",
     "iopub.status.busy": "2025-10-22T19:13:12.422774Z",
     "iopub.status.idle": "2025-10-22T19:13:14.785106Z",
     "shell.execute_reply": "2025-10-22T19:13:14.784541Z",
     "shell.execute_reply.started": "2025-10-22T19:13:12.423063Z"
    }
   },
   "outputs": [
    {
     "name": "stderr",
     "output_type": "stream",
     "text": [
      "Unable to find extension: VK_EXT_physical_device_drm\n"
     ]
    },
    {
     "data": {
      "application/vnd.jupyter.widget-view+json": {
       "model_id": "9c0380fda4d34cad8f6e8f549e9a4d95",
       "version_major": 2,
       "version_minor": 0
      },
      "text/plain": [
       "Image(value=b'version https://git-lfs.github.com/spec/...', height='55', width='300')"
      ]
     },
     "metadata": {},
     "output_type": "display_data"
    },
    {
     "data": {
      "text/html": [
       "<b>Available devices:</b><table><tr><th>Valid</th><th>Device</th><th>Type</th><th>Backend</th><th>Driver</th></tr><tr title=\"This adapter can be used with fastplotlib\"><td>✅ (default) </td><td>Intel(R) Graphics (RPL-P)</td><td>IntegratedGPU</td><td>Vulkan</td><td>Mesa 24.0.3-1pop1~1711635559~22.04~7a9f319</td></tr><tr title=\"CPU rendering support is limited and mainly for testing purposes\"><td>❗ limited</td><td>llvmpipe (LLVM 15.0.7, 256 bits)</td><td>CPU</td><td>Vulkan</td><td>Mesa 24.0.3-1pop1~1711635559~22.04~7a9f319 (LLVM 15.0.7)</td></tr><tr title=\"This adapter cannot be used with fastplotlib\"><td>❌</td><td>Mesa Intel(R) Graphics (RPL-P)</td><td>IntegratedGPU</td><td>OpenGL</td><td>4.6 (Core Profile) Mesa 24.2.8-1~bpo12+1pop1~1744225826~22.04~b077665</td></tr></table>"
      ],
      "text/plain": [
       "<IPython.core.display.HTML object>"
      ]
     },
     "metadata": {},
     "output_type": "display_data"
    }
   ],
   "source": [
    "import zarr\n",
    "import mbo_utilities as mbo"
   ]
  },
  {
   "cell_type": "code",
   "execution_count": 4,
   "id": "551abe43-5563-4826-bd9c-de5b8d3c4b4f",
   "metadata": {
    "execution": {
     "iopub.execute_input": "2025-10-22T19:16:05.197925Z",
     "iopub.status.busy": "2025-10-22T19:16:05.197444Z",
     "iopub.status.idle": "2025-10-22T19:16:05.203958Z",
     "shell.execute_reply": "2025-10-22T19:16:05.202451Z",
     "shell.execute_reply.started": "2025-10-22T19:16:05.197875Z"
    }
   },
   "outputs": [
    {
     "name": "stdout",
     "output_type": "stream",
     "text": [
      "3.1.3\n"
     ]
    }
   ],
   "source": [
    "import numpy as np\n",
    "import zarr\n",
    "\n",
    "print(zarr.__version__)"
   ]
  },
  {
   "cell_type": "code",
   "execution_count": null,
   "id": "71eeb137-e3b9-4bce-b703-2277cd28436d",
   "metadata": {},
   "outputs": [],
   "source": []
  },
  {
   "cell_type": "code",
   "execution_count": 8,
   "id": "ed8591f1-f1af-4a6d-ae9c-c7973185df8c",
   "metadata": {
    "execution": {
     "iopub.execute_input": "2025-10-22T19:18:57.482662Z",
     "iopub.status.busy": "2025-10-22T19:18:57.482357Z",
     "iopub.status.idle": "2025-10-22T19:19:03.264790Z",
     "shell.execute_reply": "2025-10-22T19:19:03.263978Z",
     "shell.execute_reply.started": "2025-10-22T19:18:57.482631Z"
    }
   },
   "outputs": [],
   "source": [
    "import numpy as np\n",
    "import zarr\n",
    "from zarr.codecs import BytesCodec, Crc32cCodec, GzipCodec, ShardingCodec\n",
    "from zarr.storage import LocalStore  # replaces DirectoryStore\n",
    "\n",
    "store = LocalStore(\"example_sharded.zarr\")\n",
    "\n",
    "outer_chunk = (128, 128)\n",
    "inner_chunk = (32, 32)\n",
    "\n",
    "shard_codec = ShardingCodec(\n",
    "    chunk_shape=inner_chunk,\n",
    "    codecs=[BytesCodec(), GzipCodec(level=1)],\n",
    "    index_codecs=[BytesCodec(), Crc32cCodec()],\n",
    ")\n",
    "\n",
    "a = zarr.create(\n",
    "    store=store,\n",
    "    path=\"data\",\n",
    "    shape=(4096, 4096),\n",
    "    chunks=outer_chunk,\n",
    "    dtype=\"uint16\",\n",
    "    codecs=[shard_codec],\n",
    "    zarr_version=3,\n",
    "    overwrite=True,\n",
    ")\n",
    "\n",
    "a[:] = np.arange(4096 * 4096, dtype=np.uint16).reshape(4096, 4096)"
   ]
  },
  {
   "cell_type": "code",
   "execution_count": null,
   "id": "e8e102e0-350c-4fd5-9775-9e4f8c086bf1",
   "metadata": {},
   "outputs": [],
   "source": []
  }
 ],
 "metadata": {
  "kernelspec": {
   "display_name": "Python 3 (ipykernel)",
   "language": "python",
   "name": "python3"
  },
  "language_info": {
   "codemirror_mode": {
    "name": "ipython",
    "version": 3
   },
   "file_extension": ".py",
   "mimetype": "text/x-python",
   "name": "python",
   "nbconvert_exporter": "python",
   "pygments_lexer": "ipython3",
   "version": "3.12.9"
  }
 },
 "nbformat": 4,
 "nbformat_minor": 5
}
