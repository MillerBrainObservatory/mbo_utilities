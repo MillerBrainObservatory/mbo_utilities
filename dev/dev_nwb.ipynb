{
 "cells": [
  {
   "cell_type": "code",
   "execution_count": 2,
   "id": "b4c63eb8-6058-4b10-a5d6-5ebc980fc6aa",
   "metadata": {
    "execution": {
     "iopub.execute_input": "2025-08-05T15:50:46.277476Z",
     "iopub.status.busy": "2025-08-05T15:50:46.277394Z",
     "iopub.status.idle": "2025-08-05T15:50:47.329242Z",
     "shell.execute_reply": "2025-08-05T15:50:47.329242Z",
     "shell.execute_reply.started": "2025-08-05T15:50:46.277476Z"
    }
   },
   "outputs": [
    {
     "ename": "ImportError",
     "evalue": "cannot import name 'FsspecStore' from 'zarr.storage' (C:\\Users\\RBO\\repos\\mbo_utilities\\.venv\\Lib\\site-packages\\zarr\\storage.py)",
     "output_type": "error",
     "traceback": [
      "\u001b[31m---------------------------------------------------------------------------\u001b[39m",
      "\u001b[31mImportError\u001b[39m                               Traceback (most recent call last)",
      "\u001b[36mCell\u001b[39m\u001b[36m \u001b[39m\u001b[32mIn[2]\u001b[39m\u001b[32m, line 2\u001b[39m\n\u001b[32m      1\u001b[39m \u001b[38;5;28;01mimport\u001b[39;00m\u001b[38;5;250m \u001b[39m\u001b[34;01mpynwb\u001b[39;00m\n\u001b[32m----> \u001b[39m\u001b[32m2\u001b[39m \u001b[38;5;28;01mimport\u001b[39;00m\u001b[38;5;250m \u001b[39m\u001b[34;01mmbo_utilities\u001b[39;00m\u001b[38;5;250m \u001b[39m\u001b[38;5;28;01mas\u001b[39;00m\u001b[38;5;250m \u001b[39m\u001b[34;01mmbo\u001b[39;00m\n",
      "\u001b[36mFile \u001b[39m\u001b[32m~\\repos\\mbo_utilities\\mbo_utilities\\__init__.py:23\u001b[39m\n\u001b[32m     15\u001b[39m \u001b[38;5;28;01mfrom\u001b[39;00m\u001b[38;5;250m \u001b[39m\u001b[34;01m.\u001b[39;00m\u001b[34;01mmetadata\u001b[39;00m\u001b[38;5;250m \u001b[39m\u001b[38;5;28;01mimport\u001b[39;00m is_raw_scanimage, get_metadata, params_from_metadata\n\u001b[32m     16\u001b[39m \u001b[38;5;28;01mfrom\u001b[39;00m\u001b[38;5;250m \u001b[39m\u001b[34;01m.\u001b[39;00m\u001b[34;01mutil\u001b[39;00m\u001b[38;5;250m \u001b[39m\u001b[38;5;28;01mimport\u001b[39;00m (\n\u001b[32m     17\u001b[39m     norm_minmax,\n\u001b[32m     18\u001b[39m     smooth_data,\n\u001b[32m   (...)\u001b[39m\u001b[32m     21\u001b[39m     subsample_array,\n\u001b[32m     22\u001b[39m )\n\u001b[32m---> \u001b[39m\u001b[32m23\u001b[39m \u001b[38;5;28;01mfrom\u001b[39;00m\u001b[38;5;250m \u001b[39m\u001b[34;01m.\u001b[39;00m\u001b[34;01mlazy_array\u001b[39;00m\u001b[38;5;250m \u001b[39m\u001b[38;5;28;01mimport\u001b[39;00m imread, imwrite\n\u001b[32m     26\u001b[39m \u001b[38;5;28;01mif\u001b[39;00m is_imgui_installed():\n\u001b[32m     27\u001b[39m     \u001b[38;5;28;01mfrom\u001b[39;00m\u001b[38;5;250m \u001b[39m\u001b[34;01m.\u001b[39;00m\u001b[34;01mgraphics\u001b[39;00m\u001b[38;5;250m \u001b[39m\u001b[38;5;28;01mimport\u001b[39;00m run_gui\n",
      "\u001b[36mFile \u001b[39m\u001b[32m~\\repos\\mbo_utilities\\mbo_utilities\\lazy_array.py:10\u001b[39m\n\u001b[32m      7\u001b[39m \u001b[38;5;28;01mimport\u001b[39;00m\u001b[38;5;250m \u001b[39m\u001b[34;01mnumpy\u001b[39;00m\u001b[38;5;250m \u001b[39m\u001b[38;5;28;01mas\u001b[39;00m\u001b[38;5;250m \u001b[39m\u001b[34;01mnp\u001b[39;00m\n\u001b[32m      9\u001b[39m \u001b[38;5;28;01mfrom\u001b[39;00m\u001b[38;5;250m \u001b[39m\u001b[34;01m.\u001b[39;00m\u001b[38;5;250m \u001b[39m\u001b[38;5;28;01mimport\u001b[39;00m log\n\u001b[32m---> \u001b[39m\u001b[32m10\u001b[39m \u001b[38;5;28;01mfrom\u001b[39;00m\u001b[38;5;250m \u001b[39m\u001b[34;01m.\u001b[39;00m\u001b[34;01marray_types\u001b[39;00m\u001b[38;5;250m \u001b[39m\u001b[38;5;28;01mimport\u001b[39;00m (\n\u001b[32m     11\u001b[39m     DemixingResultsArray,\n\u001b[32m     12\u001b[39m     Suite2pArray,\n\u001b[32m     13\u001b[39m     H5Array,\n\u001b[32m     14\u001b[39m     MBOTiffArray,\n\u001b[32m     15\u001b[39m     TiffArray,\n\u001b[32m     16\u001b[39m     MboRawArray,\n\u001b[32m     17\u001b[39m     NpyArray,\n\u001b[32m     18\u001b[39m )\n\u001b[32m     19\u001b[39m \u001b[38;5;28;01mfrom\u001b[39;00m\u001b[38;5;250m \u001b[39m\u001b[34;01m.\u001b[39;00m\u001b[34;01mfile_io\u001b[39;00m\u001b[38;5;250m \u001b[39m\u001b[38;5;28;01mimport\u001b[39;00m get_files\n\u001b[32m     20\u001b[39m \u001b[38;5;28;01mfrom\u001b[39;00m\u001b[38;5;250m \u001b[39m\u001b[34;01m.\u001b[39;00m\u001b[34;01mmetadata\u001b[39;00m\u001b[38;5;250m \u001b[39m\u001b[38;5;28;01mimport\u001b[39;00m is_raw_scanimage, has_mbo_metadata\n",
      "\u001b[36mFile \u001b[39m\u001b[32m~\\repos\\mbo_utilities\\mbo_utilities\\array_types.py:17\u001b[39m\n\u001b[32m     15\u001b[39m \u001b[38;5;28;01mfrom\u001b[39;00m\u001b[38;5;250m \u001b[39m\u001b[34;01mnumpy\u001b[39;00m\u001b[38;5;250m \u001b[39m\u001b[38;5;28;01mimport\u001b[39;00m ndarray\n\u001b[32m     16\u001b[39m \u001b[38;5;28;01mfrom\u001b[39;00m\u001b[38;5;250m \u001b[39m\u001b[34;01mzarr\u001b[39;00m\u001b[38;5;250m \u001b[39m\u001b[38;5;28;01mimport\u001b[39;00m \u001b[38;5;28mopen\u001b[39m \u001b[38;5;28;01mas\u001b[39;00m zarr_open\n\u001b[32m---> \u001b[39m\u001b[32m17\u001b[39m \u001b[38;5;28;01mfrom\u001b[39;00m\u001b[38;5;250m \u001b[39m\u001b[34;01mzarr\u001b[39;00m\u001b[34;01m.\u001b[39;00m\u001b[34;01mstorage\u001b[39;00m\u001b[38;5;250m \u001b[39m\u001b[38;5;28;01mimport\u001b[39;00m FsspecStore\n\u001b[32m     18\u001b[39m \u001b[38;5;28;01mimport\u001b[39;00m\u001b[38;5;250m \u001b[39m\u001b[34;01mfastplotlib\u001b[39;00m\u001b[38;5;250m \u001b[39m\u001b[38;5;28;01mas\u001b[39;00m\u001b[38;5;250m \u001b[39m\u001b[34;01mfpl\u001b[39;00m\n\u001b[32m     20\u001b[39m \u001b[38;5;28;01mfrom\u001b[39;00m\u001b[38;5;250m \u001b[39m\u001b[34;01mmbo_utilities\u001b[39;00m\u001b[34;01m.\u001b[39;00m\u001b[34;01mmetadata\u001b[39;00m\u001b[38;5;250m \u001b[39m\u001b[38;5;28;01mimport\u001b[39;00m get_metadata\n",
      "\u001b[31mImportError\u001b[39m: cannot import name 'FsspecStore' from 'zarr.storage' (C:\\Users\\RBO\\repos\\mbo_utilities\\.venv\\Lib\\site-packages\\zarr\\storage.py)"
     ]
    }
   ],
   "source": [
    "import pynwb\n",
    "import mbo_utilities as mbo"
   ]
  },
  {
   "cell_type": "code",
   "execution_count": 4,
   "id": "e0cefef0-bbbd-4c8c-8780-e37a2de00efa",
   "metadata": {
    "execution": {
     "iopub.execute_input": "2025-08-05T15:51:12.822019Z",
     "iopub.status.busy": "2025-08-05T15:51:12.822019Z",
     "iopub.status.idle": "2025-08-05T15:51:12.833126Z",
     "shell.execute_reply": "2025-08-05T15:51:12.833126Z",
     "shell.execute_reply.started": "2025-08-05T15:51:12.822019Z"
    }
   },
   "outputs": [
    {
     "data": {
      "text/plain": [
       "'2.18.7'"
      ]
     },
     "execution_count": 4,
     "metadata": {},
     "output_type": "execute_result"
    }
   ],
   "source": [
    "import zarr\n",
    "zarr.__version__"
   ]
  },
  {
   "cell_type": "code",
   "execution_count": null,
   "id": "57be9364-4fff-4e9e-ba65-97fd17566014",
   "metadata": {},
   "outputs": [],
   "source": []
  }
 ],
 "metadata": {
  "kernelspec": {
   "display_name": "Python 3 (ipykernel)",
   "language": "python",
   "name": "python3"
  },
  "language_info": {
   "codemirror_mode": {
    "name": "ipython",
    "version": 3
   },
   "file_extension": ".py",
   "mimetype": "text/x-python",
   "name": "python",
   "nbconvert_exporter": "python",
   "pygments_lexer": "ipython3",
   "version": "3.12.4"
  }
 },
 "nbformat": 4,
 "nbformat_minor": 5
}
